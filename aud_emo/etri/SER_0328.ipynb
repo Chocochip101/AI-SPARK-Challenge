{
  "nbformat": 4,
  "nbformat_minor": 0,
  "metadata": {
    "colab": {
      "name": "SER_all_jjuu_downsampling_droupout_LSTM.ipynb",
      "provenance": [],
      "collapsed_sections": []
    },
    "kernelspec": {
      "name": "python3",
      "display_name": "Python 3"
    },
    "language_info": {
      "name": "python"
    },
    "accelerator": "GPU"
  },
  "cells": [
    {
      "cell_type": "code",
      "execution_count": 1,
      "metadata": {
        "colab": {
          "base_uri": "https://localhost:8080/"
        },
        "id": "t-na3BlpLIZZ",
        "outputId": "0efc571f-52d2-4c37-a90d-be22fb8481c5"
      },
      "outputs": [
        {
          "output_type": "stream",
          "name": "stdout",
          "text": [
            "Reading package lists... Done\n",
            "Building dependency tree       \n",
            "Reading state information... Done\n",
            "The following NEW packages will be installed:\n",
            "  fonts-nanum\n",
            "0 upgraded, 1 newly installed, 0 to remove and 39 not upgraded.\n",
            "Need to get 9,604 kB of archives.\n",
            "After this operation, 29.5 MB of additional disk space will be used.\n",
            "Get:1 http://archive.ubuntu.com/ubuntu bionic/universe amd64 fonts-nanum all 20170925-1 [9,604 kB]\n",
            "Fetched 9,604 kB in 1s (7,319 kB/s)\n",
            "debconf: unable to initialize frontend: Dialog\n",
            "debconf: (No usable dialog-like program is installed, so the dialog based frontend cannot be used. at /usr/share/perl5/Debconf/FrontEnd/Dialog.pm line 76, <> line 1.)\n",
            "debconf: falling back to frontend: Readline\n",
            "debconf: unable to initialize frontend: Readline\n",
            "debconf: (This frontend requires a controlling tty.)\n",
            "debconf: falling back to frontend: Teletype\n",
            "dpkg-preconfigure: unable to re-open stdin: \n",
            "Selecting previously unselected package fonts-nanum.\n",
            "(Reading database ... 156210 files and directories currently installed.)\n",
            "Preparing to unpack .../fonts-nanum_20170925-1_all.deb ...\n",
            "Unpacking fonts-nanum (20170925-1) ...\n",
            "Setting up fonts-nanum (20170925-1) ...\n",
            "Processing triggers for fontconfig (2.12.6-0ubuntu2) ...\n",
            "/usr/share/fonts: caching, new cache contents: 0 fonts, 1 dirs\n",
            "/usr/share/fonts/truetype: caching, new cache contents: 0 fonts, 3 dirs\n",
            "/usr/share/fonts/truetype/humor-sans: caching, new cache contents: 1 fonts, 0 dirs\n",
            "/usr/share/fonts/truetype/liberation: caching, new cache contents: 16 fonts, 0 dirs\n",
            "/usr/share/fonts/truetype/nanum: caching, new cache contents: 10 fonts, 0 dirs\n",
            "/usr/local/share/fonts: caching, new cache contents: 0 fonts, 0 dirs\n",
            "/root/.local/share/fonts: skipping, no such directory\n",
            "/root/.fonts: skipping, no such directory\n",
            "/var/cache/fontconfig: cleaning cache directory\n",
            "/root/.cache/fontconfig: not cleaning non-existent cache directory\n",
            "/root/.fontconfig: not cleaning non-existent cache directory\n",
            "fc-cache: succeeded\n",
            "rm: invalid option -- 'z'\n",
            "Try 'rm --help' for more information.\n"
          ]
        }
      ],
      "source": [
        "#시각화 한글 보여주기 -> 설치하고 런타임 재시작\n",
        "!sudo apt-get install -y fonts-nanum\n",
        "!sudo fc-cache -fv\n",
        "!rm ~/.cache/matplotlib -rfz"
      ]
    },
    {
      "cell_type": "code",
      "source": [
        "import pandas as pd\n",
        "import numpy as np\n",
        "\n",
        "import os\n",
        "import sys\n",
        "\n",
        "# librosa 불러오기(파이썬 음성 분석 라이브러리) -> 음성시각화 및 벡터화 지원\n",
        "import librosa\n",
        "import librosa.display\n",
        "import seaborn as sns\n",
        "import matplotlib.pyplot as plt\n",
        "\n",
        "from sklearn.preprocessing import StandardScaler, OneHotEncoder\n",
        "from sklearn.metrics import confusion_matrix, classification_report\n",
        "from sklearn.model_selection import train_test_split\n",
        "\n",
        "# 오디오파일 재생 라이브러리\n",
        "from IPython.display import Audio\n",
        "\n",
        "#케라스 불러오기\n",
        "import keras\n",
        "from keras.callbacks import ReduceLROnPlateau\n",
        "from keras.models import Sequential\n",
        "from keras.layers import Dense, LSTM, Conv1D, MaxPooling1D, Flatten, Dropout, BatchNormalization\n",
        "from keras.utils import np_utils\n",
        "from keras.callbacks import ModelCheckpoint\n",
        "\n",
        "#오류무시\n",
        "import warnings\n",
        "if not sys.warnoptions:\n",
        "    warnings.simplefilter(\"ignore\")\n",
        "warnings.filterwarnings(\"ignore\", category=DeprecationWarning)"
      ],
      "metadata": {
        "id": "3pqIMRXbLhkt"
      },
      "execution_count": 2,
      "outputs": []
    },
    {
      "cell_type": "code",
      "execution_count": 3,
      "metadata": {
        "colab": {
          "base_uri": "https://localhost:8080/"
        },
        "id": "F9MnrSznogdc",
        "outputId": "4a7dd7a0-16a6-49bc-9015-93201bf32aaf"
      },
      "outputs": [
        {
          "output_type": "stream",
          "name": "stdout",
          "text": [
            "Mounted at /content/drive\n"
          ]
        }
      ],
      "source": [
        "from google.colab import drive #코랩과 연결\n",
        "drive.mount('/content/drive')"
      ]
    },
    {
      "cell_type": "code",
      "source": [
        "#감성대화 음성데이터 압축풀기\n",
        "!unzip -qq \"/content/drive/MyDrive/Colab Notebooks/감성대화/원천데이터/감성대화말뭉치(원천데이터)_음성데이터.zip\""
      ],
      "metadata": {
        "id": "k4W5y9GKFfT_"
      },
      "execution_count": 4,
      "outputs": []
    },
    {
      "cell_type": "code",
      "source": [
        "#감성대화 라벨데이터 불러오기\n",
        "data = pd.read_excel('/content/drive/MyDrive/Colab Notebooks/감성대화/감성대화말뭉치_table.xlsx')\n",
        "data_w = pd.read_excel('/content/drive/MyDrive/Colab Notebooks/감성대화/감성대화말뭉치_w_table.xlsx')\n",
        "#감정 및 음성데이터경로만 뽑아오기\n",
        "data2 = data.loc[:,['감정_대분류','NO.']]\n",
        "data2.columns = ['Emotions','Path']\n",
        "\n",
        "data2_w = data_w.loc[:,['감정_대분류','NO.']]\n",
        "data2_w.columns = ['Emotions','Path']\n",
        "\n",
        "# 음성데이터 경로수정해주기(압축푼 폴더로)\n",
        "## 남자 성우만 이용하도록 돼 있음!!!!!!!!!!!!!!11111\n",
        "data2['Path'] = '/content/감성대화말뭉치AI데이터_Wave_남자성우_5000/'+data2['Path']+'.wav'\n",
        "data2_w['Path'] = '/content/감성대화말뭉치AI데이터_Wave_여자성우_5000/'+data2_w['Path']+'.wav'\n",
        "\n",
        "new_data = pd.concat([data2, data2_w])\n",
        "\n",
        "#당황, 불안 빼는 건 다운샘플링 이후에 뺌\n",
        "data_new = pd.read_csv('/content/drive/MyDrive/Colab Notebooks/감성대화/KESDy18_csv.csv', index_col = 0)\n",
        "\n",
        "data3 = pd.concat([new_data, data_new])\n",
        "data3.tail(100)\n",
        "#data_path.to_csv('/content/drive/MyDrive/Colab Notebooks/감성대화/all.csv')"
      ],
      "metadata": {
        "id": "-9kGJ2giUdFW",
        "colab": {
          "base_uri": "https://localhost:8080/",
          "height": 423
        },
        "outputId": "83548329-378c-481c-da5c-fe81a4bb12dd"
      },
      "execution_count": 14,
      "outputs": [
        {
          "output_type": "execute_result",
          "data": {
            "text/plain": [
              "     Emotions                                               Path\n",
              "2780       분노  /content//drive/MyDrive/Colab Notebooks/감성...\n",
              "2781       중립  /content//drive/MyDrive/Colab Notebooks/감성...\n",
              "2782       분노  /content//drive/MyDrive/Colab Notebooks/감성...\n",
              "2783       분노  /content//drive/MyDrive/Colab Notebooks/감성...\n",
              "2784       분노  /content//drive/MyDrive/Colab Notebooks/감성...\n",
              "...       ...                                                ...\n",
              "2875       기쁨  /content//drive/MyDrive/Colab Notebooks/감성...\n",
              "2876       중립  /content//drive/MyDrive/Colab Notebooks/감성...\n",
              "2877       기쁨  /content//drive/MyDrive/Colab Notebooks/감성...\n",
              "2878       중립  /content//drive/MyDrive/Colab Notebooks/감성...\n",
              "2879       슬픔  /content//drive/MyDrive/Colab Notebooks/감성...\n",
              "\n",
              "[100 rows x 2 columns]"
            ],
            "text/html": [
              "\n",
              "  <div id=\"df-0edfcf48-21d6-484e-86ce-2480cb3a2865\">\n",
              "    <div class=\"colab-df-container\">\n",
              "      <div>\n",
              "<style scoped>\n",
              "    .dataframe tbody tr th:only-of-type {\n",
              "        vertical-align: middle;\n",
              "    }\n",
              "\n",
              "    .dataframe tbody tr th {\n",
              "        vertical-align: top;\n",
              "    }\n",
              "\n",
              "    .dataframe thead th {\n",
              "        text-align: right;\n",
              "    }\n",
              "</style>\n",
              "<table border=\"1\" class=\"dataframe\">\n",
              "  <thead>\n",
              "    <tr style=\"text-align: right;\">\n",
              "      <th></th>\n",
              "      <th>Emotions</th>\n",
              "      <th>Path</th>\n",
              "    </tr>\n",
              "  </thead>\n",
              "  <tbody>\n",
              "    <tr>\n",
              "      <th>2780</th>\n",
              "      <td>분노</td>\n",
              "      <td>/content//drive/MyDrive/Colab Notebooks/감성...</td>\n",
              "    </tr>\n",
              "    <tr>\n",
              "      <th>2781</th>\n",
              "      <td>중립</td>\n",
              "      <td>/content//drive/MyDrive/Colab Notebooks/감성...</td>\n",
              "    </tr>\n",
              "    <tr>\n",
              "      <th>2782</th>\n",
              "      <td>분노</td>\n",
              "      <td>/content//drive/MyDrive/Colab Notebooks/감성...</td>\n",
              "    </tr>\n",
              "    <tr>\n",
              "      <th>2783</th>\n",
              "      <td>분노</td>\n",
              "      <td>/content//drive/MyDrive/Colab Notebooks/감성...</td>\n",
              "    </tr>\n",
              "    <tr>\n",
              "      <th>2784</th>\n",
              "      <td>분노</td>\n",
              "      <td>/content//drive/MyDrive/Colab Notebooks/감성...</td>\n",
              "    </tr>\n",
              "    <tr>\n",
              "      <th>...</th>\n",
              "      <td>...</td>\n",
              "      <td>...</td>\n",
              "    </tr>\n",
              "    <tr>\n",
              "      <th>2875</th>\n",
              "      <td>기쁨</td>\n",
              "      <td>/content//drive/MyDrive/Colab Notebooks/감성...</td>\n",
              "    </tr>\n",
              "    <tr>\n",
              "      <th>2876</th>\n",
              "      <td>중립</td>\n",
              "      <td>/content//drive/MyDrive/Colab Notebooks/감성...</td>\n",
              "    </tr>\n",
              "    <tr>\n",
              "      <th>2877</th>\n",
              "      <td>기쁨</td>\n",
              "      <td>/content//drive/MyDrive/Colab Notebooks/감성...</td>\n",
              "    </tr>\n",
              "    <tr>\n",
              "      <th>2878</th>\n",
              "      <td>중립</td>\n",
              "      <td>/content//drive/MyDrive/Colab Notebooks/감성...</td>\n",
              "    </tr>\n",
              "    <tr>\n",
              "      <th>2879</th>\n",
              "      <td>슬픔</td>\n",
              "      <td>/content//drive/MyDrive/Colab Notebooks/감성...</td>\n",
              "    </tr>\n",
              "  </tbody>\n",
              "</table>\n",
              "<p>100 rows × 2 columns</p>\n",
              "</div>\n",
              "      <button class=\"colab-df-convert\" onclick=\"convertToInteractive('df-0edfcf48-21d6-484e-86ce-2480cb3a2865')\"\n",
              "              title=\"Convert this dataframe to an interactive table.\"\n",
              "              style=\"display:none;\">\n",
              "        \n",
              "  <svg xmlns=\"http://www.w3.org/2000/svg\" height=\"24px\"viewBox=\"0 0 24 24\"\n",
              "       width=\"24px\">\n",
              "    <path d=\"M0 0h24v24H0V0z\" fill=\"none\"/>\n",
              "    <path d=\"M18.56 5.44l.94 2.06.94-2.06 2.06-.94-2.06-.94-.94-2.06-.94 2.06-2.06.94zm-11 1L8.5 8.5l.94-2.06 2.06-.94-2.06-.94L8.5 2.5l-.94 2.06-2.06.94zm10 10l.94 2.06.94-2.06 2.06-.94-2.06-.94-.94-2.06-.94 2.06-2.06.94z\"/><path d=\"M17.41 7.96l-1.37-1.37c-.4-.4-.92-.59-1.43-.59-.52 0-1.04.2-1.43.59L10.3 9.45l-7.72 7.72c-.78.78-.78 2.05 0 2.83L4 21.41c.39.39.9.59 1.41.59.51 0 1.02-.2 1.41-.59l7.78-7.78 2.81-2.81c.8-.78.8-2.07 0-2.86zM5.41 20L4 18.59l7.72-7.72 1.47 1.35L5.41 20z\"/>\n",
              "  </svg>\n",
              "      </button>\n",
              "      \n",
              "  <style>\n",
              "    .colab-df-container {\n",
              "      display:flex;\n",
              "      flex-wrap:wrap;\n",
              "      gap: 12px;\n",
              "    }\n",
              "\n",
              "    .colab-df-convert {\n",
              "      background-color: #E8F0FE;\n",
              "      border: none;\n",
              "      border-radius: 50%;\n",
              "      cursor: pointer;\n",
              "      display: none;\n",
              "      fill: #1967D2;\n",
              "      height: 32px;\n",
              "      padding: 0 0 0 0;\n",
              "      width: 32px;\n",
              "    }\n",
              "\n",
              "    .colab-df-convert:hover {\n",
              "      background-color: #E2EBFA;\n",
              "      box-shadow: 0px 1px 2px rgba(60, 64, 67, 0.3), 0px 1px 3px 1px rgba(60, 64, 67, 0.15);\n",
              "      fill: #174EA6;\n",
              "    }\n",
              "\n",
              "    [theme=dark] .colab-df-convert {\n",
              "      background-color: #3B4455;\n",
              "      fill: #D2E3FC;\n",
              "    }\n",
              "\n",
              "    [theme=dark] .colab-df-convert:hover {\n",
              "      background-color: #434B5C;\n",
              "      box-shadow: 0px 1px 3px 1px rgba(0, 0, 0, 0.15);\n",
              "      filter: drop-shadow(0px 1px 2px rgba(0, 0, 0, 0.3));\n",
              "      fill: #FFFFFF;\n",
              "    }\n",
              "  </style>\n",
              "\n",
              "      <script>\n",
              "        const buttonEl =\n",
              "          document.querySelector('#df-0edfcf48-21d6-484e-86ce-2480cb3a2865 button.colab-df-convert');\n",
              "        buttonEl.style.display =\n",
              "          google.colab.kernel.accessAllowed ? 'block' : 'none';\n",
              "\n",
              "        async function convertToInteractive(key) {\n",
              "          const element = document.querySelector('#df-0edfcf48-21d6-484e-86ce-2480cb3a2865');\n",
              "          const dataTable =\n",
              "            await google.colab.kernel.invokeFunction('convertToInteractive',\n",
              "                                                     [key], {});\n",
              "          if (!dataTable) return;\n",
              "\n",
              "          const docLinkHtml = 'Like what you see? Visit the ' +\n",
              "            '<a target=\"_blank\" href=https://colab.research.google.com/notebooks/data_table.ipynb>data table notebook</a>'\n",
              "            + ' to learn more about interactive tables.';\n",
              "          element.innerHTML = '';\n",
              "          dataTable['output_type'] = 'display_data';\n",
              "          await google.colab.output.renderOutput(dataTable, element);\n",
              "          const docLink = document.createElement('div');\n",
              "          docLink.innerHTML = docLinkHtml;\n",
              "          element.appendChild(docLink);\n",
              "        }\n",
              "      </script>\n",
              "    </div>\n",
              "  </div>\n",
              "  "
            ]
          },
          "metadata": {},
          "execution_count": 14
        }
      ]
    },
    {
      "cell_type": "code",
      "source": [
        "A, B = data3.iloc[:,:-1], data3.iloc[:,-1].values\n",
        "B=B.reshape(-1, 1)"
      ],
      "metadata": {
        "id": "cbU3ciz4D57W"
      },
      "execution_count": 15,
      "outputs": []
    },
    {
      "cell_type": "code",
      "source": [
        "B"
      ],
      "metadata": {
        "colab": {
          "base_uri": "https://localhost:8080/"
        },
        "id": "0BWfkjSlQx1Z",
        "outputId": "e8aa6b69-19df-4fd4-97eb-f0046dbb7ddd"
      },
      "execution_count": 16,
      "outputs": [
        {
          "output_type": "execute_result",
          "data": {
            "text/plain": [
              "array([['/content/감성대화말뭉치AI데이터_Wave_남자성우_5000/M_000001.wav'],\n",
              "       ['/content/감성대화말뭉치AI데이터_Wave_남자성우_5000/M_000002.wav'],\n",
              "       ['/content/감성대화말뭉치AI데이터_Wave_남자성우_5000/M_000003.wav'],\n",
              "       ...,\n",
              "       ['/content//drive/MyDrive/Colab Notebooks/감성대화/KESDy18/wav/030_dy_h_15.wav'],\n",
              "       ['/content//drive/MyDrive/Colab Notebooks/감성대화/KESDy18/wav/030_dy_n_15.wav'],\n",
              "       ['/content//drive/MyDrive/Colab Notebooks/감성대화/KESDy18/wav/030_dy_s_02.wav']],\n",
              "      dtype=object)"
            ]
          },
          "metadata": {},
          "execution_count": 16
        }
      ]
    },
    {
      "cell_type": "code",
      "source": [
        "from imblearn.under_sampling import RandomUnderSampler\n",
        "B_resampled, A_resampled = RandomUnderSampler(random_state=0).fit_resample(B, A)"
      ],
      "metadata": {
        "id": "3Q3Ro0LDEGHV"
      },
      "execution_count": 17,
      "outputs": []
    },
    {
      "cell_type": "code",
      "source": [
        "data4 = pd.DataFrame(columns=['Emotions', 'Path'])"
      ],
      "metadata": {
        "id": "UgTDOQtBEKgW"
      },
      "execution_count": 18,
      "outputs": []
    },
    {
      "cell_type": "code",
      "source": [
        "data4['Emotions'], data4['Path'] = pd.DataFrame(A_resampled), pd.DataFrame(B_resampled)"
      ],
      "metadata": {
        "id": "1nv7iGW2EMaA"
      },
      "execution_count": 19,
      "outputs": []
    },
    {
      "cell_type": "code",
      "source": [
        "# 감정데이터중에 '당황'라벨 제거해주기\n",
        "## 불안도 빼기__________________________________________________________\n",
        "data_path = data4[data4['Emotions']!='당황']\n",
        "data_path = data_path[data_path['Emotions']!='불안']"
      ],
      "metadata": {
        "id": "rWPE3nqBEOan"
      },
      "execution_count": 20,
      "outputs": []
    },
    {
      "cell_type": "code",
      "source": [
        "data_path['Emotions'].value_counts()"
      ],
      "metadata": {
        "id": "mtPWN8MCETKL",
        "colab": {
          "base_uri": "https://localhost:8080/"
        },
        "outputId": "f5d259ee-cadd-46de-9512-bf5881a9fcfd"
      },
      "execution_count": 21,
      "outputs": [
        {
          "output_type": "execute_result",
          "data": {
            "text/plain": [
              "기쁨    720\n",
              "분노    720\n",
              "상처    720\n",
              "슬픔    720\n",
              "중립    720\n",
              "Name: Emotions, dtype: int64"
            ]
          },
          "metadata": {},
          "execution_count": 21
        }
      ]
    },
    {
      "cell_type": "code",
      "source": [
        "data_path.dropna()"
      ],
      "metadata": {
        "colab": {
          "base_uri": "https://localhost:8080/",
          "height": 423
        },
        "id": "5T3lFyeNQo6T",
        "outputId": "555aff41-1fe9-4b52-eab3-a42e43ca1e9f"
      },
      "execution_count": 22,
      "outputs": [
        {
          "output_type": "execute_result",
          "data": {
            "text/plain": [
              "     Emotions                                               Path\n",
              "0          기쁨  /content//drive/MyDrive/Colab Notebooks/감성...\n",
              "1          기쁨  /content/감성대화말뭉치AI데이터_Wave_남자성우_5000/M_001429.wav\n",
              "2          기쁨  /content//drive/MyDrive/Colab Notebooks/감성...\n",
              "3          기쁨  /content/감성대화말뭉치AI데이터_Wave_여자성우_5000/F_004868.wav\n",
              "4          기쁨  /content/감성대화말뭉치AI데이터_Wave_남자성우_5000/M_002499.wav\n",
              "...       ...                                                ...\n",
              "5035       중립  /content//drive/MyDrive/Colab Notebooks/감성...\n",
              "5036       중립  /content//drive/MyDrive/Colab Notebooks/감성...\n",
              "5037       중립  /content//drive/MyDrive/Colab Notebooks/감성...\n",
              "5038       중립  /content//drive/MyDrive/Colab Notebooks/감성...\n",
              "5039       중립  /content//drive/MyDrive/Colab Notebooks/감성...\n",
              "\n",
              "[3600 rows x 2 columns]"
            ],
            "text/html": [
              "\n",
              "  <div id=\"df-70cc7fed-db3b-4355-afe5-40ed64c1b40d\">\n",
              "    <div class=\"colab-df-container\">\n",
              "      <div>\n",
              "<style scoped>\n",
              "    .dataframe tbody tr th:only-of-type {\n",
              "        vertical-align: middle;\n",
              "    }\n",
              "\n",
              "    .dataframe tbody tr th {\n",
              "        vertical-align: top;\n",
              "    }\n",
              "\n",
              "    .dataframe thead th {\n",
              "        text-align: right;\n",
              "    }\n",
              "</style>\n",
              "<table border=\"1\" class=\"dataframe\">\n",
              "  <thead>\n",
              "    <tr style=\"text-align: right;\">\n",
              "      <th></th>\n",
              "      <th>Emotions</th>\n",
              "      <th>Path</th>\n",
              "    </tr>\n",
              "  </thead>\n",
              "  <tbody>\n",
              "    <tr>\n",
              "      <th>0</th>\n",
              "      <td>기쁨</td>\n",
              "      <td>/content//drive/MyDrive/Colab Notebooks/감성...</td>\n",
              "    </tr>\n",
              "    <tr>\n",
              "      <th>1</th>\n",
              "      <td>기쁨</td>\n",
              "      <td>/content/감성대화말뭉치AI데이터_Wave_남자성우_5000/M_001429.wav</td>\n",
              "    </tr>\n",
              "    <tr>\n",
              "      <th>2</th>\n",
              "      <td>기쁨</td>\n",
              "      <td>/content//drive/MyDrive/Colab Notebooks/감성...</td>\n",
              "    </tr>\n",
              "    <tr>\n",
              "      <th>3</th>\n",
              "      <td>기쁨</td>\n",
              "      <td>/content/감성대화말뭉치AI데이터_Wave_여자성우_5000/F_004868.wav</td>\n",
              "    </tr>\n",
              "    <tr>\n",
              "      <th>4</th>\n",
              "      <td>기쁨</td>\n",
              "      <td>/content/감성대화말뭉치AI데이터_Wave_남자성우_5000/M_002499.wav</td>\n",
              "    </tr>\n",
              "    <tr>\n",
              "      <th>...</th>\n",
              "      <td>...</td>\n",
              "      <td>...</td>\n",
              "    </tr>\n",
              "    <tr>\n",
              "      <th>5035</th>\n",
              "      <td>중립</td>\n",
              "      <td>/content//drive/MyDrive/Colab Notebooks/감성...</td>\n",
              "    </tr>\n",
              "    <tr>\n",
              "      <th>5036</th>\n",
              "      <td>중립</td>\n",
              "      <td>/content//drive/MyDrive/Colab Notebooks/감성...</td>\n",
              "    </tr>\n",
              "    <tr>\n",
              "      <th>5037</th>\n",
              "      <td>중립</td>\n",
              "      <td>/content//drive/MyDrive/Colab Notebooks/감성...</td>\n",
              "    </tr>\n",
              "    <tr>\n",
              "      <th>5038</th>\n",
              "      <td>중립</td>\n",
              "      <td>/content//drive/MyDrive/Colab Notebooks/감성...</td>\n",
              "    </tr>\n",
              "    <tr>\n",
              "      <th>5039</th>\n",
              "      <td>중립</td>\n",
              "      <td>/content//drive/MyDrive/Colab Notebooks/감성...</td>\n",
              "    </tr>\n",
              "  </tbody>\n",
              "</table>\n",
              "<p>3600 rows × 2 columns</p>\n",
              "</div>\n",
              "      <button class=\"colab-df-convert\" onclick=\"convertToInteractive('df-70cc7fed-db3b-4355-afe5-40ed64c1b40d')\"\n",
              "              title=\"Convert this dataframe to an interactive table.\"\n",
              "              style=\"display:none;\">\n",
              "        \n",
              "  <svg xmlns=\"http://www.w3.org/2000/svg\" height=\"24px\"viewBox=\"0 0 24 24\"\n",
              "       width=\"24px\">\n",
              "    <path d=\"M0 0h24v24H0V0z\" fill=\"none\"/>\n",
              "    <path d=\"M18.56 5.44l.94 2.06.94-2.06 2.06-.94-2.06-.94-.94-2.06-.94 2.06-2.06.94zm-11 1L8.5 8.5l.94-2.06 2.06-.94-2.06-.94L8.5 2.5l-.94 2.06-2.06.94zm10 10l.94 2.06.94-2.06 2.06-.94-2.06-.94-.94-2.06-.94 2.06-2.06.94z\"/><path d=\"M17.41 7.96l-1.37-1.37c-.4-.4-.92-.59-1.43-.59-.52 0-1.04.2-1.43.59L10.3 9.45l-7.72 7.72c-.78.78-.78 2.05 0 2.83L4 21.41c.39.39.9.59 1.41.59.51 0 1.02-.2 1.41-.59l7.78-7.78 2.81-2.81c.8-.78.8-2.07 0-2.86zM5.41 20L4 18.59l7.72-7.72 1.47 1.35L5.41 20z\"/>\n",
              "  </svg>\n",
              "      </button>\n",
              "      \n",
              "  <style>\n",
              "    .colab-df-container {\n",
              "      display:flex;\n",
              "      flex-wrap:wrap;\n",
              "      gap: 12px;\n",
              "    }\n",
              "\n",
              "    .colab-df-convert {\n",
              "      background-color: #E8F0FE;\n",
              "      border: none;\n",
              "      border-radius: 50%;\n",
              "      cursor: pointer;\n",
              "      display: none;\n",
              "      fill: #1967D2;\n",
              "      height: 32px;\n",
              "      padding: 0 0 0 0;\n",
              "      width: 32px;\n",
              "    }\n",
              "\n",
              "    .colab-df-convert:hover {\n",
              "      background-color: #E2EBFA;\n",
              "      box-shadow: 0px 1px 2px rgba(60, 64, 67, 0.3), 0px 1px 3px 1px rgba(60, 64, 67, 0.15);\n",
              "      fill: #174EA6;\n",
              "    }\n",
              "\n",
              "    [theme=dark] .colab-df-convert {\n",
              "      background-color: #3B4455;\n",
              "      fill: #D2E3FC;\n",
              "    }\n",
              "\n",
              "    [theme=dark] .colab-df-convert:hover {\n",
              "      background-color: #434B5C;\n",
              "      box-shadow: 0px 1px 3px 1px rgba(0, 0, 0, 0.15);\n",
              "      filter: drop-shadow(0px 1px 2px rgba(0, 0, 0, 0.3));\n",
              "      fill: #FFFFFF;\n",
              "    }\n",
              "  </style>\n",
              "\n",
              "      <script>\n",
              "        const buttonEl =\n",
              "          document.querySelector('#df-70cc7fed-db3b-4355-afe5-40ed64c1b40d button.colab-df-convert');\n",
              "        buttonEl.style.display =\n",
              "          google.colab.kernel.accessAllowed ? 'block' : 'none';\n",
              "\n",
              "        async function convertToInteractive(key) {\n",
              "          const element = document.querySelector('#df-70cc7fed-db3b-4355-afe5-40ed64c1b40d');\n",
              "          const dataTable =\n",
              "            await google.colab.kernel.invokeFunction('convertToInteractive',\n",
              "                                                     [key], {});\n",
              "          if (!dataTable) return;\n",
              "\n",
              "          const docLinkHtml = 'Like what you see? Visit the ' +\n",
              "            '<a target=\"_blank\" href=https://colab.research.google.com/notebooks/data_table.ipynb>data table notebook</a>'\n",
              "            + ' to learn more about interactive tables.';\n",
              "          element.innerHTML = '';\n",
              "          dataTable['output_type'] = 'display_data';\n",
              "          await google.colab.output.renderOutput(dataTable, element);\n",
              "          const docLink = document.createElement('div');\n",
              "          docLink.innerHTML = docLinkHtml;\n",
              "          element.appendChild(docLink);\n",
              "        }\n",
              "      </script>\n",
              "    </div>\n",
              "  </div>\n",
              "  "
            ]
          },
          "metadata": {},
          "execution_count": 22
        }
      ]
    },
    {
      "cell_type": "code",
      "source": [
        "# 도표 및 그림에서 한글사용하기\n",
        "plt.rc('font', family='SangSangTitleB') \n",
        "\n",
        "# 감정의 전체적인 분포 확인하기\n",
        "plt.title('Count of Emotions', size=16)\n",
        "sns.countplot(data_path.Emotions)\n",
        "plt.ylabel('Count', size=12)\n",
        "plt.xlabel('Emotions', size=12)\n",
        "sns.despine(top=True, right=True, left=False, bottom=False)\n",
        "plt.show()"
      ],
      "metadata": {
        "id": "CQRkTRRbX772",
        "colab": {
          "base_uri": "https://localhost:8080/",
          "height": 1000
        },
        "outputId": "35a83c71-ff87-41bd-a3ff-0ca587a15817"
      },
      "execution_count": 23,
      "outputs": [
        {
          "output_type": "stream",
          "name": "stderr",
          "text": [
            "/usr/local/lib/python3.7/dist-packages/seaborn/_decorators.py:43: FutureWarning: Pass the following variable as a keyword arg: x. From version 0.12, the only valid positional argument will be `data`, and passing other arguments without an explicit keyword will result in an error or misinterpretation.\n",
            "  FutureWarning\n",
            "findfont: Font family ['SangSangTitleB'] not found. Falling back to DejaVu Sans.\n",
            "findfont: Font family ['SangSangTitleB'] not found. Falling back to DejaVu Sans.\n",
            "/usr/local/lib/python3.7/dist-packages/matplotlib/backends/backend_agg.py:214: RuntimeWarning: Glyph 44592 missing from current font.\n",
            "  font.set_text(s, 0.0, flags=flags)\n",
            "/usr/local/lib/python3.7/dist-packages/matplotlib/backends/backend_agg.py:214: RuntimeWarning: Glyph 49256 missing from current font.\n",
            "  font.set_text(s, 0.0, flags=flags)\n",
            "/usr/local/lib/python3.7/dist-packages/matplotlib/backends/backend_agg.py:214: RuntimeWarning: Glyph 48516 missing from current font.\n",
            "  font.set_text(s, 0.0, flags=flags)\n",
            "/usr/local/lib/python3.7/dist-packages/matplotlib/backends/backend_agg.py:214: RuntimeWarning: Glyph 45432 missing from current font.\n",
            "  font.set_text(s, 0.0, flags=flags)\n",
            "/usr/local/lib/python3.7/dist-packages/matplotlib/backends/backend_agg.py:214: RuntimeWarning: Glyph 49345 missing from current font.\n",
            "  font.set_text(s, 0.0, flags=flags)\n",
            "/usr/local/lib/python3.7/dist-packages/matplotlib/backends/backend_agg.py:214: RuntimeWarning: Glyph 52376 missing from current font.\n",
            "  font.set_text(s, 0.0, flags=flags)\n",
            "/usr/local/lib/python3.7/dist-packages/matplotlib/backends/backend_agg.py:214: RuntimeWarning: Glyph 49836 missing from current font.\n",
            "  font.set_text(s, 0.0, flags=flags)\n",
            "/usr/local/lib/python3.7/dist-packages/matplotlib/backends/backend_agg.py:214: RuntimeWarning: Glyph 54548 missing from current font.\n",
            "  font.set_text(s, 0.0, flags=flags)\n",
            "/usr/local/lib/python3.7/dist-packages/matplotlib/backends/backend_agg.py:214: RuntimeWarning: Glyph 51473 missing from current font.\n",
            "  font.set_text(s, 0.0, flags=flags)\n",
            "/usr/local/lib/python3.7/dist-packages/matplotlib/backends/backend_agg.py:214: RuntimeWarning: Glyph 47549 missing from current font.\n",
            "  font.set_text(s, 0.0, flags=flags)\n",
            "findfont: Font family ['SangSangTitleB'] not found. Falling back to DejaVu Sans.\n",
            "/usr/local/lib/python3.7/dist-packages/matplotlib/backends/backend_agg.py:183: RuntimeWarning: Glyph 44592 missing from current font.\n",
            "  font.set_text(s, 0, flags=flags)\n",
            "/usr/local/lib/python3.7/dist-packages/matplotlib/backends/backend_agg.py:183: RuntimeWarning: Glyph 49256 missing from current font.\n",
            "  font.set_text(s, 0, flags=flags)\n",
            "/usr/local/lib/python3.7/dist-packages/matplotlib/backends/backend_agg.py:183: RuntimeWarning: Glyph 48516 missing from current font.\n",
            "  font.set_text(s, 0, flags=flags)\n",
            "/usr/local/lib/python3.7/dist-packages/matplotlib/backends/backend_agg.py:183: RuntimeWarning: Glyph 45432 missing from current font.\n",
            "  font.set_text(s, 0, flags=flags)\n",
            "/usr/local/lib/python3.7/dist-packages/matplotlib/backends/backend_agg.py:183: RuntimeWarning: Glyph 49345 missing from current font.\n",
            "  font.set_text(s, 0, flags=flags)\n",
            "/usr/local/lib/python3.7/dist-packages/matplotlib/backends/backend_agg.py:183: RuntimeWarning: Glyph 52376 missing from current font.\n",
            "  font.set_text(s, 0, flags=flags)\n",
            "/usr/local/lib/python3.7/dist-packages/matplotlib/backends/backend_agg.py:183: RuntimeWarning: Glyph 49836 missing from current font.\n",
            "  font.set_text(s, 0, flags=flags)\n",
            "/usr/local/lib/python3.7/dist-packages/matplotlib/backends/backend_agg.py:183: RuntimeWarning: Glyph 54548 missing from current font.\n",
            "  font.set_text(s, 0, flags=flags)\n",
            "/usr/local/lib/python3.7/dist-packages/matplotlib/backends/backend_agg.py:183: RuntimeWarning: Glyph 51473 missing from current font.\n",
            "  font.set_text(s, 0, flags=flags)\n",
            "/usr/local/lib/python3.7/dist-packages/matplotlib/backends/backend_agg.py:183: RuntimeWarning: Glyph 47549 missing from current font.\n",
            "  font.set_text(s, 0, flags=flags)\n"
          ]
        },
        {
          "output_type": "display_data",
          "data": {
            "text/plain": [
              "<Figure size 432x288 with 1 Axes>"
            ],
            "image/png": "[encoded data removed]"
          },
          "metadata": {
            "needs_background": "light"
          }
        }
      ]
    },
    {
      "cell_type": "code",
      "source": [
        "# 음성데이터를 waveplot, spectrogram 이미지로 표현\n",
        "\n",
        "def create_waveplot(data, sr, e):\n",
        "    plt.figure(figsize=(10, 3))\n",
        "    plt.title('Waveplot for audio with {} emotion'.format(e), size=15)\n",
        "    librosa.display.waveplot(data, sr=sr)\n",
        "    plt.show()\n",
        "\n",
        "def create_spectrogram(data, sr, e):\n",
        "    # stft 함수는 음성을 시간기반에서 주파수기반으로 변환함\n",
        "    X = librosa.stft(data)\n",
        "    Xdb = librosa.amplitude_to_db(abs(X))\n",
        "    plt.figure(figsize=(12, 3))\n",
        "    plt.title('Spectrogram for audio with {} emotion'.format(e), size=15)\n",
        "    librosa.display.specshow(Xdb, sr=sr, x_axis='time', y_axis='hz')   \n",
        "    plt.colorbar()"
      ],
      "metadata": {
        "id": "XOr031xUYJNL"
      },
      "execution_count": 24,
      "outputs": []
    },
    {
      "cell_type": "code",
      "source": [
        "#슬픔 음성데이터 예시로 보기\n",
        "emotion='슬픔'\n",
        "path = np.array(data_path.Path[data_path.Emotions==emotion])[1]\n",
        "data, sampling_rate = librosa.load(path)\n",
        "create_waveplot(data, sampling_rate, emotion)\n",
        "create_spectrogram(data, sampling_rate, emotion)\n",
        "Audio(path)"
      ],
      "metadata": {
        "id": "7LEVaQZgd5PS",
        "colab": {
          "base_uri": "https://localhost:8080/",
          "height": 683
        },
        "outputId": "4fc25e68-45fb-498d-b978-38aace140463"
      },
      "execution_count": 25,
      "outputs": [
        {
          "output_type": "stream",
          "name": "stderr",
          "text": [
            "findfont: Font family ['SangSangTitleB'] not found. Falling back to DejaVu Sans.\n",
            "/usr/local/lib/python3.7/dist-packages/matplotlib/backends/backend_agg.py:214: RuntimeWarning: Glyph 49836 missing from current font.\n",
            "  font.set_text(s, 0.0, flags=flags)\n",
            "/usr/local/lib/python3.7/dist-packages/matplotlib/backends/backend_agg.py:214: RuntimeWarning: Glyph 54548 missing from current font.\n",
            "  font.set_text(s, 0.0, flags=flags)\n",
            "/usr/local/lib/python3.7/dist-packages/matplotlib/backends/backend_agg.py:183: RuntimeWarning: Glyph 49836 missing from current font.\n",
            "  font.set_text(s, 0, flags=flags)\n",
            "/usr/local/lib/python3.7/dist-packages/matplotlib/backends/backend_agg.py:183: RuntimeWarning: Glyph 54548 missing from current font.\n",
            "  font.set_text(s, 0, flags=flags)\n"
          ]
        },
        {
          "output_type": "display_data",
          "data": {
            "text/plain": [
              "<Figure size 720x216 with 1 Axes>"
            ],
            "image/png": "[encoded data removed]"
          },
          "metadata": {
            "needs_background": "light"
          }
        },
        {
          "output_type": "execute_result",
          "data": {
            "text/plain": [
              "<IPython.lib.display.Audio object>"
            ],
            "text/html": [
              "\n",
              "                <audio controls=\"controls\" >\n",
              "                    <source src=\"data:audio/x-wav;base64,UklGRmy6AQBXQVZFZm10IBAAAAABAAEAgD4AAAB9AAACABAAZGF0YUi6AQAbABoAGAAeACEAHgAZACAAHQAgABwAGwAaABoAHwAaACEAHwAdACAAIwAlACIAIAAfAB0AIgAjAB8AJwAlACQAIgAiACIAHAAjACYAJQAeABsAGwAdABsAHAAcACIAIAAcACMAJAAgABoAGgAXABIAGAAYABAAFQAYABgAFAAVAA8AFgAZAA8AFwAVABEAEgAWABkAGQAaABkAFwAZAB4AHgAbAB0AIAAgAB8AFwAaACEAHQAgACEAHwAhAB8AIAAkABwAGgAaABkAHAAWABoAHQAYAB0AGgATABcAGQAcABgAFAAcABkAFQAaABcAFAAVABkAGQAXABoAHgAhABwAFAAYACAAGgAZABsAHAAfABsAFwAaABkAFwAZABoAFwAaABoAFgAdACMAHwAhAB8AHgAdABgAHwAaABkAGgAVABUAGAAaABgAGQAcAB0AFAATABgAGQAWABUAEQARABQADwAPABEADgASABgAEgAOABUAEgATABgAHQAVABYAHAAWABYAFAAYABwAFgAZABYAFwAaABYAHQAXABkAHwAVABoAGgAXABYAGAAXABcAFwAXABgAGgASABAAEgAWABoAEgAZABgAFQAYABAAEgAVABYAFQAXABwAFQAWAB4AGAATABcAGwAVABMAHAAdACAAHwAWABcAHQAZABYAFAAUABwAFgAcAB0AFgAaABoAGwAXABkAFgAPABAAFwAaABMAEgANAAkAEQAVABMAHAAZABQAFwAUABEAHQAaABgAIAAeABsAHAAaABsAFwATABgAGQAVABUAFQASABUAFQAYABcAEQAaABQAEgAbABgAFgATABYAEwATABgAGAARABgAHAARABYAEwAPABMAEQARABUAGQAWABQAFwARABgAHAASABEAFAAWABUADwAUABcAFwAYABQAEgAZABUAFgAZABoAGAASABgAHwAbABcAHQAXABQAGAAWABAAFgAVABMAFgASAA8AFQAaABkAEAAQABEAEwARABMAFAAUABEAEgAWABIAFAAVABcAFAAQABAAEQAOABAADwAQABQADQALABEAEgARAA4ADQAOAAkADgARAAsACAAKAAkAAgAEAAoABgAHAAcABgAHAAgABAAJAAoACgAEAAcADQAMAA0ADAAKAAgACQAJAAwACwAMAAkADQAPABEAFAAPABEAFQAWAA4AFAAQAAkAEQARAAsADwARAAwADAAQABEACQALAAgACAAMAAsACwAHAAYABwAMAAsABwAJAAkABQAFAAcACAAIAAsABQAEAAMABAAFAAkACQABAAEABwADAP//AgD///7/+//8/wEA/f8FAAAA//8AAAIAAwAEAAcAAwADAAYACwAJAAUACAACAAcABgAAAAcACAAGAAgABgAJAAQAAAAAAPz/BAD///3/AwADAAIAAgABAPz/BAABAAEAAQD7/wYAAgABAAIAAAADAAEA/P/8/////P/0//P/+v/9//z////+//v//P/7//v/+f/6//j/+f/8//n/9v/7//7/+P/4//3/+P/7/wAA/f/2//z/AwD7//z////8/wAAAwACAAIA/P/8//3/AgAAAP7//v/5//7//P/8//n/+v/6//v/BgACAAIAAgD+/wUAAwAGAAcACAAFAPz/AAAHAAYABQAHAAgA///9//v/+//4//b//v/4//n//f/+//r/+P/2//b/9//0//v//v/3//X/+f/5//T/9P/2//L/9f/3//T/9P/0//H/8f/y//H/8P/z//T/8//5//f/9f/4//T/9//7//r/+//4//r/+P/2//X/9f/2//T/9f/1//P/9P/6//v/+f/2//L/8f/1//X/9//3/+//8f/2//j/9f/r/+//9v/u//D/9f/z//f/9P/x//H/7//s/+3/9P/z//b/8v/z//T/7v/x//b/9v/y//X/8//2//X/7//u//L/+P/2//b/8//6//j/8f/4//P/7//v/+r/6f/o/+3/7P/q/+r/6f/p/+7/7v/t/+v/5f/n/+7/7P/i/+n/7v/n/+r/6P/q/+7/7f/t/+v/5f/n/+f/6v/m/+j/5f/i/+b/5P/n/+b/5v/j/+L/4v/l/+P/5f/s/+//5v/h/+T/5f/n/+//8f/o/+P/6f/q/+3/8f/q/+n/6//h/+L/4//h/97/2//n/+L/4f/m/+L/6P/i/+T/6f/k/+j/5v/m/+b/5v/l/+f/6P/h/+H/5v/o/+j/5//i/+L/4//e/+T/4//e/+T/4f/p/+f/3f/d/+L/4//k/+r/3//f/+T/4//i/+D/4f/l/+n/4P/c/93/4f/e/97/3//d/9r/3f/e/9z/5P/a/93/3//e/9n/3f/g/93/2v/b/9v/3f/c/9r/3P/e/9f/zv/U/9P/0v/c/9n/1v/a/+H/4f/e/+X/5v/g/9z/5v/j/+T/5f/i/+P/3v/g/97/3P/f/9//2//f/9n/1f/Z/9L/1v/c/9f/1v/Y/9r/1v/R/9L/2P/U/9b/2//a/9X/1v/U/9D/1v/X/9P/z//U/9b/2f/S/8z/zv/R/9L/0v/Z/9f/0f/Q/9D/0f/W/9b/1P/W/9f/1//W/9r/2f/W/9n/1//X/9b/1v/b/93/2f/Y/9v/3v/d/9//2v/X/9j/3P/b/9b/2P/d/93/2//c/9j/1P/Z/9j/0v/R/9b/0P/R/87/yP/J/87/zP/G/8T/yP/H/8j/0P/P/87/xf/Q/9f/zv/P/9H/zv/R/9P/0v/T/9H/1P/V/87/0v/P/83/yv/J/9D/zf/N/9H/zf/K/8n/y//L/8v/0f/O/83/yP/K/8n/zP/U/83/zf/P/87/zv/L/8n/yf/L/8//yv/I/8//0//Q/8v/y//F/8r/zf/P/9D/yv/J/8P/wv/G/8f/yf/H/8n/yf/G/8L/xP/F/8T/xP/G/8X/xv/M/9H/0f/S/9P/zf/M/8//1P/W/9L/z//U/9f/1//W/9X/zP/M/83/zf/Q/9H/0f/N/8//0v/O/8//2f/S/87/zv/O/8z/y//O/8f/xv/N/83/zf/J/8L/yv/H/8L/yP/G/8r/y//D/83/zP/L/8z/zP/O/8//y//J/9L/0f/K/83/zf/Q/8z/zf/R/9D/z//N/8v/zP/P/8n/xv/P/9H/0P/K/8z/z//J/87/zP/N/9T/zP/M/9H/zv/Q/8v/yv/M/8b/x//G/8b/xP/I/8r/yv/P/8//zv/Q/9H/z//Q/9L/zP/S/9T/xv/M/9T/0v/T/9P/2P/S/9P/1f/T/9X/1v/X/9X/0v/W/9P/0P/V/9H/0f/b/9n/0//Z/9f/z//T/9L/zv/U/9L/zf/N/87/zP/S/9X/y//R/8v/zv/O/9D/2f/W/9f/1v/W/9P/1//V/87/z//R/9D/0P/V/9D/0v/S/9L/1P/X/9n/1v/V/9f/1//Q/8//1P/V/9D/0f/R/9b/2P/Q/9X/1//U/9P/1v/W/9T/0v/U/9T/0//Y/9X/1P/Z/9X/1f/V/9f/1v/T/9b/1P/V/9b/1f/S/9T/0//R/9f/1f/V/93/2P/d/+P/3P/a/9b/3v/d/9f/2f/d/9v/2//e/9n/1v/c/9z/2f/V/9f/1f/U/9z/1P/Q/9j/2f/Z/9b/0//W/9b/1f/T/9T/2P/Y/9X/2f/a/9b/1//d/9v/2f/b/9r/2//f/9n/4v/g/97/4//a/9n/1//c/9v/2//h/+P/4P/j/+T/2v/a/+D/3v/d/97/2f/d/97/2v/b/9v/2v/d/93/3P/e/9v/2P/d/9z/3v/g/+T/5v/i/+D/4P/m/+f/5P/q/+z/7v/u/+3/6v/u/+r/7//x/+n/7P/p/+b/5v/k/+T/5//q/+v/5//n/+j/5f/m/+v/5v/j/+z/6//g/+L/6f/o/+n/5f/i/+X/6v/u/+7/7v/z//P/8v/0//X/8v/1//X/9v/2//X/+v/3//b/9P/0//b/8v/y//L/7//t//H/9P/u//b/+f/0//H/7//1//P/7//y//T/+v/0//L/9P/y//P/9v/x/+//8//4//X/+//8//b/+f/9/wAA+//8//r/+v/6//z/AQABAPv/9v8BAP3//P////3//P/6//z/+/////3/9//6//z//P/8//3//P/+//z/AAD9//f///8BAP7/AwABAPr/+v/4//j/+f/5//z/9f/7//r/8//7/wIA/f/8/wMABgD9//z/AwD///7/BAAHAPz/+//9/wQA///6/wAA/f8DAP3//v8DAP7/BwABAPv/+v8BAAQA+v////7//f8BAAAA+v/z//n/+//y//r////9////AAAFAAMAAwABAAcACQAEAAMAAQAIAAgACQALAAMABQAOAAcAAwD+/wgACQAEAAYAAwADAAQABgAGAAQAAwAHAAkACQARAA8ACQANAA0ADwAQABEAFgAPABUAEQAHAA0ACQALABEADwAIAAsACQAUABIADgAVABEAEgALAAkAEQALAAwADQAKAA4ADAANABIAEgAVABIADgARAA4ADAAQAA0ADwARABcAGAAQAA8AEgAUABgAGQATABIAFwAbABwAEgARABoAFQAOABYAGgASABMAFQAUABcAEQAUABgAGQAWABUAFAAVABsAGwAXABYAFwAVABMAFQAVABQAFAAWABkAGAAWABkAHwAZAB4AHQAcAB8AIQAlAB0AIAAcABkAHAAdABYAEwAZABwAGwAgACAAIAAgACEAIAAgACEAIAAgACEAHwAhAB4AGgAaABkAIQAbAB0AGwAeACIAHgAaAB0AIwAgACMAIwAfAB8AHwAhABkAHgAgACQAJAAkACcAJQAfACkAKwAjACIAJAAsACsAJgAnACQAIwAoACoAJwAqACYAJgAlACUALAAnACgAKAAiACIAJwAwAC8AKAApACkALwAvACcAJwAqAC0ALAAlACsAMQAqACoAMgAxACgAJgAuACwAKwAwAC4AMQAwADYAMgAuADcALwA0ADYANQA5ADgANgA3ADYAMgA0ADMANgA1ADAAMgA1ADUAMQAxADAANQA0ACoALwArAC0ALgAmAC0AMAAsADAAMQAtADAAMAAtAC4AKQArADAAKgArAC4AKwAxAC8ALAA7ADIAKgAtADAALwArAC8ANAAyACwALgAvADIAMwAuACwALQAwADEAMgAzAC8AMQAxADUANwAuADUANQAvADAAMQAzAC4AMgA4ADUAOAA3AC4ALQAtAC4AMAAxACsAKwAzAC8ANwA4ADQAMwAuADUALwAyADcAMAA5ADQALwA4ADMAMAA2ADcAOQA2ADUANwA5ADsANgA5ADkAPABAADcAOQA2ADgAOwA8ADsANwA8ADgANwA3ADIANwA2ADAANQAzADEAOgA6ADMAOAA+AD4ANwA7ADwAOgA6AD4APQA9ADsANwA/ADkAOQA9ADgAOAA9AD4AQwBBADoAQABDAD8ARABBAD0APQBBADoAPwBBAD0AQAA/AD8APQBBAEAAQwBCADwAQQBAAEEASQBAAEUAQgBHAEkAPwA/AEIAQQBEAEYARgBDAEAAQgBDAEEAPwA6ADoAOAA2ADkANwA2ADoAPQA5ADsAOQA2ADwAOgA6AD0APQA/AEAAQABAAD4APQA4ADwAQQA9AEIAPAA8AD0ANQA5ADoAOQA4ADcAPQA8AEAAPwA6AD4AOwA8AD0AOwA7ADsAOQA2ADYANgA0ADYANAA5ADwAOwA8ADoAOAA5ADgAPgA9AD0AOwA7AEEAPQBAAD0AOQA7ADkANQA5AD0AOAA2ADYANwA1ADcAOQA2ADUAOgA6ADQAOwA8ADgAPAA9ADcAOAA5ADcAOgAzADAAMQAyADQANAA1ADUAMwAzADQANAAwACoAMAAzADAAMwAyACwALAAuAC4ALwAsAC0ALwA0ADcAMQAwADEAMwAwADEANAAyADEAMwAwADIAMgAvADEANgAxADMANwAyADoAOQAyADYAMgA4ADsAOQAzADYAPQA7ADYALgAxADAALQAuAC8ALQAuADcAMwAuADIAMQAuADYAMQAwADUALwAxAC8AMgAwACoAMwAyACwAKQAoACwALgAqACwAJAAnADAAMAAsACoALQAtADIALQApAC0AKgAsACwAJwArADQAJgAmACsAJwAwAC0AKAAoACoALAAsAC8ALAApACoAKAAoACkAJwAkACAAJAAqACoAKgApACgAJgAoAC4AJwAdACkALQApACkAJgAvACoAJgAqACcAJgAlACsAKAAmACwAKQAqACwALQAnACwAMQAuAC0ALwAuACoALwArACwALgApADAAKgAlACYALAAnACQAKAAoACMAJQAnACUAJAAiACkAKwAoACYAKgAkACIAJAAjAB8AIwAiACUAJQAeAB8AIQAfABUAIQAkACEAJAAnACcAHgAkACkAJAAhACUAIQAYACUAIAAgACQAHwAjACUAIAAiAB8AGwAgACMAIAAbABwAJAAgAB4AJAAhACQAKAAqACMAIwAoACMAKQAnACkAJQAkACoAIwAgACUAJQAkACUAIwAlACYAJgArAB8AIAAlACMAIwAlACoAJwAkACYAJQAnACkAJgAnACkAIgAhACAAIgAgAB8AIAAeAB8AHQAfABwAHQAfAB4AIAAdABoAHgAbABwAHAAYABwAGAAcAB8AGQAYABgAGwAZAB4AGwAcACEAIAAdAB8AHQAhACUAHQAhACUAHwAcABsAGAAaABgAGAAfAB8AGwAfABwAGgAdAB0AHwAbABgAGAAeAB4AHwAjAB0AHQAdABoAGgAXABwAIAAeAB4AGQAYABgAGQAVABUAFwAUABEAEwAUABMAFAAYABMAEgAWABEADwAOABIAEwAOABAACAAMABMACQAJAA8ACwAIABAAFQATAAsAEwASAA0AFAAUABQADwALAA8ADAAJAA0ADwAMAA4ADgAJABIADwALAAoADgAJAAUACQAFAAcACQAHAAgADQALAAgABQAEAAcADQANAA0ADAARAA4ADQARAAsACQAHAAwACAAEAAcABAAFAAUABQADAAMABwAAAAUACgAGAAUACgALAAMACQAJAAQACQADAAMACgAEAAsACwAHAAUABgAMAAkACAAKAAQAAwABAAQABQADAP7/AwACAP7//v/6//7/AQD7//r//f/6//b//v/3//L//f/6//X/9P/1//X/9P/4//r/9//5//v/+f/5//z//P/7//3/+v/7//v/9f/6//r/AAD///v/BQAEAPv/+v/8//f/+P/9/wEA/v/+////+//+//z/9//6//r/+//5//f/9//0//b/+f/4//r//f/8//z/+//3//n/+f/0//v/+f/6//r/+P/9//T/9P/1/+7/9f/4//T/8//w/+7/8f/v/+//9f/x//b/7v/t/+7/7//r/+//8f/u/+7/7f/r/+z/7//x//H/8P/v//D/8P/p/+7/7v/p//T/6v/p/+//6P/r/+n/5//p/+j/6//n/+b/5P/o/+z/5f/p/+3/8P/t/+z/6P/r/+z/6v/v/+r/6P/r/+n/5v/n/+r/7//s/+f/6v/w/+z/7f/x/+3/5f/n/+f/5//o/+H/5v/i/+D/4//h/+L/4f/m/9//4//m/+D/3//j/93/2f/g/+D/1v/a/9z/3P/g/9r/2P/X/9v/3//g/97/3v/d/9z/3v/k/97/2P/f/93/3f/b/9n/1v/e/9//2f/h/+X/4P/i/+L/4f/f/+H/4v/Y/9v/3P/e/9z/3P/g/+L/3//b/97/4f/f/97/4P/d/9b/3f/j/9//2v/d/9v/2P/a/93/3v/c/9X/1v/X/9r/1f/V/9X/2P/X/9b/1v/Q/9b/3P/S/9b/2P/S/9z/2f/T/9X/1f/V/9X/1//X/9P/1P/V/9b/1f/T/9P/0v/N/83/1f/M/8n/0f/Q/9H/2f/V/8//0v/W/9P/1P/a/9f/2f/a/93/3P/V/9j/1//T/9T/0f/U/9P/z//Y/9L/1P/Z/9T/2P/b/+D/3//c/97/2f/Z/9n/1P/a/93/2f/Q/9P/1f/Y/9D/z//W/9X/2v/Z/9f/1f/P/9L/1P/V/9j/1v/V/9f/0v/P/9H/z//P/9P/0f/M/8//1v/U/9P/0v/R/83/0v/U/8//2f/S/87/1P/W/9X/1v/V/9H/0v/P/8z/0//R/83/zf/I/83/zv/J/8v/yP/M/87/zf/K/8v/zP/O/9D/1//R/8z/zv/I/8n/z//P/8z/y//O/9D/zf/Q/87/y//Y/9P/zP/X/9T/z//P/9H/1P/T/9b/0v/R/9b/1P/T/9j/0//R/9T/0//U/9H/0v/S/9D/1f/Y/9H/0P/X/9v/2P/W/9n/1P/X/9b/2f/V/9r/2//Q/9r/2P/X/9j/2v/a/9r/3f/V/9b/2//Y/9j/2v/U/9L/zv/S/9D/1f/Z/8//1v/a/9P/zv/Q/9n/1//Q/8//0//M/87/1P/P/9T/1P/N/9X/1f/V/9n/1v/b/9v/2P/b/9v/2f/a/9X/2P/Y/9T/1P/S/9b/zv/Q/9X/0v/T/87/1v/V/87/z//V/9f/1v/U/9j/3P/X/9P/zv/P/9X/yf/P/9P/y//I/87/zv/L/8//0//S/8//zf/K/9X/0//O/83/yf/L/9L/1v/P/9D/0f/O/9P/0f/R/9D/z//M/87/z//T/9X/0//T/9f/2P/Q/83/0P/R/87/0//R/9H/0v/O/9P/1P/Q/9H/z//M/9P/0//P/83/zf/S/9D/y//P/8//0v/Q/8j/yv/E/87/0P/L/8f/xv/I/8b/z//J/8n/z//Q/87/0f/U/9H/1f/V/9f/1P/V/9n/0P/R/9D/y//R/8//z//S/9D/zP/P/8f/y//S/87/zP/O/9P/zv/K/9H/1f/S/8r/y//M/8v/yv/K/9H/zv/P/9L/z//T/9n/0v/S/8//z//Y/9X/0f/W/9X/2f/Q/9D/2P/R/9L/1P/Y/9f/z//c/9v/z//W/9j/0P/O/9f/1f/R/9H/0//Z/9T/1v/c/9f/2f/c/9r/2f/Z/9z/4v/g/9j/2//Z/9j/3P/c/9r/2P/W/9L/2//T/9D/1//R/9T/1v/S/9j/1P/U/9j/2//d/9j/2f/Y/9j/2f/Y/9f/1v/S/9D/2f/Y/9f/2f/X/9j/2//d/+L/3v/c/+X/4v/g/+X/3v/m/+f/4P/e/+L/6f/f/9//4v/e/+P/4v/i/+L/4f/e/9r/3v/c/9v/3f/V/9X/3P/a/9n/3v/d/9r/3P/e/9T/1f/W/9f/2v/Y/9T/2v/d/9v/3//b/9n/2P/e/+D/3P/g/9//4//g/93/3v/i/+T/3//f/+P/5v/d/+X/4v/e/+P/3f/f/+L/3//o/+n/4P/l/+X/4v/i/+L/6P/l/+L/5v/i/+f/4P/e/+D/2//h/+T/5//g/+H/5v/j/+L/4P/f/+P/4f/f/9n/2f/d/9n/4P/k/9v/1v/g/97/1f/d/+H/3v/o/+T/4P/k/93/3v/k/+f/3v/m/+X/3//i/+T/5v/k/+L/3f/h/+n/5f/j/+H/3//j/+b/5f/o/+P/5f/p/+T/5P/j/+H/4P/k/+H/4f/i/+L/6P/l/+X/4//f/+D/3f/i/+X/4P/d/+b/5//f/+f/5f/h/+b/4//m/+X/5v/m/+X/3//d/9z/3f/g/9v/4P/j/+H/5f/o/+r/4v/e/+n/5f/k/+v/6P/p/+b/6P/p/+f/7v/p/+r/7f/q/+n/7P/x/+v/6P/t/+7/7v/x//n/8//z/+j/6//t/+j/7//w/+v/7v/r/+z/8v/s/+7/7//n/+7/9v/y/+r/7//w/+7/6v/u/+v/6//z/+3/6f/t/+v/7P/n/+n/8f/r/+j/5f/s/+f/5//u/+z/7P/z/+//8//z//X/8v/1//j/9//1//H/8v/w//H/8f/1//f/8f/1//b/9P/z//P/7f/w//H/7f/y//b/7//r//L/7//w//b/7v/x//P/8//6//b/7//3//b/9f/7//z/8v/0//n/9f/7//T/9P/2//P/9//2//z/9f/1//T/9P/5//X//P/6//j//f/3//f/9f/5////+v/8//v/8v/1//v//P/2//X/+P/z//r/+//0//j/9v/5////9//v//T/9P/v//D/8P/y//P/8//z//j/+f/3//D/8v/4//L/9f/3//X/+//z//P/8//2//n//P/5//L/9P/x//D/9v/3//b/8P/s//P/8P/x/+//6//s/+7/7P/w//T/9v/2//7/+P/2//b/9P/z//X/9f/4//b/9f/5//j/9f/2//X/9v/6//f//f/7//j/+v/9//7//P/6//P/9v/0//j/+P/5//j/9v/4//T/9f/1//T/+f/3/+3/8v/4//X/7//x//f/9P/0//X/9v/5//b/9f/5//L/9P/0//X/9P/z//X/9v/3//j/9P/3//v/9/8BAPz/+P/4//b/9v/6//r/9//4//r//P8BAPf/9f/2//D/+P/1//f//P/z//n/9//1//r/+P/2//f/+f/3//n/+f/3//P/9//5//f//P/9//r/+f/2//b//f8CAAAAAQD///f/+v/8//L/+P/2//P/+v/7//v/+P/9/wMAAQD6/wAAAQD6//f/9f/8/wIA/f/+/wMA/f8BAAYABgABAAEAAQAEAAUA/v8AAAAAAAACAPz/AwAEAAMABQD9/wEABAAIAA0ACAACAAEAAwAFAAYABAAFAP3///8HAAMABwAFAAIAAwAEAAgABAAEAAUAAwAGAAUABgAIAAgABQABAAEABgD+/////v/9/wQACgAFAAMABwAJAAgABwANAAsABgANAA4ADwALAAsADAAKAAYACQAHAAQABQAFAAsACgAFAAYABgAEAAkACQADAAUABAADAAgA/P/6//3/AgAAAPv/+////wUAAwACAP////8FAAQA//8BAP3//f8DAPz//v8DAAEA/v/9/wIAAQD//wsABQAKAAYAAwAIAAcACwALAAwABQAGAAcABQAJAAkABQAIAAkAEgANAAUAEAAPAAcABAADAAgACAAKAA4ACwANAAsACAAIAAsADgAOABEACgANAA8ADgAOAAcACgASABIADAAHAAcADQAJAAoACQANABIADAAOAAsAEAANAAsADQALAAoACQAKAAcABgAIABAACQAEAAkABQALAA0ACwANAA0AEgAMAAgAEAAQABAAFQARABEAEAAUABQAFQASABYAHAAUABMAEwASABQAFQAVABQAFQAUABQAEwAVABgAFwAQABEAFAAXABUAFwAZABUAGgAbABUAEgATABUAFgAWABMAFAAbABgAFQAUABIAFQAaABIADQAOABQAFAATABsAGAAZABQAFwAbABUAGAAbABgAGQAVABkAFwAYABcAFAAYABsAFQAXAB0AGAAcABkAHwAdABkAJQAhABkAGQAbABgAGgAbABMAGAARAA0AEgAUABkAFQASAA8AEwAVABAAEQAVABMAEQAYABgAHAAcAB8AHQAYACMAHgAgAB0AFgAVABwAHgAbAB4AGgAaABoAGQAZABwAFgAXABcAGwAdABgAHQAbABwAHQAYABcAFwAYAB0AFwAUABgAFwAXABUAEAAaABkAEgASABUAEAAUABwAGwAdABwAGwAdABsAGgAcABYAFgAcABwAGAAaAB0AFwAbABkAHQAiACMAHwAaABgAFAAdAB8AHAAcAB8AGQAeACAAFAAdAB0AGQAaABUAFQAZABgAHAAYACAAIAAcAB0AGgAfABYAGAAhABoAGQAaABkAFwAWABcAGAAZABoAGwAcABsAFAAWABYAFQAUABYAFgAWABUAFQAaABcAFwAdABcAGgAcABcAFwAWABwAGQAZABsAGgAcABMAFQAWABQAHwAbABcAGAATABUAGAAYABEAEwAXABQAGAAVABQAGAAXABcAGgAcABoAHQAcABgAFQAVABQAFAAVABMAFwAbABUAGQAZABQAGAAdABUAFQAbAB0AIQAYABsAHQAbABwAGwAaAA8AEQAXABMAFAAXABsAGQAXABgAFAAVABoAGgAZABcAFwAWABwAHQAXAB4AIwAaAB8AEQAhACEAIAAjAB4AFQAZABwAHAAlACQAIQAiACEAHwAhABsAGQAaABwAHgAgABoAHQAfABsAGQAgAB4AFwAeAB0AGgAaABsAGwAdABwAGQAaABwAIAAeAB4AHwAcABoAHwAeABsAIAAgABwAGwAbABsAHgAdABoAGAAcABcAFgAdABYAGAAbABcAFQAVABUAGQAWABgAGQAVABcAGAAYABwAGQAYABgAFgAaABgAHAAYABQAFQAVABYAFQAUABEAGgAaABYAGgAYABYAFQAZABcAFQAYABgAFwAcABcAEgAUABcAFgATABIAFgAUABIAEwATABYAEwARABIAFAAWABgAFQAVABUAEwAVAA8ADgALABEAEQASABYAFgAXABcAGwAXABkAGAAbABsAFwAYABUAFwAaABkAFwAUABEAGAAWABIAGQAVABIAGwAZABYAHgAcABsAFwAXAB0AFAAaABgAFAAWABcAGAAbABoAHQAbABYAFwAWABgAGQAZABUAEgAXABQAEgAWAB0AGwAQABoAFwAVABUAFAAZAAwAEAAUABEAEAASAA8ADwAUAA8AEAARABIAEgASABcAFgAbABcAEwAVABYAFQAYABQAEQAXABEAEQAVABcAGgAbABkAHgAgAB8AGAAaABkAGQAZACAAIAASABcAGQAaABsAFwAUABUAGAAYABYAFwAZABYAEwAOABIAFQAWABYAGAAUABIAEwAYABkAFAAVABsAFgATABAAEwAXABcAEgATABkAFgASABcAFAAWABEAEwAVAA8AFgAXABIAFAATABIAEgAXABkAEwAZABYAGAAaABQAFwAaABkAGAATAA8AEgAXABoAFQAYAA0ADQAXABUAFQASABMAFgANABEAFAASABcAGQAUABEAGAAVABYAFwASABQAFAARABIAEwATABMAFAAVABcAEAAPABYAFwAaABoAFwATABEAEwAUABoAGAAUABEAEwAUABMAEAAWABcAEwATABAAFAATABMAEwAYABgAEgAVABoAHQAeABgAGAAXABgAHAAfABcAFQAWABcAGwAYABgAGwAUABYAFAARABMAFQATABMAFQATABcAGAATABIAEgAMABEADwAJAA8ACQAOAA4AEAAPAAwACQAGAAsADwANAA0AEAAKAA8ADAAGAA8AEgAPABUAFwAUABAAEgARABUAEwAQAAwADwASAA8ADwASABEADwAMAAkACAAJAAcADAAJAAwACQADAAoADgAFAAMACAAKAAYACgANAAoADAASAA8ADwAPAA0ACgAIAAkABgAHAAsACQAHAAUABQAJAAEABwAQAAoADAAJABEAEgAVAA4ABgALAAoABwAFAAUACAAGAAQABgAJAAkACAALAAkACQALAAoABwAJAAcAAwADAAIAAgADAAcAAgD8/wAABAADAAEAAAAHAAkAAgAHAAUAAQAGAAgABwAFAAgACAAHAAwADQAHAAoAEAAOAA4ADQAOAAgADAAQAAoABgAMAAkACgAHAAQABgAJAAoACAAJAAcACgAIAA0ADwAMABIAEgAMAAwAFAATABEAEQAPABMAEgARABAADgARAAoACAARABAADAANABAAEQAPAAwADwAQABMAEAAOAA0ADAASABAAEQAUABMAEwAQAA8AEQASAA8ADwAPABIAFQANAAwADAANAAoACAAIAAsACQAIAAUABgAFAAIABAAHAAoACwALAAwACgAQABQADwAGAA0AEAAHAAgABwADAAkACAAGAAkABwAGAAoABQAEAAwACAAOAAkADgARAA0AEAAQABMADwANABEADgANABIAFAASABoAGwAWABcAFwASABcAEQAOABAAFAATAA8AEAAPABAAEgAMAAgADwAUAAsADQATAA4ADwARAAkADgAQABYAEQATAA8ADAAOAA4AEQAJAAoADQAMAAsACwANAA8ACwAJABIACgAIAAwACQAMAAkACgAJAAUACAALABIADgAHAA0ADQANAAgACQAEAAQA//8BAAYAAgACAAMA///8/wQA//8CAAUAAQADAAYABAACAAMABAAHAAEABAAFAAIAAAD9/wAAAgADAAAA+v/9/wkACAADAAQABQABAAEAAQACAAYAAAD//wcABgAHAAEA+/8BAAMA//8DAAMAAwD//wEAAwAAAP//BQABAAAAAwD///v///8CAPv//v8BAPv/AgAAAPf//f/+//3///8BAPz////+//z///8DAAEA+v/6//3/AQD7//7/AQD//wUAAAABAAQAAAAAAPz/+v/7//7/+v8FAAAA+//6//r//v/6//7////8//b/+f/7//f/+v/2//P/9P/z//L/8//z//j/9f/2//n/9v/2//n/+//5//r/+v/8//v/9f/9//v/8f/z//z//P/5//r/8//w//P/7v/s//j/8v/s/+7/7v/v//P/7v/r//D/7v/v/+z/6//o/+b/6v/r/+j/5f/j/+f/5//n/+z/6v/t/+//6v/m/+z/7f/l/+j/5P/p/+3/7v/p/+b/5f/o/+r/6f/m/+T/5v/l/+n/7P/h/+D/5P/o/+z/6v/q/+j/5f/l/+j/5v/o/+3/6f/s/+n/4f/n/+f/5//t/+r/6v/u/+3/6//p/+b/5//u/+3/7f/q/+7/+f/r/+v/6f/n/+3/8P/p/+b/6//u//H/8//z/+3/7v/2//X/8//1//X/9v/z/+//8//1//P/9f/0//b/9//0//X/9f/x//D/8P/0//r/9v/z//f/8v/0//b/8P/4//v//f/9//f/9v/6//v//P/5//n/+P/2//T/9//4//X/8//2//X/7v/v//T/9v/s/+z/7v/u//D/8//x//H/8f/x/+//7P/o/+r/7//v//D/6//n/+b/6f/t/+f/7P/p/+n/8f/q/+3/7//u/+r/6//n/+f/6v/t/+z/5f/r/+3/6v/t/+z/7f/o/+3/6v/l/+v/5v/p/+T/6v/s/+j/6v/m/+n/5f/l/+f/5//r/+r/6P/v/+r/5f/p/+j/6P/q/+r/8P/r/+P/6v/u/+3/7P/t/+v/6v/s/+j/5v/l/+b/6f/n/+3/6f/n/+r/7v/r/+r/6//n/+n/5v/k/+P/6v/n/+n/5//n/+z/5//r/+X/5P/r/+T/6P/r/+v/7P/r/+z/6//s/+3/5//m/+b/5P/s/+v/6P/s/+n/6f/j/+b/4v/i/+f/6P/l/+L/5P/k/+X/4//j/+P/4f/k/+T/4//l/+n/5f/j/+D/5P/n/+H/5f/n/+b/7P/o/+T/6//s/+r/6f/v/+z/6P/w//D/6//q/+3/7v/r/+j/7v/s/+r/7f/x//D/5v/t/+//7P/r/+j/6P/o/+j/5f/j/9r/3f/l/+H/3//a/9r/2v/Z/9z/2f/U/9n/2f/V/9b/1f/V/9r/2P/a/+H/2v/U/9n/1//Z/9z/2f/Y/9j/0P/S/9P/1P/R/9b/1f/W/9f/2P/d/9r/1v/W/9b/2v/a/9n/3//i/+D/4P/h/+X/4v/g/97/3v/d/+X/5v/k/+f/6f/q/+z/7v/u//H/8f/w//f/8//v//T/8v/z//P/8v/4////BQADAP//BgAJABAAEwAXABgAEwAaACYAJQAiAC4AMAAuADMANAA5AEIAQQBEAEMARABOAFIAWABbAFgAXQBkAGsAZwBpAHIAcwB3AHoAeQB2AHYAegCAAIYAiQCFAIQAjgCRAI8AjACKAI0AkgCWAJIAkQCUAJYAlACPAJ0AoACWAJwAlACUAJMAjwCNAI0AjQCQAIkAggCBAH0AegBzAHAAcQB0AHEAaABpAGgAZgBiAF0AWABUAE4ATwBMAEcAPwBBAD0AOwA6ADYAOQAxAC8ALwAvADEAKgAsACUAIgAkACgAIwAlACcAIAAcAB4AHAAUABYAFwASABIAEgANABIAEgATAA4AEAAPAA4ADwANAAwACwAJAAYACAADAAUABgADAAYABgAAAP3//v/6//b/9f/w//T/8P/w//L/7P/t/+//5//n/+3/6P/q/+D/3f/f/97/2//X/9f/2f/Z/9j/2P/V/9H/1v/Q/8n/zP/Q/8z/zv/Q/8v/yv/J/8v/yf/L/8j/yf/G/8X/y//J/8P/x//D/8X/yv+//8T/zf/O/8z/xf/D/8T/xP/K/8n/zP/L/8z/zf/M/8f/xf/G/8X/yP/H/8j/yv/I/8z/yv/J/8v/yP/I/8z/yP/E/8L/wv++/7//xf/G/8L/x//D/8T/yf/E/8T/wP/E/8T/wf++/8P/yv/A/8H/xP/K/8f/xf/I/8X/yv/N/8r/y//Q/8//0v/T/9X/1v/Y/9j/3f/Y/9T/2P/Y/9b/2//e/9//3P/d/+D/3//f/+L/7P/l/+n/7f/q/+f/4f/k/+P/4f/o/+P/4v/o/+D/4v/l/+H/3//d/9r/2//U/9f/3P/Y/9b/1//S/9P/1//R/8z/zv/J/8z/z//N/8z/y//I/8n/xv/H/8r/w//B/8L/wP/B/7//uf+5/7v/uP+2/7P/sv+1/7j/tv+y/7P/tP+z/7b/sf+x/7T/vf+5/7X/uP+1/7f/vv+7/7r/vP+3/7n/uv+1/7j/uP+4/7T/uP+7/7r/wf+5/7f/uv+2/7n/uf+8/7//vf+5/77/wv+//77/uf+3/67/sP+y/63/rv+y/67/rf+v/6//s/+u/6//r/+v/67/r/+x/67/rf+s/6//q/+s/7D/sf+u/6v/sP+x/7L/s/+t/7H/t/+8/8D/v//C/8P/x//J/8j/zf/O/8r/zP/P/8v/1f/U/9X/1v/V/9r/2//g/9z/2//j/97/3f/h/+H/5P/d/+D/6P/o/+j/6//r/+j/6P/u/+v/7v/x/+//9f/0//L/8//0//X/+f/3/wAAAgD8/wAA/v8BAAUA/f8BAAIAAgAJAAsACwAUABQADQAVABUAFQAbABgAHgAfACMAJQAlACcAKAAmACoALgAtACgAKwAuACUAIgAmACYAKQAsAC4ALQArADUANAAxADAANAA2ADIAMwA7ADAAMQA6ADIAMgAzADMAMAAyADAAMwAxAC0AMAAxADAAKwAqACsALgAvACwAKgAsAC4ALgAwADEANwA2ADMANQAxADQAMAAnACoAKwAqAC0ALwAqACwAKwAmACoAKAApACcAKAAmACQAJgAkACMAHgAdACUAHAAgACMAHAAbAB0AGgAfAB4AGQAgAB4AHwAkACEAHwAhACcAIgAhACMAHwAkACEAIgArACIAIgAjACgAKgAsAC0AJAAlACUAIgAkACUAIgAkACgAJgAkACgAJAAnACgAHgAlACoAIAAfACQAIgAdAB4AHAAcABsAGwAaAB4AIQAXABkAHgAhAB4AGQAZAB0AHgAfACEAIgAiABwAIQAcABoAJAAgAB8AHgAZABsAGwAXABkAHAAaABoAGwAdACAAGwAZAB8AIwAmACUAHwAkACUAIwAiACQAIQAhACcAKAArACoAJQAnACUAJAAlAC0AKwAqAC0ALgAxAC8ALQAtACoAKwAuACwAKwAtACoAKgAzAC8AMAAzADoAOwA4ADsAOQA5ADkAOwA3ADUANwA2ADcANgAzADoAPQA2ADcAOAA3ADQAOAA3ADMAOAA6AD4ANAA7AD8ANwA7ADYANgA5ADQANwA2AC4AMwAvAC4ALwApAC4AKAAiACUAJgAmACcAIwAeACIAIAAgABwAHwAeAB4AHAAgAB8AGAAZABwAGwAXAB4AHQAaACAAIQAlAB8AHgAZAB8AIgAgAB0AGQAZABgAHgAeABwAFwAYABoAFAATABkAFQAWAA8ADwAUAAkACwAKAAIABwAFAP//BAADAP7/AQAEAPz/BQAIAAEA/P///wQABwAJAAAA//8IAAkACAAIAAQABAD+//7/BgAEAP////8FAAYAAAABAPn//P8BAAAA//8EAAsABAABAP7/AQD///7/AwD9/wIAAQD+//7//f8BAAUA/v/9/wEA/v/9////AgAAAP7//f/+//3//f/9//3//P/+//z/+f/2//f////9////AgD9//7//v/9/wEAAQD//wYAAwACAAgAAgAEAAcABgAFAAcADAANAA4ACwALAAsAAQAIAAkABAADAAcACAAFAAgACAAHAAgABgAFAAYACAAHAAgADgAHAAMA////////AQAFAAUAAwAKAAcACAAEAP7/BQAHAAEA//8FAP3/BAAIAAUABgAFAAYAAQAGAAgABAAGAAcACAAJAAgACQANAA8ADAARABIADwAPAA8AEAATABMADwAQABEAEwAQABQAEQASABoAFQAUAA8ADwAVABIADwATABUAEwAMABMAEQAQAAwAEgAPABEAGQAZABoAFAAXABYAEwATABYAGAASABEAEgASABcAEwAZABYAFQAYABYAEAARABEADgAPAA4ADQAHAAoADQAMAAwADgAMAAwADQAVABEAFgATAAkADwALAAkADAAOAAkACQAIABEADgALAA4ADQANAA8AEQAVABIAEAAVABkAHQAaABkAGgAZACIAGgAaABgAFQAbABgAFwAXABwAGwAbABoAEQAUABgAFQAYABgAEgAXABEAEAASAAoAEAASAA0AFAASABEAEQANAAwACQAOABQADAAJAAsACgANAA4ACAASABIAFQAWABQAGAATABcAHAAZABkAFwAWABYAGAAdABwAHQAcABkAFwARABAAEQATABwAGAAVABEAEAAUABEAFAAWABQAFAATABIAFQAVABIAGAAUABIAGQAYABUAEQASABEAEAAOABAAEQAOAAwAEgAUABMACgAMAA4AEQARABUAGAAWAA8ADQAWABYADgAVABcAFgAZABgAFgAaABoAGQASAA8ADwAPABYAFgAOAAwADQAJAAkAEQAPAA0ADgAQAA8AEwAUAA8ACwAOAA0ACQALAA8ACwAFAAsABwALAAwABAAKAAcAAwACAAoABgACAAUABgAIAAEAAwAIAAoAAgAAAAIAAQABAAMABwAGAAUAAwAFAAEAAQAEAAYABAAHAAcAAwAIAAIABQAKAAYABAD+/wAAAwD//wMABgABAPz/BAAEAAEACQACAAAA//8BAAIAAgAJAAsABwAHAAUABQANAA4ADAAMAA4ADwAMAA0AAAAFAAkABgAHAAYABgADAAAAAAD//wIACwAFAAcABQAAAAYAAQAAAP//AAABAP7////8/wIAAgD/////+v/8//j/+f/4//X/9v/8//n/9v/4//T//P/+//r/+P/2//7/AAACAP7/+v8BAAMAAAABAPz//P8AAPr//P8EAAIAAQACAAMAAQAIAAYAAAD//wQACQAFAAgABwACAAsACAANAAwABAAEAAAA///5//3//f/9//7/+v/8/wAA/f///wAA+P/7//3/9v/5//r//P/6//7//f/5//n/+/8CAAIAAQAIAAoABQAFAAcABAAAAAMAAgD7/wAAAgD9/wMAAQD8//z//P/7////AAD8//n/8//v//D/7v/v//X/8//x//P/7//w/+//6//q/+r/6P/q//D/6P/n/+7/7v/q/+3/9P/r/+v/6P/i/+v/6f/j/+X/5f/m/+D/6P/p/+j/6v/u//P/8P/4//X/8v/z/+//8f/v/+3/5v/q/+z/4v/j/+r/5P/r/+r/3f/n/+T/4f/e/9//3f/f/97/4//e/9j/4f/a/+H/3//Y/9j/1//e/9//2//Y/9T/0P/U/9H/0v/P/9H/2f/U/9f/3P/W/9b/2P/f/97/1//b/9v/1P/V/9L/1P/X/9f/0//U/+H/1//T/9n/0//V/9b/1v/X/9f/1v/S/9j/0v/T/9n/1v/b/9v/1P/U/9n/2//e/+D/1v/d/+P/2//a/9n/2P/X/9b/2P/Z/9n/3//e/+H/4f/i/9z/3f/l/9z/3P/d/9b/2P/a/9v/3f/Z/9n/4f/j/97/2P/Z/+D/1v/U/9b/0v/R/9T/z//K/9P/0f/J/8z/y//Q/9L/z//P/87/0f/b/9r/1//f/+D/4v/i/+D/3//a/93/4P/b/93/3v/e/+D/4f/i/9r/3f/f/+D/4f/i/+D/3P/U/9r/3//e/9n/4v/r/+L/5P/j/+L/5f/m/97/3//j/+P/6P/k/9z/1//Z/+T/4v/k/+f/5v/k/+X/5//i/+H/4v/l/+T/4f/k/+j/5v/e/93/2//j/+H/3f/i/+H/3f/a/93/2v/Y/+L/3P/Z/97/4//m/+P/5P/i/+X/6P/k/+P/4//g/+P/5P/l/+T/4f/p/+X/4P/t/+v/6P/j/+f/6P/k/+v/5f/t/+3/7v/w/+3/7v/s/+v/7//w/+n/6f/m/+L/4v/n/+H/3v/h/+P/5//h/9z/4v/h/+H/3f/c/97/4f/e/9//5P/d/93/3//g/+v/5//o/+r/6P/v/+3/7P/m/+P/5v/m/+T/3P/i/+L/4//k/+T/5v/j/97/4//j/+L/3f/e/+T/3f/e/+P/4P/Z/9v/2//W/9X/1//U/8v/zP/S/8z/y//P/83/zf/O/8j/zv/V/9L/0f/U/9z/2//e/9f/0f/W/9b/1//a/9X/1P/T/9j/2f/W/9P/1P/X/9T/z//N/8z/zv/S/9D/zP/O/9b/1//U/87/1//T/8//0v/O/8j/x//J/8b/xP/G/83/yf/E/8v/zf/L/8b/zv/M/8T/yP/B/8H/y//I/8b/yf/I/8v/yP/K/8r/zf/S/9P/0P/R/9L/zv/L/8j/x//I/8P/yf/D/8f/y//O/8j/yP/J/8L/x//N/8j/yv/N/8j/0P/W/9f/2v/Y/9P/2f/c/9v/0//W/9z/2P/R/9X/1f/R/83/0//S/87/0//V/9X/1f/S/87/0P/T/9P/0P/O/9X/1//b/9n/2f/Y/9f/2f/Y/9j/1//a/9r/1//Q/8r/0P/P/83/0v/R/9P/1P/X/9b/0//V/9P/0v/N/87/0P/P/9P/2f/b/9z/3f/f/93/4v/c/9P/3P/a/9j/1P/U/9P/0P/U/9z/1//Y/+L/1v/Y/9z/1f/W/9j/2P/U/8//2f/b/9j/2v/b/9//3P/e/93/2f/b/9v/2v/X/9b/2v/a/9r/2v/j/+L/4P/j/+X/6f/j/+D/4f/g/97/4P/q/+j/6P/v/+3/7f/n/93/4v/l/+T/3//c/+D/3f/h/9//3//n/+X/3//g/93/3v/e/93/3P/Z/9j/3v/g/93/4P/i/+H/3P/f/+L/4//i/+T/5v/m/+j/7P/t/+3/8v/z//T/9v/w/+z/8P/x//L/9f/4//3/+v/+//7/+P/8//3//f/8//z/+P/2//r/+//5//r//f/6//3/+v/9//3/+P/2//z//f/4//f/+P8BAPv/+v/8//r/9//3//n/9//0//T/9//2//n//f/7//r/AAABAAUACgAMAA8ADgALAA0ADQAOABAADgALAAwADgAKAA0AEgAQAAsACgATABIAEgAMAAcADAAKAA0ACwANAA0ADQAOABEADQALAA0ACgANAAsADAANAAoACgALAAoADAAOAA8AEAAKAA0ADgAHAAUACAAGAAUABQAAAP3/AAABAAIADAAKAAsAHAAVABYAHQAfACQAJQAlACMAIwAiABoAIQAiACMAIQAkACQAGQAZABkAHAAfAB8AHwAZABsAHgAbABgAFgAXABkAGwAdAB0AHgAgACAAHwAWABoAFgAcACAAGAAaABcAEAAVABIAFQAXABEADwAMAAwADwAQAA4ADAANABEADQANAA0ACwANAA8ADAAOAA4ADgARABUADwARABgAGAATABUAHAAdABwAHQAfABwAHwAgAB8AIgAkACAAHQAgABoAHwAlACMAHwAmAB4AHAAcACAAHQAZACAAHQAkACgAJwArACYAGwAgACEAHQAgABsAGgAeABwAGgAhACUAJQAhAB0AGQAVABMAEAAQABEADwAMABEAGAASABEAEwAQAAkADAANAAsACQAIABAADwANABUADgAQABkAGAAXABYAFgASABcAFwAQABUAFQAWABUAFQARAA0AFgAUABYAGAAUABUAGwAaAB0AHQAbACMAHQAZABwAFQAWACAAIAAdABkAHAAeABkAHAAfABkAHAAVABAAFQANABQAGAAYAB8AHgAcAB4AHgAcABwAFAATABIADwAPAA4AFQAVABMAFwAaABYAEwAXABIADwAVAA4ACAARAAUA6f8YABwACAAeABUAEQAhABYAAwANABQADwAcABgAGAAbACEAHwAkACkAHgAbABwAFAAgACIAFgAiACUAJgAoACUAHAAjAML/CgBEAOz/JwAEAAAAMwA1ABcAFgAXAB4AJQAcAAYAFwAQACUAFQAeABUAIwA3ACIAIgA3ACQAJQAnABsAEgAcABMAGQATABIADwAUABUAIQAmACMAJAAtAB4AIgAkACIAIQAbABkAGwAcABsAFgATABsAGgAaABgAFgARAA0AEwASAAwADgAOABIAFAASABIAHgAVABoAIQAbABsAGgAUABMAFAAYAB4AGgAZAB0AFgAOAA0AEAAFAAkACQAGAAwADAAIABEADgAPABIAEgAXABIACwARAA0ADQAYABAAHAAjAB8AJAAeABsAGQALAAkACgAFAAUACwARABMACgATABkAFQAVABYAEQAHAAcACQACAAAAAwAHAAoAEgAWABYAGQAeAB0ADwAFAAgACAAHABEACgAHABcAFwASABsAIAAkAB8AHwAjABkAIAAeACAAJAAhACMAHwAgACEAHwAaABgAFgATABIADwASABMADgASABUAFAAVAA4ACwAIAAQABwAJAAYADgANABEAHAAYAB0AIQAVABsAIgATABIAFQASABMAHAAcABsAHwAnACYAJAAmACQAHgAcABsAGAAaABsAFAAWAB4AGgAfAB4AFQAcABwAGwAfABgAFgAgABsAGAAhABwAGQAYABgAGgATAAwAEQAMAA8AGQAeAB0AIAAbABUAGgAVABMAFAANAAoACgAFAP7/BgAUABkAHQAkACsAKQAnABsAGAATAAsAAgADAAkABwASABgAHQAlACcALwArACgAJwAhABgAEQAQAAwACwAKABMAHQAgACYAJQAqACYAIAAnACQAHwAfABsAFwAfACQALAAuADcANwAzADYALQArACYAIQAjABoAEwAWABUADgAJAA4AEgAQAA4ACAAKAAoACAAJAA0ACwAMAAoABwAJAA0AEAAZABgAHAAbACAAIgAkACMAIQAfABsAHgAfAB4AFwAUABkAGwAaAB8AIQAnACwALQAyADUAMwA1ADAALAAtACYALgAtACwALQApACsAJQAhACIAGAATABIAEQASABIAEgAQABEAEQAQABQAEgAWABgAHAAqADAANQA1ADkAOwA2ADIALQAvACoAIwAlACIAIAAcACAAGgASABoAEgAUABMACgANAAsADAAHAA4AFQAZACAAHAAdACQAHwAfABsAHAAcABQAFwAYABQAFQAWABUAGgAXABsAFwAaABkAGwAqACsAKwAnACYAJgAlACIAIwAkACIAJAAsAC0AKAAiACYAKwArAC0AKgAmACQAGQAaAA8ACAACAP//BQAIAA4AFgASABQAIAAbAB8AHwAeACQAGgAVABsAGgAYAB0AJQAmADEANAArACQAHwAaABsAFAAGAAsACgANABkAIQAgAB4AIAAiACIAHwAaAA8AEQATAAsADAAJAA4AEAAPAB4AJgAtAC8AKgAuACgAJgAfABEAFQAPAAgADwAPABUAEgAPABUAEwAVABkAHAAbABcAIAAeABsAGwAeABsAGwAlACkALgAvACwAJwAkAB8AGgAdACMAGwAkAC0AJwAiACQAIgAjACQAHAAUABMAGAAQABMADwABABYAHgAUABkAIAASABQAEAALAAcABAAFAAUADgAcACYAJAAeAB4AIQAcABkAEgAJAAQABwACAAQAFAAUABMAKQAvADEAMgAxACUAHAAUAAAA9//0/+//9//8//7/AQAJAA4AEQAUABIADgARABUACQALAAcABQAMAAsAEwAXAB4AIQAjAC4AKgAyADkANAAsACAAIgAgACAAIQAdABkAIwAoADcAPAA7AD4ANwAyADUALwAdABwAIQAZABkAJwAlACcALgAkACcAKQAnACoAJwAlADEANQAuADcAPwA2ADIAPAA4ADYAPgAwACcAMwAyACwANgA3ACwAMQA4ADEALgAoABYACAD+//v/+P8KAAYAAQAMAAoAEwAbABgADwALAAsACwAOABEADAAHABUAFgARABkAGAATABgAEQAIAAYA9v/m/9j/0P/N/8v/zf/L/9L/zv/W/+f/8f/0//j////8/wcAEgAHAAEACAAFAAkADAADAAAABwAIAAMABAAEAAMAAgAHAAwAEwAbACAAIgAmACoAJAAqAC0AKQAtACcAKQA0ADAAKAAiACIAIAAdABMACgD///P/5//h/9n/2P/j/+T/5P/q/+z/5//l/+X/2//h/9f/zf/S/9r/4f/y/wEACQAfADMANAA2AEQAPQA4ADsAOAAtAC8ANgA1ADcASQBOAE8AXwBiAFkAXABhAFoATgBQAEQALgAzADYALQAtADIANgAxACoAKQAnACUAHAASAP//8v/m/9n/0//P/9L/z//F/8r/z//J/8n/wf+4/6v/p/+s/6L/nP+i/5f/jv+W/5z/nv+i/63/sf+9/8n/zP/b/+T/7P/5////BQAUABQACQAMABMACgARAB8AIwAwAEkAUgBTAFsAVQBOAEsAOQA0ACsAGAATABoAEgAXACYAKwApADoASgBFAEMAQwAwACEAIgAZAAcACgAIAP7/+/////////8EABQAGAAUABsAGAAMAPb/6//h/8r/vf+w/6r/pP+i/5z/kf+O/5T/if98/33/av9R/1b/Vv9H/0z/WP9Y/2v/h/+V/6v/uv++/8z/3P/i//n/DgAYADAASQBcAG8AfgCCAIgAjACHAIcAiwB/AIAAjgCTAJkAtQC5AL0A2ADaANYA8gAAAf4ABQEOAQEB/wAGAfcA7wD0AO0A3gDfANIAwQDFAK8AmwCKAGYASQA3ABoA6//Z/8n/qf+f/5T/cv9l/17/PP8S//j+3/64/qb+lv55/mz+Xf5a/l3+Xv5h/mf+Yf5e/lv+Xv5a/mT+cP5w/n3+mP62/tP++v4r/1L/e/+2/+f/DQA8AHYAmwDMABUBRwF8AcoBCQJKAo0CywL/AikDVgN7A4wDowOiA5kDpAOQA3YDagNHAyAD+gLMApkCbQI+Av0B0gGuAWwBPQEdAekAqQB3AD0A/P/K/5b/Yf8r//P+r/5x/ij+0/2X/VT99fys/Gf8D/y3+2n7EPun+kv68vl7+Rf5t/g/+M73Y/cE9532SvYI9v31LvZ39vz24vfc+ND5H/ud/OL9MP+gAPEBFQM7BG4FbQZJB0IINQn7Cb4KiQsSDF4MnAyxDHcMDAx/C7wK3AkACTUIXAeYBuIFOwWuBEME5AOYA1IDDAPbAq0CbQIpAvkBvgF9AVsBKwHlAKwAbgALAKX/QP+b/tf9AP35++H6y/me+Gb3PfYd9RH0N/Nz8rTxIvGT8PvvcO9n73rvke8l8DrxZPLL8+X1Kfg4+pb8Kf9pAWsDigVaB7YIBQooCxoM9wyhDTUOxg4WDzIPXw88D4MO4Q0IDaoLTQoHCXYH2QWTBGgDTQKCARwBuwChALYA/ABVAakB6wFFAm0ChAKuArICqAKoAq4CmAKAAm0CQALuAZABHwGCAL3/5v7q/bL8W/sP+rH4NPff9cD0pPO48hvykfEB8Y/wJ/CE7+Hu2e7D7qTuQO978HzxDPN/9bD31Pl7/CL/MwFYA2UF5gY1CIUJagpMCzwM5QyMDVAOvA7wDkEPHw9pDrkN0gxKC80Jbgi7Bh8F4gO9ArIBLAHgALsA1gAqAYgB9gFdAqQC+AItAzQDYgOTA5EDowPfA/kD7AP+A/UDrgNJA8sCEQIZAfv/rv4r/aH7FfqL+Pn2ePUW9NPytvG28NLv8+4I7jLtO+x+6y/r+eoX6/PrUe3E7uzwy/Nc9iX5W/w8/64BVQSmBkkI7wmRC5gMvw0MD+APqhCiES4SZBKgElkSdhF/ECYPSQ1pC3EJWwdkBboDRAIRAVAAw/+E/4L/n/8CAGcAqgADAWUBlwHFAScCaAKMAvkCZAOiA/YDUwRfBEEEGwSoA+YCEwLhAIP/Dv5l/LH6Gfli96b1GfSE8v/wyO+Z7kLtHuz76sPpI+nr6K7oFOl66s3reu1W8F7z+PU9+cz8iP9JAk0FmgdkCXULDA1LDscPGBHtEeMSuxMAFCkUKBRcEysS4hD5DrQMlwpVCOwF1wMDAlsAIv9B/pv9Uv06/TX9g/3i/S3+lf4N/47/GADJAHMBLQL7AqMDTwT4BFEFigWoBXsF7QRKBGoDJQLbAHr/yv0x/Jv66fgv93f1v/MG8mHwxu407afrC+qI6Jvn4eZp5pfmm+fx6K3qVe148IDz6PaK+tj9ygDqA8EG7ggKCw0Nsw5HEOURRhNtFJEVVhbAFu8WkxaHFTMUdBIhEKwNRQufCAIG4AP7ATMACP86/ob9HP0P/fH84vwn/Vv9h/0I/pb+Lv8fACcBEAIfA1MEKgX/BeIGNgckByQHugbABdoE0gNIAscAgv/U/ST8ovrR+NX2C/Uu8xHxQu+Q7Z7r+Olm6B3nSubZ5cvleebl55rpGOxh76zyEPbV+V79fwCUA3gGtgjOCtwMhA42EPoRbxPQFDYWJxe4FwQYwxetFkYVZRPUEC4OfQuOCL4FaQNZAYj/O/5F/Xr8CPyy+3P7X/tG+0P7afu7+y383vzm/Q7/awDdAU0DsgTuBe0GqgcNCPsHlAcDBxAG3QS/A3kCCQGj/zP+jfzM+gH5BffZ9KnyaPA97jTsH+pP6IvmUOV/5B7kWeRm5RDnLOkT7LLvJPPL9qD6Nf5ZAYAEagfHCfcLLQ4REAoSEBTFFVsX0hjMGUMaYRrMGVIYfxYyFDoRQQ5MC1EIiAU+A1QBqP9s/nT9j/z5+2v76/qc+l36Jfou+pr6HPsH/Fb9wP5OADMCBgSoBR0HXQgECVgJcwn+CEAIcgdQBhsF+gPMAm4BBgCI/sT80vrG+Ej2svM58bHuLezZ6Y3nXeX44yjjseId43PkIOZD6EPrw+4U8r31fvnV/Pj/EQMDBqUILgu2DRAQbBLZFO0WyRhaGmMbwhuKG78aPBkaF6EU0hHUDtML/ghSBugD1QH3/1f+/vy1+4L6hPmc+Nn3X/cs9zL3mPdr+IL58Pq5/If+aABfAigEiwXhBusHTgh+CJkIJghzB+UGHwYCBQIE9gJ0AcP//v3U+1/52fYc9E7x0O5w7Bzq+ufF5frj8+JP4griteI55OnlS+jA6x7vf/JA9gz6S/2dAO0D2AZ3CUsM0A4xEbITDhbyF7UZFhvLG+AbfRteGogYShbFE9oQ0A3xChsIYgUVAxEBEv9c/fH7kvpJ+V/4i/fI9mv2ffai9k73Xfio+TD7Bv3t/skArAJUBKgF+Qb7B58IOwmaCYMJQQn1CEcIRgczBsIE7QIBAd/+f/wQ+oj31/Q88s3vXO0s6zTpE+ft5JfjheKs4bnhvuI95HXmvel17Q7x5vTB+FT8jP+9AqwFUAjnCogNFRC1EmkVxxfUGYYbkBy9HFocShtWGcQWCRQaER0OOQu7CFAG9gPvARcAN/5//M76NfnF96/25PV89bT1TPYo95f4Yfot/P39+P/IAUQDvQQHBh4H8wfmCMEJfwoZC48LngtVC4cKTwmSB3wFBwNZALD9Lful+DP2yPN48VHvQu0G673odeZ35MLig+Hg4CThieKw5HvnO+ta7zPz2vZ/+sf9qQB6A1AGAwnVC8gO3BH4FO0XZhpLHIgd7R1nHUQcdhoJGGAVsRISEIcNEwvJCIQGHgS/AWf/9fx1+kL4Wfa49MvzjPPM85L0zPU997X4R/rh+0j9pf4IAGgB4wKDBC8GBAidCQMLMQzvDOwMgAyjCyYKKwhhBmAEJAITAD7+J/zm+Yb34PT98R7vL+xd6bzmF+T/4engJuC836jgjOKS5CHnpeoW7kbxn/QR+Ef7of4HAosFRgkEDX4QEhRuFxIaAhxhHf8d0x0CHcwbSRpXGCAW9BO2ER0PYgysCZEGQwMjAB39NfrT9wX2oPTL85/zwfM/9P70wfWv9uH3Ivly+iP8Av7j/xUCggSiBmQI9wlrCxwMbQyoDLAMEQxlC84KuQkYCHgGdQTjAS3/pvzJ+c72xvO18MrteetG6SjnPOVT49nh4uBm4GPgwOEf5Mvm/ukj7gLyhfUZ+cX8AABMA8cGZwoDDrURPhWjGJUbrB0RH6sfgh+nHngd+hs0GiQYHBbeE10RhA6NC0sImQQSASv+OfvA+B73C/YS9bX08fT59AP1jPUr9uv2Ofjh+cf79v1iAKAC2wTaBi4IIgldCg8LZwv8C30MMAyfCwoLygmTB2kFAgMhAEr9sfrC92r0PfFR7mLrtOg05pTj7eAT3w/edd1q3efeaeHt4+Lmz+q27rnx8PT7+MP8OwCWBGAJnQ2PEaYVCxloGzQdYB6/HsUedx66HcccmBuvGWkXMhU9EioOQQrgBhkDev8N/Rj7wvjm9vH1y/Ru897yyfKV8tjyGPSv9Vf3dPmh+6P9lP9uAQYDpQQ2BnIH+wjpCjcMsQxDDXENMwyZCpoJ8wdiBX0DKALs/zP9yvq998fzE/Dg7KTpv+Zj5APic+AP4Ivfz97b327iPOTD5WTpw+2O8IbzfPh//eEArAT7CaoOwhEdFSsZJBy8HU0fHCH2IaghHSGFICAftRw0GvgXGxVBEYANbgpRB6cDZQD+/ar7JPkg99/12vTD8yjzVPPx84b0Z/Xo9rv4Pfqy+6T9uv9oAe4C5AQGB5kIzQnwCqcLqws6C64K4AmpCEMHyAUbBBwCev9N/P/4yPV68gvv7OtB6U/mZON94bPgG+Cy33DggOJw5Njl1efV6hjuPvHT9BX5gv2+AdEFrwlKDagQrRMkFjwYUxowHE4dmR1SHawcnBsFGusXXhWdEtMP5AyvCVUGEAP0/xD9hfp0+OL2qPXc9GX0J/Tr8/zzavRH9SX28/Ym+Gz5c/pU+8T7FPy0/ET9nP2m/Wz9fv2U/Yb9Pv0g/VP9Yf25/Qn+P/7S/kv/ov/F/6//wf/C/8v/vP8DAFMA3ABIAY0BnAF9AUwBOgFfAaMBAAJmAr8CAAMYAwYD4gLQAt0CHAN0A8MD6wPkA8QDkQNtA2EDcQOdA8wD8QMMBBQEAAThA9AD3AMDBD8EcwSQBI4EeQRmBFQEUQRWBF4EawRiBE8EJgTuA7ADcQNIAx8D9gLKAoACKwLWAXgBJAHXAIsAOQDt/5z/Q//p/pb+Rf4L/tz9vP2X/XT9Uv0k/fj80/y4/K78tPzA/Mn8zfzK/Lv8pvyE/Gn8Tfwn/O77pPtu+377zfsr/F78Lfy1+zb7BPtE++D7lfwu/aP9+v03/lb+ff7c/or/mQDFAaMCBAPnApkCfgLcAp4DZwTlBPgErQQ5BMgDYwM3A14DxgNEBHAEGASKA+gCjgK7AiEDYwNtAy4DrgJFAhkC3gHxASsDuQW1B2AH7gTCAfr/4v9mAIwArv+H/sL9Hf0a/Ir7oPtt/GL9Yf1v/AD79/kn+nv6uPq5+gD6jPnk+OT3w/bs9dv12PYc+Bj5xPiS94T2TPYt98v4Yvpy+wX8pPw7/fL91/77/3YBNQP5BGcGGgdHB1YH2gfnCCgKDQtCC9oKPArLCYMJQwneCHEIFgjNB5cHdQcTB3oGdwYxB5UH5AYPBscF+AV6BckExgPJAuMBEgFYAMH/rP+s/xH/+P0D/W780vww/ZX9FP2D/Mz8Vvwx/Jv8dfzA/ND8m/zz+1D6Svkn+XD49PbJ9dP04fLq8BLv+O3G7i7wBPE08FnuaO1I7qbwfvOI9Vn2rfbE9/L5Vvy1/k4BwgP0BeEHnwknC3oMqQ3mDmcQ6hHNEpMSphHaEKAQmRAzEGEPLA6LDOAKiAmhCMMHpQaDBWwEcQO8Au8B4QDU/3j/uf/j/5X/Nv9V/3n/d/+8/z8AwAAbAWQBBgLSAg4DmwJ6AqACxwKiAhACRgExACH/Cf7K/DH7W/km9wj1HPPV8LTtBOve6WPqX+tH69TpPugL6DjpKevR7bDw0vJU9Bj21fgb/Fv/UwJsBfIIUwzeDnoQ/hEtFJIWDRiXGIYYaxg2GLQXwxYjFQETChFYD6wNrQsqCW4G6QMzAkMByv+Z/dj7sfro+Rj5/fhH+V/5Nflq+Yb68Pvj/J79mP6//9wAyQGxAlQDbgMuAx8D6gJiAjoBKP/d/Jr6PPiv9ePya+8e6zvo/ujU6m7pyuXk433kYOX65pfqvO0R7irum/Hm9vD6x/1+AZMFEAmUDNMQlxT9FtgY2xqnHAceTR+WH2QethyxGzwa+Bf5FScU/hBSDcMKmgiaBcMCGAEq/4f8j/ql+a/4wfeD9533xfeY+Nj5v/qp+yH9YP5G/84AwQKEA0sDnQNEBPMDDwMbAh8A1vz++Tv4lPUp8dnrPeiG6GTrTetb5ubhrOEb4yrlzOkG7hLtyeqP7vv1ufqE/cgBcgWkB9oLZBL8FjoYshliHFwetB9gIQgiaCDNHZEcrxt4GeIWRBTbEPUM9wmwB/MEDAL0/5n95vof+fT37fZ39qr2y/bi9sn3IvkY+rP7wf31/uX/ewECA5wD6QOYBI0EmgN3Al8AMv1F+ib4WfXM8Jbqmubj54frPuqg46nfP+Az4bTj4+k27dPpBuiY7m/29flQ/SACoQQIB7QNTxVpGIUYaxrkHXYgJiJyI0wj+CDIHd4c2xwXGscVthLlD54L0wfnBSQDD/+v/Eb7tPgb9jL1y/Tz8/vzKfXd9ST2YPdy+Ub7oPwZ/sj/BgHAAXUCJgMgA4ACZQHV/lj7sfjh9njz6u1r5zrlE+ju6jrn7t833ZzeVOC45H/qWuoZ5obnfvAo9xT64/2YAXoDUgiJEKoW5xe/FzAakx4NIiMj6CI5IuUfvhz5HDodxRiiE9oRXQ/iCWcGkQUQAo79kvyF++D3L/Vw9ZX1vPQH9Qr2Vfbq9pf4L/tr/SL+7v76AJ8C9wKKA0EEewMeAi0BcP77+Zz3BvZZ8bzpzOW06NTrUelk4n/e595e4CHkgeqZ69nmwOYW7+T2s/kN/VEBNwPkBngPbxYHGL4XqhnPHeIhxyNVI1siKiFBHu0cfR1tGtIUORLLELQLewY0BSkDw/7P/Oz7kvgk9f/02/Wi9X/1bvVx9e72OPk1+wv99/0p/t7//QLfA/sCQANrAxEC3P9b/XT6Xvdx9KnvUuij59jsSO6R51jg9N8v4iHkaun97abqdeae63r2Avu/+2X/FAN+BWMM+xRpGFcXJhgvHIQgSiTCJPUi2iE9IRgfNx5pHbgZ7RTdEuMQYgsgB3kGKwQXAGz+nPxp+ff2L/hL+cD3ZfbP9ib4Vfri+2D9J/6//W7/xAKPBFYDSQK2Am8CgAAf/n/7GvhJ9D3w4OlC6avuR/DR6IngduFC5VHmpOol72PrGefi7FL49/tI+9D+5AJVBZoL9BNvFzgWTBZMGkAedCEyIw0irR9dHhIdcxxoG7oYmRT6EH4OvgoYB+QF8wP5/1j9b/uH+e/3Ovg++MP2lPXF9u73TvmG+kj7Afxu/Cr+uwCAAZQABQANAOr/c/3j+hr4iPSD8Yrs7+bE6RXw4e0B43XeteMw5u3mcuwZ7uznhudo8mr7efpy+oL/XgOqBhgOfRScFN8T3xb9GggdQB4+IWchqx1wG1wbOBviGHMWkBRQDzIKOgnpCOkF6wGQ/2T9cfoD+q/6Zfn49in2B/cA+P34lPny+XL6CPuJ/IP+Tv+z/iv+fv4x/lD8x/kj94T0DPJp7WLmxedX8MfwYeV53lrjo+fm5/fsM/DM6e3mhPGE/ED8R/qp/o0DRQaJDGgTpRRGE04VFxqDHC0cTB3DHswexxz1GUsZ7xfMFWUU9xHuDNgH/gaECJ8FHQHN/lL8WPo9+7j82/qq93v3Avm9+Sn7x/st+xj7c/wV/jn/Gf9P/k/9aP2o/C35HvZe9CHx7Ov75c3oefCf7jXkvN574wjoVuh27NbuQOly6KLyJvxo+375pf43BOAGLQwKEkoTehLSFWMbKhzFGoocdx/mHbQbBxsMGnwXBxaHFbQR6Qt6CT8JJAhpBQ4C3P8Q/aP79vsV/Fn65/gj+b751vis+Wr7fPvi+p/7XP2j/Xb9sv3o/If7Efqb94/0yfE070rpoeTH63zyJuvc3inf3edF6cvobO6o7UbnuusS+eL94fhn+lMCMwZ5CO4OLxN7Et4SIRfTGhAcUhwbHVIdCBxwGhAZTBnkGI8VyxGWDj0Ljwl8CSsIswOt/xX/dP4d/T/8evtl+ZD4Qvpo+5z6D/qW+kP7yPu4/Cv+Av5P/c78jPwf/LX5fPZN9Efxbu1p583kE+2f8RvpYN2D3sfncOkI6QnuQuyi5oHs9fnE/T74yvp3A9EGpQhiD9QTJxPQE/kXhhoDG9scNR+WHokb+hlaGfEYRhjJFjcTbA0kCcEJggqrBx4DFQAx/oH8QP2o/YL67/et+On6efoM+Vr6Lvsq+/n7yvyE/YT9//2d/rD8y/qE+Zn3APXx8WbuveeY43XsHPNF6gTdG94n6FTpmui07bbspuYu7If5cP2k94b6wQNnB18IJw5lE6kTmBRFGHAaPBp3G1AeJSDSHmIbPxcRFwoaKRnTExEOeQroCIsJKgr8BQD/4/wq/of+AP0Z+yn5z/fR+Fj7Uvu0+Vz5nvpu/Lf8Af3e/d39K/3g/IT8kfrv9qD0JfPP72TppuJi6VTzFO613mzbd+aq6n3njewb70rnUugO91P/h/i+978CLgjtBsgLlxN0FJITaxf2GmEaHxtCHukgLh+cGqEXYBhPGu8YJxSSD8IKBQgkCskKLQUO/zL+Vv7l/Ib8F/yL+W33L/mq+zr6UvnN+tr7dPxK/H797/4k/jv+kP4L/df6XPiV9u/z0u9q66fkUOYX8OHvMeJ/2l/iiOnz5tPoou0H6dzmuPEq/BH5bvZ7/2gH6wZWCbsQBxQyFGQX3RoeGhYahB+VI1UfMhnVGCMcgBuGF2AVXRLVC14J4AtYCnwDJADgAXz/d/o6++38nPlv98z45/kq+Rb6b/yR+1n6g/zS/s//s//U/sj+zP4q/mr87/gT9sHzo/Dp6q/kIuhu8KLtzOAM3LziwOf15u7pRexn53/nnPK9+t73m/cAAJAGhgbjCZcQtxOBFCgY8RouGgockSDzIbEeqxt9G/saHhovGWcVQxF6Dr0LegmkB70FzALs/07+F/yS+lH7P/uO+B73k/jk+Yn6rvur+zr7SPz1/lcAmP9h/8P/e/9+/xD+H/q19gT1bvM27h7mSuYP7kjw/uWo3NHfleYg55zovuv76AXmze2r+IL4pfUH/MAEMgYwBycN8hFjE8QWbRojGoEa7h2iIa8gcx2RGxcbERtTGpQXNxRBEGQMHQt+Cq8HrQP0AYkASf0z+zb8cvuo+Eb4Rfn0+PL45vqL+7v6dvvD/Sv+R/4a/y7/eP5y/nj9PfrW9h71dPP+7ibo7OZN7d/waOic3mDgIefN53voJ+yq6ojmaOyL92z4xfRx+mUD8wQSBe8K1A/JECgU5hgHGYsYYRt+H0IfyBw6G7IaqxptGpgXSBTaES0PMQ1mCzUJAgYPBCYD2QCj/QL9+fx3+7f67fpZ+jb5e/oe/Pb7Vvuu/Ff9O/2s/Rv+ef26/HH8KPqw9jH0PPMj8CLqKeis7EfwCeu64kXie+cZ6bPpuOz07LrpAuws9fX4HPaP+LYACwR9AyYHrgxbDg8QyhT7FpkV9xWuGp4cuRpSGRYZMxg+F7UWlRV4Ev4OKA4TDcgKHwiGBjYFDQPKAKD/v/7A/TD9j/zJ+wf7NPvK+3L8evxT/G383fwU/fT8zvyt/Av8qfrC+CP2TPRX8xfxnO3b7TrxyfGA7DfpQ+ts7bPt6O8c8oDw8u6w8iv4ovhs+Pb70v+CAN4BYQV/BxYILgrjDTAPLQ4hDnEQMxI8EmUR0xBFEEYPEg9PD/UNWwseCvYJ1wjHBqgFCwVdA7QBJgFiAA7/rf6e/gP+DP3y/Bz9lfxr/A/9/fyB/KH8Jf3P/Fv8TvwM/I37u/oq+kL5/feJ9wH32/Vz9Un2pvaL9Yr0o/Q39TX1APYi9yD34PaD9w757flR+mb78PzE/Xf+r/+jAEQB+gFHA2gEoATtBPYFaQZuBroGRQd+ByIH4gb3BqgGJgYwBtYFGwVrBAwE6QN3A9sCmgIhAnQBNQEBAcoAfwATAOn/tv9T/zn/UP82/xL/2/6a/on+Uf4U/gH+vP1l/fD86Px9/AL8sPtQ++v6hfpL+ur5hPkT+Sn5YvkJ+cn4pfiT+Ib44Pgw+Wb5j/nU+Xr6AvuA+y783/xk/RT+1v59/wQAhgA0AdMBMAKDAuQCQQOuA/MDBwT/AxoESgRgBG4EhgSVBIsEqgTEBL8EtASjBLEErwSKBGQETAQlBBME2AOCA18DHAPeArYCXQIUAtABiAFhAf8ArACEADcA+//H/2n/Bv/k/rT++v6k/nT9vP1v/rb98fwY/U79AP2e/I/8sfyr/G78Yfx3/HX8O/yF/OD8rfzL/Dr9cf2U/f/9X/6b/vD+bf/D/wgAdgDdAEYBmwH0AU4CmQLYAiMDawOjA9sDDgQuBFgEegSWBLUExwTQBMEEqgSoBKAEgwRqBEoEHATqA7sDiwNkAzAD+gLIAoQCNgL9AeYBpgFuAU4BEQHXALoAkgB9AFwAKQAkABcA1//m/87/k/+g/3b/Yf9P/0P/Gf/+/u3+p/6H/oH+Tf4m/jj+Iv78/db9rf21/cr90/3z/Rf+Hf5A/nH+sf7Q/gT/eP+7/+H/PACOAK0A8gBFAXMBlAG/AesBCwIdAkMCVQJZAmcCbgJ7AocCiAJ/AoAChAJ4Am0CdwJnAk8CVgJZAjACJgIuAhACCAIAAuYBxwGxAZ8BjQFpAUUBMgEMAd8AwwCkAHsAWQAyAAgA4v+3/43/cP9R/zH/Hf8L//r+8f7p/t/+4/7j/uj+8P74/v7+EP8j/yz/O/9G/07/Uv9h/27/Xf9b/2n/Zf9Y/0//Sf8+/zT/OP84/yT/Kv89/0X/RP9P/2T/ev+V/6v/xP/W//D/EgAvAD8AVQBiAIsAqwCWAMAA+wDkAOQAGAEYAQsBHQEYAQkBEgH+AOIA5ADRALkAtwCnAI4AfwB6AHgAbwBqAFgAVABSAEwAQAA5AC8ALAAlABcAEwADAPb/7f/g/83/vf+x/6D/lP+B/27/Xv9M/zf/MP8k/xL/BP/5/vP+5f7X/tr+1/7Y/uH+2f7f/vT++v4K/xD/B/8+/13/X/91/4v/nv+t/7n/xP/U/9L/2f/e/9j/1P/R/9D/0P/F/7z/uP+8/7j/u//A/8b/zv/J/83/2//k/+n/7f/6/wEAAgANABMAFwAZABYAFQAUABMADQD9//v/8v/o/+D/0//F/7//uf+x/6r/pP+e/4r/3v/n/37/b/90/3D/fv94/3z/if+J/57/pf+g/7T/r/+v/8X/xv/O/9b/1P/W/9T/zP/T/8r/vv+6/7H/pv+a/5L/k/+X/5D/kf+T/5H/if+A/3z/e/99/4T/kv+V/5X/o/+u/7X/wP+//8D/z//Z/9r/4P/j/+v/7f/t//H/7P/k/+H/4P/b/9X/zP/C/8X/vP+1/6//o/+f/6H/of+t/7T/tP++/8X/z//Y/+D/9P/7//7/DgAMAA8AGgAWABIADgARAAkAAQD5/+3/4f/W/8z/x/+7/7n/tv+t/7P/s/+r/7b/3/+v/6j/yf+8/8v/zf/L/9n/2f/i/+L/3//h/9z/1P/Z/97/0//d/9j/0//a/8b/wP/C/7j/s/+q/67/r/+q/6L/n/+d/57/pP+g/63/s/+w/7T/vf/K/9D/2f/e/9//5v/q/+3/7P/r/+f/6v/p/+b/6P/d/9b/0//Q/8z/xP+//7v/uf/B/77/uf/D/8b/w//O/9T/2f/d/97/5f/s//D/7v/1//T/8//y/+7/6f/q/+3/7P/o/+v/4v/Z/+H/1//T/9z/zP/L/87/u/++/8D/qf+x/7P/pv+u/6//s/+//7L/w//G/77/1P/Z/93/6f/i/+X/8v/5//r/7f/5//b/7P/z//P/6v/p/+L/1v/a/9P/zP/R/83/y//M/8z/0f/X/9z/4v/j/+b/6//n//H/8v/y//P/7f/x/+//7f/z//L/9f/1/+//9v/6//X/8P/q/+z/7v/l/+D/4//Z/9v/4//V/9T/5//b/9b/4v/b/9//7v/n/+D/7//u/+//9f/u//T/+//1//T/9v/v/+b/5//o/9r/2v/p/9v/2P/h/9D/zP/b/9L/yf/V/9z/3v/z//b/8//6//L/7f8ZAAIA//8IAPn/8v/z//P/JQAyANj/yv8IAN//wP/8/+P/wv/r/9f/x//Y/9D/mv98/47/jv+n/8//0//q/+L/6v89Aa8B/gAMAbUAdwCcAEkAHgBTABEACgAEAPb//v/g/9n/yP++/6//i/+q/7P/jf+U/5//gf+L/4H/nv+X/4r/wf+m/47/zv+p/6T/DADA/8L/AQCs/93/FADW//3/HgDw/xAA+//g/yIABQAWACYA8P/7/xIADwAoABkAAgA3ACQAIABAABkAMABXACAAMABTACMAHwAvAB0ADAD4/xYANQAAAM7/9v/4/9D/JQAyAAsANgAKAGYAPQI7AzMCdQFUAQMB5gB6AEwA3f92/7n/kv9G/0j/rP/q/yr/Vf/W//P+O/9HAHD/kf/EAH3/xf/iAQQA4f/6AIX/NQAtAPT+df9Q/zT/ev8//w7///5k/07///7x/jP/Wv8N/zr/SP/H/pH+y/5A/zf/Pv/e/u7+df8I/4z+uv9A/9P+m//V/of+J/8U/5z+PP9N/4L+Ef/P/m7+Mv9Z/97+Q//G/5D/x/+S/9r/JQAMAAoApgDdAJH/fQDzAK//YwDMABYAegBcAMX/NgAvAC4AYQDt/8T/VAC1/7r/pQDs/zwAFACe/83/+P+TApcCOAEqAlgCAgIBAnsBtwBDATkAxv8tAIT+HP/r/hr+TgDw/1r/DgCH/lsASgGPAOIAWf9/ABABr/86AUAB/QDKAaUB0QATAP0AwgATAT0BRf8d/wMAk/+qAKf/TP40AHj/Lf+KAB3/eP7T/5b/IP7J/8D/Ff50/yH/e/5w/97+9/61/zX/3P59/8v/of7K/iwAB/8D/ur/b/98/oz/S/+w/uT+Uf/3/o//gf9K/wr/hP4G/y7/0P9EABj/CAAeAbwAXwHxAvoA9gGQAwgBxAFkAe//ZwEEAQ0AZQDE/8X+RgCHAdX/bgA8AcwB7QFQAmkCrwIFA9QD8gOYAigDogIKAsoCugEFAQ8Aef81AQED5AEHACYACQA9/9oApwInAYoAXwAVAfoATf+jAHoB5/+CADEBM/9k/SL+r/6+/bT9Dv0h++75wfm6+Rf5KfeZ9uj2xfSw8+zzf/Pl8pLyRvLZ8dXw6vD08fbzJPYX9/72PvdA+Vb7rv0qAW0D+APdBfIHaAnmCgcNUg/qEBES5xJzEq8RNBHyEacStRFDENQOXAzRChsLNQqCCLQHoQZXBDMDtQK+ASEC2AKcAS4BqQFiABwANwEIAfUA5gDt/27+9fzZ+2z6rflN+PX0Q/Ge7Vzq9Oal5snm6+ad5xznIOa85V/msemm7tvxFPVZ+NL6s/zyANgFmQmyDYUSaBUTF2MYRRk8GqUbDx2wHdwcBxokF+YUmBJnEJEOuwv8B/8EAwLf/t38A/s5+fj4cfor+sD4Lfh0+Aj6Ef1kAIIDfAS7BGUGiAj7COQK6Q4pDw0PdxBmD2UN/QzxCxkKtAhfBlYC+P6++vf0TPBS6w/mGuJs3V/Zuti82ejZc9lN2vrat9xB4U/nw+yw8eb1ovuiAYkGpwtkEd4VERr5HrUi1iM6JPskmCSRJDUkLSGtHM0YFBULEaIMCAjPAm79e/md9nDzKPDm7bfs/Ov86/fsoO1N7p3wsfP89kL6U/1VAJ4DLwcYC9EOaxFbEkYT7RSjFZMVYxXkFAQTrBDxDVsKjwVYAZL9T/kD9K7uPOlb41/dCdgs1qHWndet13DYJdqD25fdJePZ6T3v4/SJ/MkDighmDTcTKBggHGohECc2KhsquiloKTAoniUDIxUgsht8FvsRUQ3VBgkA2Pra9ujyd+/y7H7q0eeS5uPmwuei6FXqaO2g8Pvz/ffn+1f/rwL6Bx0NLxAWEg8UlhViFj4XdRiLF2oVxBPdEVkOrwkuBfYAIfx/9xPzyu1k50LhMdzi1kPUONQ11bXVWtc72tXcTN9L5HDqTPDT9vH+lQY6DHYRyxY2G8QeLiNoJz8qliuVKwsqGyhAJWAhGR0TGVwUFw9vCkAFzv6j+Cn0LPB17GDqOOmm5+zmZedH6ELpIuuE7g/yFva4+kv/uQOHB9MKaQ5YEdcT5RW3F3gYqRe3FnUVvBKcD3UMCwkOBYgAzvto9ivw9ukg5K/e5dgp1WjUjtR51I7VStjH2kvdx+EK6LrtpfM/+18D2gmOD0EVYhrtHb8h/iUPKX0qiypRKvgoxiXhIRgeMxqFFWsQ+QufBnIAFvva9onyVO7M65DqT+m56GbpT+pK6wnt+u8u8172nPpN//MCqwaYCp0Nrg9zEYITGhV0FakVGxVkEyMRiw7GC1oILgRnALr8U/hg8//tauhU4h3dPNhj1NrTL9Vj1vDXtts231/hEeW561DxrPZB/gMHRA1cEgUYphy2Hh4hnyQWJ/8nUCgTKNAlDyIpHisaoxWuEAUMkghJBNH+EvoR9t/x2+0M7Kbrn+qw6qjsT+6P71PxQPQF96T5gP3yAbYF8QijDH8PtBBFEZES3RImErQRbxG5D3INQgt9CKUEzAD9/AX5NPVW8SXtLOjo4kveZdkd1ZHU+dW/17jZf94i46vlFek17/TzRPjk/mMH6w1SE1oZyR3BH0QhICNWJLgkrSSgJGIjkCA3HOEXPBNUDmEJvgVGAuD9gfk39jfzuu8j7ZbsWewx7PPtmPDL8q70pfeo+g39+v+kA9cGvAlmDOMO2hBPEroSThKeEXQQuw47DZoLEAkNBo0DnQDa/Cf5kfWg8bft5OmJ5R3hY90P2SjWodZu2PXZ2dw+4qbmhulo7lz0fvjM/GMDuwoqEHwVDhvgHnwg5SE6I4YjvyIqInshuh/rHHoZqRXtEC8LQAbEAgD/dPoz9zb1f/K7793uae4i7Ujtuu898nT0Y/fw+ub9hwCTA64GLglSC5sN9A9LEc4RlRKrEkgRog9oDlUMVAkAB+AE5gHu/lH8Tvnh9V7yB++967HnL+PZ3+bcP9mo17HYS9qR21Df4eTR6HHs1/HY9vP65/8kBvEL+RAxFrAaIB41IEQhyyHQIewgxx9oHowcjxkoFnISQQ79COwDywCT/VH5HfbG9KzyG/Ca7yfwTe+g7zHy5fTn9hH65P2uAEUDOgYdCW4LYg1RD+8QoBH0EXoSPBJeEHYO+wyeCtwHewUfAxcAPv3b+in4GPUF8vHuSOwL6Tzl2eEA39LbzNju2GfaJdzX3ujj5OjS7B7xl/bT+sf+kwNQCXcOJhP8FxUclx7tH8UgySAEIIoeIh1oG00ZehZpE68PLgsDBqsBsf5J+5T3JvXd8zry5fAT8XXxI/EU8pH0IveI+ar8KgAKA+gFygg9C/4McQ7iDxERghFUEfQQPRDtDhcNPwv9CKcGAgS3AVf/y/wP+rf3PPWc8vnvtO3x6ofnN+So4TnfN9wN29Xbzdw43ijic+dM6xjvrfRb+aH8HAFuBuMKzQ6gE/AXLxunHUIfth99H28eAR2aG+0ZKRdTFKsRPw49CnkGhwID/hT6P/fz9OjysPFO8TjxnfGz8gz0m/Wp9yH66fzq/ysDLQblCGYLaQ0dD4YQIhEKEdcQaxBNDzwOGg0ZC9kIFwfOBOQBZ/8P/Qj6WfdR9eDyPPA67s/rTehO5cfiMOBN3dHbENyB3PPdcuEt5iPqLO5b8yb4q/v5/7YE9gjiDJER6RV7GT0cLh4rH3Ufox5rHT4cZRqbF0QVERMCEGkMtAi4BD8ASvwD+TD22/NC8pnx1PEX8hbzcPTJ9UP3jvk8/K3+eAGrBGIHKArZDO0OPBC/ENQQjhAUEHAPUw4ODZkLCgokCMcFKANLACf9PPqG99r0JvLm77bt0+qq5/LkCOIi33fcBdsB24LbK9214FjlwOk77oDzbvga/GcAOQV2CXYN+RF6FiMa+hx/H8Yg1CAZINQeGh2oGhkY/xViEwoQfAz5CBQFWQA5/NH4ZvW68mHx7/C98DPxo/IY9ID1a/e4+f/7Xv5DAYwElgemClANVw/JEJoRoRFBEc4QCRDODrgNZAxBCvMHrwWyAkj/HPwG+cj16fJx8OLt2+rX5+zkJeJF35Dcldrt2Q/aWdsu3mbi/ubT6w7xbPY4+4b/CgR/CLMM4hBVFWkZvhxYH0gh+SGvIXkgsB6THEcabhdXFFwR7g3hCRkGSALb/bn5jvbO84HxiPB/8K3wmPFf8zf1HPdZ+cD7NP7eAMgD2gbWCYQM5A4cEXoSHRM9E5QSOhG7D/gN4wuqCVwHyAQNAhX/v/tO+ND0IPHC7VXqjuZi46Xg+t1g23/Z29ia2JzZBNx439njvegD7vTzavmp/qADzQg0DXERuxXRGd8crR+9Icsi2CJDIg0hFR84HCcZ7RVKEj8OTAp4BhgCBf6M+kX3UfQx8rXw6e/a78DwJvIE9FH24fjS+7b+pQGkBKwHhAozDXcPXxG7Eo0TiBP6ErYR2w/HDXALqgjPBe8Cnv84/BL5l/Wf8fzt2emf5fXhpt5r26PYodYj1pHWQNjv2ufejOM+6B/uZ/Sd+ej+4gR2CtQPVRU3Gq4dqSAFIxIkXiQTJK4iDyFLH7AcuBljFnsS7w14CdsE+P9z+5f3CvSO8dfv5u6/7kvvjfBN8mz0qPZL+SL8LP+YAkIGZwmaDPQPmhIdFEkVrRW8FE4T4hGcD+YMZgq6B6MEZgEQ/ln6T/Yi8u7tjelK5U3hwN272inY7tUq1VTVpdY12ePenOT06Pft3/Qd+mn+WAR/CqwN5hEdGJ8cJx9UIpYkcSQZJKsjnSGgHsIbCBhyFCsRYw3tCBQF7gCb/AL5LvYK85LwZO8k72vvqfCb8uD0O/cI+k79PAD1AuAF7wjRC3QOMhFdE3cUAxXzFBUUPhLTD0YNbQpGB18EhgEc/pP6P/d88zzv3+qY5jHi7t2R2nnXF9Vz1OvUYdYF2X/dlOKf56PtAPRe+bv+hwQHCsYOyhO5GJ4cGiAeI9gkmCWLJUQkOCLSH+QcRBmWFbMRbw05CQ4FjgBa/HL42fQT8hzwyu5H7sruA/C98TT06PaX+Zr8of+zAuQF/wgFDKsOjxHiEx0VwhWjFYUUjBI5EJkNOgriBgUEyQBM/f35dPaE8kfuyOk85b3gddzH2JbVqdMn0wHUU9aD2UremOMT6TjvvfVa++YAnQYRDMgQ0hWoGnAenCFhJAQmcyb+JX4kIyIQH6wbChghFM0PawsqB9sCa/6K+tn2TPOx8CLvGu7a7avuNfAZ8qv0uffp+vX9AAE9BL8H4Qq+DYYQ4BJ1FHwV9BVkFccTtBFXD3kMMAkGBtYCMv+J+x/4XPQA8KHrP+e14kPeVdrU1rzTlNLH0jnU/9aF26ngIeY+7B7z3vhP/kEElwlnDmATnBitHBwgcSPRJW4mtSapJXAjbyA9HVoZchVmEQMNhAiiBF0A/fta+PH0mvFA7yfuiO2u7SDvIvF784T22PkE/QsAKwOPBtIJmwwcD7URnxOqFIAVmxUnFDASIBBeDQMK1AaRA+f/ZfwZ+V/1jPEy7ZboL+St31DbpNdd1GnSKtJi0+PV0Nkn33fkaup88Xf3vPyyAlQI1AyxETsXphsEH+QisCW/JicnxSatJL4hbR6vGncWfxI7DsIJqwWDASn9TfnK9Wvyqe8T7lbtGO087jnwl/Ji9cL4R/xV/5ECHgY0CdwLkg5AEToTdRSFFcMV0hROE0IRZw4uC7wHLQRwANj8SfmX9e/xoe3v6JXkNeBy24DX9dMI0lPRadIS1f3YIt4T5DvqNPFp9/X8fQLtB/UMmRGqFnobVx/PIv8lvScWKEUnjCWBIrce1hqtFkIS5Q2iCYAFbgFt/Y35v/V68qvvte207JfseO1i7wjybvXS+Gf8FgBWA68GwAmFDLMO2RABE0sU+RRqFa8UHxMVEXgO/AovB3YDeP+e+xL4UvR/8Fjs5efy47zfLtsw19LT69E+0ajSbNVr2Q/fYeWn69XyH/mP/gwEUAn0DW8SeRfnG4MfViNaJsMnUChtJ00lISI4HvUZehUXEbMMggjCBM8ABf1++cz1qvL67/Xt+uzZ7LPttO+j8uL1Xvl0/RcBRwSPB88KGg0aD0wRBRPqE7kUCBVLFLYSphD9DZQKygbfAu7+6/oY9zrznO+J6zLnNuM439va1daC0+rRI9Eq0hjVedn33jDlC+x286T5QP/TBPsJXw6VElkXhxsOH7Mi1SWKJxooaCeRJV8iWx7yGUcVqhD3C40H5AMzAHX8R/kd9gnzYPCy7pXtMe027hzws/JH9g767/2qAU8FyAicC+4N4w+pESET4BOkFMgU1RN4Eq8Q8Q1lCoUGogJJ/in6avaY8sbuzurN5gnj897e2j/XttPT0VnRiNIW1XXZF9975T3sB/Rb+jwA3QWzCgMPWhOWF1Ib5h5uIi4l5CYLKDYnUyVeIpIe5RlKFXUQpAsRB3YDyf82/B/5FvZN8+DwQu9A7tPthu588Pnyb/Zb+kj++wGqBQUJBQydDn4Q2RFME0wUexSVFAoUVBIREMINeAp8Bo4Ce/4w+mv2sfLQ7u3qCOcG4yvfVduK1yHUVNKd0UvS3NQF2WLegORZ67rycPlE/xgFWwqZDrASQhf+GlIe2CG/JDcmPScSJy4lbCLrHl0asRVQEVkMigfjAzcAQvxU+an2mfMq8drvyO5X7iHvvfAJ81D20vmn/ZcBFAVTCLsLlQ5xED4S9hOeFOsUHBVTFKISgxARDt8KMQdTA1v/W/tw95rz++8F7O/n8eMn4O3bTNjM1DfSXdHs0dXTfde53HPi2+hB8Gf3Xf1vA60IbQ3aEVwWHxrPHQ0hsSOxJTMn9yZpJUoj8x+4G5QX/RK1DQsJ+QTcAOD84/nC9q7zjfER8NDuXO7g7k7wePKJ9RX51vylAEUE1AdEC1YOfRBJEs4T4BQKFQoVaBS5ElwQOw4+C24HtAMVAMX7z/dT9H/wR+yS6L/ktOD83JzZRNZS03PSp9I41EbXTtzy4Rzo8e559sb8ngIUCC0NghHQFcoZMh1VICojGiVbJrwmeiVCI2kgwBxvGO8TMw9sCgMGHwI2/tj6xffK9J/yJvHA7zrvv+/68Mjy1/VX+cT8kQBhBLsH3wrIDVUQVRLZE9kUcBWyFe0UkRPbESoP+gvNCCMF+wDq/Db5afXH8T/udeqf5sLiGt9p20/Y69TE0qDSyNNw1ZfZRN8u5Trr2PK8+Wb/EgWSCu4O2xL1FoYayh2jIBkjuCTaJW8lDiTaIeoekBoeFn4RrgzYB6gD1P8u/Az5ZPYi9EPy5fAP8BHwffD88Sv0Hfdw+lL+EQLeBaoJBg2MD8IRXhNHFMoU2xQoFOwSbRE1D5IMogkjBiUCdP6Q+on2tPID79Hq9uZF44Hf49sD2THWdtPo0sbTD9W91/nclOJ16F7vDvcm/Q8DHwl/Dm8SeBY8Gjwd0h9RIi8kKSV7JaMkFSOJIPUcfxgUFCkPJQp+BYQBeP3z+Vv3LvUX88bxI/Hz8FLxp/Kn9BH3M/rF/XABNgXzCGEMYQ++EYMTyRSDFU4VihR0E7wRdA//DCIKwQYVA4P/3fvc9/rzOfAf7OTnLeR24MLccNkI127UHNOl0zjVWNeG2/ngieao7PLzZPoNAFUGygsAEGQUwBiVG1UeSSH6IoMjdSQlJEAiKyB1HVYZDBXfEAQMOgcwA0X/b/u2+Fn2LfTV8kTy1/E28mfzK/VV91H6k/3sAGcEDAiMC2EOsRC9EgkUeRSuFFEUCxNHEXsPFQ0uCisH5wMzAI78vvjN9CHxOu0J6XvlFeK13qzbhdlQ1xfV0tQO1o3XHtrx3mzkFuqE8OP37v1rA1sJfA5WEhIWYRniGx0eLyCWITYiniLGIUAgPR4WG8QWoBI5DmYJ3AQxAYD9N/of+F/24PQA9JHzmvNT9IH1ZffJ+bj8r/8lAxcHdAokDdcP5REOE3oTzhNKE74RNRDADnsM3wlyB6IEQQHH/YD6tPal8t/u5urv5nLjNOBA3dPaB9n71ijW89Ys2OXZwN3I4tHnk+2f9P76mACFBhYMQhD6E4MXNhp7HIUe0x/JIH4hGSH7H60eJhxnGMgU8xA4DJMHxwMVAHD82fkR+Gj2O/W89Ob0TvUr9qr3yfkg/LL+DQJZBUYIlQthDj8Q2hHwEg0TnhLdEU8QXg6bDA0KVQfxBO4BnP6w+1b4iPQJ8Zbtkenz5TDjNeB63a/bTtqy2ETYIdmy2s3cB+AL5S/qRO9m9Sj8RAEzBuwLoxAwE2QWUxkLG08cAB6oHtMeyR7yHZYcvRqCF6MTYxB4DLYHDgQkAX795Pqp+V/4MPcm95v3E/gS+an6m/zB/vkA0wP2BlIJlAsdDvoPwRCAEe0RNBECEOAOJw30CqQILwaYA8wAi/1y+ln3u/MZ8ALtount5TvjM+Gu3rvcpNtb2t3Z7tqL3I7e/eG85nrr7/Dd9q/85QHHBgALBQ9NEuQU/RY0Gbca9RsZHdodjx3bHMYbvxniFo4TzQ/nCwQIXwQ7AZf+Vvyr+sb5JPnA+PH4sPmR+uz7tP3Q/xkCpQQDB28JrwuADZsOow8UEMIPKQ9xDu4MIQthCU0HrwQaAmL/Jvzy+NP1dPIH787rieiZ5UrjLeEv357dltxn2+Ta3tuL3ZrfseIS5+/rKvH+9o38jAGZBu4KjQ7BEWUULxbiF7IZxxp7G0McaxyaG6UaAxlLFgQTnQ/FC/kHjARsAbb+2fxq+3j6Pfoy+nj6NPs7/I79Av/BAM8CDQXpB1IKQgwVDpMPURByEEkQag+/DVcM2wq9CI8GYgT5AUn/p/yz+Vn2AfOY7x3s0ui15UfjgeHm363eUt6e3VTdE96j3zHhH+TF55brPPDZ9Z/6sP+7BBIJkAwNEMUSVhQhFpUXVRgQGdkZvBmeGQMZuRelFWATIhDQDJ0JQwYGA7gAtP46/Yj8Ovxh/Pr8uP26/hwAVwHLAqgEeQbwBwwK/wspDX0Osg+3D3gPJg8KDjsMmAqcCBcG0ANqAav+AvxD+UP2ffOw8IvtfOqq5yLlIeOs4Q7gDN9J3rbdR97c3wDhauM359Tqq+479Fj5Av2mAZAGxQm+DPcPzBFqEz8VhBZpF00YaBg6GFwYYhdPFcETTRGsDfIKWQjeBAsCWwCG/iz9+fy6/Kn8k/1i/jz/zgBQAqsDwwWKBwIJvgpTDBkN2Q1NDgQOdA37DI8LEQqPCHwGOAQgApP/lPzI+fn2v/PX8P7th+pl5/jkIuNK4frf294k3p3dUN4833PgkeLY5RHpRO1X8g339PoQAOIEiAgCDG4PUxEgEzcVihY7Fz4YhxhdGHYYzhfqFQ4U0RGLDqoLEgnbBRQDQgGe/1L+4/2T/XX9Df7//u7/KgFwAvID8wXHB7cJswsqDRoOaw8fEL0PQg++DjsNsQtgCl4ICwboA5YBAP8//Cj5H/Y48xHwzuz26UbnsuQf4+LhmuC43zHfRt/+3wvhUuJp5droAOxt8PH1O/oz/lkDvAfYCvENyhB5EicUihWcFoYXJhgeGFkYQBjiFkIVuxMVEdMNaAuRCEAF8gIsAWf/av4G/tb9Kf7q/rb/twAjApgDLAXqBtkIuAo/DG0NmQ5GDxYP3A6DDjANkwtjCqMITwZIBDMCj//f/Av68fbB85LwIe0p6i3nRuRg4vHgT99C3rzdW91a3WTeG+B04pLl7Ogd7WXymvcQ/E4BPgbUCfMMqRA6E1MUnhVvF0sYyRiWGfQZXhlQGD0XMxVAEh0P2guECGcFegJBAJX+KP2I/Kn85fwY/fr9F//9/xkBrwIqBLsFiwcKCnYMKw5fD4QQ0xAkEBMP0Q1/C/EIJAcMBYwCVABD/tz7UPml9qjzRPCz7BLp1+Xp4lzgv95u3TLc7tvQ3KDd3N4J4SbkBueL6kTvR/Tj+LP99AL6B/ELcA+zEuEUchacF4sYDhkJGcMYpBgNGHkWnRTQEvQPVwxfCUYGpAK7/8L9EPy6+mD6sfoo+wL8OP2h/h0AZgHZAsUEmwYvCD4K8Az0DioQfBEeEmIRMxDKDpAMtwk9B/MEWAL8/9T9g/tC+cb2/fMP8cnt3ulu5ozjluAa3t7cxNvR2ozb/twm3kXg0OMW52Lq6O4G9HH4Gv2FApQHxQuaDzAT8xXCFyIZKhqEGlUaABpvGW0YBxdQFT8TxxDCDWMKMgfYA3oA1f3d+yL6OPkp+Z75bvrM+2v9QP9NARAD2gTyBhoJxwqdDKYODhC4EJAR2BH/ELUPTQ4cDHkJ9gZIBGIBr/4u/Jb5Gvdi9HXxju5x6xroJuW94lLgLt4E3a/bCNvj2/rcft7f4aPlH+ne7fTzwPhM/V0DWQieC8gP0hP0FYgXthnEGgob1hsFHFkb5RqTGXIXlhXQEvcOiwsyCB8EqgBh/v771PlX+S/58vir+dn63vtJ/TL/8QDPAu0E4gZyCfULkA0GD+gQfxFSERIRPBAzDlIMZQoRCG4FAwOOADH+vPsX+ZD22fOW8JLtlOpJ51rkL+JW4FLeed2K3Afcn9ye3RnfdeID5qfp6O7/9DD6Sv9YBSYK1A2VEZ8UZhYPGBYZ8RnCGu0athrAGpAayBjxFhgVjxGQDSYKFQYVAs/+F/wX+sj4Jfj694z4YPk2+qf7Lf1h/ggAEAL3A/UFMQhiCr4Meg7wD+cQQRGHEHsPVg5GDLQJmgdmBfQCzQCo/oT8L/rE90j13/Lw79PsEupP52rkCOKM4ODePd1G3HPc3ty13dLfeOPu5tPqOfBO9jH7RQArBosKbQ0CEeoTHhV7Fi4YCBmKGZgavRpJGtYZghj8FXATFxDOC+gHYwR4AED9Pvt0+Q343/cC+B/46vjw+ff6aPwa/hMAOgJlBIMG/gijC4IN9w5EEMkQhhAhECgPYw1iC6kJkAdwBWIDFwHp/pz8KvrR92v1ofLZ7wftI+qi5xPlweIR4cHfEt5s3KPcFd1m3YLfU+PK5g3r/PDX9rf7QQGtBqQKWw6ZEQQUAha6F9sYIxotG5QblxvBG/Ua9hj7Fj8UchClDO0I8wReAUz+0vsC+vf4GvjV91H4x/h++QD7afzu/S8AiAKZBN4GawmIC2oN3g7wD2QQbxCwD9IOkg2mC6wJMggLBrsDzwG+/y/94vqr+PT1a/MO8XfuyeuH6QDns+T14oXh1d8B3ibdNN1/3WLeOeEW5fPoZe3I88z54/4YBAAJqgzBD3kSixRAFo4XgxjhGakb7hu7G/0b+hprGCkWSxPkDlMKxwYHA1f/r/yg+hP5U/jo9/v3hvjL+GH54fqg/NH98f/jAjsFSAc9CrAMEQ5pD2gQghDdDwMP1A1TDFUKbgitBt0EpAKnALH+UPzE+Y73O/V/8ijwAu56607pXOcs5aDjM+KX4MveUd4n3kPedd+N4hnmCupP73T1nPp2/xYFSQldDB8PAxKsEzcV4xaNGJkZ7xq5G9MbnhtTGgEYWRUZEt0N/QlRBpsCVP9D/VP78vkz+b74l/jK+Bz52/n++l78CP5mADUDjAUVCKoKpAz3DYwPMhABEJYPGA8XDt8McAveCQgIJgYYBAkCrf/z/Hr6Cfh/9Rrz4vC47lDsWupe6Onl/+M44hfgzt0P3QrdFt2A3jviS+aN6i3wrfb1++8AXAZtClsNYRDuEmYURRYpGF4ZthpDHLUcbBwRHHgaqhe0FDoR6gzaCDkFowGN/mP8gvoj+Xr47fe39wL4ZPgV+YP6Sfz8/VQAJwO0BT0IqAqIDL4Nsg4zD1wPCA8bDu0M1Qt7CscIBAcpBewCugDi/qj8SvoI+Ov1//Me8jzwQ+5X7H7qVehG5nbkr+J64KreZt563vTeSeEq5eLoX+1f8xr5jv2EAhsHegpNDUsQeRJQFGgWEBiKGRMb5Bu2G6QbmBohGIoVqBKaDqAKQgffA24AEP4+/Ff6R/ma+P/33Pc5+Lz4xflB+wj9Jv/MASUEnwY5CXILzAwUDv4OMg8BD3sOkQ2ADB8LhAnkByMG+APXAfT/vv17+235i/dp9VzzsfHq73jtPOsk6dfmZuR34qfgZd6n3fndsd5O4EvkR+id7OzxEvid/IYBNQbiCdEMABBhElgUjRZmGNUZSBtZHEYc/xsRG8wYAxYQE0EPbAvEBz8E/wBY/iX8Svod+UP4g/db94P3/vcQ+Xb6IfxZ/tAAOQO7BTMIMgrZCy4NqA3FDfYNdQ2KDM8L7QrYCXcIAAc6BUQDKAHn/tL83vqW+O32g/Xi837ycPHZ787tGeze6Sjn4uTe4kTg397O3iTfiODc49vnMOxl8ar2M/vW/yUEZQd+CowN4Q8dEtkUGBfRGJIa0RsKHMUbvxqdGOYVuRImD8QLUAi2BM0Bhf8r/R/71PmU+EH3wPbM9uj2lPcm+R37R/3H/5QCJwVdBzcJ3AoIDJgMzwzfDI0M8AtOC6kKrAl1CDYHrQXMA8sB1v/D/cP7F/q5+Gv3PvYw9RT0+PKt8dDvye1j6w7pzObC5IXiK+Hn4EPhkOKV5T7p3OyU8fH2X/t3//gDWwcXCg4N7A8TEl8UsBZwGA8aZxusG1Abhxp3GMQV8BKgD9cLXggcBf8BW/9D/Uf7zfm0+K33HPc693D3Cfh3+Ur7Sf2m/08CxQT4BuQIeAqnC4MM7AzgDHEM0gsNCw0K5AiEB/oFnwQiA1YBpf8k/m78zvq7+av4MPcN9kT1/vOE8gnxN++07CHq7Oey5UDjxeFI4VzhfOIY5eHooOwW8Tz2wvrJ/hwDrQZ1CTMMFw+bEf4TlhaSGCAakxsaHKQbpBqkGNgVphJtD+MLWAhHBXUC3v/X/e/7Qvro+Mb3Bfe89t72ever+J763fxW/xcCqQTHBsEIUAo7C5gL9wsgDJUL8wpzCoEJSQgHB9UFTwRNAoEA0/4D/Uv7/Pn5+Az4Kvek9gf2IvUT9PvyZvE579/syOq86GbmnOTd4wjk4+TO5tLpd+028V710fnr/SkBEwRPBzsKbAzfDq8R2ROQFZwXTRnXGasZNRneF8AVSROFEG8NPQo2B68ERALW/7r9LvyV+hD5IPin91P3rPe3+En6J/xN/p4A3ALkBJoGFwiECSYKKApxCo8K/AlQCckIzwdJBkwFAgQQAkkAzv4L/Zf7efpv+YP4D/hw9532//X49HnzYvKD8O/tE+xL6vLnxeVB5Vnl2eWj52vqku1h8Wz1jvlu/YgAUQNGBiEJOwtpDfEPHxL9E0AW1ReYGLsYMBgrF3kVDhNOEIQNggqnB2UFSwPUAPD+gP3w+5H6n/ng+If4s/hu+bb6gfxk/lkAygLqBGoG1AfsCFEJtwnrCecJdAnBCBEIOQcWBoEE0wIdAR//Pv3/+4T6H/k5+L33Nfe19hv2RPU89DPzwfG+76LtsOv16crnFeZ25mrnSOgw6ubtZvFq9FH4ovwU/zMBCQTQBtgIqwogDW0PhxGFE5EV0RZLF8QWbhZgFV8T1BCPDiMMgQknB3oFaQMeAYL/Pf7j/FL7X/rr+b/59Pkk+6D8Mv6+/+YBGwSYBaQGpwdJCJII2ggLCcQIHQilBykHOwbqBGcDygEgAGv++vyk+0n6LfmV+A74Xveh9vj17/S6877yLvHE7jDt9+sm6tbnteeQ6BLpTOpN7UjwIvOM9nj6wP33/38C5ARuB0AJ3QoWDXMPtRB5EpEUkRVhFUoVJxWQE2oRcQ8YDXcKMQgVBmEEjwLiAIz/o/55/Vj81PvA+3D77vsi/VH+of9lATsD9QQ0BgwH/gejCLEIWAhTCLoHsAYXBpoFQgQBAwICywBO//z9r/xN+zX6Nvlk+ML35fbb9Tj1ePRZ8+/xdfAJ75TtGuxO6kXpm+kk6gDr+uy973Tyk/Up+WP8iP70AGgDnAVIB+0I0wq9DGEOQRABEiMTmBPDE+YT6hI7EX8Pjw1WCyYJPAe5Bb4DFwL9AAkA1v7L/UH99fy9/CH9BP7r/i4AtwFuA8oE0wXlBs4HGwgPCOsHvQcWB1gG8AUjBQoEMgNhAjcB6f+q/on9O/wP+w76Jfk0+Ez3bfam9br00fPC8lXxK/AM7/PttuwX6/PqoutQ7FPtWe/x8RH0hvbS+T38Ef5gALgC3ASfBl0IQQoRDKINFg+iEIMRhxG1EbsRiBBNDw0OTAyNCtwISAezBSoEwQKIAa0Ao/+5/pv+gf5a/g//9/+3ALoBHgNSBDgFEwatBhEHVAcrB/YG6wY7Bp8FawXSBLED2gIRArQAQv9A/vb8o/us+rX59/g5+EX3ffYJ9lb1O/Q682TyKfFD8Mrv3+537S3tFe7A7mPv0fC88kj0XPbN+Nv6Y/w0/lIAcwJfBPQFdAc8Cb8K6QtSDVYOWA6cDgAPvA7aDQINxAtkCj0J9AePBikFswNyAtoBIwFMAAIALwBaAMcAtwFyAvMC/wPmBIgFGQZ5BssGFgcHBwQHAAecBiAGvwVHBTcEIgNFAhsBwP+8/pT9avxg+176jvmm+Lj3+vZf9pX1nPTY8xXzjPI38tHxQfHy8H7wyfCV8SDysPL985b14PZ7+Bb6dfvT/Mb+JwCrAUwDaAReBboGkwf+B9UIgwmyCSMKiQoTCuYJzwkMCTkI1wfBBnkF5wQwBCwD1gKwAlMChAIXA30DDQTLBCUFkAXxBQAG8AUTBtYFpQXzBRwG7wUaBkwG5wWBBRUFKQQMAwUC0ACz/6T+qf3Y/Dr8i/vq+m360/n0+Dz4Yff89RL15vRb9N/z8PMQ9OrzAPQW9PrzOfS89CL19PU+9zv4eflD+8H8eP3K/iQAfAAbATECgAK/AtID4gRgBTUGSwe5B9UH/geVB/AGRAZ+BegEcgTlA5ED6wNVBFQEkwQOBREF+wQ5BTkFBgUCBWUFygUEBk4GnQbBBrUGogaCBg0GgQUpBa0E+QNwA+0CSgKdAegADwAR/wP+/PwV/CT7LPpc+b74Z/gT+NP3lfc29+L2lPY89u/1ivVI9WT1m/Xx9VP27fap91f4C/nc+YH64/pa+yv81/wr/dr9qv4m/9j/tgAsAVkB/gGeAuACBgOCA6gDfAPaA0AERgQ1BFUEfgSlBJUEjwSTBHwEbwSiBPoEAwUaBX0FwQWwBagFuQWGBTYFIQUXBcEEigSLBFIE7QOHAy0DqgIBAlUBowDa//n+P/6s/Qv9fvwI/Lj7Vfvl+pP6HfqJ+QD5qfht+DL4F/hS+If4xfgg+X/5yfn0+Uv6lfqT+pr67vow+2H7x/tc/Pb8sv2I/gv/k/8bAHEACAGCAbIB+QEfAikCOgJvAp0CtQLjAkQDgQPIAxoETQSDBI8EvQTyBOEE2QQBBR8FPwWIBfMFMgZUBsIGFAcDBwAHAAe+BmUGDwbMBXQFGQXXBJwENgTAA1MD0QI+AssBcgEOAZUAHADC/0z/1P6J/kL+8v3D/bH9x/20/bH97/38/QT+Mv4w/iT+Kv5E/mD+PP4h/ij+F/74/eX9C/46/hz+Uv7o/k3/nP8jAJAApAANAXgBWgFJAYEBlQG4ARkCYAKUAtECKANbA48DiQNQA2cDlANdA0sDZwMxAzoDtgP2A+gD/AMoBDQEQwR5BJoEgQSHBJwEjARYBOsDlgNnA/gCogJPAssBdQEYAcMAaADO/2n/Df+J/kn+EP6+/Y39bv12/X79dv2O/Zv9mf2J/Xj9ef1o/Uz9L/0Y/Sz9T/1S/U/9Tv0X/cH8hvw5/Pb73Pvz+wn8J/yA/MD8Af1J/V79bP1a/W39sf3b/fX99f1F/on+a/7p/mf/Vf/t/4QAiQCmALoAwQCpAKEAywDFANUALwF6AecBLAJuAgEDbAO+AxAENQQxBDYEVQRwBGUEUwRDBDUE/gOTAzEDpgIaAt8BrwEnAZEAPQC5/yf/1f6Y/lL+Ov5L/mj+aP5M/l3+M/7//f796f33/fX99f0X/vj90f3j/cT9fP1M/TL9EP2+/Ij8UfzY+4z7mfuT+6/7ifwT/Vv9+f1x/s/+C/9A/2X/QP91/4f/mf/4/z8AfgAKAQkBEAGcAZsBewGYAZYBOwE2AWABRQFVAXkBmQHKARcCRwJxApsChQKTAukC8ALXAgkD8gK1AqcCdwIvAgMC6wG+AWgBBQGpAD0A2f9V//P+0v59/mn+lf5R/ir+RP5H/i7+Gv4u/gL+sP2a/a79zf0T/kz+XP4m/sL9fv07/fL85vzq/M/8+PwQ/cz8ufz5/EP9hP3V/VT+u/4X/6z/KQBNAHkAfACKAJwAVAAmAFYAagCkAA0BQAEeASABQAH8AIwAagANAPr/hwDCAAwBjAGQAaAB5QHUAZIBogGyAcwBKgKGAqMCswLCAnsCMgIHAq0BfAFjAR4B8gDGAGYASABbADcALAA+AFQASQBkALkAwgC+ANMAsACgAMUAwAClAIIAUgA1APn/tv+m/4r/S//k/tD+0v6E/lz+GP56/fz8jPwQ/Lz7ofvU+y/8qvw0/Zv94f3n/eD99/3Z/bj9If5S/kj+vP7g/sn++v4e/xL/Jf9A/1f/fP+0/+H/FwAHALP/t//n/+r/CQB/AL4A/wCoAdcBtwHLAbIBhAFfATEBBgH1APYAGwE1ATYBMAFhAYABZgFAAfwAkwARAL//p/+a/+b/TACWANAAywDUAOAAtQCGAHMAbwB6AKcA0gCVADEAAwDN/6X/qP+V/3z/g/90/3v/e/87/2H/iv9h/4z/yv+6/5r/lP+E/xL/z/7y/sj+nv7p/gH/+/4l/1n/ev9l/2D/bf9s/5P/1v8PADQAYACcANEA8wAmAXIBiwGJAacBowGRAYUBcwFSASMBDAHaAKYAuQCxANYAMgFBAVMBfgFMARkB9ADOAMEA2AA/Aa0BIgKKAsMCvgJxAiEC1QGTAV4BYAF6AXABkwGgAVwBMwEUAdAAmQBSABkAHQAmADUAKAAdAAIAu/9O/5n+1/13/V39V/2K/cL9Hf5T/l7+bP4j/sj9cf0z/Qj96fwE/Rz9S/2m/fX9AP7u/dr9v/2p/YT9H/3q/OT8yPwd/Y/9zf3w/Qv+Fv7i/bn9sf26/br9zP0Z/l7+i/62/tD+yv7H/tP+5P7g/vj+Nf9C/y3/Nv8Y/6z+V/43/jz+K/5P/oT+av5c/mr+Rf7z/dL95P3d/dz9Df4z/lj+ev6m/p3+O/4Q/gT+0v3T/ff9IP5b/nH+u/6s/k3+PP5J/lz+d/7N/iL/Kf9c/6b/tv/H/83/6//+/xoARwBmAL0AzQDuADkBDAEEASoBDwHxANAA2QDTAN0AEgEBAQ8BBwHcANEAgABXAKwA7wDvAPkAIwHmALIA7wDnANkAMQGNAc4B8AEWAhoC9wH7AR0CXwJpAmgCtAKZAmMCUgIgAgwCKAJvAlACNwJoAm8CXwJ6ApACoALVAvcCKANMAzoDBwMHAwAD9AJPA50D5AM8BG8EcQRLBE4EPAQtBG0EdgSnBNUEoASZBHsE/gOxA6YDmAOeA80D4gOyA44DUwPnAmEC/wHIAXgBVgFwAX4BiQGyAcYBeAEkARgBrgAWAMj/hv9G/z3/ef+6/8T/xP+7/4b/If+Y/kL+Bv7Z/eP9AP4T/jD+ev6R/l7+W/5z/o7+4v76/g7/YP9s/5P/r/9k//b+Dv9a/1X/n/8SAEYAkwDlAOYAmQBeAGoAZgBgAC8AHgBEAAoAAgAOAO///f8qAEAACwDO/8H/lP8v/+b+uf52/kb+Sf5D/vH9rP2e/Wf98fzb/Or8q/yp/Lb8Zfwc/N777fsD/M/7GvyB/Kf87/wr/RX97fzt/NL8yPzd/Af9U/2W/b393/3e/bL9j/2T/Zv9hP24/QT+E/4a/hz+RP5h/jv+Z/6B/nL+2P5C/5X/u//+/0sASABXAGYASAA4ABwAJQAeABkAPABFAGEAVAAzAEsAJgAFAPf/3v/B/7//7//7/+b/8v/Y/73/tv+d/6v/sf+9//D/HQAqACkAaABiADcAPQArAP//5//m/+T/uv+y/8f/yv/W/9L/4//V/87/+P8RACMAFwA1AGsAnwDnABoBNwFbAZwBsQF2AXkBcgEoATQBXAEwAQYBQAFmASIBNQFgATIBXAGqAccB3wEWAnoCpwLBAt0CzgK2AnsCUgJAAhcCCAIYAh0CFwIMAtwBtgGVASQB+gD9ALgA0wAFAe8A6wANATIBDAH0ABsBAgHeAOYAwAB8AFUABgDa/+j/k/96/3r/LP8g/zT/Gv8A//b+4P64/o3+kv6X/oX+i/6g/qD+xP7v/u/+Cv/9/gP/Ov80/2D/j/+t//j/8f8GACwA5f/G/xAAFQDf/ycAjwCJAJ4A2QC/AEwAIwAxANj/p//g//X/9/8FAB4ACAC//7z/0f+j/5z/xv/T/9P/vf+6/7n/df9Y/1D/NP82/0T/Qv9g/1X/Qf9e/0b/Gf8x/0L/Rf9x/6v/wv/B/+T/HgAiADIAbACKAJAAzgABAfIA6AAJARgB3wDYAPUAsgCeAMgAlwBjAIIAhwBRAF4AfwBSAD0AZQBQAB0AMwA8ACQAGgADAOr/uv+I/4T/Z/8P//f+6/65/rP+q/5z/lr+dP5x/lL+Y/5S/i3+Rf4b/uH98P32/e79Iv5E/in+Rv54/m3+Yf5h/mr+kf6//uD+CP8k/1T/nf+6/9//IgBTAJgA6QAaATUBVAGKAbIB6AEhAmICvgL/AkoDUgNlA7UDyQPpAycEMwQwBF4EbQRrBIYEkgScBL4EzwTVBOkExQSiBKoEbwQiBCIEGgTTA6kDkQM1A+wCyAKGAjwCCwLfAZ4BTAHxALQAYADn/5n/df8k/9b+zv6r/mb+Rf5E/v39qf13/VH9JP3v/Nj8z/yo/H78efxe/Dr8ePzN/On8N/2f/Zb9aP1W/Sb96fzl/PP8Ev2R/d398f12/qL+fP7b/gD/yf7+/iH/E/9L/2L/fv/H/6r/r/8hACAAIAB0AG4APgB2ALYAfgBbAFUA9P+2/5L/VP9G/2T/dv+q/8//mv9n/zb/zf6Z/nv+Xf51/rf+1P7T/sn+pf5r/ir+Av7f/dH91f3J/cT9q/2C/WX9Z/1q/WH9g/2d/c79Dv4f/iz+Uv6D/pf+9v6B/5z/r//x/wQA1/8AAE4ASwBUAIkAowCKAGYAaABYACAAIgCAAL8ADgGeAQwCMgJkAp4CoAKpAqUClwKzAsYC5AIZAxwD+QL5AgUD7ALGAqQCfQJYAikCEwL/AbcBfQFpATsB+QDeANYAswDEAOwA4QDmAPsA1wCiAG4AJwD8//n/+P8LADMAQQA5AFIASQAWAAwAAAD8/xQAKABQAGIAawCYAKMApADLAO4AFwFbAYwBpAHTAQgCBQLuAc0BlwF7AYsBcwFcAXcBcAFiAVABEgHWAOMA8ADjAPMAAQECAf0A4wC8AIYAYgBMAE4AVgBNACsA9P+o/0f/6f6X/kf+/v3b/bf9h/1q/Ur9Hv3+/PX83fyx/KX8pfyF/Ij8pPyg/Kz8v/zb/Oj87Pz7/Or8vvzd/BL96Pz5/Ez9Qv1Z/aH9uv28/dn9Iv5A/l3+k/6u/p/+mv6j/mn+M/5U/nL+bf6n/uT+6f4I/wf/6P4A/+T+uP7E/tX+1P7j/gf/A/8L/zj/Sf9d/4z/u/+y/6D/rv+a/23/U/8x/w3/8P7l/uL+1P7J/rn+lf5o/lP+Fv7o/QX+6P3F/fH9C/4M/i/+U/5M/k7+W/5h/l/+Xf6A/qH+mv6x/vH+DP8a/1P/i/+1/8v/8f8LAOn/4//4/+7/EQB7ALwA5gBWAaYBtAGuAcMB5gH/ATYCgwK4As0C+QInAxQDDQMpAzsDVwOFA60DtwO+A8sDyAO5A68DwQPkAwYECwQaBBsEAwQKBPMDrAORA6EDigNIAxID2AKBAkACDQLbAbABkwGFAWQBKAHTAJIAUQAKANX/pf9u/1P/RP81//z+w/65/rv+rv6t/rn+rf6i/pH+bf48/hb+9f3g/fT9J/5O/pn+/P4m/zP/YP94/2b/jf+j/2f/gP+o/5T/rv/E/9H/8P/0/wwALQACAAQATgBYAC0AQQBmAEwATAByAIoAhgCXAOAA8ADVAN8AwQCoAJUAcgBcADcAEQAfACYAEgAYACMAFgAGAOf/wv+p/3//Yv9o/zf/Dv/0/sT+nf53/lL+Tv5K/jv+Sv5c/mz+df6M/q/+tf66/uH+5v73/i//E////iL/Av/1/g3/7f7f/hH/Jf9F/5j/lv+b/8j/wv8GAGEAWgCRAPUAEgEXATQBYQFkAVsBgQGwAcQB1wHzAQEC/QHrAeAB8gH4AQECIAIyAksCagJeAj0CPgIsAhUCIAIGAvoBFgIXAhUCEQIAAu4BwAGoAYYBSAEeARkBDwHwAOYAygC1AJ8AhAB3AFwAXAB4AIYAhgCFAHEASQApAAwA7P/j//r/JABEAEoAUABMAEwATQBSAEwAUwCOAKwAxQACAfsA/wBEATYBRgGQAYgBmgG8AagBpwGcAZIBqgGvAaYBuwHBAc0B3AG3AakBrAG0AdkB7wH9Af4B5QHeAcsBlAGPAZMBbQFeAV0BLQHwAOAAvwB4AFsATAA3ABMA+P+5/13/Mf8J/+3+8P7Z/sP+zf7D/n/+Sv5G/hj+3/3t/d79tf2h/ZP9f/1I/RL9I/0W/fL8A/0R/QT9BP0j/VT9XP1P/Wv9nP24/bL9qP2y/dD99/0m/nn+nv6v/vP+Iv83/1j/df+G/4b/jf+r/7z/1f/0/xQAOwBxAKIA0ADgANMA6AD7APEA+gAXASIBGwEjARoBDAEFARwBMwElASABHQEMAeAAsACNAF8ASABMAFYARQAgABUA9f+q/23/Uv87/xL/Av/8/tT+v/62/pb+eP5y/nP+Z/5l/lT+L/4T/u39v/2d/ZH9jf2G/Yj9lP2A/WT9Zv1h/Vn9Yv2F/Zb9iP2L/aL9t/3A/cv97v0h/j3+UP5w/mr+aP6U/rn+0v7n/gf/Lv8u/yT/Jv8d/yf/UP9u/5f/xP/n/wwAIQAcABEAFAAoAEwAhADJAO8A+gALAfMAygCuAIEAawBrAG0AeQCOAIoAiACEAGkAZwB1AIIAoACtALMAuwCgAIQAiQCMAHEAawCBAIIAewCOAJsAfgBnAGcAVQAvABcAHQAOAPn/AwAUADsAWABaAHAAjwB+AGUAdwB4AF8AewCgAJ0AnQClAJcAgABoAGgAcQBqAI8AxQDZAPUABwH3APoAAgEDASsBOAEpAUIBZAFMAR0BFAELAekA6AANARcBHwEfAQ4B8QCkAGkAYgBdAD0AQwBvAHEAhACtAKAAhABwAF8AagBWACcAIQAbAOL/wf+0/5X/jP+W/6n/rf+W/6T/xf+x/5b/ov+s/6z/q/+x/7D/q/+6/9//6P/m/w4ALQApACUAIAAYAAsABgAtAD4AOgBMAG0AiAB+AHgAlgCkAJAAngDBAKUAlwCzAJ0AagBtAH4AdwBuAHkAkACUAHYAcQBtAFQASgBgAHcAbABcAFYAXgBHABwAIgAmAAoACgAPAPD/wf+f/37/W/9C/0X/Vv9f/1T/WP9S/yj/F/8Y/yL/FP8R/zL/Nf8k/xT/Bf/m/sb+y/7U/s/+0f7j/un+3/7Y/tj+4P7i/uH+9v4C/wb/Df8I/wH/EP8r/0P/Uv9S/2H/Zv9Z/1b/Yv9h/2b/gf+l/73/0v/+/xsAHQAaAC4AMQAaACEAJgAdAA4AFgAVAAQACQARABcAKwBDAGYAiQCqALIAswCoAIAAeQBzAFoAXwBoAHUAkgCVAJQAkQB4AG8AbgBeAGUAcgB6AIUAfQByAHYAbABnAHUAeACFALAAtwCzALoAtgCYAH4AcwBfAFcAWwBwAIgAmgCqALoAtwCmAKMAngCdAKAArwDHANoA5AD9AP0A5gD0AAYB9wD/AB8BKgEmASMBIQEaAQYBBwEXAQ0BJwFdAXEBagFyAXwBdAFkAVoBXgFUAT0BMAEXAQYB/QD/AAQBAwEEAQwBCQHrAOQA6QDPAMkA0QDQAL4AsQC5ALAAjACJAJwAkACHAI0AdgBZADkADADu/9f/w//V/93/2P/z/wEA+//4//v/CAAEAOX/3P/O/6T/mf+Z/4r/hf+P/47/mP+X/5X/r/+z/6z/yf/a/9D/1f/U/8r/wf+3/9z/AAAAAB4AQQAoABYAFwABAPP/8f/2/wMABQD6/wMACQAJAAQABwAdACYAMgBFAC8ADQAHAPP/3//h/+b/+P8UABgAKAArAA8ACwD5/9j/0//L/83/8v/8/+v/AQATAA4AEQAmACoAEgAPAA8A8v/c/9L/yf+3/7v/xf/R/+D/6v/o//H/8//q/+//5f/Y/8P/uf+y/6X/p/+0/7n/t//J/9//3v/a/9n/yv/A/73/vv+5/7T/rP+n/6n/pv+e/5//o/+o/7f/vP+3/7//yv/F/7b/tf+//8L/xP/T/97/1P/G/8n/uP+Z/5f/nP+Z/5X/oP+7/8r/2f/o/+b/4v/k/+n/5//a/87/2P/U/8D/uv+7/7L/tf/A/8L/w//L/9b/4v/X/9H/2v/X/8j/zP/S/9H/3P/i/+3/6//u//n/8//p/+r/7P/o/+f/5P/i/93/4v/b/93/5//c/+L/+P8FABcAJQAcABgAEwAKAAIA9P/l//D/9f/u//7/9f/p/+7/7P/v/+v/4//p/+//8v/u/+n/8f/7/wQADQASABAABAD///r/9//y/+f/4P/i/+f/4f/Z/93/3P/Z/+j//f/9/wQADgALABMACgAFAA0A/v8EAAEA7//u//H/6v/o/97/3P/n/+T/3P/c/9b/1P/q/+v/8P/x//H/9//r/9//3P/e/9P/3P/e/9b/0//O/9D/z//L/9H/2//e/9//4f/h/9b/0v/Y/9X/1f/d/9//3f/d/9f/2v/c/+P/3P/Y/9v/1f/F/7j/uf+3/7n/yv/O/9D/4P/g/9z/2v/b/9b/1v/l/+j/6f/r/+P/4P/W/8n/yf/M/8v/0f/Y/9j/3v/X/8r/z//L/8v/2v/a/9T/1//V/8z/xf/A/73/vv+//8P/vv/D/8H/vv+9/7//uv+v/6//sf+o/6X/pv+x/77/w//L/8v/y//J/8X/v/+8/7f/u/+3/6r/pP+e/5z/n/+g/6P/rP+2/7r/wv+4/6r/sf+0/7L/rP+n/6z/sv+v/6j/r/+r/63/sv+o/6H/m/+V/5n/mv+h/67/s/+6/8P/wf+2/7L/sP+r/7D/sf+z/6n/nf+g/5z/o/+r/63/wf/U/9P/y//I/7T/qv+e/5P/kf+c/6f/sf+3/77/w//C/8L/wP/D/8T/xf/D/73/tf+w/6n/sP+4/8H/z//U/9v/4P/i/9z/2f/U/8v/xv/N/9L/1f/c/+L/6f/t//D/7P/o/9//3f/f/9j/3v/o/+r/7P/0/+//6f/u//L/7v/z//n//v/8//z/AQACAPj/+v8FAPz/AgALABIAHAAeABkAGgAWABMADgAOABUAFQAZABkAHAAgABwAFAAMAA0AEgAYAB0AIwAiACkAKAAjACgAJAAgACYAKwAzADYAMQAoACYAHwAaABgAHwAiACwALwArACsAKwApACgAKgAuADgANQA0ADUALAArAB4AGAAbABoAFwAXAB0AGQAeAB8AHAAhACkAKAAmACsALQApACQAIwAkACYAKAAkACMAIwAiAB0AGgAfABYADgASAA8AEwARABQAGAAPABEAGgAbABsAIQAgACMAIgAZABgAFgAQABMACgAKAA0ADQAQABMAEwATABcAEQARABUAEwAYABcADwAOABQAFwAZABkAFwAcABgADwASABQAFQAQAAwABQD9//r/AQABAAQACgAQABEAFgAcABQADgASAA4ADQAQAA0AEAARABQAFQAbABoAFwAgAB4AGAAfABMAFAAWABcAFwAUABgAHQAfABsAHwAiABwAHgAdACAAIgAeAB4AFgAdABkAFAAZABoAIgAYACEAIQAcAB8AIwAiAB0AJQAeAB8AHwAdACEAGwAaABwAGwAdACIAJAAeABwAHgAiACMAIgAeABgAFAAXABkADwAJABAAFgAYABgAHAAcABgAFAAPAAkACgAIAAYAEQAMAAcADQAKAAsAEgAQABIAGAAZABIADgASAA8ADQAPAAsADwAOABQAGwAXABoAHQAXABcAFQARABEACwANAAkADAAQAA0AEAAVABkAFQAVABsAFwAUABgAHAAXABYAFgAWABgAHAAeABsAJQAiAB8AJwAnACUAKQAjACQAKQAmACYAKAApADAAMQAvADIAMAAyADIALAApACsAJwAoACkAJQAqACkAJwAmACQAKgAtAC4AKQAlACcAIQAdACYAKgAlACkAKQAkACoAKAAiAB8AIAAdAB0AHQAVABoAFgAOABQAEAAOABAAEAATABQAFAAZABcAFAAYABIAEAARABAADQAPAA8ADQALAAsADwAMAAkAEAALAAgAEAAPABMAGAAUABUAEgARABAADwAOAA4ADgASABIAGAAbABQAEwAZABIAFAAUABkAHQAhACEAHwAgAB4AGAAUABgAHgAhAB8AHQAfABgAFAAUABsAFQAXABoAGwAaABkAHAAfABsAGAAXABcAHgAcABkAHAAYABkAHQAeABcAGAAZAB4AIgAWABgAHQAcAB0AIAAcAB4AIQAhABsAIQAsACcAHwAkACcAIQAhACMAHAAYABsAGgAWABcADgAMABMAEgAUABIAFQASAA4AFAAYABUAEQARAAgACwANAAsABgAJAAoABgAFAAAABQAHAP//BAAFAAIAAAABAAIABgAKAAIAAwD+//n//P/5//r/+f/8//v/+//8//b/7v/3//P/8f/x/+3/7f/s/+7/8P/x//L/6//v/+r/7P/v/+//9P/r/+j/7P/s/+f/6P/p/+3/6//p/+v/5P/m/+z/4v/e/97/3//m/+P/3P/i/+H/5P/b/9v/2//c/+D/3//n/93/3P/l/+L/4P/q/9r/5v/8/9D/6P/2/9X/4f/q/9r/3//f/93/3f/Z/9//4f/m/+X/3f/o/+r/5f/m/+j/7f/s/+T/7P/w/9//9v/0/+H/7f/v/+z/8v/m/+f/8P/k/+7/6//g/+P/6//o/+f/8//y/+3/8v/x/+7/8P/m/+z/8f/r//H/8//v//H/8f/v//H/9f/w//L/+P/3//D/9f/4//P/9v/5//f/8//4//n//v/9//j/8v/0//3////7//r/+P/6//v/9P/2//P/8v/z//b/9P/q//D/8v/x//f/9//1//D/7//0//T/7P/v//D/6f/p/+T/5f/q/+n/6//r/+f/6f/o/+b/5f/n/+T/4P/o/+3/6//s//T/8f/p/+r/7f/w/+3/7v/1//b/9f/u//X//P/y//P/7//s//T/8v/z/+//8f/x//P/7//t//L/6//w//P/8P/2//H/8f/z//L/9P/5//z/9//3//n/9f/7//j//P/6//n/AAD+//j/+f/4//7/+v/3//r//P/5//T/+f/7/wAA///5//3//f/5//z/9f/z//n/+//6//j/+//+//z/+/8AAAEA/P/9/wIA/v/+//v//f8AAPn//f/7//3//v/5/wMAAQD+////AAAAAP3/AwACAAYABwAGAAUA//8AAAMAAgD9/wMAAgALAAcABwAFAAEABQANAAsADAAPAAYACQAOAA4ACgAJAAwAEAARAA0ACQAMABEADQAOAA8AEwAUAA8AEQATAA8AEwASAA8AEAAPABQADgANABEAEQASABQAFQAMAAsAEwATABAADAARABQAEAAQAA4ADQAMAAgACwAKAAsACgAIAAMABQAGAAYABgAEAP3/AgAGAAMA/v8BAPv/+//8//j/+P/3//X/9//z//X/+f/4//b/9P/2//H/9P/4//T/8P/w//D/7//y//f/9P/z//L/8v/w/+7/7P/x//L/8//2/+//7//s/+j/8f/v/+v/9P/t/+3/7f/u/+v/7P/m/+T/6P/r/+n/6//q/+P/5v/k/+f/6P/r/+r/6v/r/+X/5P/n/+b/4v/p/+X/4//o/+T/4v/n/+T/2v/j/+b/4P/l/+H/3f/k/+D/2P/b/+n/5P/c/+D/3//j/+T/4f/k/9//5P/l/+D/6f/e/97/4v/Y/9f/3P/c/9r/3//g/+H/4f/c/97/2v/c/9r/3v/j/93/3v/c/9v/3f/d/+P/3f/e/9v/2//c/9v/3//X/9//3//X/9v/1v/Y/9z/2P/Y/9j/2f/Y/9f/1//V/9b/0//M/8z/1P/S/9H/1//T/9P/1P/b/9z/1f/Y/9v/3P/f/9f/0v/Y/9f/2P/X/9b/1f/X/9X/0f/S/9X/0v/Q/9H/1P/M/87/yP/M/9D/y//K/8f/yf/K/8j/zP/O/9H/zv/R/9D/y//L/8j/yP/I/83/0P/I/8z/zf/M/9D/yf/K/9D/0//T/87/zf/T/9H/0P/X/9j/0f/Q/87/0v/W/9X/0P/Q/9D/0v/O/8z/0v/P/87/zP/T/9P/zv/V/9T/1v/R/9D/2v/T/9P/2P/Q/9D/0f/M/8//0//N/9D/zf/P/9T/2f/U/87/1v/P/9H/1//V/9P/z//Q/9D/0v/V/83/0//U/8r/zf/N/83/0f/S/87/0//R/83/0f/Q/9D/zP/O/9D/0f/Q/8r/0P/P/8n/0f/S/8v/0f/P/8//zv/Q/9D/0//V/8//zf/Q/9P/zP/S/9P/zv/U/9H/0f/U/9H/0f/R/9X/1v/V/9r/0v/V/9T/0f/W/9b/1P/W/9T/y//O/9H/0//Y/9X/0v/Q/9P/0//O/9b/1v/U/8//zP/R/9f/1v/T/9b/1v/V/9T/z//U/9T/0//Z/9b/2f/W/9f/2v/a/+H/4P/f/9//4P/d/9r/3f/b/9j/3P/Z/9f/2v/Z/9r/4P/d/9z/2//e/+D/4P/g/+L/5P/i/+H/4P/m/+X/6f/r/+v/6f/m/+v/6P/t/+3/8f/u/+v/6//x//T/8v/5//f/8v/w/+7/8f/s/+//8P/t/+7/8//y/+3/6//v/+z/7v/w//D/9f/w/+//7v/n/+7/9P/v/+7/7v/0//H/7v/0//H/+P/6/wAA+v/0//7/AAAAAPf/+f/7//X/+//+/wAAAgD+//v//P///wAA/v/8/////v////z/+v/6//7/BgAEAPz/+//8//z/+f/3//n/8//x//f//P/5//z//v/6//j/9f/4//T/9P/1//f/9//4//T/8v/0//j/+P/5//r//f/7//b/9//9//n/9v/0//X/+v/6//n////5//b/+P/1//3/AgD+/wMAAQAFAAUAAwAHAAAA/v8EAAcABQADAAcABwAJAAgACgAPAAkACAAKAAgACQAJAAkADAAJAAsACQADAAIAAgACAA0ACQADAAgABwAGAAEACQAEAAEAAgABAAMAAAD8//3/AQAGAAEAAwAHAPz/AwAEAAIA//////7//f/+///////7//n/8//0//T/9f/2//X/9f/u/+7/8//w/+//7P/r/+7/7P/s/+//7P/m/+b/5//o/+z/5//i/+L/4//g/+T/5P/f/9v/3P/b/+D/4f/d/9v/1v/Y/9v/2f/Z/9j/0v/b/9r/0P/S/9j/2f/T/9P/2P/V/9T/1P/W/9X/1f/Z/9j/1//S/9b/2f/e/97/3f/e/9X/2f/k/9//2P/Y/9r/3v/X/9z/3//c/97/2f/Z/9v/4v/f/93/4f/l/+b/4f/q/+3/7v/z/+//7//0//n/+f/4//3////6//7////+/wQABQAGAAUACgAOAA0AEQAVABcAGQARABIAFwAVABcAHwAgABwAIAAhACEAKAAnACYAKAAlACYAKQAuACgAKwAtACoAKwAuAC0ALgAyADMAOAA0ADEANQA0ADUAMwAxADYANgA0ADUALQAvAC8AKgApACsAKwAqADEAMAAuADAAKgAnACwAKwAsADAAMgAwADMAOAA8ADsAPQA6ADwAOwBAAEgAQgBDAD8ARgBAADcAPQA3ADgAOAA8ADYAMgAwAC8ANAAxADMANgAxAC8ALgAuAC0ALwAvADEAMAArACkAKwAuACkAJQAoACcAJgAmACYAIgAeACQAJQAlAB0AHAAgAB4AHgAfACAAHwAbABoAFgAVABgAGQAWABoAFQASABoAGAAbAB8AHgAeACEAGAAXABoAGwAcABYAHgAcABoAGQAWABgAHwAaABQAGQAWABYAFQAOABIAFQARABIAFAAVABkAFAAWABUAEQAXABYAFQAXABkAFgATABUAEgAVABgAFQASABcAFAAYABUAGQAZABwAHAAbABsAGwAbABkAGQAZABsAGgAaABgAGAAcABsAGgAZABYAEgAVABYADwASABcAFwAaABcAGQAcABcAFwAUABIADQARABgAEQAPABMAFAAWABMAEAAUABYAFwAVABMAFgAUABIAFwAYABQADgARABMAEwARABAADgATABYAEAANABIADQANAA8AEQAWABEACwAJAAoADwAPAA4ADwAQABIAEAAQABAAEwASABAAEQAOABMAEAAOABUAEwARAA4ADQANABEAFQATABEAEwAXABEAEAAWABEAFAAWABMAEAAVABoAHAAaABMAFgAbABwAEwAVABoAGAAYAB0AGgAaABgAGQAYABQAFAAaAB4AHAAXABcAGQAXABgAGwAbABoAHQAbABwAGgAcABgAFgAhACAAHAAcAB0AGwAZAB4AFwATABoAHAAdABoAGwAfAB4AHwAgACEAHAAbACAAHQAUABoAHQAZACEAIQAaAB0AHgAdACEAHQAdACMAIQAgACEAIAAjACQAIQAfACMAIgAfAB8AKAArACYAJQAqACgALAAtAC4AKwAoACwAJwArADIAJwAqACoAJwAxAC0ALQAxAC0ANAA1AC8ALQAvAC4ALgApACkAMAAuADAAMAAqAC4AMgA1ADMALQAvAC8AMgA3AC8AKwAwADEALQApACsALAAuAC4AKgAsACcAJgApACoAKwAsACsAKQAuACwAMAAzAC4AKwAlADAANgAvAC0AKgAsADAAMQAuADUAMwAxADEAKgAwADUANQA2ADMANgA2ADUAMAAuADEANgAwADAANgAtACwAMAAuACsAJwAuADEALwAxAC8ALgAsACwANAA4AC4AMAAyADEALwArADMAMwAvACoALQAwADMALgAzADgAMQA0ADUAMgAuAC4ANgA3ADcANAAzADEAMgA3ADcAOgA3ADMALQAvADMAMwA3ADUALQAwADkANwA3ADoAOAA2AEEAQQA7AD0APAA7AD0APgA7ADkAPwA/AEIAPQA9ADkAOQA7ADoAOAA6AEEAQAA8ADoAPQA7ADoAPgA5ADcAOwA4ADkAPAA5ADkAOgA7ADoAMwA1ADsAOwA7ADkAOQA6ADkAOwA6ADcANwA0ADYAOwA5ADYANAA0ADUANQA1ADcAMwA2ADUALwAzADAALQA0ADMANAA1ADMANQAzADcANwA0ADIALwAyADEAMwAyAC0ANgA4ADQANgAzAC4AMgA3ADMALQAvACsALgAuAC4AOAAvADIALwArADUAMgAtADYANQAxACoAKgAyAC0ALwAuACoALwAxADgANgAvADIAMgAyADQALwAxADIALwAvADUANAAwAC0AMgA1ADAALgArACsAKQApACoAJgAoAC4ALAArACcAJAAnACwAKQAhACUAIwAmACkAIwAkACcAJgAqACgAJgAqACcAIQAiACoALQApACIAKQArACwALgAsACgAKwAuACoAKgAkACcAKwAhACEAJAAnACYAHQAiACMAHAAmACgAJQAmACQAKQAnAC0AKQAdACMAJgAhACUAJAAkACgAJAAiACMAHgAgACMAIAAgACEAHwAhACAAJQAgAB0AIAAgACEAIAAhACAAHwAdABkAHQAkACcAJQAjACMAIwAdAB4AHwAcACQAJgAeACAAIgAeAB8AHwAdACAAHQAcAB8AIQAdAB0AIgAjAB8AIQAlACYAJgAoACYAKgApACIAJQAqACwAJQAjAC0AKgAmACgAJwAwACoAJQApACYAKAAjACEAKwAnACQAJQAkACMAIAAdABsAHgAdABoAHQAiAB4AHgAeACAAHgAaAB4AHAAcACEAGgAcABwAHAAcABQAGQAZABwAHAAaAB4AFwAdAB4AGwAXABoAHwAaABgAFgAYABYAGwAZABcAGgAVABYAEgASABQAEgARABEAEgAUAA0ABwAKABAAFQARABUAEwASABEADwAVABQAEgAXABgAEAASABEADgARABAADwAPAAoABgAQAA0ACwALAAoADwAMAA4ACAAKAA8ADQAJAA0ADwAPABMAEgAUABMAEAAKAA0ADgANAA4ACwAMABAAEQARAA8ADgAQAA0ADwANABAADQAJAAwABwAHAA4ADAAOAA4ACwAHAAYADAAKAAoADAAHAAcABwADAAcACQAFAAMAAwD//wMABwADAAMAAwADAAgAAgD//wgABgAAAAYACwAEAAUACAAGAAUABQAAAAUABwAKAAgABQAIAAYABwAHAAIAAwAEAAQABgAEAAsACQAFAAYAAgD9//v/+//9//z////9//r////5//7/+//6//v/9v/8//r////7//b/9f/0//b/9//5//f//v/9//r/+v/8////9/8BAAEABwAFAAIACQADAP7/AwAAAPr/BQD8/wAAAAD7////+f/4//////////7//f8AAPr/9v/+//7/+//7//v/+v/x/+v/8v/z//L/8//u/+z/8P/u/+//7f/t//D/7P/v//H/7v/p/+j/7//t/+n/7v/p/+v/6v/r/+3/6f/s//D/7P/o/+//7v/t/+3/7P/x/+7/5//v/+//8P/p/+n/7P/r/+r/7P/v/+//6P/p/+//6v/n/+f/6v/p/+X/6f/n/+r/6//n/+3/6P/n/+X/6//q/+f/6//p/+j/4//s/+v/4v/q//H/5f/k/+f/6P/q/+j/4//o/+z/6f/n/+f/6P/n/+b/6f/s/+f/4//q/+P/5P/l/+P/5P/d/+P/4v/g/+L/4f/e/93/4v/a/97/2//V/9z/2v/V/9r/3f/b/97/2//b/9j/2P/d/97/2f/a/9z/2P/a/9v/2v/X/9z/3//Z/97/3P/Z/9z/3//Z/9X/3v/b/9b/2//a/9r/3//d/9v/3P/b/9n/2v/Z/93/3v/V/9n/3P/c/9v/1v/a/9//3P/e/9j/2P/b/9v/3P/Y/9P/3//g/9n/4v/e/93/4P/f/+H/2v/d/+L/3P/Y/9f/2f/g/93/2P/Z/9f/2f/f/97/3f/V/9v/2//a/97/2P/Z/9v/4P/d/9f/3f/c/9v/2P/Y/9n/2//V/9D/2f/Z/9L/1f/Z/9v/2P/X/9f/2f/W/9X/1//T/9j/2P/W/9r/1//U/9T/2P/d/9n/1P/W/9X/1v/V/9T/2P/W/9b/3f/b/9D/2P/Z/9D/1f/X/9L/1//V/9H/1//T/9T/0P/U/9n/0f/X/97/1//Q/9P/1v/Q/8//1//U/9j/2f/Y/93/2f/Y/9D/0//W/9n/0v/S/9j/1//R/9P/1v/W/9b/2v/d/9j/1v/U/9P/1f/Z/9j/3P/W/9D/1//T/9b/2P/a/9n/1P/X/9f/1f/a/9n/0//S/9L/0f/S/9H/1v/b/9L/0v/Z/93/2//b/9f/z//U/9P/1//W/9b/2P/V/9D/zv/P/9D/0//R/9T/1f/X/9P/z//Z/9f/1P/R/8//1//W/9P/1f/W/9D/zf/L/8z/z//V/9f/0//R/9T/0f/P/9P/0f/T/9D/0f/R/9T/0P/N/9b/1P/S/8//0f/T/9T/2f/T/9L/2f/Q/9P/2f/Y/9P/0f/U/9X/1f/S/9X/2f/X/9f/1f/b/9v/1v/U/9T/1v/T/9P/1P/S/9X/2f/W/9X/1f/a/9n/1P/Z/9r/0//V/9v/2v/X/9z/3P/Y/9H/1//Y/9f/3P/c/9z/2v/T/9X/2v/a/9v/3P/d/9v/2f/c/9r/2//c/97/3P/d/+D/2//X/9//5f/e/9z/2P/Y/9r/2P/Z/9r/3v/c/9//3v/b/93/3v/c/9j/2f/Z/9T/1v/Y/8z/0//a/9b/1P/Z/9H/1//d/9b/0//W/9b/2v/b/9P/1P/Y/9f/2f/b/+L/5P/e/9r/4f/j/93/2v/X/9P/2v/d/97/3v/d/9j/2//e/9j/3//b/93/3P/U/9r/2f/X/9n/1//X/93/1v/X/9z/1P/Y/93/1//a/9j/3f/e/9v/3P/g/97/3P/Y/9n/3//f/9r/3P/e/9//3v/g/+H/3f/h/93/3v/f/+f/6//k/+H/5v/o/+r/5v/m/+b/3//f/+T/5f/d/93/4P/h/+f/3P/Y/+P/6v/k/9//3//e/93/3//f/9z/4P/h/9//2f/e/9v/2f/i/93/3v/g/93/4P/h/+L/3//e/9//4f/k/9//3//i/9//2//h/+X/5//i/97/3v/i/97/4v/j/+b/4f/i/+z/4v/j/+b/3f/f/+L/3//c/93/3//j/9//4P/i/9r/2v/j/9v/2P/a/9j/3P/b/9v/2f/c/9//3P/e/+b/4//p/+n/4//j/93/3P/b/9z/2//c/9b/2f/b/9v/2//b/+H/4P/h/9//3//c/+D/5v/b/+L/3P/Y/+L/5P/e/93/3P/f/97/4//h/+L/4v/d/+X/6P/q/+P/5P/j/97/3f/j/9//3P/e/97/4//g/93/3//b/+H/4v/d/+H/3P/i/+P/3v/e/97/3P/c/9r/2f/b/93/3P/g/+X/4//i/+H/3//i/+P/4v/l/+L/4v/l/+D/3v/f/+H/5v/k/+L/4f/l/+L/3P/f/+P/3//m/+L/3f/j/+T/5f/k/+n/6//s/+f/5v/n/+b/5//i/+b/6v/l/+b/4//i/93/3f/i/+T/4//m/+j/3v/k/+P/4//k/+f/5//i/93/3//d/+H/6//i/+H/6//i/+f/5v/k/+L/5P/o/9//3f/c/+f/7P/j/+P/4f/k/+b/4v/l/+X/5P/o/+j/4//i/+T/4//q/+L/4//p/+b/6f/k/+L/4P/j/+P/4//g/+D/5P/a/+L/3//c/+b/4P/m/+b/5P/j/+T/4f/i/+H/3//j/+L/5P/j/+P/5v/j/+L/5P/j/+X/5//o/+r/4//i/+X/4v/i/+H/6f/s/+r/6v/p/+f/6P/v//D/6f/u//X/8P/v/+//8//y//b/8v/z/+7/6f/r/+j/6//k/+L/5f/r/+n/5//n/+j/8f/s/+b/7f/u/+3/7f/t/+b/6f/v/+//7P/t/+//7v/y/+//7f/w//D/7f/v//L/8v/u/+n/6//q/+z/8P/u//P/8f/u/+7/8v/1//L/8f/y/+3/8P/0//D/6//q/+r/7//y/+r/7//t/+r/7v/y//T/7f/p/+z/6//r/+z/5v/n/+3/7//x//D/8P/s/+z/8P/u/+z/8//w/+//8v/w//b/9v/y//H/8v/u/+7/7v/s/+z/6//x//T/6//t/+7/9P/1//H/7//y/+3/7f/s/+v/8P/v//D/8v/w/+7/8f/p/+n/6f/k/+j/6P/k/+b/5P/l/+3/6//v//D/6v/u//H/8f/r//j/9v/w//j/9f/z/+//8v/7//D/7v/u/+j/7P/v//L/9P/z//P/8f/v/+j/6f/v/+3/8P/r/+7/8v/s/+//8v/0//P/9f/1//X/8f/v//T/9v/z//f/+P/2//T/9P/0//f/+//0//H/+v/2//L/8v/0//T/8//0//P/9//y//P/9v/1//T/8P/3//r/7v/w//P/7v/z//L/+//+//f/+P/3//z//f/6//3//v/4//T/+v/1//b/+//6//T/7v/y//f//P/+//n/9v/6//7/+f/9//3/+v/0/////v/3//n//P/5//j/9//5//v/8v/1//7/+v/9//j//f8EAPv//P/6/wAAAwAEAAMA+//6/wEAAAACAAIA///+//v/+f/6/wQABgAAAP//AwAFAAAAAgALAAcAAQAFAAIAAwAEAP7/BQADAP7//v/+/wMAAQABAP////8AAP////8AAPv/+v8EAAkABQABAAUA/v/7/wQABAAFAAEAAAAFAAYABgAHAAQAAAAAAP7/CAANAAgABAACAAYACAAJAAsADAARAAkABwALAAsADQANAAsACAAFAAoADAAJAAsAEQAOAAsACAANABEAEQAPABAAEwARABkAFQATABkAHQAhABwAHQAfACEAJQAnACgAHwAhACcAKAAqACsALQAsACsALwAwADQAMAAsAC8AMQAvADAAMAAtACkAMQAxACgAMQA1ADEANAA5ADUANQA9AEsAbAB7AHgAdABsAG0AeQCJAIMAdAB7AIIAhACAAGkANgANAPr/3f+7/43/UP8j//b+yP6d/ln+E/7Y/a79j/1s/UX9H/0K/Qb9EP0j/Sb9Jv1E/X39wf0D/kD+gP7Q/jD/mP/y/z0AgQDXADABgwHTARcCTwKSAtsCGgNUA4IDmwO1A9sD9wP4A/UD8gPdA80DuAOOA1oDHQPdApcCSAL3AaMBSAH5ALEAZwAUAL3/dv8v/+T+pP5m/ir++P3E/aj9kv11/WX9Vv1Q/U39Vf1n/X/9mv3A/en9Gv5L/oH+v/79/jT/Yv+Z/8///v8xAGYAlQDCAOwAEQEyAVQBdQGGAZkBrAG9AcwB1AHXAdkB4wHkAfwBFAIbAgcC5wHQAbsBzgHXAboBlAGHAZABjQF9AUYB+gDDAKkAlQB1ACsA1/+l/43/Z/8v/+D+h/49/hz+9f2u/Vn9B/3F/Jr8afwi/NL7evsm+/z64/rT+vz6Lfs4+yv7Qvtq+7D7I/yG/Ln8Gf3R/Z/+ZP8NAHwAzQBQAf4BpAL9Ai8DdgPsA4cEIAV5BYwFmQXPBRUGPgY9BgMGvAWyBdIFxQWLBTIFtQQ9BPYDnQMAA0AClAESAaoAUgDn/1b/zf5r/ib+2/1o/fT8ifw//C78M/wl/Bf8IPws/IL8CP1e/XP9kf3e/Un++/6i/xEAYQDrAKQBUALjAiEDNANpA9MDRQSKBIkEaQRnBKAEtwSfBFAE3wOCA1EDGwOpAhUCcQHZAGkA7/8+/3T+qf3o/Dz8lvvg+h/6YvnA+F34L/gZ+Pz3x/d09zz3Z/e/9x/4ePjN+Ev5Qfpj+1j8HP2u/S3+8P7y/9UAYwHSAWQCOgNFBCAFqwX1BS4GnwY3B6gHyQe2B60H1QciCFIIKAjIB1kH8AaiBkgGoQXYBCEEngM9A9wCVgKuARABkAAyANP/SP+m/ir+4/23/ZH9aP0l/ej8zPzF/MD8p/yF/H/8pfzY/Bb9Wf2P/bn9//1U/pP+w/7p/hH/O/9t/5r/uf/M/8v/tv+i/3b/Mv/y/of+G/7X/b/9xf3B/av9ZP0a/dL8zPzR/K/8evx3/NP8Tv3o/WX+rv7P/hD/iv///ysALwBBAJMAEQGeARECUQJtAqYCDwN3A6wDrgO/A/MDVATBBAoFPQVNBU4FeAWGBWMFGwXPBI0EWgQzBAIEvQNcA/wCtQJiAu8BbwHrAHgAEQDG/3r/Lf/e/ov+Pf75/aX9Vf0X/df8pPyK/Ij8gPx3/Hf8bfxl/GD8XPxN/DP8FfwC/O/7yPud+6b7xfvi+//7Kfw0/CL8IPxK/IH8p/zc/ET9zP1y/iP/wP86AI0A3wBDAagB5AH7ASoCagK1AgcDSgNyA4IDhgOlA9AD4gPkA/YDHQRWBJ0E1gT0BPwE9QTxBO0EywSYBGgEOgQOBPMDygORA0gD+gKtAl8CCQKoAVUBCQG/AIcAWwAmAOX/n/9Y/xH/yP5y/h/+0/2Q/Vb9Iv3l/KL8YPwT/L77YPv9+pf6J/rI+Zn5nfml+Zv5kPmd+aT5mfmf+cr54/kK+nT6IPva+5b8Yv0b/rz+Vf/r/3gA5wA/AaMBMgLGAk0DzwM7BJgE6wQyBXQFpgW6BcUFBgZFBn0GvgbzBhIHEgcGB/YGwgZwBhUG2gWnBV4FJAXoBJwEOATUA2AD3QJPAsMBWgHrAH0AKADZ/4D/Gv/B/mb+/f2R/TT93/yU/E/8G/zr+6/7bfsi+876ZPrv+YD5/Ph6+DL4Ivgm+Cz4Svhs+Hz4ifiq+Mz46fgh+Xz5DvrU+rr7qfyW/X7+S/8DALEAQQGrARsCmQIfA7IDRgTTBFEFuwUVBlUGhwagBrkG4gYSB0MHege1B9cH4wfXB8EHjwc9B+gGlQY9BuQFlwVNBe8EfwQCBIgD/QJcAtIBSAHFAE8A8/+Y/zb/1/5+/in+sf1Q/dn8pfwq/en8sPyK/Nb72/qq+eP32/UX9Bvy0e9N7qPu1vD+8tD0kvb/9gz28fVS9s/1p/Q29Or1Yfj9+rP8qP6rAdYDFgYOCPUIPglhCRILcg68ETUU6BYfGpIbBhxTG3IYzhNZDzYMdgllBvUCkQAN/z79Mfsf+uj4MPcA91/5Z/zK/q8BzgUQCfEKIwygDIwLswn8CJYIqgcpBksFnwQjA6kANP6H+xD4D/Wc8zfyI/BA7rDs6urG6KLlxuFF3SrYYNTG0QzPB8pUxxXNqdq87K78nQu8F4ghISeEKjAp/CKEG9EY0BiIF3sT6QwzBdr9Dfgm80vuxemm6O/svPW8/jMGbgpgDuUSXBbAF7wY/BdOFtwWChgoFTAPFwlYA9n+0fuU+Tr4UPju+Tb+wgL1BO4FYwiqCjYM0w2ADsgN6gxRDaANNAyiCZoHyQVoA4cBmv/8/Fj6q/iy9072SvT28Qbwfe417ffrXenw5LXgDd493ETaLdez0YjNC9TB4ErvRAH1E38dsyIVKugpnx+WFe8NUAanAr8Bwv5k+Q31MPIA8j/0/faj+iAB4wpiFWcbsh3sHYMa5hRbEakN5AYOAkYAGf63++T5SPcU9qP3uvpP/9MEdgn8DaISERW7FE0TzxDNDYoLkQqZCKwEeQHt/xX+O/yV/Db9Kf4CAbUDiwRQBCADWgEwAPn95PqU+J31CfKH7yXq8+Jg3UjY7NMF0b7Og8tCyprP9d3r7ncApxVWKAouuS85MHQmDRcjDKkCGPlJ9IvxYu6n7ADsZe0+9Pv72gLMDN8YWSCjJGInxSRAHfAUHw0BBd/9Rvgk9TnzgvFD8dXzJPZ3+R0ApgfMDdQT5BjjGu0ZBxe4EkwOCwpFBroDEwHM/v/9Xv6R/lf+tv7T/xoBSwKwAzgEFQPYAeYAFf+C/Aj5AvVv8Q3uPeiw4ITZ+tQY0oLOyMt9yUHIus/J4Sj24ArrIFsvhDPlNJUvWyBTD8MBq/bI7zbtfeuA6iLrAO7G9A/9XQQMDQYYkiGFJ2IqyieFH8QVfwyMA8P6GfTy8GLwLPEC86P1mvjU/JwCMwnnD4UVYhkZHB4cyxjLE9QNSQfEAlAAa/0v+3b6Xfqh+rH8TAEaBT4Hrwi1CSQI+wQ0Avf+7ftU+vH4tvY+86/vxeoB5F3caNbT047Qls19zNDKd8v02NLs0v4vEk0nBzKcM6QxAyjHFrgFpfiJ72Xqb+jx6PrrTPC99Vv+HAcHD4EXcyCRJgUpvicbInIZDQ+6A736TPTj7rzs7e7q8QL1n/psAAgFwQoCESQV3hi2G9IaJBfYEoINQgj0BB0Crf+I/2AAUQC5ANEA/P+t/3cAjACXAHoAg/+a/sX9zfvS+VD3+vOV8ErsmeUL3YfVWc/5y7HK9sfUw27MB+A89CAH9Bs8K7YyWTayMHQi7BEuAZPzhO0T6fPk2OUc7L3xU/o2BMkMkhSBHaEkmCjJJ0Mjshw8FAEKlQBq+HXxQO8L8D7xNPQO+Y79EgOuCWUOiRHjFLsWahdVGIkV+A/2C9cHPwN1AdQASwBdAXoChALwAgsCeP8V/xH//v0Y/pj+TP3S+z36fPds9KfxiOyl5Zre+tdV0gfOv8t0yDXEb8rS257tmf2KEzAoqTJuOlg90y9LG1gL1fwr7FzgFNom2pHjh+9U+nAG4hAcGCQgKieiJ5AkcCIDHqsWMw3/AlD5jvEw7TDtWu+l8if40v+pBjoMmw+HEuoVnhYbFYAUOBKpDSsL4wnFBkYEQgOlAqoC6QGiANn/Pv6L/JT8Rfz5+uX6kftl+/r61/n695r09u5F6STjTNsK1eTQgM1jydjGIc0a3A3tCv7+EtAkPirlKtorWiQ/EGD+7/h69FHtO+3V8Xrz7PXy/bsFkgo9DrITBhweIYYfeh0EHAIVUAwyB0wBZvkj9kv3Y/kw+1/9KwHZBQsI5gkADbgOBA/EECYS2BC6DhwNPQxZCoQHqgXHBM4C3AAuABH/rPy0+8r7Jfuw+b74ufhX+Nf2nPQS8j3u0ecc4vHc69cM1U3SRM2GzD3Vn+FO70z/Xg40G1klPyhmI48aIw7lAaL6/fQO8ATwCvRy+Dz+SwQ1CEIM4xCDFA8YaRt3HGUaEhfNEgMN6wUDAJT84Pr4+iT9PACkAmQEAQfACVMLVAt6C6QMVg2iDegNJw1VCzoKpQk5CDIGBgQ3AjEB7f8c/g78FvrT9571KvSv8rPwu+6y7eTqoOZ847PhLN+I3IvZ8NQK1Y/dKOha8T39kQkoElMZeR1RGeQQoQkgA739ovoM+JD3BfvW/+0DOQgNC2oNfxL3FRYV/xSPFRITMBAjDkoJJgQ3AqgBpQEaAnQCzQMBB+8I8gitCR0KPAmNCYUKZwkrCNEIDgkWCVQJtwjSB0QHtgXQA6QBWv76+nL40PVC80Txr+7N6+Hp6Ocn5dHiPeIb4VLfhd1o2fLZTuK767PyNPz2B48P2xRXGPoVzw4SB0gC2/5G+7L4IPnu/IoBrAX0CbgM1A59EWYU6xTGE/QSxBGrD+gMmQnbBu4EZARMBEcEBQUUBiIHxQfICIYJQAgVB38HhwdxBpsGGQhaCL8IiwmQCa0IxQaUBCYCyv6W+sn2gvS98T3uE+xe6o7nreQw443i6+F44NPcS9lD3PPjFutu8If4mwJVCQQOgRLFEjAOngr1CaYGJwI9/0v+GP+OABIClQSQB+wJhQz6D+wQzBDEESYSpxDtDlkN9wpsCS8JqQj9BxwHlQbCB2IJqwhfBwsHgwUcBHwEewRNAz0EvgayB0YI+AiACPMGTgV5AmX+0fqA96LzuO/f61LpbeZc42HivuGu35HdzNt43P7hRei761vzc/5oA3UGjw0QEMgL9AnhCqMHoAPEAjICwgGrAvoDcAXbBg4IrAmsC80LNQwhDuoNEQ0fDgwOGQzLC8YMXgxYCzYLPgzeDDYLjAmoCD4GvwOiA8gDogL8AioFWAZOBkoGtwURBJMCJAGu/nH82/qy+A72HPTP8XPuc+sy6f7mqOR/4ZjdZN1u4mblTuft7vH1q/er/WoG6wWtA4AJywtBCGsJ5QopB8AGfwlpB/YEMwb2BYQFBweAB6cHCwmSCZYJ6Ap7CgAJgAqKDB8MzQxbD7sPOQ70DeEMCgrtB9EGGAWqA4wDkgMzAwYDDQOVAssBHAFRALT+wvxd+5764/ic9lD11PMm8UzvRu6368voHueN5ZnlFei46Vbroe8n8/L0IfmL/Wz+kQAEBA4EdAMmBrcGIAWvBrgIvgdhCGsK8AmUCEkJPwn3B4gHYQe5BlYGQwY1Bk0G5wbkB44IvQgFCbcJXAkyCIAHzAZMBVMELgSNA4ECnwKuArsBxgAPAJP+3/yk+xj6X/jF95P3yfaG9s/2RfYA9Tb0M/O48bzwaPDL73/v9/BH8mnyhPOA9Sn2Z/ZJ+Av6CfrF+9v+1/9WALECywNCA1EELwUMBG8ECwYYBi8GUQc1B5wGvAYhBt0EWQTZAwcDPwNuAyID5QO3BIoEsQQCBRoE7gM6BE4DXwLuAskCFQJfApECYQH3AE4BRAAw/z//4f7y/ef9vP28/ET8YfzL+yP78/qF+vj5s/mB+T35Tfmz+Qz6Z/rw+hv7NPt3+377U/t5+8f7Bvyp/LP9hv4w/x8AqQCgAFwAQQD1/9D/ZQAfAZ4BiAKLA/cDMgRWBCIEwAOrA4wDVwNmA6MDYwNDAxQDuQKcAuUCCQNVA6gD6APwA8QDdQPMAhYCsgFwAWoBmgG8AeEBEQLyAXYBLAHJAFAACAAAAOj/5P8iACUA0/97/yj/tv58/oP+mv64/gT/F//m/vn+D/+3/nL+dP54/l/+ov71/gz/Uv+T/3f/T/9U/x3/xf7l/kb/Yv+i/wcAEQANAGAAfgB7ANAAIAH5ABgBcAFJAewA4wDnALcAtADqAP0ABAExASoB6QDEAJ0AXgB7AMwA5QD/AC8BGwHfAHkAyP8r/7X+Sv4s/mv+5P5e/8z/BgAWAM7/Xf/M/kj+3v2G/Y390v0X/lD+Y/5l/i3+2v13/fz8ovyJ/HX8lPzo/DX9df14/VX9C/28/ID8WPxf/KP87/xI/Yv9rf2i/Yj9ZP1S/V39mP31/UT+oP7t/gb/BP///vD+6f4N/0//nv8JAGgApADXAPIA6wDrAPkADQE6AYgB1gEhAmoCpgLEAskCvQKkApICnALAAusCJQNlA5ADpQO+A8MDugPEA8cDvQOrA6UDiQNrA10DQQMgAyADHQMXAykDQAMyAzEDOAMgAwID+gLsAtUC0wLYAssC0wLjAtwC1gLrAu0C4wLoAvIC7wIBAwYDBgMJAw4DAwPuAuQC3QK1AqQCpwKSApkCqAKgAqMCqQKdAo4CkAKRAoICdQJzAmcCVgJRAjQCFAIVAgAC6AHxAewB1wHOAbsBmgF3AVIBHgHyANcAwACrAKkAqwCgAJQAggBdAD4AGADp/8D/q/+a/4j/if+K/4j/hf9+/2//Y/9V/0T/Ov9A/0L/Pf8+/z3/PP88/y3/H/8P//7+7P7l/tb+zv7N/sj+xf6//r3+tv6u/rT+sP6t/rP+q/6p/rD+sf63/rv+yP7V/tv+7f74/gL/Ef8i/zP/Qv9W/2P/b/9//4j/mv+k/6L/oP+e/5z/nf+i/6v/tP/M/+T/+f8VAB4AMgBAAEUATwBQAGAAawByAIcAlgCqAMgA2gDiAPoAEAEUAR4BKwEyATsBOwFDAUkBSgFSAWIBaQFrAXABdAF0AW0BaQFpAWUBWwFWAVoBXwFdAWsBcQFuAXgBdgFtAWkBaQFrAWUBaQFzAXIBdwF6AXcBewF8AXoBcAFnAVoBTgFCATgBKwElARsBFQEMAQMBBgEAAfgA8ADnAOkA6gDkAOQA5gDhANwA1ADIAL0AqgCdAIsAdABlAFYARAA5ADQAMAAyAC4ANgA0ADUAMwAuACQAFgANAAIA7v/a/9T/wf+s/6f/of+Y/5P/k/+Q/5P/nf+p/67/uP+9/8H/x//J/8z/z//M/8T/u/+z/6L/i/98/3L/cf9r/2z/dv+A/4n/m/+q/7X/wP/I/8//0P/T/9X/zf/P/9T/zf/L/8P/vv/C/7z/tv+5/7T/uf/A/73/yf/Q/87/y//P/8L/tP+1/6n/qf+z/7j/vf/F/83/2v/h/+X/6P/r/+b/5P/k/+L/3//i/+L/3//i/+P/3//g/+L/5f/v//b//v8CAAgABAD8////+//w/+f/2//W/9r/2f/Y/97/3v/e/+D/5P/s//X/AgAMABUAIQAlAB8AHgAYAAsA/P/r/+P/1//Q/83/zP/O/9L/2P/f/+D/2//l/+L/1//Y/8r/vv+y/6z/o/+c/6H/of+m/6P/sv+8/73/xf/H/8j/0v/V/9T/y//A/8H/uP+p/6L/lf+J/3r/df91/27/af9q/2b/Yv9l/2n/Z/9m/2P/Yf9k/2r/aP9o/3T/df9t/3H/Z/9g/2X/Xf9c/2D/Xv9h/2P/Yv9j/2H/Yf9b/07/Sv9I/0D/N/8u/yb/IP8e/xv/Ff8S/xH/FP8R/xH/Ef8I/xH/FP8N/xD/Dv8a/yD/H/8k/y//L/8s/y7/Mf8l/xT/Dv8A/+/+7/7l/ub+4f7i/u7+8f7r/vL++/71/vT+BP/4/vT+Bf8I/xT/FP8p/yr/NP82/zL/Lv8z/zb/Kf8v/yv/MP8w/zL/Pv9D/0X/Rf9O/1P/XP9b/1b/Y/9l/2X/Zv9j/2v/bv9r/3L/b/9z/3T/ef9+/4P/h/+O/5P/lv+n/7X/u/+7/8L/yf/K/8j/xP+7/7f/uP+x/6n/ov+i/5z/of+q/6z/qv+1/8L/wv/I/9P/2P/e/+T/6f/q//D/9v/w/+z/7v/v/+f/4P/i/+T/6P/y//b/8//2//X//f8DAAQABwAEAA4ADQAQABIAEQAPABIAFAASABMAEQAVABIAFQASAA8ADgAIAAgADAAMAAgACAAKAAoACQAHAAEABAACAPr/8v/2//H/5f/i/9j/0f/O/87/yP/E/77/wv/G/8T/yv/O/9P/4f/h/+X/7v/n/+r/5v/i/9n/0v/Q/8//yv/F/8P/xP/D/8H/x//K/8//0v/W/9n/2//e/+r/+P/4//j/+v/8//b/9f/x//L/9v/w//L/9f/9//n/9P/3/+7/8v/9//v/+f8EAAMABwAJAAEABAAFAP3/AgABAPr//v/0//X////6//P/9/////r//P8FAAYACAAEAAgAEAASABEAHAAeACIAKgAiACQAIwAjACEAGgAWAA0ADQANAAsACAAHAAcADgAHAAgAFAAXABsAHwAcACEAKgAmACIAIgAgAB8AHAAdABsAFgAUAA8ADgAKAAcACwAEAAUABwACAAIAAgD+//7/AQD6//T/8f/t/+z/5//j/93/4P/j/+L/4//h/+b/3//W/9v/3v/b/9X/1P/V/9H/yv/K/9H/z//P/83/zv/L/83/0f/Q/9L/z//M/83/yP/H/8X/w//B/7z/wv/A/7j/x//R/8v/0f/c/93/4//e/97/5//v/+r/7v/y/+7/7//s/+n/6v/s//L/9P/u//D/9P/y//L/9v/z//b/9//3//v/9//3//r/8//s//L/8P/q/+7/6v/n//D/6//n/+f/6P/m/97/2//X/9T/zv/K/8X/wP+4/7P/tv+2/63/o/+g/6L/nf+P/4n/gP91/2//a/9n/1v/Tv9L/0j/Rv9F/0T/Pv86/zn/OP81/zL/N/85/zj/PP87/zv/Nv8u/zT/Nv8v/zL/Nv81/zv/Pf9D/0b/S/9S/1T/Wv9i/2z/b/9r/27/ff+A/3z/g/+Q/5X/lP+Z/53/qv+4/77/v//B/9T/3//i/+j/9f/5/wMABwAJAA8AFQAiAB8AGQAgACYALQAxADoAPQBAAEsAUQBaAF8AYgBhAGYAaQBoAG4AbwBsAG8AaQBrAG0AawBrAFwAWwBSAE4AUQBJAEQANwAtAC4AJgAaABgAFQAIAAAA8f/o/+D/2f/W/87/x/+7/7P/rP+e/5X/jv+C/4L/fv9y/23/bv90/2n/XP9Z/1P/Xv9c/1f/V/9g/1v/WP9b/1L/Wf9d/2D/av9s/3L/c/96/4L/h/+a/63/uP/B/87/1//k/+7/+f8OABsALgA7AEIASwBTAFgAaABzAHwAiACTAJwAqAC5AMMA3ADjAOcA7gAFASEBLAFAAUkBVwFpAYoBXQHdAXMD+gN1A2ACUgGlAPAAAALlAswD7AOXA9gCxAH9AIsAvAAxAdMBSAI6AssBBQElAIb/JAAWAbYBKgJKAlMCyQEGAYgAlQAFAVgBxwEaAiwCzgEbAZIATwBkAH8AEwEVAl0C2wHFAAYA4P/x/1gA5ACRAdgBjgFIAdsAWwD9/wwArQBpAdQBrgFHAdMAPQCw/2X/mP8HAGkAjABtAC0Awf9g/yj/O/+a//z/TABsAHcAYQAUANH/vP/P//7/MgBMAEsAMAD0/6j/df9s/4r/uv/S/8X/rP+J/1n/M/8l/y7/Qf9g/4H/l/+b/5n/gf9e/2D/iP+x/7P/rP+b/3r/i/9fAFIBgQHPAJD/vv5y/qb+ff+WAGwBVAGbAJn/nf5G/mv+4/5c/8z//v+O/9f+8/2D/aD97/3C/mL/mv95/9D+N/60/Zj99/1l/uf+//69/nP++v24/aT9w/0T/jr+WP42/sP9Zv0+/Vn9ev2f/eX97f28/Wn9J/1B/Vz9dP15/ZH9m/1q/XH9Vf0//R79Ov10/Xv9nf2j/X39S/0b/QT9Gv1//b/9g/13/Tz9/Pw7/Z/9sv2M/ZD9zf2H/Ub9Lv18/eH9uP17/Zr9/P3I/Qb9dv1S/nL+JP78/fr9T/48/uT9Tf7k/gX/Rv4E/pX+wv53/rn++v76/sr+8f4H/wb/5/5L/6f/l/8n/4L/6v/C/4//iP9QAEgA8P/M/+f/OgAcAC0ALwCyAC8BQABKAHEAiAC+AP8AfwHpADEBgAH+AOwATwGOAW0BjQGIAW0BXwFKAc8B9wEnAhICmAHQAewBSAI2AgMCcgJNAkUCIwLoAT0CSwJ4AowCFgI6AlACYAJIAnkCfAK4AU0CFgNYAigB5gEAA34CpAGNAsICCQKjAQ4CrgIZAvoBewKsAgoCigHfAWwCPAIzAjcCCgLJAdcB7QFBAu8BrgHIAfwBwwFUAbIBRAIVAogBiQHfAc0BSQGaAUAC5AH5ABgBlgFOASwBOgFJATYB5gDLAJIAqAAEAcgACAHlAMQAbQBwANYAnQChAMgAkgCdAGEAOwAIAGAAmQBBAC0AXACDAPH/kf8hAFQATAAzANb/HADL//X/2v/1/zQAHgAiACgA4/+j/87/IwA7AB0ANAAxAMX/qf8JAA0AIgBZACcA/P/+/+D/xP8VADUAFQBBAE4A7P+6/+P/EQAPADsAYAAeAPH/1f/k//j/FQBpAEAAJAD//8f/8v8FAFcAYgAtADcAcQBLAPD/UwCSAFIAUgBtAEsAGQAnAC8AUABiAEEAOwBQAA8AMABMACYAMQADAC8AXwAbAAUARgALAOj/RQBfAAwAEABdACcAGgAXAAcAIgA0ACEAJwA7ACAAFAAuAB8AGwD+/wMAPABIACYAHADj/w4AQQAdAEIALAAJAAUABQAzAEYACwD2/yEADwANACkACQD3/+T/6/////b//f/r/+//8//f/9f/9v/7/9n/4P/p/83/4P/p/+z/9//h/83/yf/Z/+z/4P/b/9z/2v/S/9D/4P/n/9v/3//i/9f/3f+//9j/4v/i/97/xP/S/8v/v//g//L/5P/X/9L/0f/C/8//4v/H/+D/4P/W/8r/wP/d/8z/v//a/9v/2//D/8//5v/J/73/1v/i/9r/yP/R/93/xf/O/9X/vf/V/8v/zv/c/9n/1v/F/8X/vv/J/9D/wv/G/9T/0f+9/7v/tv+6/7b/s//a/9X/u//L/77/yf+w/7v/1v/E/7z/v/+8/7r/r/+8/8b/tf/J/8L/uP/N/8T/p/+2/7v/uv+//7v/v/+8/7j/v/++/7//wP+0/8D/wf+5/7j/v//B/7n/xv/J/7r/wv/J/8b/zf/Q/8j/3P/W/8v/0P/Y/9X/zf/Z/+H/1v/X/8j/xf/e/8//z//s/9L/0v/b/9j/0P/N/9n/1v/T/97/1P/Q/93/y//P/8//xf/U/9f/2v/S/8n/1f/Y/8D/2//I/8//3P++/+P/4v/g/+b/0v/S//L/0f/g//3/3v/h/+j/5v/k/+j/4//j//f/7P/q/+n/6//f/9v/4P/l//f/6//m/+j/3f/e/+n/3//r/+n/6//o/9z/3v/Y/+H/zv/V/9v/0//Q/9n/6f/M/+j/yP/Q/+f/tP/i/9P/1v/a/8D/0//K/8D/yf/P/8z/z//K/8D/vf/I/8v/qv/k/8z/nf/h/9L/u//F/8//w/+9/8D/0P/E/8f/w//J/9f/wP/W/97/yv/L/9r/1f/X/8b/0v/i/9v/yP/Y/9//wP/c/9b/y//b/9n/5v/U/9P/4f/G/8//1f/P/93/zv/N/9r/yv/T/8n/0//Y/8H/0f/M/8n/zf/T/9D/2v/X/87/3v/R/97/4f/T/97/zP/S/93/2//S/9v/3P/R/9v/2f/T/8j/2P/e/9r/4v/T/9r/1f/S/9z/y//P/9//2v/d/+j/1f/P/9z/1f/X/97/2P/d/+D/4//d/9r/3f/c/+r/6P/q/+//5v/v/+j/3f/x/+z/4f/y/+r/3//3//L/5v/6//H/7//y/+v/7f/o/+//8P/l//H/8P/k/+j/7v/m/+n/8P/n/+r/7f/y//P/7v/t/+v/7//y//P/8v/u/+//7//q/+3/7f/2//P/+v/8/+v/7P/t//D/AQAAAOr/9//2/+7////2//7/FgDV/77/HQAAANr/HwALAOv//v/p//3/EAD5//z/CQALAAQA9P/9//7/4v/k/w0ADgDq//P/EgAEAPr/AAD+/xEAAwD+/xYACwABAAMA//8JAAoA/P8GAA4AAQAEAAQACwAMAAIADgAUAA4ABwAHAA0AAgD//wsADQAMABIADAAMAAwAAwAHAAcAAAAKABsAEQANAA0A+/8AAAoA/v/7/w0ACQADABMA///7/wYA//8GAAcACgAUAA0ADwAWAAkAEAAWAAAAEgAXAAoAEAARAAwAEQAOAA0ADwAJAA4AEQAKAAYAEQAeABMADQANABEAEQAOABsAEgAWAB4AEwASABUATQADAN3/NAACAPz/OwAmABsADwAAAA8ACAACABkAGQAQAB0AHAAQAAAACgAVABkAFwAZABoAIAAZABoAHgAPAB8AIgANABsAGwAVACYAJAAeACwAIQAcACAAHAAcAB8ALQAlAB8AKAAlACYAJAAiACMAKgAfACgALwAhABkAJgApAB4AGwAgABoAFAAkACsAJQAcACIAIgAWACwANQAoADIANQAgACMALAAWABwAKwAbACQAKAAVACIAHwAcACcAKgApACAAHwAfAB8AKwAhACMAKAAkADEAKAAfADIALgAhACwANQAgAB8ALQAqAB0AIQAkACUAMgAaACUANwAaADEANgAhAB0ALAAoAA8AFAAwABwAEgAiABoAGwAXAAgAGwAQAAYAJgATAAUAIgASABIAHAAJAB0AKQAUACUAGQAIACMAGwAWACQAGwAoACcAEwArAC8AFQAfAC0AJgAXABoAJQAXACQALQAoACoAGAAfACAAMAAmABoAPwAvABwAKAAbABoAJwApAD4APgAoAEEANAAWADQAMQAfABkAJwAsACQAOAAyACIANAAvABkAMAA1ABoAPQA3ABoAQAAvABgARwA7AEcAaQBRAH8AjABUAGYAhQAeAT4BdQBAAHsAagAuAPb/JQBAANb/1P8jAAIA1//9/xsA9//u//P/EQAnACUAYwCeAMEA/gD9AaACaQGRAGgBQgFMAGQAjQAtAPL/CQBQAFsABwATAC4A2v/j/x8AFAAdABcADwArAPn/6/8hAA8A/P/V/wIAKgDA/9r/+f/B/+z/4f8IAHIAQwBmAKUBdQIDApcBbwEzAQYBgABLAJoAFQB+/8f/ZP/7/jr/WP8Z/7r+5P4F/9j+wf7//l//J//G/h//bv8I/wn/Yv+p/5z/Vv9Y/67/s/9K/4X/x/+C/7b/xv9J/2T/pf9m/4X/xP9B/3H/3v9t/3P/m/+U/5v/Uv+Z//T/hv98/6P/ev+c/5n/8/9AAKn/uv89AKj/4v9SAAcAQwCGAFcAnQB+AHMArQB5ALUA1wAeAK4A0ADA/3YAgQCT/x0AggBhAAcAAgDpAC8AbP9gACEBQQAyAMsBPQG7AAMBFAHZAj0DQQKyAhAD2wJJAkcCtwLuAVoBkwHYALIASACA/18Aef9A/yAAH/8t/2//q/4c/5v/QwBnAUIBhABwAO4AEwHkAOQAtQBfAGkA+f+q/3UAQgDz/1AAvP8w/1L/L/+y/p/+kP9Q/3r/igA5/7/+BADN/8j/o/5z/+AAZ/8L/6QAbQC1/+r/EgBdAGsAUv9//0AAv/99/xEAvwBxALX/XwBDAdoAlwG4AuACCQKnAYECEwJ0AdsB8gGTAQEBegDzAHsAEgADAF8AywBb/2b/GAD7/qX+H/85/xT/Vf8XAGAARgCOAOgAKwAGAOoAiwH3AK0AWQAWACkAnP8bAFsAY/9H/7P/agA+/4f+sv9O/+b+Qv9y/xv/6v4W/xv/Yf/2/6X/Sv/R/v399/2//ST+7f+S/y//1v/r/ij+ef6Q/sn+sP/aACIBd/8L/5cAeP9z/ssAogGH/8b/9gBwAJ//SP9ZAKcAFAAZ/2z/NQBe/3P+ZP8/ACT+/v3B//3+G/5C/3AAuf6v/Yr/6ACPAJD/DQE7AY3/Iv8DAP3/vP5U/2EBJwG6/yP/9//V/mb9i/4HAI/+Dv7v/pf+gPyg/CL+1v2A/Vj+5v4+/vv9Lv7z/Sf+sv5e/24AhQDL/57/c/+OAIkAOAAvAWcALgBiABAAigAWAfsAaAADABkALv8t/9QASgELAdwAGAG7ANv/TwBmAJ4AigDLAH4BIQCi/vH+Zf8v/0r/5//w/9T+6v5o/y//CP9q//r/av+s/rj/EwCu/8r/XwBuACkARABJAKH/EP8+/y7/if+J/3T/dv+8/zn/Kf6K/gr++/2E/1gAKwDJ/6r/2v9x/1r/egCbAZ0BRQGjAf8ARgCpABkBGQEFAUMBKwIrAlYBhAF9AeYAGQFAAq0CUQJqAooCawKpAb0BfAJUAqsCGwNLAwMDpwLWAsACsQIbA2ADYgMmA80C/QJCA08DcQN8A0cDzgLLAu8CCAPiAroCsQI4Ap8BVAFJASgBDwHFANkAyQC4AOkARAEhAewAGQGxABgAEgByAMkAxgD+ABcB6gDvAPEAxwDDAPAA2QDzAAwBMAFlAaMBlwFNAXUBnQGVAeYBBQLmAcQBZAE/ARsB1gC6AG8AMwD0/9j/xf+J/0j/8f6e/pr+0/4c/zz/MP9U/53/j/+Z/+n/+f8EAGUAmQBAAAQAFgDl/6T/o/+j//v/TQA/AGgAfAAVAN//FAA2AGEArQAFAfEAtgDuACEB8wDxAD4BbQGDAbQBhgFFATgB8QC4AJcAQAAjAEcAWQBgAIIAgAA8AAcA/v/R/8b/+f8WADIAhQCzAJ4AgQA+AAYADgAcABcAWwB8AKYA9QDmAJ8AcgBKAB0AJwBSAI4AvACsAHEA+/+o/4//gv9i/4b/vv+8/8z/vf9p/yH/Cf/O/rz+tP6f/ov+XP47/hb+2v2E/Ur9Sf1G/Vz9sP26/Yf9M/35/Pb8zfzQ/Bv9Iv0U/S79Vf1I/Xb94f0a/v39//1C/pn+5/5B/6r/6P8NADwAZQBkAJoAEgFXAWsBfgFZAfAArQCiAIoAegBxAIUAegBTABcAzP93/zH/Dv/x/v3+FP9C/3r/bf8P/9z+xf6E/nn+nf6T/pr+1v70/s3+o/59/if+8P30/Sr+P/5U/mv+eP5o/jT+CP73/e/9Gf50/qT+p/67/rD+hf6C/r/+Bv9O/4n/4f8KAAkAJwA4ADgALAA+AFsAeABjACUABwDr/6//1v8SABMAWACtAMkAzwCqAHwAQgAFAAMAEAD8//n/FQAHAK//dv9v/0b/Hv8Y/zX/8v6F/lH+PP4H/uj9GP44/jj+af59/mb+aP58/pH+cP49/kX+Sv4r/jP+If7q/b/94P3o/b790v3m/c79xP2z/YP9UP1a/Wj9RP06/Vf9mf2i/Yn9rP2m/aL9xf3Y/d797P3z/fD9Dv5S/tv+h//z/zgAVgAZABcAWwCsAB4BjwH5AUoCiQKNAkUC+wEDAl0C/AJvA8MDEARABFIEMQTiA7kDpwOwA/4DWQSABKgEugRvBB8EAwTgA6cDfANiA3MDhQNaAxEDqAItAsYBiQFAAcIAYAAXAM7/u/+7/43/U/8Z/8j+bP4o/gj+7/3y/T3+pv7V/uz+3v6l/nD+Sf46/oP+7v49/63/HwBeAHoAagBeAFAAYACKALYAHQFdAYYB2wEQAiECPgI8AhsCMAJOAkMCRQJmAl8CVgJKAiIC9AHgARECMQIwAkYCXwJlAlICBQKHATMBFAENAfMAuwCLAEsA8f94/wf/n/4v/vX9uv1N/Q398/zC/Kf85vwx/VH9Xv1o/Wb9WP1T/Xz94/0t/mH+oP6s/oz+cf5W/jf+N/6N/hL/Yv95/2H//P6M/lL+DP7L/dT96/31/RD+O/5c/nb+VP4T/gD+9v3u/TH+i/7O/jf/qv/A/8T/w/+C/2v/kP+N/5z/2P8TAC8AKwAzANT/Pf8I//v+8v4l/5H/x/+v/9j/+/+c/0H/+v7D/qX+k/61/t7+5/70/g3/9P55/hT+xP04/eL88/wC/f/8KP1w/VL9BP3h/Hz8Jfz5+8X7uvvo+x/8Zvyc/Jb8Pvzd+337+/rM+gb7GvtE+6D7qPuG+3n7R/vv+r/6ifpY+pn6Gvux+2X8Cf1q/Yf9yP3//SL+gf4g/8X/dQBdAUsCFAOWA/0DSQSEBLUE+gRmBbgFMQbwBoIHswfLB/MHxQeNB6gH0wfSBx8IkwjBCLYIqwhxCAkIpgc9B9sGtwalBqMGvAaVBjIGwwUeBUkEnwMfA5QCEQLMAYoBKwHWAHoA+P96//j+bv7h/Uf9ifzO+y/7ifoA+qL5Sfm8+Cb4rPcy96f2VfYU9sf1mfV19Vf1O/VB9XX1rfXp9V72Lvfj97b4pPmk+p37avw1/fP9wv6E/5AAngGnAtcDHAU/BkAHRggjCbkJPQrKCjsLqwv+CzsMZwxKDEEMaAxGDBcMMAwvDOULwQuwC1IL+wqpCi4KswktCZUI8gc7B40GBAahBScFrQQtBGcDiQKYAV8AHf/u/bL8nPur+rD51/gm+Ff3k/bD9c306fM484jy8vF28QbxjvAs8Onv0e/w7x7wuPCV8ULyPfOR9IX1YfYk9yb4Ifkl+nL7v/wE/kD/oQDlAfoCoANYBPAEswWhBjUHvgdPCOoIjgkWCoEKngqHCrcK8QoICwoL5goCCzILVAtFC9gKaQohCuoJqQktCaQIEAhTB4oGqwW3BLMDzwImAkQBMAAx/yD+Gf0E/Lv6afkw+BP3FfYu9Vj0e/PE8iTyhPEA8VzwwO9Q7wrvwO5x7rbuPO+77xXwyvCD8Rjy7vI29H/1oPYU+Lf5Ivs6/KT97f7o/9MAWQKyA4YEmQXyBrQHbQg3CboJ8QkZCnEKvQrtCh8LcQvyCw4MAAwWDPwLngubC7oLywvIC9wL6wuoC0oL2wp+CvYJTwn/CLQI8QchB2IGWQUGBM0CxgGIAGT/dP5n/Tn8FvsQ+vT4tfeC9mb1UvRf813ygPGL8IXvtu4K7m7tVu3I7ejtM+6/7nPv8++y8OLxJPMh9LL1afcC+bT6SfzJ/f7+SADVAR8DLQRLBWYGKAfYB8kIWAlUCYYJ2wnNCeMJBworChAK+wljCt8K9goACy8LcQuBC7cLPwxtDHMMqAwSDTMN/QzbDK8MOQy6C0gLmQqJCXoIlAd3BvsEcwP8AYYAIv/0/dL8fvse+uX4gPfq9V707vKJ8Wbwc++F7nDtVexn6x7rX+un6xrsvuxX7djtme6F75jw8fFn82P1hfc7+eX6kvz2/TH/6QCMAs8DAQWPBqgHQAi+CCUJQAlSCZQJCAomCicKNwotCvcJqQmMCasJ7gljCuIKFQstCzILSAtYC4cLzgsKDEoMfQxqDCYMpwsAC1sKsAn0CBgIKwcUBqwEJQOuAQMAdv4W/cD7ePof+dX3XPax9B/zqvFs8BnvE+5F7T7s+Osh7C/srewg7dbtru6679HwQ/L08/T18fdh+WT7VP0r/5EAawKUBBkGaAcOCVQKowr1CsILDgy0C9MLLAzPC0QL9ApgCnYJewhACO0HXwctB3cHeAcgBwcHDgfHBosGDweqB9MH/AdYCGQIFQjSB7AHKwelBigGwgXjBJQDTwK8APD+Ov3Q+2r6FfnV9772TPVj85bx6e9Q7gLtCuxf64bqkemG6cjp/ulT6i7rTexR7abutPB58rrzNPV09xv6K/w+/oEAWQIZBBoGPAijCXgKlgvyDJEN7w1VDnwO/g2ZDa0NOQ0fDGcL1govCkEJkQglCEMHqwbJBu4GrgZqBnsGiAZeBssGPAdpB5QH/AdwCHIIHwgMCMgHMQfhBoMG1QWmBH0DbgLdAC//v/1E/Mn6Zfkj+LP22vQd84Hx8u+Y7pDtpuzq69DrMuxi7GzsH+3y7eDuH/D+8dLztPVg9375ift4/XX/eQGEA1EFYQddCdYK3gveDJQNKQ6ZDhgPMg/lDp0OIA5fDYUMrAu3CtYJ4Qg3CGMHhgavBQIFmQQ4BMcDfQMhA9UC1wLQAucCBQM4A24DcQNJAy4D3wKXAlgCAQJ3AcsAGwA0/xn+7Pze+9P6//kv+Uj4Kvfk9Zr0iPOK8t3xc/EP8cDwzfAG8STxR/Hx8QLz/PPd9ND1wfa+91r5xPor/J39HP+7ADACjAPaBC0GeAetCLwJmQo9C+ULdgzbDCwNZg19DYYNcA0iDbAMPgzBCzsLtwpGCrwJAwlsCMcHHQdqBs0FVwWzBEUExQNAA9ACQQLRAVEBIwHBAP7/gf8y/+D+Rv6c/Vf9Pv1p/Cv8cvsm+/r6n/p3+ln6+PkG+mb5Qvn8+Bn5b/kM+U/5kPmR+Vv5pfkw+pH64fpB++v7O/xa/OT8Sf34/X/+DP/R/0cApwAOAZIBEAJyAvACcwPYAxcEOARrBJYEwQTdBAAFMQU1BTYFIAULBfYE4ATYBNEEugSmBJAEbQRNBCwEEQT4A+EDuwOcA38DUQMkA/4C3AK0AogCYQIsAvMBxAGOAVMBJAHuALUAggBIABYA1/+o/3n/TP8m//v+1P6q/or+aP5L/jf+GP4D/vb95/3X/cf9yP3I/cz90/3X/eL95/3t/QH+DP4h/jz+UP5r/n/+mf6q/rv+2f70/gz/Kv9C/1T/cP97/5D/p/+0/9n/6P/7/xYAFQArAGYAIgBFAFIAQwBrAFsAcAByAGMAawBsAHQAbgBiAG0AaABYAFUATwA/ADkAMAAlABoACgD///j/8//q/97/1//I/7b/r/+o/5P/k/+H/3L/bP9l/1r/Uf88/zP/Jf8c/xj/Df8H/wL/+/72/vf+8v7o/uf+6P71/uz+6f75/u7+7f72/vb++/7+/gr/Dv8L/xX/F/8m/yz/J/85/0L/Rf9L/1j/Wv9j/2z/ev+D/4j/lv+T/6H/rP+x/77/u/+//8b/yf/N/9P/3P/h/9//6P/w//H/+v8AAAIADAASABcAIwAfACEALAAzADcAPQA4AEIAJgBTAFEAMwBCAEsAYABEADwAWQBOADoARwBNAEkARgBGAE8ASAA8AEIARABKAEMAPABBADkANgAxADEAMAAjACMAFgAVABQADQAMAAAA/f/9//b/9f/y/+7/7P/j/9//3P/Z/9r/3f/X/9j/3//h/+T/4P/g/+j/8//n/+n/+f/s//b//f8AAA0ACQAKABUAHAAbACMAKQAwADAANQA/AD8APwBGAEcARwBKAEkATQBJAEgATwBPAFIATABQAE0ASgBSAFAATQBMAEsATQBMAEMAPABCAEIARABQAEoARQBHAEgASABIAE8ARwBPAE0ASABHAEsAPABRAFEAMwBbADsAQgBSAD0AUgBEAEEASQA8AD8AQAA/AEQAPABBAD8AOgBGAD4APgA+AD8AQgBFAEgAPgBJAEYARwBNAE8AUgBSAFQAVABWAE8ATQBMAE4AUQBOAE8ATgBIAEQAQwBIAD8ANwA3ADYAOQAzAC8AMAAwACoAKAAoACQAIgAiACgAKgAqAC0ALgAwADcANQA0ADkAOwBAAEIARgBAAE0ATAAqAE0AOAA2AEYALwBDADUAKQA5ACYAJAAmAB0AGQAcAB0AFgAXAB4AFgAXABQAEwAUABsAHgAVABwAHAAbACEAIwAgACAAJwAlACoAMAA1ADgANQAzAC4APwA1ADMAQAAvADcAMQAyADcAMAAxACgAJwAjABwAHAAWABMADwALAAUADAAMAAYABwAKABAACQAKAAYACwAQABAAEwAXABwAHAAhACEAHgAiACEAGAAdACUAKQAZAA8AHAASAAAACAAJAAQAAwD+/wIA+v/5/wQAAQD7//v//v/+/wIA/f8DAAgABwAHAAsAEQAOABIAEwAUABgAFQAfAB0AHgAfACAAGAAbACAAGgAbABsAGwAgABkAFAAVABAADQAJAAsACgAKAAgAAwABAAUABwACAP7/AgAEAAYA//8EAAYACQAGAAYACwALABIADgAJAAgACAAPAA0ADwAKAAQACAAGAAcACgADAAIAAwAEAAEAAQD7//z/BwAAAP3/AwD///3/AwACAAEAAAAAAAEAAAACAAUABwAGAAUABwAJAAoADgAKAAsADgAFAAcACQAKAAwAAwAGAAIAAQD9//v//v////n//f////v/9f/y//b/8//1//z/+f/2//r//v/7//r/+//1//f////6//b/+v/1//H/8P/y//X/8//v/+7/7P/y//X/7//x/+z/7P/w/+7/6v/n/+v/7f/s//H/7v/y//X/8//0//n/AwD+//f/+f/2//z/AAD6//n/+f/5//X/7//2//P/8f/z//f/9v/u//P/8v/w//P/6v/u//L/6f/r/+v/6f/v/+r/7P/r/+D/4//k/+f/6//l/+X/4//j/+P/2//k/9z/2P/f/97/3//g/9n/1//d/9v/3P/b/9X/0f/c/9v/1f/U/9j/2v/W/9v/3v/g/9//4//j/+H/4//u/+3/6v/r/+z/7f/x/+7/8f/z/+7/8P/z//L/+v/9//L/+v/8//X/AwABAP3/CAAFAA8AEgAjAEAAUADfAcUBVwBpACoAwv/0//H/uv+r/63/rP+C/5H/ef+X/6T/Sf+6/17/z/+A/6P/4/9r/9j/tf+K//L/if+V/8r/Zf+F/87/cf9f/7T/ff+L/+H/kP+0/8b/uP/w/8X/+//t/9X/AwD0/xAAEgAEABMABwD//wkA8v/n////3v/T/+X/4f/Q/+L/3//S/7j/5P/J/7n/yv/B/9H/z//G/8P/zP/O/93/2f/c/+z/yf/p/+P/yv/u/9b/0v/g/9X/5f/n/83/2v/d/8j/6//g/8f/5P/d/9T/yP/H/+j/0P/b/9T/wP/Z/7//z//p/8b/wP/7/8X/zv/h/7n/AACl/8j/1/+M/woAn/+2//T/nP/i/9D/0P/x//L/AgADACEAIwD//zQAQQApAEcAjQAEABcA3gCp/3EAXgBe/8QAVACB/0oAkwCP/woAqgB7/2YAQAAzAJgAAQBnAPwArP+XAPcAYP9bAf3/mgCgAJT/sAF+/+n/5wH3/qsAoQAEALP/AAGR/37/WwLz/QUBwAAx/2oB0v52AUIAqP/iADQAOgDVAC8Ah//8Adr/hP9tAbQAwv/WAHAB9/5KAqz/aQCfAA8A2QCv/3oB/v6zAUMAb/+4AUoAg/+dASH/kgC3ACb//ACp/3cAIP/3AcP9kAEGAQn91APr/oT/QgIn/vkBsf94/lYDyvxqAtT/o/1cAyf9KgLW/zX8BwVo/av+GANZ/g4AGAEbAKT/qADK/2cAPAATAHcBrv5mAFMBEf9EAOsASv8bAKoAKP+8Aiv8cQK7/1n9vwRM/IoBewH6/r0A5f/KAQH+iwFrAQT+tAF//kQB/P16AE8AQQBH/mEAfv9u/bcCYP3p/6MCQPwIAm0A6/7E/6v/pAA8/+T+wv9QANv92wBK/dAAMP9f/fEDS/0s/NAGO/oyAFwCQvwdAqX+j/9XAWEBRvz8APYCMf3O/psE1Pq3AG8EZ/kqBBkASfsIBub7ewAgA5P+UgIm/R0DywCe/X8CZwA3/oICxP7KAP0ASf6HAMMDEfvdAib+1v5nBrH2MAZo/hb8Rwaa+B4DHwJ++tsFsP0n/j4Ezfs+AasB2v9W+/QEhP9J9sMMBPbG/ZgK1/P2AZgFZPY3A1YCJfx//NAHQvl+AN0DzPrEAlsBgvuCAcMC1f7A+aQLsfX+AYMGufbABR4Aj/goC5b10wLMA4L6dwBrAiD8v/yXCHr2XQN2ABX4KAlP9zYBNgMR/P37lAcm92T/LAL++6n9g/7CAPrzUAkL9bP98AQv8Q0FS/qO/Oz72v5E+4n/mvys+nT/BfzM+sADUfIsCTT4BPjaCT3y4AD6AqH0XACS/gX9HPrMAs/4A/40ALr6Xv/F+rQDE/pw+lAIvfku97IObfIcAfQEW/XFCSj4uP7pAQf9fPnRBhH9OfbZBmP+rPS7BOEBsPHbBhX+FfVwBor3wv85AqjuxQwT9Qj25AwK7tAFGvsO9eoHEvDX/+cD5O5EAef+Aff/+s39Mfvq9YoCXvd8+VwCMfEeADr/cPPT/mv8WPiA/En4m/3//Cn37/peAmPx5/8RAL/x8QRK+3j4jgEk+4f4GwR19WABhP2T+SoC6vm6+8MFLvY1/SwD6/b8A2b9jvYaD2L4O/u1GEnzQQg3Dej7fwRJBLH/swWoBQMAAA05BH4BvAto/Sf+8Qmr9kX7QgUB9PwEMwgGAlgHVADpAQoARABRAekCRQA5+NwHKf0N/vkCtATL/agBfAiY/P3/BwtIAl/+NAvPAVEByQKhCnoB+wK8CSUHfwTpARQOAwTfAL4OgAXGA/4I9wUKC34CSAd7DjUB9gMyC9QBSwQYB5YC9AJ1A0gG6P1mCJgBqP8OD/L+ywWZBGD+HgYNBiz/4Qh7Ai/6YA5G+s79OgfrA0X7pwSOAnr2iQfRAAz8VwPy+4cB0wJ69i0E3gdV8ScGuAVi85QBmAlT9GACmAaV9gwDlf10/gv/GfZRBnP5xvjsAiMAd/giASP+X/3ZANX9wQBxAdn7yv4FBTb9gv3OBQ8JavXPAnENz/QyBF0NCPduAzQF5fyACdwBjvl5Dar4GwEyCVf47QAiBO3+mPbfAXsDIPyr//YCc/3++gwGbAI7/SQMQASuBAcHOggFCL8HSAqRBmQI6gLFCqIIQgP6BKkKEQeTBfUKZwbDBF4OzAf0BwQGRAYdCOIEKwtqBd0I1wjuAxALzAkWADUQYwVcAH4LVv9oAZwBv/vU/aP+Ofp9+LP/g/YI/V8FfPr3+yD/P/pK/yL9IQd3+4cAwAIu/NMCTf+tA1wDDwLlBu0DKwRaA9IDHQPcBR39wgO0AFf8YwpK/vz/RAth+ewELQAO+VsFpP4b/UIEtP9N/WIFFgEX/FUIMQLR+d0KovlBADQPiftdBRgLqgPdCu0HJQMiED0IcwOuDMn/M/9cBmsIaQL7A3UEWwgcCp7/RAVWC9L+Zgr1DeL/fwuZC2UM8AsLDNYNEhaDEFoTiRRXDpkYihqZHAMW8BeBHj0Z6hniINcSlRteIdcTyRu0EmESSRpNDx4ZARaFCCEP4xX6DKMQaRdNEZAGmQYUDLQCDgHhCM4E4fyz/7UBt/Z29ob+pvwD+L7/hfGh4//uC+bY48Lg1+AF4uzVN9c72ujRdtNq1fPIBcNrwBW4h71tuju2R7t+teuscq/Broety7IIrjqxkK9mrZ+05LNut0u3bbjQv07BPcKRyY3SYdCS1dnd9OFF5rLrsfH18D/4XgOSCR0MPg4SFnUakCPiI6Emty/cMssyNjJhNVYwXDP+O7E2BDQoOI40KSzIKoQscyfsIjYiMh0wF0YXGRikD+EOrRc5D2sLEw4VD1ALXAzKDi4HoAbBCKUK5gqDCGYHgAW4BIoFJQcFApP+FwZrBPIAQ/qJ+h77EPqh+L/2aPaa9ObzYPK27nXuMu+96jXsK+7J7IPsZO+L8sLuGO978fzy/fEf8+r1I/Qj9A30bfIc8qHxZfL58A3vL/E58+3v9O1N8Nftleyf7pjuqO0Y73LuZ+0Y76rxd/JU8kj2zfV68kf0HPYm9OHzpfa083zxR/WI9lz11/Xn+H742PWz+fb80Pis+Pj+v/4k+db7of52+9785gHmAhkEcggyCJIFJwuJD4YOoA5JEqgVdxWmGGUdjiBiI70mZColLjoydjffPQ9Am0JMRptFhEd2Sk1Kpk2lUVlPukxpUTZRTkvbSoNLqUZKQklEWkUdQmA+Fzu4N78ycC+TMHkr/yE3IvQkbx4MG4Id8BhJESsNvA2rCyIFGAQhBjEB3vlc+1f7R/ZV+Fr5N/RY8ZzyqvM18LruJe3U6Y3oPeiQ5ybodemL7tDvDepu6eDtH+t/52jqLu2y6tLnMej47Hzt9ups7f7r9ue27S7zIe7n6/rsgevZ7WTw1u6J7NTruvCx9er1c/Z298r34vjz9nbzyPP+9fH3hfwq/xT8pvcq9qb1EPUo+dv9GQAMAk0Ba/ya9tP3R/tI/Pf/BgXxBW0BM/7M/fH8hwF0BogH0ATRAysF/gMhBHwE3QQHB9MHHgYbAuEBUAQRBBEEtQZ7BncDsAXVCH0HCAgJCQ4F1wPFBxIHrgSQBvMG9wUDCM4ILgdqBuwG0gYOCcwJQge6BmwGDQYyCOkJmwc0BPcEowS8As7+z//RAhP+uvnZ+6X6UfY998H5Afeb9f33KPSX69PqV+3U6j7r2u2Z62LoZehJ6LblVOTR5CbjoOLl4BXgDOJL4WXg0uAW4ajk7eQH4Xrms+3C67ft+fDA6oDly+hq7lXuR+6d9VD3IfAO8zT8l/a18Yj5Sv09+gr49/nQ+T/0LvWv+8H7M/gb94P1r/Cj71TwBvAs8fTwwe/i7ubqq+g66x/qFujI69vqQOW85HLlZOYs6h/tiuwv7EnsLeb95V/ufO9878H0jPNc8yj2gvON8/z4dftH+zf8Xvwy/DL/nwMBB1UIsAkICmIJ8QrtDjwPVAw5DAsLzQfsBR0GMgh8Cu0KTAo/CYwFawHWAG0AtgAcAsgBhACX/zL9Rfxh/Dn6Rvpe+1r4aPXF9n732/SV8krzgfTm9JT4WvzM+0r74/4KAbEBTQRXBwgJMAicBHsDIwRQBhQJHQ4YE+kPlg/QFAATThAeFHIW3hQ6FbgXZhrTFzcUhBf4F9cUXhW7Fp4UBxDgDdQLbQV1AEgCxAQwBc8FjwTSAnUAFACoAvYAXPzU+0P8rPed9Ar2CfaD9D31FvrO+/P3mvY5+V75wfhwAOcHggR1ANgAlgJoAtMBSQXLB44GzgitCwALKgv5CssLhA71DmQP5hG3EmQSuhJkESAPeg7hDroPDg5KDPsLOAmbBlYFHwIsAJb/9f5+/9j9ZPqI+Rj6LPn498H3CfeK9cTz8/J08dztne1c8Snzg/FO8fLxXfBI8WT03Ph0+a/32fvMAI8Awf6j/jr/Nf9GAeYD9AO0AtMEEAmUCg0KigpnDFYNrQ2pD8kPPA28C7YLsgsVC6wJuQm7CXsIiQezBVwC3P0j/G78hvsw+0f7avkT98L1DvVT9n/21PNH8TDwDe9J7pHwQ/Ge7+zx7vRz9I/0zvRX9eb1P/eS/d7/0f1dAN8DGQAV/ckBxgN/BOkHlg48EF8NWQ/pENUO/gzQDiwQmg5BDu4PsBAbD5YQWhJ9ES0Rog9MDQQLgQfIA70BFf8W/WX9hft0+W34K/gr+Lf2Qvbw9jX1ePIx8VjvUO1b7WXtcu0g7IDrF/Dv8tPywfaP/pH/k/zS/6j/jPsN+4n+ygFqAocEXgaGA8QAuwMXCFAKYw7rEMkPIw4xDIIKugh7B9cH3wlMDAAN2Aw5C6EH+ANlAEj9YPq89y32FfaY9bPz3PKP8qjx3vAM8C7uUOzz6ujpeuiI6MPoHeig6C7q1emc6BvrOPBE89X3afzj/Sb+Jf5R/L353Pr1/SQBjAZrClEKLwkGCgcLDgyUDRgPRA+FD0EQSxCzD6QPZg9YDhAOMA43DcULPQv8CjMJlgZTA3AArP23+j35Xfkz+uD6Svs7+275n/Vg8iLxLfBO8Gzx4vLK9LL1PvQU9YD50ftg/goDvQV5B0IJvQp2CQYGtwUqB9wH1Aj/DOgPMQ63D0gUNxYUFo8X/RZtE2AS1BLEErQSMRQNFRIUYRN9EsIQdw6fDDAKvgeZBWACTAAT/9n7j/nV+U75dfcB92H23/NY8lHyc/Jg8tLyi/OW8k/x2fJs9ur4r/v2AOMEJwRpA4EF7wUqAq8C9QbKCAoJuwvoDb4LMgvvDf4PkRDGEuMVJhT4EW8RCxCIDlsPAhHZEMQQYxDTDhIMZAiYBZsDegGT/2L+zvzu+aL3m/Z29bnzfPIf8gnwou2u7ETruul36pLs6+z27NbuTfG486D1Avkb/Q7/5QD8AbAA9/6oACAEZgXtBdcGvwjtCF0JKAtmC44Lmw1NEGgQrg+ZD4UN4AuvDCcODQ4tDikP4Q0VCwcJMwcrBOcBNAEH/6P8IPtj+GD0OfJ58Y3vau5u7g/t4+p+6bzo2edI50LnMudH6BvrbO9L85L1hvdx+Ez4d/gP+8v9Sv5GAdID1AKqAfQBUQFiAPsBbgR8B10K2AurDEoKzwfzB9cIfwlTDAIPmQ5WDugNywvqCRgJBAllCIAHQgbiAz0AWv0o+7/3NPZu9gX1afN48qbw9e2+7c/t5+wx7Mfr8uut7YLwn/Kc9Ij3v/mB++L9nv9+/+IANAKFAlUD2QMTAyIDtASABZwGNgltCgkLdwutC7IKYApRC28LXAscDDwMIwvOCg4LeQmkCPMIzQcbBlgFGQPG/+H9I/zu+Yf4offI9tH1TfSq8lPx2+8l7+3vUvBP8P7wb/Bu76XwovJx9Jb36frW+xb9Mf4w/vj+7AD0AdACMQXQBT4F8QWOBtQFygWFB7kHwwePCeMJewhICEYIpgZOBxUJdwgECGEIKwe3BQEGEAVeA1UDhQLHAMn/jf6h/I77Hfs0+t/5mfnY+NT3EfeB9g72jvYx96X37fe098T3CPhh+IT5J/u//Ov9JP+B/2X/5v8jAMb/kQAlArcCAgOmA4UDigLhAq8DwQOKBDcF1wRaBGgEIgS1A/sDMAT7AxgEUQTVA7ED1QNUAx4D3QJnAioC4AFsAfoA8QDMAI0AlwBSAMX/Uf8P/zr/3v9SAHYAAABJ/xP/Cf9Y/y0AxwDIAIgAOgCl/83/ZQCkAGMB9AGhAZcBuAFHAVEBsgGqAfcBYQIWAs4B6wGmAYwBGAJUAnAC7ALsAsICwwKBAk4CegKFAnUCmAKEAl8CXQI0AgUCFQIWAh8CTgJRAjICJAIJAuwBDgIkAjACVwJQAjMCEQLxAdgB1gHnAfsBCwL3AdkBtAGDAXMBbgF3AZEBjAGCAYgBfQGFAaABxgHxAQsCJQI5AlgCegKfAskCAAMsA0YDWANpA4oDtQPcAwkENgRSBF8EagR3BIsEuQT0BBkFSAVmBWwFiAWlBckF8QUPBjYGWAZsBnQGeAaDBooGkQadBqQGoQaQBoEGbgZdBkwGNAYUBvQF3gW+BaAFmQV0BUkFJAXwBL8EkgRaBCEE9AOzA4IDPgP2AsACegIsAusBnAFMAfcApgBaABEA0P+R/07/Ef/S/pX+Yf4w/v792/26/Zb9df1V/TP9EP35/Nr8wPyu/JH8evxc/EH8KfwL/O770vu8+6z7o/uh+5n7kPuN+4n7hfuH+5X7p/u6+9H71/vg+/T7BPwQ/CH8MfxW/G/8b/yT/Jb8iPy4/LD8s/zr/Ob87/wJ/Qn9G/0x/S79S/1i/Wv9jv2s/cf99f0L/ij+SP5b/nf+kv6x/s7+5f4O/xj/IP82/zT/SP9h/2j/d/+G/5b/pv+x/73/xv/R/+P/9P8HABcAJgA7AEEASgBOAFoAZQBqAHQAdgB6AHUAbQBnAFwATwBLAEQAOQAuACMAFQALAAEA9v/x/+n/4v/k/+D/1f/Q/8j/yf/N/83/z//K/8P/t/+3/6//q/+h/5v/mP+H/4P/fv9s/2v/aP9e/1z/V/9L/0f/SP9D/z7/P/83/zf/Ov8x/zH/Nf85/zr/PP89/zn/Nv8y/yr/J/8s/zD/Mf8z/y//Lf8r/yr/Mv80/zT/OP87/zn/P/9K/1D/Xv9i/2T/cv9+/4L/i/+V/5v/pv+q/6//r/+n/6b/q/+u/7H/qf+l/6j/pP+j/6L/o/+m/6H/mP+c/5X/jP+U/47/lP+d/5n/m/+g/5j/i/+H/4r/hf9+/3j/eP91/2f/Y/9f/17/Yf9j/2X/ZP9f/1v/Xf9m/2n/Zf9s/3P/df94/3z/fv+I/5j/mP+g/6X/pf+q/6j/pv+v/7b/tf/C/8b/xP/D/8P/xv/E/8L/x/+//8H/v/+6/7//w//H/8z/y//N/9L/yP/H/83/xP/C/8L/wv/I/8f/zP/L/8X/yP/R/8v/y//L/8n/z//K/8D/w//M/9L/3f/g/9z/6f/r/+//+v/4/wAABgAHAAkAEwAUABcAGgAeABkAGAAhAB0AIAAdAB0AIAAdACQAKAAqACwALQA0ADMAMQA4ADgAPQA+ADwAPgA5ADgAMQAwACsALAAyACsALQAtACYAJwAkACQAIgAmACcALAAvAC8AMwAwADEAKwAvADgAOgBAADwAQQBNAEgARQBJAEcASgBMAEkASABFAD0AOAA2ADwANwA2ADAAKQAwAC4ANAAuAC4AMgAzADQAMwA0AC4AKwAyADIALgA0ADIALQAoACMAIwAhAB0AHwAiABkAFwAXABoAGgAaAB0AHgAbABkAGAAbABoAFAAZABMAEAAVAA8AEAAWABAABAAGAA0AEQAMAAYADAAHAP//+f/5//n/9//5//j/8//x/+//8P/y//T/9v/r/+z/6v/m/+n/6P/n/+T/5//n/93/4f/h/9z/4f/e/9j/2f/Z/9X/0v/O/8r/zP/Q/8z/zf/M/8r/yP/M/8f/x//B/73/yv/C/8L/y//D/8D/wf++/7j/tf+2/7L/r/+x/6r/qP+w/7P/qv+t/6r/pf+q/6P/pf+g/57/o/+f/6L/pP+k/6H/oP+j/6X/pv+p/6r/p/+i/6T/p/+k/6b/p/+p/67/sP+r/6//sv+v/7f/rv+q/6v/pv+l/6b/qf+m/5//n/+c/5z/mv+e/5b/jv+T/47/iv+K/4j/iP+P/5T/kP+P/4//if+N/4j/jv+Q/4z/iP+G/4v/g/+G/5D/kP+Q/5L/jv+P/5D/kv+P/5D/kf+P/5T/nP+c/5r/n/+e/6D/of+h/6D/nP+b/5n/l/+Z/53/mv+e/5z/mv+V/5P/kf+V/5P/jf+Q/4r/i/+K/4n/iv+F/4n/iP+E/4b/iv+I/4r/iv+B/4n/iP+E/4f/iP+H/4f/iP+Q/5P/k/+R/4//lv+W/5b/m/+f/6L/oP+f/6L/of+j/6H/o/+m/6b/pP+o/6n/pf+t/6P/oP+h/57/pv+k/6L/o/+e/5T/nv+a/5f/lP+T/5v/l/+e/5z/m/+h/57/pP+k/53/nv+h/6T/nP+Y/6D/n/+W/5n/of+Z/5z/of+g/6b/qP+n/6T/pP+q/6r/qf+n/6b/rv+y/7H/s/+1/7X/s/+3/7X/sP+w/7P/sP+z/7T/sP+v/6r/pf+i/6v/qv+i/6n/rf+n/6//rv+o/6//qv+q/7D/r/+v/6v/sv+t/63/rv+s/63/rv+q/63/rf+t/6r/q/+0/7L/qv+q/7D/sP+0/7L/sf+3/7f/t/+5/7f/tP+6/7j/t/+8/7j/uv+5/7H/tP+4/73/uv+8/7f/sf+3/7v/s/+s/7L/s/+v/7L/s/+z/7P/sv+2/6//q/+v/7T/sP+y/7H/q/+q/7P/sf+u/7T/r/+t/7D/s/+5/7L/tf+5/7f/t/+1/7n/tv+6/7//u/+3/7j/vv+9/7n/vv+2/7z/u/+8/8D/wf/E/8L/v/+6/7f/wv/C/8L/w/+7/73/xf/F/8P/yv/H/8v/zP/N/9P/1v/Z/9v/9f/P/2wAv/+nA5gGYP1x/1UDa/9jBTkH6/1U/F0Aov+VAbUBY/tN/UUFMgQZ/+f72voF/xEDNwHP/Xv8vv56ATMCSQH5/aP+uQKMAwoBZ/4x/3YBXwNgAvb+J/4Q/3UA8gC//x/+5v0E/zf/pP5l/kH+I//U/0P/i/56/rj+cP+n/+D+BP9C//D+a/8H/2L+pP5P/+YB4AMiA+MAZf7Y/Xb/lwA5AD3/Lf6X/vUAoABo/o7+kf5k/8kAa/+o/gD/kf6n/5AAg/82/+z+iP83AO7/6f/M/nX/awBKAJP/KP/7/qX/awHz/5v+r//4/xAA0P9n/3z/fP/G/xQAxf9J/yT/4P+2/9X/GwCS/lH/fgD6/+X/r/5Z/4AAi/8T/z3/1v+o/7v/kf+v/pb/UQAG/zn/IAAU/8L/eQDj/sP/JgDU/uv/ev8x/zQAZ/8H/yv/Uf42/28AWf6H/Rn+Nv+H/wT/8f5L/sz/QAGAAHABmQLKAY0DCgNj/oEC2AVRBPoD6QHb/gQAJQMMAev9xvxI/pUCUAJ1/5f8d/8lBCwEhASvAQoBSgXhBQYELwK4ADIB9ARgBbIEbwVrBBcFRwUxAkcDLwKq/wMB5ABm/o39xP5f/3n+vf2g/v3+j/9ZAEcAf//VAcoBiwHIBIYD/QFMAtsEUgQ9A6kB3QNBBV8A5/9dAiwAawBHAbL+SP72/R/9wf4L/gz9Cv+d/Zn9Qf7n/sT+Wf7b/4D/XwBlABv/zP+kAswCAQFVAmwCmAOVBDACCgL/AqUCrgNdA2IBzgDZAXUAZv9CAED/Mf+GAHD+6P2mAEYA4QA+AnL/pP/VA7YBfQJNA47+xQCSBBEAdf3Z/87+9v50APX8jPuO/cX9nv6K/uT8gvuF/Zv+3f7H/cv7l/1M/7P+2f5//Qv98P4C/2P/9v44/HD97gAOAEH/dP7n/n8AfgDC/uH9xf5LAJ0B6f7S/QX/G//sAB0A3P+Z/zP9fv2H/k/+5v8a/5375fpU/fP9hPxg+lL4WPkQ+y/72/dD9Uf1gviS+5v6UvYp9QX6Lv1//Of6+/k++8r8z/yf+1X6Qvrj+nD7OfnH9xj3b/aW9wv3fvRN9Jn3evZG9SH3iPbg9Yz6fPxj+K73LPql+3f8d/qx+rH7kvo8+i76Afkm+pD7rPn1+iH7yPZn+Ej9rfxq+1L7Wfob/Gf9qftJ/Mz9Of35/cn+5v5p/wkAHgERBZAEPwJIAy8DtwTEBQgFCAXxA0AE1AW8BMEDWAaXBqYE/AUcBpcFRAdnB+wGSwdfBgcFewctCDAFtwXVBPoEwAVlA+4C/wKIAKz+UwBR/wf86/pR+ez20PYP96/0rPKe8jvzp/HN8HTx3e4G7+DxkfAj7o7vlPGO8Nbv+vAv8fbvRfPi8wnw6vGA9DP0FfX39B/zxfWJ+YT6+/g4+cP7kP36/gv/df/I//P/hwFXAjsC9gLZA3IC+QCwAjIFoAXyBK0DTQTxBQcGBAdqBx0FBQbMBxkHNQgoCDYHHwfTB2IJqgh5B4YGkQa5Bs8EtAQFBfYDbwPMAlIC6gE2AWMC/wHdAD0A8v+T/3r/cv+K/6UAqgCzAHYAjf8nAYMDrgWaBDMERwYFBtIFTAcRCWQKbQt1DGsKAQntC3kO9Q28DN4M6AyzDpYRsBDgDuEP1RLtE5MSbBEJEvYSyxO7FGIT/hKHEzMUgBXNFAoVzhUEFaAUkhRiFe8VBRZCFWQTPRLzEmsUwhMXE78SCBJoEj8TFBM6Ej0T0xO7Ep4RvxH2Eh8SHxLpE7MSxBBbEUwRkw+0EMQRRQ8sDTMNpA7MDkcMNQt3C1cKFwq+CmwIXAYEB3kHLAZ6BYsEmQOHA9cCygGqAVoCRAFQ/2r+LP1I/df+3P9f/qn7tPrb+ov72ftc+/H5NPh2+HL54fnG9yL38PfK9m32c/fx+K74a/jv9zb2Uvar9g34hPjg93T3iPbq9U33Z/kz+MX1xfaN9/D1svW99gD2JvX+9FL0CPNH8jjzbfPG8uPyefMD87PxOvMO9Kvyg/Im8yzzAvPs847zGvIH8hvyKvLd8j/zUPLB8cDxa/I68uzxV/M99OryIfKL84P0vPRL9uL11PMW9ar3tfe89/P3+Pfy+Hj7vv3g/X/8K/w1/n0AQQIZA7YArv/nAgkFTAR7A7MDhwPyBHQGgQP5AUIEngTJA4EDgwKbAD4BLgKVAGH/V/6o/Fv8Bv1q/F36jfm8+S355/c89x/36faq9vj1uvXw9MH03/RI9Lnz1PUF+Nv4W/jj9/j4qvqm+878P/1O/G/9lQArA3EDdgIOA38EeQZECAgIvwgNCacJDwx+CzoKyQnCCgELTAqzCh8JAQnbCgULIwl1B2QHEAcgBjAF3wTgA+kCFAP3AfD/s/7O/tb9yPzL/FD73/nH+an5O/k0+KH3IPcV9zr38vaw+Mn5a/gB+tH8iv3B/Oj/oARuBC8EXgVaBhYGpAdpDdwOqwyMDL0NWA/yECsS7xGDD2EPjBDPEJYPsA7TDmEOqAwWDIkLtAmpCCUJTggOBaECUgHl/6L/5P8A/2T85fki+lj5F/gq+Jv2avOq8UvyI/Hq7oDv0O8a7xvuAu3766bqj+wa8LjxEfJq8oDzePSN9jT6ffyQ/OL8eP9hAWoB4QIuBiMH/QbqB/8IOArJC04PWRBWDrIN0g4+D3AO+g9vEa8P4A99EEEPWw6QDyMQ8A4VDiQMAgpICu0JnwirB6gFHQMjAqsBbQDd/qr9+PtF+dj3l/YI9fPzt/NU9GrzoPEz8K7vKPB98FjzmPa89q31Dffr+V76tfoA/jIA1gCQALkCpgQ2A9kC/gMnBWAFegYtCfwIzQiFCiAMrwzvC6ALeQxxDG0MWw1wDcwLgAoOCxIKGAgkCNcHeQYABdQDAwMFAXX/2/1x+xb5+/bZ9W70GfMk8izwie7j7AjrS+vq64LrmepL6UbnYeYU6jXujO297JnwkPRC9OD0Jvgp+Pj33voR/Vn8pfz6/lv/xP5EAFQBAALxAvgDLASFBP8FzgY3BpMFtAWtBu8G/QbzBswGtAanBm8GUQX/A0YDPQKKAB//Tf63/Pn65Pkr+If10fP+8kLxru+m7mnt4uuL6vvpuujZ5+DnlOl+6nfnYeZ66TnudPAj8W7zXfTO9RP66vuJ/J79SAHiA50DtQMOBJsFiAjgCRwKwwlhClEL0gxUDowO5Q1lD6sQ8g8DECkQGhBSEGsRyxEKEDcQpxBID2IOqw0IDRALFgk4CKkGHwXnApoA9/7A/OL6UPkI+Pb2hfWI9F3z7vGO8QfxcfHC8UTxbfOD9T32cve4+tz+awAoAtUCrAK4BV8J4Ql4CQQKewqpCrcLXwwhDO8McA6jDs8N3Qz5DMUObhDgDyMPmQ9OEFwQjhDOELMQpRA2EaUQYA5DDVoNewzLClcI1AXrA+UCmAEb/3r8X/o4+G72vvTR8hPxj+9U7gDt/+v667Hs2eyo6/rqOu1j8B7y4PJA9Ub3w/g5+g/9vv55/7UAxAKKA40CtAKbBTkHKAYFBo4HjQe+B5wIKgndCPAIxQnBCRYKVAtsC9YKlwoeCw0LBQvhC5ULOQo4CTYI9gbwBdoEAQPoAE3/Mv07+pn5QPRV7Jzr3OoG6gXp/uc052Hnx+ek6EnpGetA7aDu3e/v8Wn0WvUa9aT3MfsL/MX75PwQ/vb9B/9DAB0Arv9gAdUCYAK/AVMCegMSBNEElgYXBrQFtwcUCesHWQj5CaUJ1AipCfwJ9wiZCPcI0wccBksFCwUQBGMCxgDX/ur8MvwX+/34Qfdm9jv1AvQT83zyyfHA8QryGPFL8XbzPfW79Xz2fPga+gv8zf9+ALb/5wDTA+QEgwWXBuQG8wZGCBQJVAl2CVEKuwpQCoMKgguyC00MQQ2ZDFoM/wxMDRQNKA22DU4NAQ07DU8MJguOCxMMaAp7CL8HvQZIBeQE0QPHAMz+gf7U/Jb6H/q3+V33B/b39Yz0XvPv83701fOf85L0vPU19nL3pfiB+cT6lPzm/XD8G/w4/9MAn/85/2n/zP57/zAB9v82/hkAiwF8ALb/1/+0/mH+TQDGAOH+yv6p/37/W////x0ADf8V/2X/Zv4g/nT+O/4+/eD74/qr+Sj5svgy92v2z/Xs9D/zhvK68mDxC/Iq8mLxXfJV8iLzYfRJ9YD2Yvb79r/4//rf/KL+GACAAfoCjwVnCP8KmQ0gDt8OCxEuEVMT6BVkFokW9xbgFssXfxnhGssbqBtOHF8bsBtWHX0e+R8TH6Edbh0qHdodax4eHXgciBtbGpkY2xaeFJwSEBHSDtALywgFBxoGNgQI/2z8ufo2+Ub3ffMh7uzrq+op6JPmF+Nv4djgf95D3O/Z1tcb2rHZN9fL1sTUHtTB1R3WzNWY1kbYE9ex2H3YudhU3D/aJvOMBDLpBt5f4RjgiuNn5dXnU+tT7Hbtbe9S8pvztPWQ+bD82PwN/f/8bP/m/5wCngQZAw0E0QOMBe4DgwUvCG8J+AclBu4HqgTUCAULowrOCgUJ8wvHCJsKoQ4jDeYQOw61C4sM6A1UD4oRYg4MD7UNmgpyDhgNWA1hDqwNagzqC/UN1gyyDYEQwg5lDW4Odw26DxMQ7Q7rED8QMQ9JEJ0QaRArEewRbxCfDoIPQQ/5DfMPPw8NDSsOOw2VCXgLxAxgCZULTQunBIMIzwjQAe8LBAJ6AxkGAQILBacDWgFQATMCRwH1AMD9AQIF/UsBVv0n/pn/mvyAAFb/ev1VAX8AIQL+AzX+fQVfA9gEnwfDBlgGOQcPCiUJxgnsCl4MPQ34Cu8M7AoCC+EKLgteC+oGCgrcAx4I7QVGA9kHsADqBYYCiwDNBDH+wQOq/7f/yADT/aH8wAAx/bz9ffw8+1L6YvqR9qz8Xvai9fn3w/Vj8Mj2NPL47dH1se2y76ju5uv+7aXqUuvY7MznXOpJ6+nn5+zk6PzszewI6anuz+5W6cbyJ+7X7SXzzfDp8pH0YPJl+cvyR/gz+1f0B/49+mH6mf+C+1D+NwH9/Z0FzgCaBBMFiAWiCNUGpArZCMAL/wmkC5UJMgzoCm4L+wsXCasM6gqoCSgM2Qj0CxkJLgkTDP0DdwnvB9cHDgkBB7AHvgZeBhYIlQUbBAIIRAEnBBIEJP0sBkD8yAGF/aL7lvth+A76qvSb9y/z6/D18k3uPe4E8ELq0u5D6/Hoouoa6TLm1eeG5xbluefM4mzm8+Lb5HvmFuUj5tnj+OeE4/Do8eZo6LPpk+mw60PqFezA7trs4PGB8Q/xW/OB9pX0jviS+W75Of7A+z8AY/4XA80C5gMdByUHfQY6C+wI4ApMDqsM4hAcEH8OOREGEIQUzhNvExwVdBSSFIEWbhSFGGIUXBcDFicUThheEUQa7xMTF+cVHxZ7FSsUyhazESoYshGFFqMSaxK6FecPeRTAEFYRVxO5DbcSgQ6PEIoQig/iDmgRXAwjEYMPIgw8EiQLNhC4DSUM1w73CqcNiQ1XC84MPgv1CzwKYwuNCh4JKgxJBwIMmwa2CzsHAQtmCHoIJAteBBgLoAZKCI4HnQfOBWAGBQdLBOAGEAQTByoEIQQcBWoBhQaQAbIEEANOAf8DhwBoBGIA9AFCAIACAgDdAMEBrv10AzX8QANd/En/OP9L/ZkAdfuHAU76QAGP/Nj+tf4z/RcBg/qvAbv7tP74/3X8UQBc/r39Df8S/tv+4/6q/if9uv85/kn8LQIH+1cAvv4t/MMAYvvXAJH8Mv8h/w7+rP/o/bD/T/6H/rj+iv8t/QYAhv0a/coBffpUAv38p/06AeT7kwBF/sz/Pf6sAZH8HAIY/hn9iQN9+GgEVf2h/W0BavuzAH39KgBu+yQDVPuq/8D+Ev8p/h3/sv17/qf+o/xtAen5dALx+ssA/vvC/sb/EvrGA1H6ZgCz/Cn/a/1n/yP/k/zzAQH9q/6oADH7cQH6/aj9SgAz/QMALv8P/1X+HQBA/hT/R/+P/8P+U/9s/gn//f75/mD/rP7A/jv/A/+s/0D94AEw/IkBSf6S/QECQPrlA4X7xv+AANH9KP7d/9L9n/+f/NkB9folAsD9Pv44Aj36bARt+qICz/zp/sQALfyEAjX8TAHF/c8A0f0pABwAm/8HAX39CQQR+tADW//k/XYDc/z4Ah7+LgKv/pIAZAHv/1QDdP2zBRX+fwJSBL3+wQYX/isGU/+iBFcFPv/eCoD8DAjxAskAughZ/q0HMwL0A6wCEAb9ADgGYASgAf4HfP6zB1gCWQLuB6j+6wdsAOsE4AGAAyoD8QLrA+0BmgO0AN4FQv9+Bq7/LwTvA90AbAUMAPUDDAPkAJIF9/5aBAkCaAF7A7wCBAJ/AugDlADoA7gBbAMBA9ACTAKqAgMCIgKXAiwBQwJ6/r8DBvxzA7P9xQKo/LECCf1Q//4AG/xpAvP6XgAu/bX9Av5Z/hP+WP0D/+/7cv43+wn/Dfk0/ab5Hvu2/G35qvyh+Bf+8fgF/K/7M/mP/c/4uftJ+3/5WvsS+275xftZ+af50fqy+HP6kflL+mf63/lN/EX4F/4x+Bv7vfyL92P+QvcE/hT4P/2L+Iz7a/r6+PD6vfg6/dz2+f2t93n8zflJ+qb7KPs9+kv6Df3e9XgAqPZ3/Ln84fYg/sH4C/jX/p/0X/2x+Xv4v/wt+IH9ivmn+3P6P/qI+2j5a/wg+kf7Nvue+9L6sftr/FT5sv3D+pr7lPtT+6b8mvkmAPz1MgMI+IL8Wv+P+An/qvvl+7j8Y/y++7D9qvtL/In9XvtR/Tj8LPyk/Dr86vyZ/Jj8B/zm/sr5+f9u+9r8Jf83++f+jP10/YL9QQCa+EICgfpz/v3+V/sv/4n9/PuzAKf6QAC9+m0BTfxh/SYCAfgtBMr6pv8HAR78HQH//p39iQH1/SoAY//2/RsBVf2X/xD/zv29/47/D/+I/+f/9P3wAGH/hf78AF/+IgCt/5D+cwFIAF3/YgI1/tj/mwJ2/KsDgP2I/x4CufziAOD+Tf73/xP/DwBB/mkAyf9r/5cAfP5mAAX/+P/GADT+AQWn+kUG6/zPAcoBDP+gAd/+tgDv/uX/pf8wAPP+fwCc/ywANv5+Alr8BgI3/wP+HQNb/KkCRwAR/ioEqv0wAV0CpP1CA6L+mgA1AXL+BgGw/uX/DQEl/dIB7P3t/7//jP52AHT9iABm/gv/gwGr/HAD3/sLBN/8ZAM9/nwB5ABq/dwEdfsOA6D/Mv+CABMA+P6w/7kA8fzLA3f78QJS/SQC1fxNAiT/uv56Aoj8vgIW/eoCe/4VAeX/WAALAUz+vgKc/eMCcv2JAsf9sAC+/9n/EQBJAOP/PQAnABkBVf6oAVH+ZQD5AI79nwGl/fL+iwE//AwEQPy9ANsBdfzSA/P/Vf6MA8T9yAC0Ae/9TQPC/PYCpP6k/+0AVP1MAdP+n/78AVb8bQJk/qv/vALY++oDtv66/88BT/8cAvX/owC0AXQB1f6JBbD9RwI0A2f9FgRA/3QBzABwAKsBWQL2/ksF+/2zAroBCP/QA3X/RgJWAAkBOgO//X0Fvv83AO0E0/7IAoACaACfAjMCigCKA3QB6wGLAjwAcQQ+/s0F3v4ZAv0DTv2FBkT93ANeABsBNgLX/lsDXv48AiIAMP83Avz/A/6IA6L+2/8ZAr/+BQHeAOEA0wF2/5wD5v2JAiEC8/29BNL9mgAZAhT/KwJTABEBawAUArz+uQPh/rkAyAQj/K8EdP9VADUDq/67Aur+WAIG/7cDq/z0BFD+av9pAzL+mwHYAO0A3/7zAlYAEAEsA0P/mgP3/mcDfwEqAJMC0f+AArH/8QNe/p8DjP+O/14DAP4SAhMBSv1ABB79GwL4/hMB+v69AYX///1nA576RQZs+YgFn/zl//YC4PtZBNr9JQFmARL//AE1AM7+vQHH/zL/1gLs/NwD0fzzAXn/Mf8eAQz+CQEPAGX/PgGi/0cAvAGW/TUC/v60/pgB8PxKAc3+zf7F/z//mQD//boBP/01Aj/+UwCIAG0ATACjAXIANv/3AVX/0f/OAKj/7P92AB3+aACL/iQACf/8/4H+LgCj/5H+VgC3/hP/8gHV+0wD1Ps9AQkAAvwWA1796f87ADz9wwAG/1gALAAQ/xgCq/5kAin/NALFANz/KANR/7wAwQBSAGX/RgIJ/ugD3/09AgEACgCZAeb/bgAwAS//BwE+AFb/XQE1/5QA7v55AG7/Nv/3/6b/rv+L/7b+wQAt/ogAtf8OAIr/7QD9/nkBa/9hALwA+P9dAQUADQGt/0oB//9HACUAmQCv/iwBn/4m/9MAVvz+AVT+A/+j/3//CP6QAAL+tQCC/mX/of7+/hL/w/2FAAj/aP0MAe/9UP90/6v/Pv+r/+L/2PyNAo38XgB3/6f9RAEh/rf+dQBF/FMBfP2M/+L/oP2E/77+sv+I/m3/av58AMT89wAs/nUAXwCx/mIBw/5+AJb/W/8FAST/LQBiAHT+CgFU/tMAcv9IAOX/5v8y/5UAYf6lAuL9LQKn/QMBZf8lAL4AC/8JAUn/6/8u/z8AlP+8AIP/VP+BAHT/8///AE4ALAAPAYEANgDQAdv/UAG/AMb/3QHg/4sAAgDLAN3/ggE4/8MBr/9YAM0Bo/7bAYb/LABHAXj9ZALt/X0Awf9zAI3+SwGi/asBuf56//QBFf3tAur+IgCCAen+HQFHAKUA1P7EAmD9lQHK/8D+QgHz/pMAAf/V/0YAA/9IAOsASf28ATX+JwB/AND9GwLD/vj/bQEu/jUC3/6EAB8B6/5RAQkAe/8dAUoAWP/sAcX+uAHJ/hMBqwAHAOwBi//kAar/pAEgAbEAlwEWAfsABwHVAJMBDAA8ATAB1f8OAY0A8/+4ADoAMADNAB7/zgCN/ngA2P+n/uEABP6uAGT/1P7dAAz+1v8d/xr+JgC0/Yz/SP/a/fT/c/5e/zf+Nv9r/kn/zv6y/UgA6vzV/5L+9/5K/tf+yf7O/rf+qf/K/mv/AQAr/6P+t/9x/qL+h/+t/f//U/0e/yX+af7E/tj9+/5w/dn94f5Y/NT/g/2M/qP+vP7h/lT+7/4M/wD/m/8p/x//+f6M/4v/bv88/3r/7v/b/oT/tQBF/tYAuf/+/hUBBP/EAPv/WgD3/0oA1/+w/34AHf+nAFz/dwDD/w4AoQAt/9MAJACCABcBWgBsAOoArf9iAfAAkQAGAboAgQCLAZ0A7ABJAb4A8wB2AWoAawGqANUBIgDeADoBAQDdAa7/AgI7AKD/bALg/nACXwC9ANYB//+9Ab7/9gAgACcAAQE7/ygBFwB8AOcAhgBlAO4ARAAxAMkBLf/CAmz/eQFJAAgBAQCPAdb+dAFG/3f/IwFq/RkCcf4YAMgA3/6EAF3/ov88AL7/OADX/3gAJwBFAAIBuP+wAIcAQ//fANT+7gDD/6YApQDu/xQBJACDAB4B+f/0AO//dQC1AOr/qgANAFsAyQCYAFMA+f94ARD/nAGCALb/XwEQ/1IBZf+eAJoABQAmAZb/yABK/zMAwP/t/4gB//+SAAgBm//NAaAAbABvAUn/mgEv/30AqgBJ/6QAMADg/s0AO/5BANj/yv6gAD7+RgA+/zj/rf8kAAf/awFI/zYBgv+VAFMA+/8uAe/+KgHU/xUASACHAIMA5QBUABgB9QCJ/xoCD/8GAVwAmv/8AKH/RgAsAMf//QD2/o8B+P5tAQr/XQCj/8L/IQA3AIf/LQCZAD3/pAFP/2cBc/9OATv/bAH0/j8BMf8GASD/MQF0/6QAcgCAAJoA3v/AAYv+YwKu/t4Bx/9bAScAPAEdANgAPgAGALYAPv+7AGv/EAEG/50AvP+HALP/dgAKAH8Ad/8NAbH+oADf/5P/7gE//2oB3ACQ/hcC8P4YAegASf9fAW7/EABrANj/swAeAFQBVP+TAVD/QQEqANAASwB3AO8Av/+gAcn/eQEwADwAKQGv/08BBQBpABEA1gCw/z0BW/96ABMAEACGADcAVQBUAJr/OwGV/+EAz/9nAGr/xADs/u8B3f7XAfL/HgAlAU7/OgGa//4A2P8DAQAAnwFMANkA1gABACYBfP9KAfD/ewCGAG0AxADGABAAdAAWAB0Avf/7AL7/9gB7AJ8A2wCXAE0ASABEACMA8gAVAdoALQE6AK0BOgA1AcgADQH0AGMAIwHV/rkBh/5bAdT/HwDTAI3/hwBdAOv/PwAvAYL/6wCp//L/XwDL/0YAVQCM/2oAyv7t/0b/ev9XADn/jQAJ/xD/LwCW/t0Ay/61/33/bP/Q/3//GABvAIL/HwBbAIj/MgA5/1oBtP8oADoBY/8ZAOL+8P+6/psA7f5qAKD/cf/j/zj/Wv+E/2H/8P4VAM7+KADG/sj/iAC+ABcAHQF0ADT/JAFr/hcBNv9FAMYABP5qABr+Y/9g/tb/qwCD/ycBe/+D/8wAbQALAN4Ayf/y/xr/cwAUASwAqwCbAB0BrwHt//kA+/8NAB4AggDS/8X+dgCy/nsAsQBA/wYBbf+p/73/KP+IAYYA7v9uAcr9rwGRAJj/jQJ7/08BtQFb/3QBi/+Z/7ABrP8xAe7/1gDAANn/nQA8//H/nf+g/9j/MAEK/2UBdQB0/x8BBP3NACb/UP92AOr+qQCgAdH/ywD6AAL+cgGx/ZP/ugBm/fUBtQAhAvMDXwGnAdEAaP6ZAQj/pwDm/0n+KAD1AM7/AwNXAZwBwQEd/4sAXf6S/TX/Gv0D/6v+df8fAbYA8ADhAP//IwDe/+b+2v8A/qkBfABk/1UBkf21AKr+5v+ZAA3/aQBD/3r+qf/z/+z+0gAq/5QC3/+3/TsBWv2vASMBkP0iAML9Vf57/2z9PAA9AH7/zP+Z/8X80v4E/Tb+aAAA/WcAAfzv+7f/NfwXAHT/OP7J/jH+O/87/q3+5Px+/Qf8V/+p/Rf/j//m/Q0Anv/d/4oAjPxn+2f7+/ge/uX7G/wx/nf7x/ww/sn8yP99/iUA+gA7/az/uv18/Tz/wv5K//v/Xv04/rD+RPuoAV0A8v4zAHb96//X/xr/UgC+/uX+of8q/pT/n/3Z/YP91vwz/fP8f/yy/NX7jfq1+if8Kvsk/CX7Gfuw+jr6Rvyl+QT7QPuI+XH6rvgI+Nj5W/Vu9jv2TfS99vb0ovSi86L0tvNf9QD2PfYI+IL3m/jw+J74yvle+9n6tftD/OT7FP1Q+wr8pPzV/ZH+Fv8C/7j9av+q/vP/Lf8MAfkBB/91ACUAhgCgAm0CegMTA8QECAR6AzoEKALIBK0CvQRTBQsDcgVZBfwF4QbUCf0J7AyODg8OrBGlD0oTQBUnFN0XPRdgGGoZPhlfGcUbOB7RHWMfOB9DIGQiiiHIIfcjlyMmI+QiTSIMIr0jZSKiIrQhQx/qHnEdXhvYG+gZshiXFwIX1xSBEiQRlg+wDcsLfgoeCAgH3wR0AsQBev+C/+z8BvzU+u/5Kvmj9oj20PRF8xb0rfKi8qTzHfS09WL12/bq97P4wfoY+un61/sR/Xn+n/5n/xP+Z/94//v+OQHmATYCegI8Afz+RgC5AI0AkQMlAcoA3QAr/5IB6gBn/48AbgAw/3b+hv8y/m7/8f8//4UAef46AAj+Gvyu/qj/lv+hAIAA+P6U/VL+vf77/9//V/+RAIL9u/yZ/Lv6nPqb+qH51PnW+Nj2gvXq9GD0OvQG8+bxd/GX75LuhO3960jr/elw6Xzopecp5xnn3OZA5h3mQeW15BPlhuPo4hfje+Fj4RXg7t/Q347fbeCP3wTgTeAb4N/hd+Nw5Bjna+ky65rs3e2G7njwufKf8zX16/Yp+A76vvtj/SgAbwG2AggEiQQVBS8Ggga0BqgIqggECAoJTAneCBQJNQnvB0cHXQgrCCIIMQiTB9YH0QenBwoIPQcaBuIGigcxBrgE0wT0BFoElgQzBZcECQQ/BJID2wIOAsz/zP4s/mX81vlT+Wz4gPbw9j/3e/U89Ij0Y/Su8ybzf/K08oDyn/I7897xtvEJ84fzwPPg9Gr1IfXR9i74u/fn+PT6Evz9/Nr9ZP44/zQAcQEcA1YE/gSgBVUGCwbtBVYGxQZ5B/0HyQejB+gG8gXJBTQENAJmAsQB0P/F/9f/E/36+lb6b/i39k72sfV59A30BfQX8wvyR/Fp8brxy/EV8mPy8fGI8RDyP/IG8pPyYfNL9EL2Yfdu+LX50/lq+hv8w/17/+sBNAQSBk0IBQk8CXgK4gofC5wM5w0aDo4OdQ8MD/gOng+CD9oPyxBaEXgRoxHeEf0QGRCkDwsPVw5oDboMTwx2DIsM9QtvC1MLAwtiC3AMuwxADNUL9AuSC+oJwQmqCtYJNgntCWMKmAnnCSMKbQj7B6IIiAgiCBsIUAioCFoJ+wkNC4ELFwtjC+0KyQmmCZ4J7Al9CiIKSQk2CS8JhggPCZgJGwk2CfUIjQehBsgFigS9A18D9gLNAosC2QEaAQUAG/9Y/mz9ePwg+wD66vkw+Zf3c/an9W30TPTy9LnzlfNh9HLzsvE38lTz3PI28zj1o/YQ93r4q/pK+6P71/wL/bb9Af+iAKoBWwIjBLcFMQZ3BzUJswpvC18M8AxFDYkNaw78Dz8RQxFGEVoSDxOFE0QUYxRXE1gSohG6EEAP2A1gDIoLLAuICksKSglMBzYGwAR2AqkAuv9p/hX9MP3A/Mj7f/tl+yb7mvpz+t/6QvoA+Y74qfgw+K/3Jvhy99b3RPpr/Pn+ugLCA6wC+APiBUcE5APWBSsGXgZ/B5sIQAmbCSQJMgmiCTkKCgsjDBwMewsOCqwIyghfCEcHVgdRB70G2AaqB1QG4wRVBR0EhgKmAS8A3P0u/JD6y/j391n3GPeL90T3Cva/9JjzPvLb8APwNu+c7ubuy+5y7jLuK+5Q7lruye4X72bvSe/T7t/tbeyN7KTt3u4p7yLwHvJM9BP3sfkt+9P8H/6L/vD+W/+B/hL+NgDxAYQCjwOJA78ElgaEB0wIqwnpCgMMeA6/D4UOEA7bDQQN+AzMDYsOzg4oD/EOJA5jDR4MlwsDC3EJcAjEB6YG/ASQA1oCAQHH/2L/LAApAOD+FP6b/UL83Poi+nb5g/in9wH3Vfaa9dn0NvSa8/3yI/I88VLxlPFy8XrxMvJ28vPxOfEP8cryhvSO9kz5cvsl/Qn+1f7e/k7+n/4O/2oAugGHAiwD4QIBA50CzwLIBLkGcAdtCEMLeAxkDBsNtgwtCwMK3AkPCoMJrgipCN0HQQdtB/IHVwdwBvsFxQRcA5EBpv8i/nb85vtz/Mn8v/yN/Gr8xvts+hf5Pfh296P1ivR39GvzkvJl8mfyX/Js8pfy7vL68mjxe+937unul+9L7xfvku9x71HxxfXr+Ub7GfxA/t//dQBYABv//vzk++X9KQCfAj0FVwYfB4sIBArVCugLaAxnDDsNbA6pDjgPfg9MDnAMYgy/DYUN9A3tDo0O9Q3gDWYN6gorCc0HGAbGBXwFmgSNA9YCxQJoAh0CbQE9AJ3/ZP57/W78qfrp+LL3p/dW9532WPbi9Xv10PQR9LPzFvNY8m3xN/Cq7xnwMPHV8s7zffRd87XzD/aD91b5Bvwp/m/+iv90AsUBB/96/xIARwD6AX0FPQcMB/kHGglECYUJkgkLClMLAQ3CDl8QdBGBEXUR4BAOELQP/g5WDtINNg3pDJoMiQvQCukKIAtKCtkJkAncBwAG5QQDBDgDhAIbAr4BOgFeAC3///2+/Er7xvmZ+Jn3UPZi9fH0OvTF86HzVfPG8qvyZvJt8MPuiu4B73rvhO+c8ODwYu/z8GP0z/Uv9n75yvxQ/Cb9tf6K/Cj76fup+2L7jv0w/yP//QAFAxgDGwSqBv8HXwi4CLwI8wj+CSoKOQmhCP4IEQkmCYQJfgl1CMYH9QeVB7oGPQa1BZAEqAOUAkQBQQDf/zn/f/4i/uP9DP7g/TL9GfzV+qP5wvjD9/f2PfZE9YP0RfTp8xHzM/Ox8/jyD/K38Vjw/e4o7wLwE/HH8S/yEfN38+/yjfMi9q33Wfg/+0D+/P7T/zMAsP6F/Sz+Df8yAOkCYAVIBigHngeeB/AHygjcCcQKHwyiDV0O9Q9oEMYPXA/3D+QPgw/cD3MPrw64Dh8ONQ2gDZ4NFg0rDQ4NmwvLClkKZAneCLQItQfdBi0GAQVyBHoEowPiAiYDmwJ0AaMAc/+3/a78RPzk+1L7dvpp+WL5+fku+r75Ifm3+Kz3Tvbp9vX3gPd69kT4vfrS+x7+JwBKAb4B1gM3BrsGLwYfBYADgAMBBLIEAAXlBb8GCAcQCf4K1go9C9ILOwzTC+4LtAygDFsMdwyFDckNgQw2DIEMIwvqCZ4JWglmCCoI9QcJBxsGXgS6AgYCGQGk/6z+Gv6C/HD7hfuO+ib5J/hk96X2PfbT9Tn0N/Jw8A/va+7T7e/sEOwO60fq0uk/6urqJusG64Tqwemw6cnpLuql6bnoCupa7aTvlO+n8aD0k/VL9iv4Vvls+OX34fgF+rb6zfs7/en+HAAfAWACcAOoAw0EpAW8ByUIZggACvsKCQviC8gM5QuaCq4KIQuyCvkJNgmmCKEH1wYVBwUHUwVdBI4E0gN5AtUB+wBN/+D98fzZ+7v6s/kj+X/5zPhj9wL3fvbN9KDzbfP68jTyYfKa8gLyNPGX8Lvw5vBM8CTwR/Dn7yzvBPBo8nvz5vKX8+L2yvmX+lH8Jv/TABcCnQSTBlcGzgUSBt8FBAbIBxkJwAi9CF4LywwkDEYN2w+IEOgQGxN2FCAUaRRHFaUVyhURFXUUhxRiFMwTihNsE1AShhFvEb8QpQ+FDoINFQzVCjMKiQlQCB8HTgZvBWAEuwNQAzYCBgH1/8L+Z/3C+yD6hvgh9/v1bvVi9WL1/vQN9EDzlfJB8hzylfG38CjwYPCx8a7y9vKN8gvzM/WT9nz33fcC+aD6xvuH/lABgAEPALMAFgMRA1gCBgQzBdIE/QSfBggHewZ+B+0IkgkQClkLhAykDMEMXg2CDhIPeg8vEEAQDg8/DncOOA7XDH0MrAzQCwwLlQqoCRsI4gY/Br8F/wT0Ax0DVAKcAPT+O/6h/Y38y/v7+qf5QPgb97f1YfT+8tPx5vDf76LuT+1n7D/riuqq6hbr+eo+6j7qjepZ6sbpwelS6vHqouxX77Lw3vEE80/zHfUC+HP6J/v0+xD+1v5J/+r/awAEATUBNQMxBrYHRwjnCFoKWAseDLcNTQ58DrsP1xERE34TqhQJFdIUSRWHFf4UChRxE/ISNBJEES8QrQ/tDqYNMw0KDckLgQqpCXwIIwcFBvME9QMgA8IB2QBHAEb/BP5V/WD8FftG+l/5pfcC9hn1M/Rl857y5vFc8ZjwJvDA8Dbxj/DD76Pw//AM8fjxY/K98i/0fPXG9YX2mviM+VL63PwD/63/NgB7ATQCoAE0AcEB+gH/AUsC/QKoAgkDbQTHBDMFTQY+B5EHxghJCncKWQpgCvoJtQn3CNgHPQdgBzgH3gaGB40HuQZTBuwFHAUtBLADbwPFAjQCQAEWAOj+7P2F/Xn9n/3k/TL+TP4K/mj9VfwR+9z5nfj194b3DPeI9kT2Kvam9Vf1RvUP9fD0//T79Hv0CPRv8wPzdPRN9SH17PaH+Wb6lPqB/a3/0f8QAgUF0wXtBNIE6ASABCQFJgYAB0sI1gjACcwKrgv1CowK8gsDDZ8Nug7LD50PKw/MD2AQ/g9GEEkRwREoEdQQZxA3D+ENHw2+DO4LwApCCr0JjghgB5UG4AXqBC0EhwPXAoQBxv/N/mz+Yv2i/Pz8AP28+/b63vqf+Tn40fd294P2C/YT9tD1UfWw9DL0SfR19Gv0IfXx9ZT1jPQ69GX0jPQY9VL3KfoS/In8zvyu/Wz+1/7J/6MBNwLZAmQE7AVzBYQETwW5BUcFGwYZCJcIvwcRCPgIwgifCBkJHQqrCiALZwxmDXsNRg10DWQNYwylC5YLIwtmCsoJpQn0CBEIPgcpBtYEZANcAnoBWwAf//r95vx6+wP6Gvn195j2CPbm9VX1kvQy9MXzrvJ28V3wQe/c7bHsF+yB6+DqV+rR6R/pJOi058/n0ucx6E7oT+jz5wXobujL6PzpVOwL7zbxuvIY9Hb04vTC9nf4F/pR/NT9Nf76/gEACQDS/00AagETA6EEUQVGBsgG0AbkBwIJfQlYCroLigzwDLUNVg6lDkoPxg8REN0PRA9KD1EPgw5uDSkN3wy9CwgLjwpNCSIIiQcIBzgGRgWaBOcDIwP1AacAcf8y/rX93P3i/aX9Y/0J/f372/rg+Xz4cPfj9j/2kvUc9Xn0h/MN8w/zA/M48/jzxvTf9PrzEfOm8sPyoPOs9K/0rvVg+Kf5EfqF+238LPy3/cAB0AObA6AEwQXGBIME3gVWBiQF+gWoCKUJwwmBCgYLcQo+CpkL7gyGDf8NOg8cEIoPSg+FDzoP4A4HD8YPqA8+DwEPmg4FDt4MDwyIC50K+QneCbEJowiuB08HcQawBRsFTQSRA4MCfQELAX4Aa//D/qb+vv2z/Fb8gPte+nf5yPgR+B/3bfbo9SH1S/TG88bznvM983jzxPP081v0u/Rz9BT0HfXj9jf3XfZ29/P4WvmM+4L+a/9W/kgAWAPBA3MDygPXA8QDfAQVBpMGIQY4Bi8HDggNCIkIIgkaCV4JoQmaCS4JAQkpCYoJLQpyChgLfwtoClUJoAj2BwwHfQaVBvYFCQVCBBIDbAHU/+r+kv40/rL98/wp/PD6Zvlc+GH3JPZU9Yf1qPUw9R71wPTv81Pz8/Jg8l/xjPDP7zPv3+6F7mDuTu717fvtMu7p7Y7tt+1l7s3uZO/r74Tv8O4579rvKfCI8WbzDfRc9OL2Zvl/+Sr5OvvP/MX8vv4qASYBLAEOAygE3gRJBvsGDwfYB38Imwh1CQcKzAk2Ch4LhQvGCw0N8g1kDnIPnRBiEagR7hGwEeoQaBATEP4P0Q+yD50PKQ/XDnMO6Q07DZQMGAxmC/EKPwokCUMIVgdxBr4FOwWnBFEEeAQoBFMDzAL/AQEBMQBb/x7+8vxV/Iv72vqX+gv6Yvnt+JT4Kvji97X3m/ea93X3FPds9rr16fXN9u731vh9+b/5j/kA+g37xPuv/AD+Sv8HADcBSwIvAhQCfgPRBGYFbwb1BhIHYAcRCJ8IbAioCHIJDwrjCosLzQtsC8QLagy9DEENuA0cDjAOVQ49DmYNngwqDN8L9AsADJgL9ApqCk8JHghWBygG5gQTBFQDUAIiAQQAwf7M/SX9dvz/+4z7OfvL+i/6vvkR+Vr4svde98f21PVp9ST1uPRf9B706PNo8xrz5fJm8vLxtfHZ8dzx1fEA8uzxCvIm8kPy7vJC80zzAPS/9NX0KvUR99z48fiZ+ev61/vh+1r9m/8gAIAA/wG1AgQC5wFzAjACsAIDBFQF1QUABQQFuQW1BegFFAcZCDYI2AiJCUEJnwjTB4AHfgdOB0UHSgfWBqYF7QS4BCcEzQPIA9EDNAMJAlwBMABy/nv9IP2S/N37hPsm+4L6zPk2+Tj5M/nl+Dr5Nflb+KT3UPfZ9kr2LPY99kf2JPav9Xn1IvWL9LT0J/Uk9SD1P/Uh9bb0qfSq9Nn0HfV09a32D/h2+In4+Pgw+YH5xPof/M38vv2f/wIBbAGeArYDuwPiAysFtQWNBcAFVwbZBuUGBQeiB8EHyAfgCKsJVAl1Cf0Jvwm7CUEKXQqKCpMKRApeCnUK1QmgCfMJNAmJCKcI9wcJBx4G+wRKBNEDHgPMAmQCLQFdAA8A7P7i/YH9v/z0+6P7Tfvd+kb60fm9+ZL5B/m/+N34TPh/9yv3t/YQ9mX1O/Uv9Z30VfRk9Fn0OfSD9LT0jvS39K/0ufQX9aj1SPaf9hH3g/eA9z33zvfX+Jr5/Pr8/Iz+Zv9oAEoBQwG1ATkDUQTOBPoFlQcSCDwI5AgjCYoJqQrIC5oMGg2vDc0Nvg3oDWsNSA1TDqYPdBDaEM4Q2w8iDwsPrA4oDpgNEw3SDHwMyguhCqUJoQjdB50H9Qb1BdYEhAMbArMAXv9E/mX9tfw6/Or7SfvX+s/6Ufqs+SP5dvhm92f2xPUW9YP0M/T689TzcfMS86jyTPJP8nnypvLt8kHzaPNF8zPzuPJK8rfyGPPn8wD16/U+9pj2gvdy+Cn56vnv+sX7q/yf/lwA8ACiAZgCeQONBKcFfAZBByUI2QiECQUKRAoTC7kLuwuQDNwNVQ6xDpsP9g/BD1sQWBHwEVMSvBL7Ev8SjBIrElYS/hFcEYkRmBHXEEIQ2g+7DrgNHg1dDJML5QpTCtcJ9Aj3B08HlwbgBY0FeAVLBQUFfATMAykDJQIbAZUAyf/M/kH+w/3l/B78mfv9+mj6+/mY+VT5y/gI+Iz3NvfR9kT23fWK9TL1xPR69Pf0afVS9ej0YPTL8zbzNPOM85zzo/NR9PH1S/ft9wj51/ln+l/7cfx4/Dn8Af3B/QT+2v5k/9v/mABNASkC7AKuA2UEXgXwBVcG+AZMB30HAghNCLoI0QjBCPUINQkzCU4JkglRCesIrggECEEHiwawBSgFnwQ7BNYDZAOnAvMBMgFLAKv/IP+7/rz+V/7S/Xf9sfyh+/76f/q9+YT5Zvn3+IP44/cM92b2yfVW9Un1MfUc9Rj15/Rj9AX0ifMB8xjzcPPb84r02vS39Kj0qfRy9Gn0tvTx9E711vV19g/3u/dc+Af5WfnO+cv6zftu/Ev9Af4V/mv+H//Y/+z/yf/EALABIgLQAtYDHgSwA/kDrwQcBeQEAQUhBuAGQQc0CHYIdwfnBggHdgb4BdwFiwVlBUMF/gSuBPMD9wK1ApYC+AG0AYgBlwCP/7b+qf2p/Lv7Efsm+1X7GPsr+wz7CPoU+Yr4gPeL9ib2y/WH9WL1U/VP9QD1n/Se9L/0tvT19Hb1gPWh9af1dPUc9ej0BfV09Uf2W/eD+E759PmT+oL6SvqG+qH60fph+0L8Rv1r/qn/CQEFArYCggNfBIYEGgUQBmEG4AbpB1QIhQhrCUsKggrnClMLhAsQDPAMhA2zDQQOZg7UDmkPuQ+PD3IPkA/FD8YP3g+jDzwPRg8aD24Omg3KDMEL9wqRChIKggkUCa4IZgi+BxcHhgbOBTsFKAUQBb4EhAQZBGgDxQL3AQ4BcADC/yP/5P6i/lP+Kv7t/ZX9ZP0s/bL8O/y6+0n7EPvC+pn6cPpD+h/6C/rf+X35Ovn/+Er5rPnN+fj5JfoM+sH5x/m0+Y/56vkA++L7gfyf/Zr+rv7d/o3/wv+s/1gAWAF5AaMBfQIIAxUDcgPsAzMEfgRiBXYGEgfOB6gIRAnjCUwKiQqeCpIKJAq8CagJQgkGCTIJNQkOCcgIlgjtBxAHdAbTBSYFhgQgBHcDjgK5AbcAsf8e/8v+nP6k/qb+Lv5p/Z/8i/tD+iv5O/hY96f2Nva59Qn1mvQ99O3z2PPK87Xzg/Ns8yzz9PLO8ofyaPJ78pDyuPL28ljz0vMS9ET0c/Tj9BX1JvWa9eP10vX89bX2r/dH+G75ufpi+wb8w/xU/Wn9Bf6Q/rr+dv9kACsB3gGmAoAD9APABGQF3wVwBs4GTgeuB+4HKQh0CCIJcAmfCQwK/gm9CaUJjQkoCbgI5gizCHMInAieCFoIBAjuB6wHKQfSBjkGgQXPBEcE5QONA28DdgOOA7gDogNZA/kCYgKeAecAZQDb/3b/NP/Z/oH+Pf4Y/sr9YP0d/fz80vx5/BX8qfsv+9L6yvrJ+o76Sfom+vj5ofmF+Yz5Y/mc+Qr6ZvqE+gb7xPs9/Mj8KP0y/Qv9Sv2e/bL97/1f/sf+cv8lAMUAPwHHAVYCBwPTA2oE4ARGBcEFLAbjBn8H1wcACIwI8AgUCScJKAnTCLsI3gjICKIIgwgzCL4HZwf7BksG4gWvBTEF6ASKBOcDLQOkAhkChgFNASABxQCUADUAkf/K/gb+LP1t/Pn7d/sh+/L6tPpo+iP6z/ln+ff4mvgw+OX3sfda9xv37vbq9gb3JPc/9zT3MvcC9632bfYg9g72TPaO9jP3T/iI+SD6ivoq+4z7uvs3/MP8E/2C/aD+h/8aAJ8AKQG0AUoCBAOHA8oDCwSPBDkFkwXcBW0GDgfiB3wIBAlVCaYJ2QnOCccJgwkVCQAJ7wiRCCMI0wdlB80GewYNBogFLgWcBPEDWAOaAsEBEwGyAFMALgA/ACwA6v+Z/y//hP63/ff8Ufy++0j7H/v9+rr6rvqr+l/6HPr3+Zj5G/nB+JT4V/g9+D74Tfhy+JH4qPi3+K/4xPgm+an5S/rv+n/7OPwm/fn9R/68/g7/Gv86/+X/eACBANEAxQFKAuECqgNVBHsEqQRTBYsFVwVsBQAGaAa9Bo8HYwi0CAgJZAmdCVAJ7Ai9CIkIEQiGBzYH4AY+BvMF5wWRBQ8FrQRWBLAD5QIAAhgBFQBM//L+3f6n/n/+eP42/rH9Pv2c/Lj73/o9+tD5dfkn+eT42viy+HH4f/hv+CP4/vce+CX4CPgQ+AD44PcM+Ef4pPjZ+Av5f/kb+q36BPsT+4T7MfwE/Z/9X/7L/gX/rv8pANj/bP/i/w4ABwDAAMsB5QEeAhQD3gP0AzMEaASABH4EqQTyBDAFOQVPBdYFZQaBBnQGqwagBlEGIgb1BVgFwgRvBD0EsgMwA9MCZwLKASQBpwDw//v+dP5Y/jb+/v32/QH+t/2C/T/9xPwW/HX7D/u5+kT66fnb+e350/n1+Uz6Tvou+kL6e/ps+kP6Yfqa+uL6WPtJ/Ff9F/7p/ioAEAFpAe0BZAJOAmEC7gJcA2IDtwNwBAsFhgUOBnsGZwZGBoEGnwZpBmsG3wZLB6wHQAjUCCoJUQmQCdgJ2gmJCYcJpwlgCf4I3giNCOoHaQcYB4oG6QVrBRAFkAT5A2cD5wI+AlIBcgCL/3L+gf0C/an8RvwN/BX8Efzp+4r7DvtT+lP5ffi99/n2a/Y39kr2dPbi9nX3zfcK+Cr4SfhA+BX4IfiK+AX5ovmb+pz7QvwY/TD+lf6V/s/+JP8z/0H/n//3/zIAfADwAHoBqgGRAZwBrwGjAYUBtQH1ATECkAIRA5gD9gMxBJ4E5QTmBPcEHgUcBQgFBQXXBJIEVAQGBLsDZgP4ApwCXwIKAqcBXgEBAX0A/v9e/3X+c/2U/N/7W/sR++X68/oU+xj7Afu0+hD6Vvmk+Or3Nfez9mP2T/aN9tr2O/er9xv4h/gF+Vn5avmj+Tv67fq5+5L8W/08/jz/BQCNAKkAxQDQANIA7AD8AB0BPwG0AUIChwKsAuoCHgM8A1kDkQOVA8UDNgTDBF0F6QV0BgkHlAexB5QHiwdLB+oGuwaMBlYGNQZXBnAGaAY7Bg8GxAVlBeEEWgTAAxYDegLxAUUBfwDm/6D/fv9K/yf/JP8Z/+j+nv45/or9w/w4/KT7APt9+lH6T/pm+qP66Pow+4z71fsF/AD8yPu4+8P7Dvxi/NH8g/1K/gb/4P98AOMAGwFyAYMBZQFgAWwBZwFwAa4B3wHoARgCbgJ+AnwCtgL9AvUCFQNfA5wD7gNMBI4EzAQKBToFUAV2BXAFXgVxBW0FRAUfBfYEsgRgBBEErQNFA+MCkAJUAgoCuQGHAUgB1QBIALj/If+z/mX+Kf4W/hL+Av4B/v79uP1O/fD8cPzX+2v7FvvR+rz64vom+3D70Psl/GL8dfx2/IH8ePxy/J78+vyB/SH+5P6p/0MAvgAuAYcBtAGxAa0BtwGzAckB4QEBAjkCmAIBA14DowPnAwwEIwQ6BC4EFAT9AxUESQRpBIkErAS/BNsE6gTmBN8E1gS9BKkEiAQ5BN8DjQMvA9YCaAIKArsBXgEJAa4AUQDN/0n/z/5P/vD9uv1p/Rj95/zC/IT8Q/zy+477Mvvs+qT6Yvou+gn6Cfoc+iz6Rvpq+oD6jPp++lr6Qfo3+jX6TfqG+s36PPvY+2f81Pw3/Zz92/0I/hL+9/3k/QP+GP4p/lv+tf72/i//if/R/+b/AwArAEEANQBLAH8AlQClANEADQE4AVoBggGdAaEBtwHPAcgBuAGrAbEBnQF5AVYBIwHqAKcAUwACAMD/ff9E/xz/5v6t/or+bf5B/hH+8/3L/aX9g/1R/Rb96fzD/J78gPxn/Eb8QvxQ/En8RPxR/FH8SfxM/ED8Lvwn/C38Mfw+/GX8mvzX/CP9eP25/f39RP53/pj+u/7j/gH/Fv8e/zv/Tf9a/4f/q/+w/8z/DAAkACIATQB5AHAAYwCCAIMAYwB9AKsAuADJAP0ANwFeAYQBtwHSAc0BxQG3AZ4BfwFcAUUBMAETAf8ABAHoAL8AowCMAEwABgDY/5b/Vf8t/y7/Iv8m/1H/fP+R/6P/tP+5/6z/mP98/33/fP+B/5b/sP/S//X/GwA1ADsAOwBFAD8AIAAYABcAHAA2AGoAnwDSABoBWQGFAZ0BtgHHAd0B5gHnAfAB+QEVAjMCQAJoApkCnwKkAs8C4wLGAtUCAQP5Av8CNwNuA4IDsgPqAwIEHAQ+BFgEXwRgBG8EdARtBHQEfwSBBHUEYAROBCsE9AO9A38DQQMKA84CpwKLAl0CNwIcAvABuQGdAXMBHwHiALIAZgAkAPH/tv90/0j/H//m/qz+c/4w/uz9ov1g/S39+vzU/Lr8qPyU/JL8g/xw/Gj8VvxL/D/8N/ww/Dj8Pfw4/Dz8N/wu/C78MPws/DX8UPxn/Hj8l/y8/M/83vz5/AT9/fz//A79Dv0O/SH9Of1M/WD9hP2o/bv90v33/Qz+Cf4Z/jf+Uv5n/o3+wf7m/hH/Of9K/1L/Sf9C/y3/Bf/j/rH+eP5N/iv+Bf7Z/bf9qf2a/YD9bP1c/Un9OP0q/Rr9G/0b/S39O/05/Ub9Wv1t/Yz9qf3A/eX9Dv4+/mz+kP7C/vP+Kf9d/5D/2P8mAGUArwAFAU8BigHcATQCdALHAiUDbQOzAwIESwSJBM4EBwU7BWsFnwXWBQYGMAZcBokGrwbgBhEHPgdqB5wHywf0BxIIJwgxCDUIKQgTCAMI7QfZB8cHuwe5B7YHtwevB5sHigdnBzoHCwfXBqMGdAZMBikGAgbiBckFsAWUBXAFUgUkBe4EugRyBCsE6wOpA20DPAMMA+kCywKsAowCYwI9AhQC4QG9AZYBagFJASQBAAHmAMoAoABwAEgAGgDs/8D/k/9p/zr/EP/t/sz+o/6D/mT+SP43/h3+BP72/ej9z/2+/aj9jP1y/Vj9Qf0s/Rn9FP0L/QH9//z8/Pj89fzv/OX85fzg/NL8yPzM/Mz81vzj/Pb8D/0s/UL9Tv1a/W39gP2D/Yn9lf2k/bz91v3w/Q/+M/5C/k/+Wf5U/lH+Tv5K/kb+RP5L/ln+av6E/p3+r/7M/uj+8v77/gL/+f70/vL+5/7j/uz+8f79/gv/IP8w/0H/Uf9R/0//RP81/yr/Hv8O/wT/+/72/u7+8P4C/wf/Dv8Y/yL/Mf8z/zj/OP8l/xj/DP/0/uD+z/7A/r/+tf6s/qv+rf6s/qz+sf6x/rL+t/63/r7+xv7M/tb+5P7u/gj/IP82/0z/Z/+A/47/lf+k/6r/rP+z/8L/1v/l//b/EAApADsAUQBtAHwAhwCSAJ0ApgCoALIAswC5AMUAzADWAOkA9QD9AA4BDgEQAQkB9ADiANEAxACqAJoAiwCIAIgAjQCVAJsAtAC7ALkAvAC9AMYAxQDBAMAAtwCsAKoArwC0ALYAwADMAM8AzwDKAMAAtwCmAIkAeQBqAFkASAA6ADoALgAiACIAHgAUAAsAAADy/9T/x/+y/5L/dv9Z/0T/Mv8d/xD//f7w/uT+0/69/qP+jf5w/kj+Kf4I/vD91/3G/br9qf2Z/Zv9lP2J/Yf9df1h/Uf9MP0W/fP84fzV/M/8zfzV/OP88fwB/Q79G/0n/Sr9LP0w/Sv9Jv0w/T39S/1g/XL9jP2h/bH9yf3S/dD91/3b/dz95f3o/fD9Bf4a/i3+OP5R/mj+dP6E/pf+p/6u/r7+zP7R/tv+6f79/gv/Gf8t/zr/TP9k/3j/gf+U/6r/vf/P/+L/8v/9/wsADAAcACcALgA5AEYAWABiAHcAgACAAIkAkgCUAJYAmgCoAKwAqgC/AM8A2gD3AP8ACwEfAS8BNgE3AT4BPAE8AUYBSgFPAVoBZwFxAYUBmQGcAawBtQG4AbsBwwHFAckByQHSAdgB2QHoAe0B+AH+AQMCCwIMAhMCDQIDAvwB+wHzAe0B5gHhAdsB2gHWAdEBzgHOAcUBwAGzAaABkwGCAXIBZAFPAUMBPAExASEBGgEaARABAgH4AO0A5QDbAMwAwQC1AKkApACUAIoAiQCEAHgAbQBpAGAAVQBKAEMAQgA+ADYALQAqAC0AJQAdAB8ADwANAAwABAD5/+7/7f/g/9n/2v/R/83/xv++/77/wv+7/7H/s/+z/7H/rf+m/6b/nv+h/6P/nP+W/47/jP+H/4P/ev9y/3P/cP9q/2b/Yv9e/1z/Wf9V/1P/UP9J/0r/Qv9C/z//O/89/zX/NP8s/yn/JP8f/xz/E/8P/xP/Cf/6/v3+/P7x/vL+9P7x/vX+9f76/vf+9P78/vT+9v7z/vL++f71/vb++v79/vz+Af/7/vX+8f7t/uz+5f7i/uL+3v7k/uP+3/7i/uT+3v7f/t/+3v7e/t3+4v7e/tz+4P7e/uT+6/7t/vv+Af8C/wr/DP8S/xX/F/8Z/xz/Gf8d/yb/J/8u/zn/QP9F/0T/VP9i/2n/bP9t/3X/gv+E/5H/l/+b/5//of+p/6v/s/+6/7z/wP/D/8f/0v/U/9n/3//d/+j/7//y/wMACQAOAA8AFgAeAB4AKQAsAC4ANAAzADwAPwA8AD4AOwBCAEUAQwBKAEMARwBEAEEASQBBAD4AQgA/AD4APQBCAEgARwBEAEkAUgBRAFIAWABVAFcAYQBbAF0AYQBdAGQAZgBmAG0AcAB2AHwAfgCCAH4AgwCJAIoAjQCMAIoAjgCQAI8AlQCYAJkAnQCcAJwAnACXAJoAlACSAJUAjwCNAIwAjgCNAIoAjACRAIsAjACRAI4AjQCHAIgAiQCIAIMAgAB/AH4AgAB+AH4AfwB4AHYAcwB1AG0AbABsAHIAcQBvAG4AbAByAHUAeQB1AHAAcQBwAHMAcwB2AHYAcgB1AHkAdQB9AH4AgQCEAH0AfQCAAIUAfwCBAIMAhQCIAIAAfwCFAIkAhwB/AIAAeQBzAHkAegB5AHgAeQB2AHQAdABuAHQAcQBvAGcAYwBkAGAAYwBhAF4AYgBbAFUAUwBQAEkASABJAEcAQgBEAEEAOwA9ADkAMQAtADcALQApACgAKAApACEAIQAlACIAIAAiAB0AGwAYABEAEgAPABMAEgANABMADwALABAADgAOAA8ACwALAA0ADQAPAA8ADwANABEADQAKABMADgANAAkACAAPAA0AEwAOAA0AEQASABEAEgAOABIAFQAWABYAEQATABgAFgAaABsAGgAYAB8AIwAbABoAGgAbAB8AGgAYABYAFAAUABMAFgAXABkAGAAVABQADgAQABUAFAAUAA4ADgAQAAsADAAHAAkACwAJAAYABQAAAAEAAwD//wUAAAABAAMA/f8BAAIAAAD9//z/+P/5//j/9v/6//T/+f/2//P/9//3//P/9//6//P/7P/x//n/+v/8//3/+P////3//P/7//v/AAD8//j/+v/9//n//f/7//v/AAD9//v/+/////3/9v8AAAEA//8AAAIA///3/wMABQD9////AwAAAAUACAAGAA0ACgAFAAUACwAHAAUACwAOAA4AEAANAAYACQAJAAUACgAKAAoADQAEAAgABAADAAkAAQAHAAkA/f8CAAQAAQABAAAA/v8BAAAA///+///////8/wAAAQD7//7////9//n///8AAPn//v8BAP3/AAD+//n/9//4//v/+f/6//z//f////3/9//0//j/+f/1//T/9v/4////+P/3//z/9f/6/wAA/f8AAPv/9v/4//n/9//5//n/+f////7//P8AAP7//f8DAAMA//////3/AAAFAAMA/v8HAAMABwAEAAcACAAIAAcACAAIAAAAAwAGAAIABAABAAEAAQD8//z/+v8AAP7/+v/9//7//f/6//r////9//r/AAD+//z/AAABAPv/+f/8//n/+f/6//7///8BAAEA/f/9/wAAAAD8//z/9f////7/+v/+/wAABgAFAAUAAwAAAAIA//8GAAMAAAAKAAIAAQACAAQABgABAAEABAAGAAEABgAEAAQABQADAAQABQAHAAMAAQADAAYAAwACAP//AQAFAPn/+f//////+v/8//3/AAD9///////5/wIAAgD8////CAD///v/+P/6/wAA+f///wYABQAEAAAAAAD///3/BAABAAEA/v///wMAAQADAAIACgAKAAMABgAJAAMAAwAGAAYABgACAAoACAACAAgAAwAEAAYAAwADAAgACAAIAAsABQAEAAcACAAJABEADwAPAAsACwARAAsADwANAAkADwASABQACgARABMAEAASABIADwANAA0ADAAQAA4ADQAOAA8ADwANABAADgARAAsACwATABAAEAATABQADgARABAACQARAA8ADwAOAAkAEAAVABAAEQASABAADgASABIADgAUABIADgAOABAADgAOAA0ACwALAA8ACQAMAA4ADAAMABEAEwALAAkACQAJAAkACgAKAAgACgAOAA0ADwAUABIADAARAA4ADgANAAoADgASAA0ACwAJAA0ADgARAA8ACgAOABMADwAQABAADAASAAwACgARABAACwAMAAkACQAQAAMAAAAMAA4ADwANAA4AEgALAAcADgANAA0ACwAKAAgADAAMAAgACwAKAAkADAANABAACwAJABIADgAQABEAEAAKAAcADQAOAAoADQAQAAgADwAQAAgACgALAA8AEAAMAAkACQAIAA0ADAAJAA0ADQARABQAEAAMAA4AEQATABcADQASABIADgATAAoADwASAAwAEQASAA8AEAAOABEADQAPAA8ABQAEAAUACQAIAAoACwALAA0ACwAMAAwADwANAAsACQANAAoABgANAAcADAAMAAcADwAKABEAEAAMABMADAAPAAsAEAARAA4AFAAOAA8AEgAVABMADAARABMADwAOAAgADQANAAgABQALAA0ACQAJAAUACQAHAAoADAAEAAQABQD//wQACQAHAAMAAQADAAMABQAIAAgABQAHAAQABAAJAAoACgANAAcADgALAAIADgAKAAkADAAKAAsAEAASABAAEAARAA8AEQANABIAEgAPAAwACwASABIADwASABAADgAMAA0ADQAOAAsADwAKAAgACgADAAgADAAKAA4ACAAIAAYABQAIAAoACgADAAcACAAHAAsACgALAAoADAAPAAoADwANAAcADwAQAAUACQAIAAUACAAGAAYACgAGAAQADAAPAAoACgAIAAMACAAJAAcACQAMAAwADAAKAA0ABgAGAAoABAAEAAkACAAIABAACwAMAA8ADQATAAwACAAMAA8ACwAQABQAEgAOAA4AEgAPAA8ADAANABIAEQARABAADQAXABYACQAQABMACwASAA0ACwARABAAEwALAA4AFQASAAsACAAKAAoAEwAPAAkADAAMAAsAEgARAA4AEQARAAwADAATABEAEQANABMAEwAQAA8ADAAMAAoADQAQAAoADgAKAAwADwAGAAoADgAMAAsACgANABEADwAQAA0ACwAFAAgADAAMAAQACAAJAAMAAQD+/wQABwAGAAcABAAGAAgABQAIAAMAAAACAAoADAAHAAgACwAIAAcADgAOAAcACwAPAAsADgAOAAgABQAJAAsACwAKAAsADAAIAA8ACQAMABEADAAMAAcACgANAA8AEgAKAA4ACwAJAAkAAgAIAAoACAALAAkADQALAAUAEAAOAAkADQAQAAsABgAOAAkADQAQAA4AEQAPAAwADQAOAAsAEQAOAA8AEwAJAA4ADgARABAADwAYABEADQASAAwACwAJAAsAEwAOAA4ADgAKAA8AEwAKAAwADQAKAA4ACwANAAoACgAMAAoACwAFAAUABwAKAA4ACQAHAAcACAALAAUAAwD//wAABQAEAAIABgAMAAQABQALAAkABwAKAAcADwAPAAgACwATAAwACgAMAAkABgAEAAcABQAFAAMABAAHAAYACwAAAPz//P/5/wEA/f/2///////8/wEA+v/8//7//P8BAP///P8AAAMA///9//n/AQAEAPz/AgAIAAgABAAGAAgAAQAAAAMAAAD9//n//f8AAAEA///2//b/+//5//X/9P/7//3//P/9//7/AAAEAAIAAgAGAAcABAABAAkACQAGAAwADAALAAIA/P8AAAAA/v/7/wAAAgD7//j/AAAEAP////8BAPz//P///////v/8//3/BgAAAAEABgAEAAQAAwAJAAEA/f8DAAAA///9//7/AgD///3///8GAAUAAgAGAAYAAAACAAQAAwADAAMA/f8BAAEA/v/8//z//P/8//z/+f/5//b/8f/0//T/8P/4//f/8//x/+z/8P/x//H/8//y//b/8f/0//b/7v/u//D/8f/y//T/+P/1//T/9v/1//X/9f/7//r/9P/y//j/+v/3//n/9//1//b/7v/z//b/9P/6//n/9//7//j/+P/5//f/9f/1//j/9//3//T/8f/u//T/9f/z//T/8//4//X/+f/3//T/9P/2//X/7v/q/+//9P/3//j/9f/1//D/8f/1//T/9f/z//T/8P/z//D/8P/1//L/8P/y//T/8//3//j/9P/x//D/8v/4//r/+f/6//X/9f/8//r//P/8/wAA/P/5//j/9v8AAP3/8//3//b/8//1//f////6//r/AAD4//z//v/7//v/+f/3//r/9f/6//7/+//7//n//P///wQA/P/3//j/8//8//7//P/+//v/+//8//n/+v/4//j/9//2//v////5//7/+//4//z//P/4//j/9f/x//b/9//3//j/+v/0//j/+f/z//f/9//5//r/8//1//X/9P/x//L/9f/w/+//9v/v/+7/8//s//L/9v/x//P/8v/w//D/6//o/+f/6v/z//D/8P/y//D/8f/w/+z/7f/r/+7/7//t//D/7v/s//T/7v/v/+z/7v/3//X/9P/v/+3/8v/4//T/8v/x/+z/7//y//H/7//w//D/7f/q/+v/7f/u//D/8f/w/+//5//q//L/7P/p/+r/6//r/+z/7//l/+j/7f/m/+r/7f/u/+n/6//w/+7/8//v/+r/7f/p/+j/6f/v//L/7f/t/+3/6//p/+7/6v/q/+j/5v/r/+v/6P/s/+v/6f/s/+v/5v/g/+f/6P/o/+r/7//r/+X/5v/i/+b/6f/m/+X/5f/r/+z/6P/u/+r/5v/l/+b/7P/r/+n/6//m/+f/5//q//D/7P/n/+n/6v/n/+n/6P/v/+3/6P/t/+7/7P/t/+//7//o//D/7//m/+T/5v/p/+P/5f/k/+H/5//n/+X/6v/q/+r/7//p/+j/5//l/+v/6//o/+f/5//o/+//5//h/+D/4P/j/9r/3f/m/+L/4v/o/+H/3//j/+L/4//j/97/3f/g/9//3f/f/+L/2//Z/9z/3P/j/+D/5//j/+T/6v/h/+P/5f/h/+X/5//i/+P/5//k/+r/5v/j/+L/4v/g/93/4v/n/+H/5P/n/+X/5v/g/+b/5P/e/+f/5//m/+T/4f/i/+H/6f/n/+b/5v/m/+f/5f/p/+n/5//m/9//5v/o/+n/5//h/+P/5f/q/+T/2P/f/+T/4//k/+P/5//k/+H/4//f/93/3//j/+D/3//j/+T/3P/g/+P/4v/p/9//3f/k/+P/6f/m/97/5P/f/93/2//h/+D/3//i/97/3f/e/9f/2//e/97/2v/d/+H/2//a/9r/3f/f/93/3//e/97/4f/h/9z/3f/d/9j/2f/b/9//2//c/93/2//j/+P/3P/g/+T/4P/h/+P/6P/o/+P/5P/h/+H/5//h/+T/6f/k/+j/6P/p/+b/6v/r/+v/7v/r/+b/6f/o/+r/7v/r/+X/5//q/+f/5//i/+j/5P/n/+P/4v/o/+f/7v/p/+j/6f/l/+H/5//n/97/4v/n/+b/6P/f/+b/6//n/+P/5v/t/+v/6f/q/+3/6P/u/+7/7//z/+7/7f/t//D/7f/r/+r/6//s/+v/7P/v/+z/7f/t/+j/4f/n/+v/6//o/+P/6v/r/+7/8f/x/+v/4f/r//T/7f/v/+7/7f/w/+z/6v/r/+n/7f/y/+z/7P/y//D/8v/w/+7/8v/1//P/8v/x//L/8//w/+3/7//z//L/8P/x//D/7//0//T/7//w/+//7P/v//D/9f/4/+//8f/1//b/8//y/+3/7f/q/+r/7//z//H/7v/1//L/7f/y//X/8v/v/+3/8P/1//X/8P/1//T/7//w//L/8//v//X/+P/1//v/+P/0//j/+v////n/8v/y//T/8//x//X/8//s/+z/7v/s/+v/8f/0/+3/7f/z//L/9P/0//r/9P/0//j/9v////r/+v/8//X/9f/2//b/9P/7//3/+f/7//3//f/5//n/+f/7//j/9//3//3/+f/z//3//P/7//n/+f/+//3/+P/7/wQAAAD///z/9//8//b/9v/5//T/9//2//P/9//u//P/8//y//D/+P/+//j/9v/y//r/+//2//j/8//z//j/9P/2//r/9//2//f/+P/5//b/8//v//D/8f/u//L/8P/z//T/7v/0/+//8v/2//f/+P/1//X/9//5//X/+P/z//n/AwD///n//P/6//f/+f/9//v/+P/4//r//f/2//X/9//6//f/+//2//n/+//y//j/+//4//n/+v/3//X/+P/1//P/+f/4//n/+//7//v/+f/8/wEA/////wMABAD8////AgD+/wAA/P/8/wUAAwAAAAMACAADAP7/AQD//wIACAADAAYAAwD+/wEAAQACAAMABAD9/wQACAADAAgAAgD//wUABwABAAEABgD//wMACQACAP3/AAAGAAAA//8EAAgA/////wUABQADAAMACAABAAYACAACAAUABwACAAgABAAEAAsACQADAAcABwAMAAcABAACAAMACQAFAAUAAQABAP//AAAKAAUAAwAFAAgACwAMAAoABAAEAAUAAwACAAIAAgAIAAUAAQAEAA8ADgAOAAwAAwAEAAkAAwD//wIABQACAAYABAD+/wMAAgAAAAEA//8BAAAABQACAAQACAACAP//CAAKAAUAAwAHAAwACwAKAAwADAAPAA4ABQAHAAwACAAJAAcABgAGAAIAAgAGAAoABgAJAAoABQAGAAAAAgAIAAQACgAQAAoACAAIAAsACwAGAAcABgAKAAMABAAGAAUABAAIAAgACwAOAAYACwAKAAoADwAKAAwADwAIAAsAFgAQABMAEgANAAwADAASABIADAAPAAsADgAQAAsACAAHAAcACgAHAAcACwAJAAoACQAQABIADwAMAA4AEgARAAwADQAPAA0ADQAPAAwADQANAA8ACQAKABAAEAANAA0ACwANABEADQALAAsACwAKAAsADQALAAoACAAOAAwAEAAWAAoADAARABMAFgAOAA0ADQAQAA4ADgAPABcAEQAPABEADAANAA4ADgAPABAAFAASAA8AEAAXABYAFQATAA8AEQAOAAcACQAPAAkABgANAA8ACQAHAAYABQAKAAUACQAIAAMACQAOAA4ABQAHAAUAAgAKAAgACwASABAACwAGAA4ADAAGAAoACAALAAsABwAKAA8ADwAKAAoADgANABAAFQARAA0AEAARABQADQAKABAAEgAPAA0AEAASABUAFAAZABMAGAAXABQAFAATABAADAASAA0AEAALAAsADQALABAAEQAPAAwAFQAaABEAEgAWABAAEAARABYADQAQAA8ADQATAA8ADAAMAA8AEwARAAwAEgAQABMADwAKABUAFwAWABEAFwAXABUAFwASABYAGAAXAB8AGAAUABkAFgAeABwAFAAVABgAFgAWABYAGAAXABcAFAAZABkAHAAcABsAHgAcABkAGwAbABoAFwAbABwAFwATABkAFAAVABgAEwAUABUAHQAUABcAGQARABUAEAASABQAFAAZABIAEAAQAA4AEwATABEAGQAbABkAIAAaABgAGAAYABUAFwASABUAFwAZABkAFAARABMAFgAYABgAFAAXABMAFwAdABQAFgAbABIAEwATABQAFQAXABQAHwAeABcAJAAlACEAIAAaAB0AHAAbAB8AGgAcAB0AGQAcAB4AHAAdABYAHAAcABwAGwAXACAAGgAbAB8AHAAfAB4AGAAVABkAHQAcAB8AIQAbABwAKAAkAB8AKAAmAB8AIAAeABsAHwAbABoAIQAbABsAIQAcACAAHQAfACQAGQAcAB4AHQAdABwAHAAaABYAGAAZABkAFgASABYAFQAWABkAGgAYABcAFwAWABsAHwAaABYAGAAUABIAEQAVABMAEgARABgAGAAXABwAFwAbACAAHAAdABcAGAAaABQAGgAXABcAGAAVABQAFgAaABwAGgAaAB0AHQAcABcAFwAVABUAHAAYABgAGgAaABkAFwAWABcAFAARABkAGQAQABMAEgASABYAEQAOAA0ADAALAA4ACwAMABEADwAPAA8ADAAMABUACwAHAAoACwANABQADQALABQADQAMABEADgAJAAoAEQAMAAsAEgATABQAEwARAA8ADgATABoAEgAQABAADwAPABEAEQARABQADgAOAAsABQARABMAGAAUAA4ADwARABEADAAPAA4AEAATABEAFAATABAADgAWAA4AEgARAA0ADwARAA8ADAAQAA4AEgAQAA4ADAAPABQAEgAVABEADQAQAA4ADgAVABEAEQARAAwACwAQAA8ADwANAA0ADQAJAAcACgARABEACwAOABQADQALAA8ACgAPAA0ABgAPAAwACQARABQADAAJAAsAFAAQAAUACgALAAgABQAHAAYABQAIAAwACwAHAAcACQAFAAQABwACAAoACAAIAAsACAANAAkAEgAOAAkACwAGAAYABAAIAA4ABgAKAAwACgAIAAgADAALAAsACgAMAAwACwAPAAsACwANAA0ADgAMAAsACgAJAAkADwAHAAYACgAKAAoACgALAAkADwAIAAkADAAJAAkACAAIAAgADwALAAUACwAKAA8ADwAIAAcACgAQABEADwASAA4ADgAOAAoACgAMAAkACQANAAsACgALAAoACwAJAAsACwAIAAUACAAOAAgACQAGAAQACgAGAAMABQAHAAIACwAQAAgACgAIAAgACQAIAAsACQAMAA0ADQAOAA0ACwAMAA8ACgALAA4ADgAMAAgADAAIAAsACQAHAAoADAAKAAoAEQATAAYACwAJAAAACgAIAAQADAAGAAQABgAFAAIAAQAEAAQABwAGAAEAAAD///7/CwAIAAcADAADAAcABwADAAgABwAIAAQABQAJAAUAAwABAP//AwABAPz/AQD4//r//f/7//v//f8AAPz/AwAEAP7/AwADAAEA//8GAAkABQAHAAIA//8BAAIAAAADAAUAAAAIAP///P////3/+/////z//P/7//f/9v/0//j/+v/5////AwD3//j/9v/6////AAD///r//P/+//v//P8BAPz/+//8/wIABQACAAQAAgACAAIA//8CAAIAAwD//wAABwADAAIAAwACAP3//f//////AQD9//j//f/8//f/+f/+/wEA+f/4//3/9//5/wIA/P///wEAAQD///T//v////n/AQD5//X/+P/1//b/8v/0//H/8f/v/+7/8P/0/+z/7P/r/+b/6//o/+3/7f/z//T/7v/v/+//7v/r/+v/9P/x/+z/9P/v//P/8P/v//T/7//w//P/6f/t//H/7v/w/+7/8//y/+3/9f/0/+f/9//3/+7/9P/v//H/8P/t//j/9P/v//H/8f/z/+//8//6//T/9v/x/+//8v/t/+f/5v/q/+3/6v/n/+7/7f/p/+f/5v/l/+n/6v/q/+n/6//t/+z/6P/l/+n/7v/v/+z/6f/t/+r/5//m/+X/5//n/+X/4f/i/+D/5v/p/+L/5P/q/+j/5v/k/9z/3//k/+T/6f/j/+b/6P/l/+P/6v/w/+v/5v/n/+r/6f/t/+n/4//q/+r/7f/r/+z/7P/w/+3/5f/q/+r/5f/j/9//5//u/+P/5f/s/+n/5//s/+n/5f/p/+f/6f/s/+f/5f/r/+r/7f/w/+3/6f/p/+n/6f/n/+r/6P/q/+b/5P/r/+v/6v/r/+//8f/s//T/9P/t/+r/6f/p/+b/4P/p/+f/4//n/+f/6P/s/+n/7f/t/+D/5//j/+n/7f/o/+7/7v/u/+n/6//t/+z/7P/p/+n/5f/n/+r/5//n/+f/6//n/+b/6P/n/+L/6P/t/+f/6//n/+f/5f/q/+z/6f/o/+X/5v/l/9z/4P/n/+X/3f/k/+L/4f/o/+X/5v/j/+X/3v/h/+H/2P/b/97/4P/a/9v/2v/h/+f/4f/e/+D/3P/f/+H/3v/e/9//2v/f/+P/4v/d/93/3f/c/97/3v/b/93/3v/f/+P/5//i/+L/4P/h/+P/3//g/+P/5P/j/+H/4P/g/+L/4P/k/+v/6//n/+P/4v/i/+P/5P/p/+H/3f/i/+L/3v/j/+j/4//j/+L/4v/m/+b/4f/g/+T/5v/h/+D/3//g/9z/4v/f/+H/4f/Z/9v/4f/j/9z/4f/p/+T/4v/c/93/4v/h/+H/5P/i/+H/4f/f/93/4P/h/9n/2f/W/9j/1v/X/93/3//h/9r/3f/g/+D/4v/l/97/4P/h/+H/5P/n/+P/5v/i/+T/5//o/+f/6P/l/+P/4v/l/+r/5P/o/+v/6v/m/+X/5v/q/+b/4//n/+r/6f/j/+b/5f/h/+j/6P/q/+v/6f/m/+T/5f/s/+X/5//r/+f/6P/o/+v/6P/n/+f/6f/o/+j/6v/m/+f/5//j/+j/5f/k/+j/5v/s/+v/6P/o/+r/6v/n/+z/8v/q/+b/6f/n/+z/8P/t//P/7//p/+z/7//x//L/7v/t/+r/6v/v/+z/5//r/+X/5//l/+3/7P/m/+r/4//n/+P/4//p/+v/3v/e/+j/5v/g/+H/6f/r/+j/5//n/+X/7v/q/+//9v/y/+3/6v/u/+z/6P/u/+//9f/z//X/9P/z//j/8//u//D/+f/3//H/8v/y/+7/8v/v/+7/7v/z//X/7//t/+v/6P/q/+n/6v/u//T/8P/w//H/7f/z//D/7//u//f/9P/q//D/6v/n//P/6//m/+//8P/s/+v/6//n/+v/6f/p/+n/5v/q/+r/6//w/+r/6//v/+7/8f/x//H/9v/4//b/+f/3//T/9P/x//b/8//w//j/8//s//D/8f/2//T/9//9//v/+//y//X/9f/2//z/9//5//7/+f/5//r/+f/2//n/+P/5//T/9//5//n/9v/0//j/9//3//b/+f/8//r/+//6//3/AgD//////P/7//z//P8BAPz/9//0//L/9P/3//f/+/8AAAEA/v8DAAMAAQD///z/+f/0//b/+f/5//T/8//z//L/7//z//X/8//y//L/8//u/+3/8v/1/+7/7P/2//D/9f/y//D/8v/t//H/8P/6//v/+/8DAPv//v////b/+P/6//v//f/2//b/+v/4//b/9//9/wIA/f/6//7/AgD+////AQAAAAIAAAAAAAAA///9/wEA/P/9////+//3//n/+v/7//j//v/8//v/AgD9//n/AAACAAEA+//1//r/+v/8//7/+v8AAP7/+v/6//b/+//9//3/+//7//3/9//4//f/9//3//X/9f/t//b/9v8AAAIA9/////7//v/8////AAABAP///f8FAP7//f8DAPz//f8BAP///P///wMAAwD+//z//f8AAPv//P/9//v//P/9/wMA/P/8////+v/+//3/+f/7//7/+v/5//3//v/+/wIAAAAAAAUA+////wIA/v///wIAAQAAAP//AgAAAAAABAADAAAABQABAPz/AwAGAAEAAgAGAAAAAQADAAEA///9//7//v8CAPv/+P/5//j/+//7//z////6//3//v/3//v/9v/5//n/9f/5//b/+//8//n///8AAPz/AwABAPz/AAD//wIABQAEAAQACQAGAAMABAACAAUAAQADAP///v/5//r/BQADAAAAAgAEAAYABgAFAAMAAgAFAAUADAALAAMABAALAAsACQAAAP//CgAKAAoAAwAJAAcAAQABAP//AAADAAEAAwAIAAMAAwABAAAAAwAFAP3//f/9/////f/9/wIABQAIAAQACQAJAAkADQAQAAsACQALAA4AEgAMAAcACwALAA4AEAALAAsADwANAA4ADwALAAsACAAIAAsABwAKAAsABAAMAAsADAAOAA4AEgATABMAEAALAA4ADQARAA4ADAALAAsADwANAA4ACgAHAA4ADwAMAAcACwAMAA0ACgAKAAwABwALAAsADQAMAAcADQAOAA4AEQAJAAkACQAMAAsABgATAAwACAANAAgACwANAAsABQAIAAkABQAFAAgABgABAAgABgADAAMABwAMAAkACgAIAAsADQAKAAwABwAJAA4ABgAJAAkABQAUABAACAAPAAkABwAIAA0ACQADAAQAAgAKAAoACAAHAAgADAAFAAwABQD+/wgACQAFAAQABAAFAAsABgADAAgABQAHAAUA/v///wUABwAFAAEA//8FAAQABgAKAAYAAQAKAAgACQAJAAcACgAMAAsADAALAAkABAAHAAAA+v8AAAMABwAFAAgADAAGAAkADAAGAAIABgAGAAYABwAGAAkACwAGAAMACgAFAAQACQADAAUABAABAAkACgAIAAYA/f8DAAUABQACAAAABAAIAP3/+f8DAP7/AQD///r/+f////7/AgAEAAQABQAAAAAABAABAP//BQADAP//AwABAAUACQACAAYABwAFAAIACQAGAAMABgAFAAoABwAEAAkABwAHAAsABgAEAAgADAAJAAcACAAEAA0ADAAOAA8ACAAMAAsADAAKAAMADAAMAAsACgAIAAkACgALAAgADAACAAMACwADAAYACQAGAAYADQALAAkADwAMABEAEAAKAA0ADAANAAsADQAKAAwAEwAMAAoACQAMAAsABgANAAkABwAMAA4ADwARABMAEQARAA8ADwAQABEAEQANAA8ADQALABIAEwAQABAAEwASAAwADAAPABEAFgASAA8AGQAUABcAFgASABAADQAPAAkADQARABAAEwAOABEADwALABoAFwAYABcADgAPABYAFQATABUAFwANABEAFgAPAA8ADgAOABEAEQARABIAEgATABYAFQAVABUAFAAPABIAEwATABEADQASABEADAARAA8ADwAPAA8AEAARABUAEwAPABIAEQANAA0ADAANAA8ADgAPABEAEQAOAA8ACQAQABAACgANABAAEwATABIAEQATABIAEQASABMAFAAVABoAIQAdABMADQATAA8AEwARABEAIgAYABoAHgAbABsAHQAdABkAGAAVABkAIAAdABcAFgAbABgAGgAaABoAGwAcABkAHAAgABoAFQAZACMAIQAcAB0AGQAaABoAIAAfAB0AIgAfACAAGgAbACIAGQAbACMAGwAZACAAHgAbABoAGQAVABYAEwAUABgAFQAaABoAEgAUABkAFwAZABkAFgATABMAEQAUABYAFgAYABYAFQASABMAFQAUABUAFQAUABYAFgAVABkAGgAZABIAGAAaABUAFAAUABUAFQAZABYAFQAfABwAHQAZABcAGwAQABcAHQAYACIAHQAZABgAGAAbABoAHgAVABoAGgAYABsAGwAdAB0AGwAdACAAHAAaABsAHAAZABwAIAAZABkAFgAQABEAFAAWABgAFwAUABQAFQAVABgAFgAYABQAFgAbABgAGAAUABIAGAAZABcAFwAdABwAFwASABIAFwAWABYAGwAZABYAFgAXABcAFQASABcAGgAYABoAGQAeABYAGQAfABoAGwAeAB8AGwAZABoAFAAbABoAGAAZABAAFAAUABUAFgAPABUAFwAUABoAEwAVABQAFAAWABcAFgAYABUAEAAWABMADQAZABMAEgAcABcAFwAYABAAFwAUAA8AGAAVABYAGgAYABYAGgASABQAHwAVABQAGAAZABUAFgAcABkAFQAZABsAGwAYAB0AGwAYABYAGQAaABYAGAASABQAFgAXABMAFgAVABQAEQARABgAFwAWABcAGQAXABQAGQAVABEAGgAYAB0AHAATABMAGwAZABkAGAAWABgAGQAWABMAEwAbABkAGQAVABcAFwAXABcAFwAYABUAFAAXABoAGAAXABgAFwAcABYAEQAYABgAFQAZABgAFAAWABwAGQAXABkAEwAWABcAEAAXABYAGwAcABYAEwAYABgAFgAfABcAFwAaABYAHwAeABcAHQAbABkAGgAdABUAFwAaABwAHQAZABwAGgAaAB4AGQAeABoAHgAgABoAHQAWABoAGwAdABoAGgAaABYAFQAYAB0AHAAeAB4AIAAfAB8AIQAbABkAHwAZABQAGgAfABcAGQAaABYAGgAcABoAGAAXABoAFwAZABgAGAAcABQAEQAVABUAGAAWABcAFgAbABgAFwAWABYAHAAcAB4AHwAcABwAGgAXABkAGQAdAB4AHgAaABwAHgAbABoAHgAgACIAJAAiACEAHAAYABsAHgAhACAAHgAcABsAHAAfABwAFwAZAB0AHgAeAB0AHgAhACMAHAAkACIAGQAgACIAIAAdACIAIwAjAB8AJgApACEAIwAhABkAHAAcACAAIgAfACEAIAAfAB8AGQAbAB4AGAAYABwAHAAaACAAHwAfACcAJQAjACEAIwAjACMAHQAeACcAJAAeACEAHgAcAB0AFwAZACIAIgAdABsAGwAbABsAHgAUABwAIQAZABsAHAAaABcAGwAjACAAGwAaAB0AIAAiABsAGgAhABoAFQAaABQAFAAfABYAFQAaABYAGQAaABQAFAAZABUAFAAYABwAHQAbABsAHwAXABsAHwAYAB4AGAAUABoAGAAXAB0AGQAYAB4AFQAUABwAGQAZABcAGwAWABAAFAARAA8AFAAZABQAEwAaAB4AHwAbABYAGQAYABcAGQARABcAGwAaAB0AHgAUABQAGwAZAB4AGQAPABYAHQAYABsAHAAUABgAHAAXABsAGgAVABYAFAAWABUAFAATABcAGAAVABIAGgAXABcAFgARAB0AGgATABgAGQAgABsAGAAXABsAIwAhABwAIAAiACAAIwAkACIAHQAdACEAHwAhACEAHAAbAB0AGQAVABoAHAAbABgAGAAgABwAHwAeAB4AJQAgACUAKQAlACgAJQAlACMAJwAmACYALgAtACsAKgApACgAKQAlACEAJgAqACsAKgAmACUAJgAiAB8AIQAjACcAJQAfACMAIAAfAB8AGwAZAB4AFwAWABgAEwAVABwAFAAQABYAEwAYABYAGAAZABUAFgAYABcAFQAVABkAHAAZABsAFwASABEAGQAdABkAHAAfABkAGwAcAB4AHQAWABcAFwAbACEAHwAiACEAHgAZABYAGgAXABQAGAAWABIAGgAXABUAFgAZABkAGwAXABQAFwAQABEADgARABAAEwAOAAgACgAKAAgADgAOABAAEQAPABMADwAPAAgABAAJAAsADwAQAA0ACAAHAAkADQANAA8ADgAPAAoABAAJAAoABgADAAMACAAKAA0ADwALABAADAAHAAoABgAEAAsABgAHAAgACwAPAAgADwAKAAoADgANAAwACwAGAAQADAANAAoADAAJAAgADAALAAMABgAPAAoADAALAAsACAADAAQAAQAEAAUA/P/9/wMABQAGAAMABAAKAAgA//8AAAUAAwAKAAUA//8BAP//AAAAAP3//f////3/+v8DAP//+/8AAP//AwAEAP7/AAD9/wAA/P/+/wEA/P/6//3//f/+//r//P8BAP///f/7//v/+v8CAAUAAAAFAAAA/P/+/wEA/////wUACAAHAAQAAQAJAAQAAwAIAAUABAAKAAUABAAFAAUABQAFAAYAAwACAAMACQAFAAEA/P8CAP7/+f/4//T/+//8////+//9//r/9v/5//f/+/8BAPz/+v/6//j/9v/7//r/9//4//v/+//3//n//P/4//3//f/4//j/+v/4//j/8v/1//z/+//3//b//f/6//r/+v/5//r/+v/9//7//P/7//j//P/7//n//P/9//r/+P/2//X/9v/0//n/+f/5//r/+P/4//z//f/3//n//P/x//z/AAD3//r/AwABAP3/AAD8//b/9//6//v/+v/8//z/+P/3//n/9v/1/+//9v/1//P/+v/0//L/7//w//P/8P/y//b/9//2//T/8v/4//D/7P/y//T/7f/o//H/8P/4//T/6v/s/+7/9v/0//L/9//1//D/7//0//D/8P/1//P/8P/y/+3/6v/t/+3/7v/x/+7/7P/p/+n/7f/u//H/7f/u//n/+v/3//3//P/3//v/9P/x//D/8//z//P/9P/v//j/9P/x//f/+v/7//b/+P/3//j/+P/4//f/8//x//L/7f/5//r/8v/1//T/7f/v//H/7f/w/+7/8P/p/+z/6f/m/+n/7f/q/+3/8P/x//H/7P/t/+//8v/0//n//P/2//r/+f/6//r/9f/8//f/+f/5//D/+P/1//j//f/8//f//P/7//T/8f/2//n/8//0/+//9//8//X/+//7//T/9v/3//b/7f/u//L/8//w//D/8P/r/+//7v/v/+7/6v/j/+b/6P/l/+b/7f/r/+n/7v/u/+3/7f/r/+r/6//q/+z/5//j/+7/7//t/+r/6f/t/+n/5f/m/+b/6P/n/+D/4//k/+H/3//k/+f/4f/q/+n/5//o/+f/6v/r/+v/6f/q/+z/6//t/+z/6//t/+3/8f/u/+n/6f/q/+r/5v/n/+X/4P/k/+r/4v/d/+T/5f/i/+L/4P/h/+D/4f/g/93/2v/Y/9j/2v/c/9z/4f/e/9z/4f/g/+D/4v/g/97/5v/q/+P/3f/b/93/4f/g/+X/5f/i/+H/3//m/+L/3f/g/+P/2//c/+T/5//j/97/4f/i/+P/3//k/+L/4P/i/9//3//g/9v/3v/k/9v/3//h/+D/2//d/9z/3P/e/93/2P/Y/9z/3v/h/+P/5f/k/+T/3f/e/+D/2f/b/9j/2P/a/9z/3//Y/9r/1v/a/9j/2P/Y/9b/1//c/9v/1//f/9z/2f/d/9X/1v/a/97/4f/g/9//3f/V/9v/3P/a/9z/1v/V/9z/4f/b/9f/3P/d/93/2f/U/9b/1P/X/9b/0f/Z/9v/2//a/9b/2//Y/9v/1v/Y/9r/1P/c/9//1//Y/+H/3v/Z/9X/1//Y/9j/1//e/9//2P/Z/93/4P/Y/93/4f/e/93/3f/c/+D/3v/d/+L/3P/e/9//3P/d/+D/3v/c/93/2//b/97/3v/h/9//3P/b/9z/3f/a/+L/3//f/97/3f/f/+L/4f/k/+H/5P/f/97/3v/i/+z/5f/m/+X/4P/l/+b/4v/f/+L/4f/j/97/2v/c/+D/4f/Z/9f/1//b/93/2//d/9v/2v/h/9v/3P/Z/97/4f/W/9r/2//W/9z/2//Y/9v/2//X/9b/3f/Z/9b/3P/Z/9b/1P/R/9L/0//S/9D/0//U/8//zf/S/9b/1v/T/9L/zP/M/9L/1//Z/9X/1P/V/9j/2P/U/9X/0v/U/9f/1P/Y/9n/2f/T/9f/3P/b/9P/0P/V/9j/2f/X/9L/1P/W/9H/2f/W/9P/0f/N/9X/0f/S/9b/0P/X/9P/0v/W/9H/0f/R/9P/0f/Q/9H/1f/Z/9P/1v/T/9H/1f/Z/9f/1v/d/9r/1//c/9n/3//f/9v/2f/b/+D/2//c/9r/2v/i/+D/3f/c/+L/4v/i/+T/5f/h/9v/3//k/+P/3//m/+T/2//e/93/3f/k/+D/2//c/9n/3f/g/9//5//n/93/4v/l/+X/4//g/+L/4v/b/+H/3//f/+T/2//f/+L/4P/k/97/4f/k/9//5P/n/+f/4f/k/+f/5v/n/+b/5f/t/+v/4//f/+P/4f/g/+L/5f/k/+P/5P/k/9//4P/g/9//3//g/+L/3v/e/+f/3//d/9z/2f/f/93/3v/i/97/2v/e/9b/3//g/93/3v/i/9j/1f/Z/9j/2f/c/93/4P/e/93/5v/i/+H/5f/i/+T/5v/h/93/5P/f/+P/5f/h/+f/4//i/+P/5//m/+L/3//k/9//3f/i/9v/3f/g/93/3//f/93/2//e/+L/3//e/9//2//j/+D/4f/k/+H/5f/j/+L/5f/o/+D/4P/i/9//4//m/+X/6P/p/+n/5f/p/+X/4//i/+n/7P/i/+L/5v/o/+P/4//l/97/4//p/+b/4f/f/97/3v/g/+L/4v/c/9f/2v/c/9z/3f/i/+L/5//o/+P/6v/l/+j/7P/p/+z/7v/u/+r/7f/k/+b/6//s/+v/6//t/+j/6v/n/+z/6v/s/+3/5//k/+H/6P/p/+L/3f/j/+j/5f/l/+P/4v/l/+L/4f/i/+H/3v/f/97/4f/m/97/2v/g/+H/4v/n/+X/4f/g/+f/5v/l/+T/5f/g/+T/6P/p/+3/5f/e/+H/6P/j/+b/5//n/+v/4//q/+j/5f/s/+X/7P/r/+j/8P/2//H/6//r//H/7//t//D/7v/t/+v/8f/u/+T/7v/u/+n/7//r/+T/5f/p/+n/7f/m/+T/5v/m/+j/5//n/+3/7P/j/+f/7//t/+v/7v/w/+r/7P/t/+z/8f/w//H/8v/v/+3/7v/k/+T/5//n/+z/5v/o/+f/6f/r/+f/5f/o/+7/4P/m/+v/6f/u//T/+f/w//T/8//z//j/+P/4//T/8f/0//X/8P/z//n//v/7//L/+P/7///////9//n/+f/4////AgD8//z/9v/4//z//P/7/wEAAQD//wUAAAD8////AgAAAPj//v/+//3/AgD+//z//v/9/////v/8//7//P8AAAMA//8DAP//+f/8//7/AQD///7/AQD8/wIAAgACAAYABAAAAAAAAQD//wAAAAD8//r/AAD8///////+//7//f8BAPr/AQD///7//v/6//j/9v/8//f/+v/7//j//P/5//b/AQD8//z/AAD7//v/AQAGAP7/+v/8//v//f/6//3//P/7////+//+/////P8BAAAA///6//v//f/8//z/AgD8//T/+f/6//r/+//6//v/+v/8/wEAAAACAP7//P/+/////////wEAAwD6//7/BgD9//z//v/+/wMA9//5//n/9v/+//r//f/7//b/+f/3//v//P/1//X/+P8CAAEA+//5//n//P/8//v/+//1//b/9//2//X/+P/4//r/+v/6//r/8P/2////+v/+//f/9//6//T//f///wAA///7//3/AQABAAAACQAFAAEABQAGAAcABQACAAIABQADAAMACQAIAAEABAAIAAcACQANAAkADQAJAAQABAALAAgACQAHAAUABAAGAAYAAwAEAAQAAwAAAAgABgABAAQACAAFAAEABAADAAQACwAOAAkACgAJAAYABQACAAkACwABAAQABwACAAMABQAFAAcACQAJAAgADQALABAAEAAOABIAEQAWABEAEgAXABMAGwATAAwAFgAWABEADgAOAA4AEgARABcAEgANABQAGQAXABAAEAASABUAEwAQABcAFQAPABAAEwAIABAAGAAYABMAFgAYABMAEgAUABMAEgARAA4ADgAQAAsACQANAAgACwAHAAoAFQAPAAwAEAAQABEADwARABUAFAARAAwAFQAYABEACwALAAwADwAUABIADQAPABUAEQATABQAEAARAA4ADAAMAA4ACwAJAA8ADwAOAA4AEQASAA4ACQAOAAwADQALAA0AEAAKAAwAEgAVABUAEQANAAoADAANAAkADwAOAAsADwAJAAgADAALAAsACgAOABAADQAPAA4ACgAUABYAFQAWABYAGAAZABEADgAUAA0AFAAaABYAFwAWABgAFQASABQAFwAYABgAFgAQABUAHAARABEAEAALAA8AFQASAAkAEwAWABIAEAATABEADgAUABMADAAUABQAEQAYABUAEgAPAA4AFwAPABAAEQATABgAGgAUABQAHgAWABMAFAAYABoAHAAeABUAFQAbABwAHAAWABcAFQAVABYAFAAUABkAFgAWABoAFQAUABAAFQAXABYAGwAUABcAFQAVABMAFAAYABEAEQAYABIAFAAYABUAEwASABQADwAMABYAFwAWABIAEQASABIAEgAQABYAFQAUABQAEAATAA4AFQAZABAACQAPABcAFgAUABYAEwATABUAEQAWABkADwAUABcACwASABEAFwAXAAwAEQAOAAoAEAAUABIAEAARAA4AFAAVABQAEQANAA4AEAASAA4ACgALAAUACQASAAwADwARAAsACQAJAAoACgARABUADgAMAA8ADAALAAwACwALAAQAAwAKAAgAAwAFAAIAAAAGAAUABgD+////AwAEAA0ABgAFAAoAEAANAAQABwAQAAsADgANAAYACwAGAAsADgAHAAMABAAIAAQABQAJAAYACAAJAAYABQAGAAcACAAEAAMAAgACAAIAAgAHAAcAAwAIAAcACQAIAAkACQAMAAoACgAIAAQADQAQAAcABwAHAAIABQAIAAMAAgAEAAMABAAJAAoACgAGAAYABgAHAAUAAgAFAAgABAAEAAgABAAEAAAA//8AAAAAAgD/////BQAFAAQAAAAEAAoABgAJAAsADAAEAAgACwAHAA4ABwAGAAoABwAGAAcABQACAAQAAwAEAAEA/v8FAAUA/P/+/////v/9//v/+/8AAP//+f/7//v/AAD///v//v/9//r//P////r/+P/+//z/+//+/wIA/P/7/wEA/f/9/wAAAQD+/wEA//8DAAIA/v8BAP7//P/4//r/+f/1//v/9//7//3//v8CAP3/+P/3//P/9f/1//T/9//6//L/8v/0//P/8//y//D/9f/4//r/9f/2//b/+//9//r/+v/1//z/+//2//r//f/9//j/+v/4//z//////wMA/P/9//r//P/9//H/9P/1//3/AAD+//v/9/////3/+v8EAAMAAAD4//r//v/4//j/+f/6//f/9f/3//P/8//2//T/8v/0//X/+f/4//b/+//6/wIAAQD8//z/AgD5//T/AQD+//r/+v/5//X/9P/2//3/+P/6//z//f/6//n/+P/7//v/+f/4//n/9//2//z////6//X/+//9//v/+v/5//r/+v/7//r/+//+//j/9f/3//z/+P/2//f/9//0//b/8//z//b/9f/4//v/9P/4//f/9P/4//T/9P/6//H/9f/5//P/+f/0//j/8//u//j/9//2//n/9P/4//z/+v/4//b/+v/8//3/+//8//v/+v/8//r/9//7//z/9v/4//z//f/8/wEA+//8/wUA/P/4//j/8P/4//n/8f/3//b/9v/3//X/9//4//T/9P/7//3//P/5//j/9P/x//X/+//6//X////9//3//P/3//j/+P/9/wAA/f/5/wIA//8BAAQAAgADAAAABgAHAAUABAAHAA0ADAAEAPv/AwAHAAQA//8CAP7//f/5/wEABQD9////AwD+/wAA//////v///8FAAAAAAD+//z/AgD///z////7//n/+f/6//v//f/9//3//P/6////AQAEAAYAAwAAAPv///////3////6///////+//v/+f/+//z//v8CAP3/+//+//n//P////r/9f/6//7//f/8//b/9P/5////AAD+////AQD5//X//P/////////+//v/+v/9//z/+f/4//b/9//3//L/8v/u/+r/8v/5//X/9P/0//P/+P/9//f/+P/9//z//f/3//T/+P/4//j/8v/1//P/+P/8//P/9//8//T//P/6//f/+f/3//b/8P/w//r/9//3/wIA+f/4//n/+P/7//v/AAD///z//f/9//3/AQD//wEAAAD//wEA/P/5//b/+v/7//f/+f/9//z/+v/0//f/+f/3//r////4//v//f/1//v/+//4//n/+v/7//P/9v/2//f//v/9/wYABAD//wAA/v/+/wMA//8CAAkABAABAAIA/v///wgABgD9/wEAAQAAAP3/+v/5//3//v/9//v/9//8//r/+f/9//P/9//8//v/+v/8//z////7//3/BAD8//z//P/6//b/9//4//j/9//2//b/9//4//z/+v/3//z/+//4//3/AQD9//3/9f/2//r//f/8//r//P8AAP3/+v/+/wAAAAABAPr/+P/1//f//f8AAPv//P/9//3//f/8//3/+//5/wEA/P/0//j//f/6//b//f8BAP//+v8BAAMAAAACAAMAAwADAAMABwAHAAQAAwADAAIA+v/+/wAA//8EAAYABgAJAAEAAgACAAgADAADAAEAAwAEAAgAAwD7//z//f/7/wIAAAD8//7/AgD7//7//P/3//z/AgABAPz/+//9//3/+v/2//v////6//3/BAAAAPj/+v/8//r/+v/9//z/AAD8//3//f/8/wEAAAAFAAoAAwABAAUABQAEAAQABgAAAAIACgAHAAQACAAKAAcAAQACAAAA//8HAAQAAQAGAAMAAAACAP3/AQADAAAAAwABAAQABwAFAAMAAwAGAAgABwAJAAcABAABAAIACgAFAAAAAQAHAAIAAQAFAAIABAAFAAgAAwAHAAgACAALAAsADAAKAAcACQAHAAQABwAEAAgACwAFAAYADQAKAAkADAALABIADgAKAAkACgAKAAYACwANAAoADgAIAAIABwACAAcABQAGAA4ACgANAAkABAAGAAQAEgALAAcACwAOAA0ACQAPAAkADgAOAAsACwAMAAsACgALAAwABgAEAAcACwAKAAgACQAIAAcABgALAAsAEgARAA4AFwASABEAFQATABgAGwASABEAEgANAA4AFAAQABEAFQAQABoAFgAPABcAFQAWABMAFgAUAAwAEwAPABIAFAAUABgADgASABcAEQAUABMAEgAZABAAEwAVABAAEwARABUAFQAWABQAEwAZABQAFwAUAA4AEgASABcAFwARABcAGwAYABIAEgAVABAAEAASAA4AFAARABMAFAAWABQAEAASAAwAEQARABEAEAAPAA4ACgAKAA4ADQAPABIADgAOABAAEQAPAAwADQANABIADwAQABQADAAPAA0ABwAOAA0AEgATAAwADwARABEAEAAMAA4AFAANABMAEwAOABUAEwAXABsAGQAbABsAHgAZABEAEwATABQAEgATABkAFwAZABsAGAAWABMAFgAZABYAFAAXABgAFAAUABMAEwAZABIAEgARABIAEwATABYAFQAWABQAFwAWABQAEgASABYAFAAQABIADgAUABsAFQARABYAHQAcABcAFwAYABMAGgAUABQAGwATABMAEQAOAA4AEgAWABMAEgARAA0AEgAVABUAEwAXABIAEQATAA8AEwASABMAFAARAAsACQALABQADwANAA8AEwAQABcAGwASABUAFAARABQAEgAWABgAGwAaABgAGAAWABMAFwATABEAEQAXABEAEwATABMAEQATABcAEAANABIAEQAXABcAFAAZABoAGwAfAB0AGwAeACEAHQAcABkAGAAXAB0AGgAaABkAEQAWABwAFAASABoAGQAaABYAEgAVABcAEwAXABMADgAQAAYAEAAVAA4AEwAMAAkADAAQAAUABQAMAA0ACwANAAkABwAJAA4AEAAOAA8ADwANAAoAFQAQAAcADAATAAkADQATAA0ADAAKAAwADgAOAA0ADgASAA8ADwAQABQAEwAWABcAFwAXABgAIAAdABoAHQAdABwAHAAaABkAGAAaAB0AGQAXABsAGQAUABoAHQAZABkAGAAXABkAGQAcAB0AGwAVABYAGAAWABUAGAATABIAFAARABQAFAAWABUAGQAUAA8AEgAWABEAEQAWABUAFAAPABcAGAAQABMAEgAUABcAFgASABMAFgATABcAGwAbABQAEgAZABwAHAAcABkAGQAaABoAFQAYABQAGAAeABkAFgASABYAGwAZABYAGAAXABoAIgAfAB4AHQAkACEAHAAbABcAGwAUABUAGAAUABUAEAATABYAFwAWABUAEgAUABQAFgAYABoAFAAUABkAGgAaABoAFAAZABkAGwAeABsAFgAXABUAGQAaABYAEwAaABoAGwAgABgAGwAXABQAFwAQABEAFAAXABsAFAATABsAFwAZABkAGQAcABwAGgAVABkAGAAcABUAFwAfABQAFwAWABUAFgAWABMAFAAXABUAFgAUABUAEwARABIAEwASABMAGgAWABoAGgAXABUAFAAVABwAFwAWABUAEQAUABcAGQASABEAFwATABkAFQAUABUAFAAbABoAGQAaAB4AHAATABgAIgAeABsAHgAhACMAIgAiAB4AIAAYABoAHgAbAB0AHAAcABsAFAAUABsAFAAZACIAHwAiACAAHwAeAB0AIQAgACAAIwAlACAAIQAfABsAIQAgAB4AGgAYABwAHwAjACMAIgAlACUAIwAlACYAIgAfABsAHwAfAB4AIgAfAB8AIgAjACEAHAAgACMAHgAeACIAHAAdAB4AGwAdAB0AGwAdAB0AGwAcABsAGAAWABsAFwAaABwAGwAdACAAHwAcAB4AJgAfABkAJAAjACEAIwAfAB0AIgAkACMAJAAjACUAIgAkACMAIAAjACAAIwAcACEAJgAgABsAGwAbABYAGgAeABYAHAAfABoAHAAbABsAGgAdAB4AIgAjABkAGgAdABgAGQAbABoAHQAaABwAGAAQABsAGQAZAB0AFwAUABYAFwAZABkAGAAcABoAGQAaABYAGQAZABkAFAAaABwAGQAbABoAGQAcABsAFgAXABgAGwAcABsAFgAcACAAGgAbABcAFwAWABgAHQAfABUAEgAQABEAFQAUABQAFAAUAA8AEAAQABAADgAOABUAEAASABMAEwATAA0AEwAWABMAGgAXABoAHgAeACIAGAAXACEAHgAdABwAGwAaABkAHgAWABIAFQAWABoAFwAbABwAGQAWABgAGQAbABkAGQAYABsAGQAaABoAEwAXABYAEwAXABAAEQAWABAAEQASABMAFwAUABgAHAAWABwAFgAYABsAFQARABMAEQARABQAEwARABAAGAAYABgAGAATABIAEgARABgAGwAYABsAGAAeABoAGQAZABcAFwAcACEAFwAYABcAFQAUABIAEAARABEAFQAWAA8AEgAXABYAEQANAA4AEAAMABAAEAAQAA8ACgAPAA0AEgAXAA4ACgAMAAwACAAHAAsADAAKAAsACwAQAA4ADQANAAkAEQAOABAADgANAA4ADQAPAA4AFAARABEAEgAXABcAEwAXABYAFAAWAA8ADAAQABEADwAVABcADAAOABIADQAVABMAEQAUABcAFwASABEAEQASABYAEQARABMADgAMAAsAEAAPAAoACAANABEADgAGAAYADQAPAAYABAAHAA0ADAAHAAoACwAHAAkACgAFAAkADQALAAQACQAIAAYAAgAFAAUAAwAFAAMACQAGAAUAAwAKAAgABAADAAQAAgAAAPz//f/5//v//f/7/wIABgACAPv//P///wEA///7//z/+//+//7/BAADAP3/+f/7//r/+P/6//n/+f/5/////v/4/wMAAwD9/wMA/v8BAAQA/v8AAP3//P8AAPz/AAD+//r///8AAP7/+//4//f//f/4//n//P/3//T/9P/3//D/8v/z//H/8//2//n/9f/6//r/9f/6//T/7v/v//X/+P/3//D/7P/6//T/9f/3//D/9//2//z//P/x//v/+v/5//r/9//9//n/9v/5//r/+P/3//j//f/0//H/9v/1//b/+P/3//b/9//3//3/9v/1//b//P/2//T/8v/1//f/9f/x//H/9f/0/+r/7P/2//n/8v/1//P/8f/4//j/9P/0//f/9P/z//T/8f/v/+7/7f/w//T/8v/t//P/+P/x//j/+f/0//P/9//y//H/8//r/+r/\" type=\"audio/x-wav\" />\n",
              "                    Your browser does not support the audio element.\n",
              "                </audio>\n",
              "              "
            ]
          },
          "metadata": {},
          "execution_count": 25
        },
        {
          "output_type": "display_data",
          "data": {
            "text/plain": [
              "<Figure size 864x216 with 2 Axes>"
            ],
            "image/png": "[encoded data removed]"
          },
          "metadata": {
            "needs_background": "light"
          }
        }
      ]
    },
    {
      "cell_type": "code",
      "source": [
        "# 음성데이터 argumentation을 통해서 데이터 수 늘리기 및 오버피팅 방지\n",
        "def noise(data):\n",
        "    noise_amp = 0.035 * np.random.uniform() * np.amax(data)\n",
        "    ## np.random.uniform() 모수 설정해주는 함수\n",
        "    ## np.amax data의 최댓값을 반환함\n",
        "    data = data + noise_amp * np.random.normal(size=data.shape[0])\n",
        "    return data\n",
        "\n",
        "def stretch(data, rate=0.8):\n",
        "    return librosa.effects.time_stretch(data, rate)\n",
        "    ## rate 만큼 늘려줌, 빠르기 조절\n",
        "\n",
        "def shift(data):\n",
        "    shift_range = int(np.random.uniform(low=-5, high = 5)*1000)\n",
        "    ## shift_range 밀어주는 정도\n",
        "    return np.roll(data, shift_range)\n",
        "\n",
        "def pitch(data, sampling_rate, pitch_factor=0.7):\n",
        "    return librosa.effects.pitch_shift(data, sampling_rate, pitch_factor)\n",
        "    ## 파형 피치 조정\n",
        "\n",
        "# 예시\n",
        "## 위에서 지정해줌\n",
        "#$path = np.array(data_path.Path)[1]\n",
        "#data, sample_rate = librosa.load(path)\n",
        "\n",
        "\n",
        "# 음성의 특성추출하는 함수 ( MFCC, MEL, RMSV)\n",
        "# spectrum으로 변환\n",
        "def extract_features(data):\n",
        "\n",
        "    result = np.array([])\n",
        "\n",
        "    # MFCC\n",
        "    mfcc = np.mean(librosa.feature.mfcc(y=data, sr=sampling_rate).T, axis=0)\n",
        "    result = np.hstack((result, mfcc)) # stacking horizontally\n",
        "\n",
        "    # Root Mean Square Value\n",
        "    #rms = np.mean(librosa.feature.rms(y=data).T, axis=0)\n",
        "    #result = np.hstack((result, rms)) # stacking horizontally\n",
        "\n",
        "    # MelSpectogram\n",
        "    mel = np.mean(librosa.feature.melspectrogram(y=data, sr=sampling_rate).T, axis=0)\n",
        "    result = np.hstack((result, mel)) # stacking horizontally\n",
        "    \n",
        "    return result\n",
        "\n",
        "# 음성의 특성을 추출한 데이터를 축적하는 함수 (Argumentation된 데이터도 같이)\n",
        "def get_features(path):\n",
        "    # duration과 offset은 각 오디오 파일의 시작과 끝에서 오디오가 없는 것을 처리\n",
        "    data, sample_rate = librosa.load(path, duration=2.5, offset=0.6)\n",
        "    \n",
        "    # 원래데이터\n",
        "    res1 = extract_features(data)\n",
        "    result = np.array(res1)\n",
        "    # 노이즈가 추가된 데이터\n",
        "    noise_data = noise(data)\n",
        "    res2 = extract_features(noise_data)\n",
        "    result = np.vstack((result, res2)) # 병렬적으로 추가\n",
        "\n",
        "    # 피칭및 스트레칭된 데이터\n",
        "    new_data = stretch(data)\n",
        "    data_stretch_pitch = pitch(new_data, sample_rate)\n",
        "    res3 = extract_features(data_stretch_pitch)\n",
        "    result = np.vstack((result, res3)) # 병렬적으로 추가\n",
        "\n",
        "    return result"
      ],
      "metadata": {
        "id": "yuBBy6mW8FYj"
      },
      "execution_count": 26,
      "outputs": []
    },
    {
      "cell_type": "code",
      "source": [
        "X, Y = [], []\n",
        "for path, emotion in zip(data_path.Path, data_path.Emotions):\n",
        "    feature = get_features(path)\n",
        "    for ele in feature:\n",
        "        X.append(ele)\n",
        "        ## ele : spectrum\n",
        "        # 2개의 augmentation이 존재하므로 총 한개의 음성데이터가 3개의 음성데이터가 됨\n",
        "        Y.append(emotion)"
      ],
      "metadata": {
        "id": "P9pBcu-e-bMK"
      },
      "execution_count": 27,
      "outputs": []
    },
    {
      "cell_type": "code",
      "source": [
        "len(X), len(Y), data_path.Path.shape"
      ],
      "metadata": {
        "id": "clYJJM7rASPE",
        "colab": {
          "base_uri": "https://localhost:8080/"
        },
        "outputId": "ee54c29f-5b2d-41f1-f271-0ba82b59c81e"
      },
      "execution_count": 28,
      "outputs": [
        {
          "output_type": "execute_result",
          "data": {
            "text/plain": [
              "(10800, 10800, (3600,))"
            ]
          },
          "metadata": {},
          "execution_count": 28
        }
      ]
    },
    {
      "cell_type": "code",
      "source": [
        "Features = pd.DataFrame(X)\n",
        "Features['labels'] = Y\n",
        "Features.to_csv('features.csv', index=False)\n",
        "Features.head()"
      ],
      "metadata": {
        "id": "rNVKqFQHAVfX",
        "colab": {
          "base_uri": "https://localhost:8080/",
          "height": 299
        },
        "outputId": "f9129411-d67d-4d80-a073-606648903c0e"
      },
      "execution_count": 29,
      "outputs": [
        {
          "output_type": "execute_result",
          "data": {
            "text/plain": [
              "            0          1          2          3          4          5  \\\n",
              "0 -385.802826  74.665573 -26.405066  20.539738 -13.504493  -3.440406   \n",
              "1 -325.557970  57.982230 -20.485712  11.602726 -10.074788  -9.342476   \n",
              "2 -445.031677  82.166649 -30.963327  20.599276 -19.410862  -4.865939   \n",
              "3 -255.107590  88.834412 -17.320568   3.130002  -2.488511 -14.675508   \n",
              "4 -180.253682  51.357933  -2.518514  -1.426699  -2.496199 -10.188173   \n",
              "\n",
              "           6         7          8         9  ...       139       140  \\\n",
              "0  -2.900476 -1.838419   1.027405  1.675209  ...  0.000011  0.000010   \n",
              "1  -3.477494 -4.183131   0.861686  0.566897  ...  0.000099  0.000099   \n",
              "2  -5.008787 -0.943829   0.267913  2.132282  ...  0.000013  0.000012   \n",
              "3 -12.655499 -2.733911 -27.504713 -2.243372  ...  0.003367  0.004787   \n",
              "4  -7.791156 -7.342913 -15.336154 -5.511380  ...  0.007556  0.008699   \n",
              "\n",
              "        141       142       143       144       145       146       147  \\\n",
              "0  0.000009  0.000009  0.000008  0.000008  0.000007  0.000007  0.000007   \n",
              "1  0.000107  0.000109  0.000111  0.000107  0.000112  0.000106  0.000109   \n",
              "2  0.000011  0.000011  0.000010  0.000011  0.000016  0.000031  0.000043   \n",
              "3  0.003507  0.004611  0.002727  0.002680  0.002271  0.000607  0.000041   \n",
              "4  0.007953  0.009037  0.007053  0.007032  0.006941  0.004874  0.004257   \n",
              "\n",
              "   labels  \n",
              "0      기쁨  \n",
              "1      기쁨  \n",
              "2      기쁨  \n",
              "3      기쁨  \n",
              "4      기쁨  \n",
              "\n",
              "[5 rows x 149 columns]"
            ],
            "text/html": [
              "\n",
              "  <div id=\"df-7068abc4-a53c-4cf3-9e58-a1c34d6600fc\">\n",
              "    <div class=\"colab-df-container\">\n",
              "      <div>\n",
              "<style scoped>\n",
              "    .dataframe tbody tr th:only-of-type {\n",
              "        vertical-align: middle;\n",
              "    }\n",
              "\n",
              "    .dataframe tbody tr th {\n",
              "        vertical-align: top;\n",
              "    }\n",
              "\n",
              "    .dataframe thead th {\n",
              "        text-align: right;\n",
              "    }\n",
              "</style>\n",
              "<table border=\"1\" class=\"dataframe\">\n",
              "  <thead>\n",
              "    <tr style=\"text-align: right;\">\n",
              "      <th></th>\n",
              "      <th>0</th>\n",
              "      <th>1</th>\n",
              "      <th>2</th>\n",
              "      <th>3</th>\n",
              "      <th>4</th>\n",
              "      <th>5</th>\n",
              "      <th>6</th>\n",
              "      <th>7</th>\n",
              "      <th>8</th>\n",
              "      <th>9</th>\n",
              "      <th>...</th>\n",
              "      <th>139</th>\n",
              "      <th>140</th>\n",
              "      <th>141</th>\n",
              "      <th>142</th>\n",
              "      <th>143</th>\n",
              "      <th>144</th>\n",
              "      <th>145</th>\n",
              "      <th>146</th>\n",
              "      <th>147</th>\n",
              "      <th>labels</th>\n",
              "    </tr>\n",
              "  </thead>\n",
              "  <tbody>\n",
              "    <tr>\n",
              "      <th>0</th>\n",
              "      <td>-385.802826</td>\n",
              "      <td>74.665573</td>\n",
              "      <td>-26.405066</td>\n",
              "      <td>20.539738</td>\n",
              "      <td>-13.504493</td>\n",
              "      <td>-3.440406</td>\n",
              "      <td>-2.900476</td>\n",
              "      <td>-1.838419</td>\n",
              "      <td>1.027405</td>\n",
              "      <td>1.675209</td>\n",
              "      <td>...</td>\n",
              "      <td>0.000011</td>\n",
              "      <td>0.000010</td>\n",
              "      <td>0.000009</td>\n",
              "      <td>0.000009</td>\n",
              "      <td>0.000008</td>\n",
              "      <td>0.000008</td>\n",
              "      <td>0.000007</td>\n",
              "      <td>0.000007</td>\n",
              "      <td>0.000007</td>\n",
              "      <td>기쁨</td>\n",
              "    </tr>\n",
              "    <tr>\n",
              "      <th>1</th>\n",
              "      <td>-325.557970</td>\n",
              "      <td>57.982230</td>\n",
              "      <td>-20.485712</td>\n",
              "      <td>11.602726</td>\n",
              "      <td>-10.074788</td>\n",
              "      <td>-9.342476</td>\n",
              "      <td>-3.477494</td>\n",
              "      <td>-4.183131</td>\n",
              "      <td>0.861686</td>\n",
              "      <td>0.566897</td>\n",
              "      <td>...</td>\n",
              "      <td>0.000099</td>\n",
              "      <td>0.000099</td>\n",
              "      <td>0.000107</td>\n",
              "      <td>0.000109</td>\n",
              "      <td>0.000111</td>\n",
              "      <td>0.000107</td>\n",
              "      <td>0.000112</td>\n",
              "      <td>0.000106</td>\n",
              "      <td>0.000109</td>\n",
              "      <td>기쁨</td>\n",
              "    </tr>\n",
              "    <tr>\n",
              "      <th>2</th>\n",
              "      <td>-445.031677</td>\n",
              "      <td>82.166649</td>\n",
              "      <td>-30.963327</td>\n",
              "      <td>20.599276</td>\n",
              "      <td>-19.410862</td>\n",
              "      <td>-4.865939</td>\n",
              "      <td>-5.008787</td>\n",
              "      <td>-0.943829</td>\n",
              "      <td>0.267913</td>\n",
              "      <td>2.132282</td>\n",
              "      <td>...</td>\n",
              "      <td>0.000013</td>\n",
              "      <td>0.000012</td>\n",
              "      <td>0.000011</td>\n",
              "      <td>0.000011</td>\n",
              "      <td>0.000010</td>\n",
              "      <td>0.000011</td>\n",
              "      <td>0.000016</td>\n",
              "      <td>0.000031</td>\n",
              "      <td>0.000043</td>\n",
              "      <td>기쁨</td>\n",
              "    </tr>\n",
              "    <tr>\n",
              "      <th>3</th>\n",
              "      <td>-255.107590</td>\n",
              "      <td>88.834412</td>\n",
              "      <td>-17.320568</td>\n",
              "      <td>3.130002</td>\n",
              "      <td>-2.488511</td>\n",
              "      <td>-14.675508</td>\n",
              "      <td>-12.655499</td>\n",
              "      <td>-2.733911</td>\n",
              "      <td>-27.504713</td>\n",
              "      <td>-2.243372</td>\n",
              "      <td>...</td>\n",
              "      <td>0.003367</td>\n",
              "      <td>0.004787</td>\n",
              "      <td>0.003507</td>\n",
              "      <td>0.004611</td>\n",
              "      <td>0.002727</td>\n",
              "      <td>0.002680</td>\n",
              "      <td>0.002271</td>\n",
              "      <td>0.000607</td>\n",
              "      <td>0.000041</td>\n",
              "      <td>기쁨</td>\n",
              "    </tr>\n",
              "    <tr>\n",
              "      <th>4</th>\n",
              "      <td>-180.253682</td>\n",
              "      <td>51.357933</td>\n",
              "      <td>-2.518514</td>\n",
              "      <td>-1.426699</td>\n",
              "      <td>-2.496199</td>\n",
              "      <td>-10.188173</td>\n",
              "      <td>-7.791156</td>\n",
              "      <td>-7.342913</td>\n",
              "      <td>-15.336154</td>\n",
              "      <td>-5.511380</td>\n",
              "      <td>...</td>\n",
              "      <td>0.007556</td>\n",
              "      <td>0.008699</td>\n",
              "      <td>0.007953</td>\n",
              "      <td>0.009037</td>\n",
              "      <td>0.007053</td>\n",
              "      <td>0.007032</td>\n",
              "      <td>0.006941</td>\n",
              "      <td>0.004874</td>\n",
              "      <td>0.004257</td>\n",
              "      <td>기쁨</td>\n",
              "    </tr>\n",
              "  </tbody>\n",
              "</table>\n",
              "<p>5 rows × 149 columns</p>\n",
              "</div>\n",
              "      <button class=\"colab-df-convert\" onclick=\"convertToInteractive('df-7068abc4-a53c-4cf3-9e58-a1c34d6600fc')\"\n",
              "              title=\"Convert this dataframe to an interactive table.\"\n",
              "              style=\"display:none;\">\n",
              "        \n",
              "  <svg xmlns=\"http://www.w3.org/2000/svg\" height=\"24px\"viewBox=\"0 0 24 24\"\n",
              "       width=\"24px\">\n",
              "    <path d=\"M0 0h24v24H0V0z\" fill=\"none\"/>\n",
              "    <path d=\"M18.56 5.44l.94 2.06.94-2.06 2.06-.94-2.06-.94-.94-2.06-.94 2.06-2.06.94zm-11 1L8.5 8.5l.94-2.06 2.06-.94-2.06-.94L8.5 2.5l-.94 2.06-2.06.94zm10 10l.94 2.06.94-2.06 2.06-.94-2.06-.94-.94-2.06-.94 2.06-2.06.94z\"/><path d=\"M17.41 7.96l-1.37-1.37c-.4-.4-.92-.59-1.43-.59-.52 0-1.04.2-1.43.59L10.3 9.45l-7.72 7.72c-.78.78-.78 2.05 0 2.83L4 21.41c.39.39.9.59 1.41.59.51 0 1.02-.2 1.41-.59l7.78-7.78 2.81-2.81c.8-.78.8-2.07 0-2.86zM5.41 20L4 18.59l7.72-7.72 1.47 1.35L5.41 20z\"/>\n",
              "  </svg>\n",
              "      </button>\n",
              "      \n",
              "  <style>\n",
              "    .colab-df-container {\n",
              "      display:flex;\n",
              "      flex-wrap:wrap;\n",
              "      gap: 12px;\n",
              "    }\n",
              "\n",
              "    .colab-df-convert {\n",
              "      background-color: #E8F0FE;\n",
              "      border: none;\n",
              "      border-radius: 50%;\n",
              "      cursor: pointer;\n",
              "      display: none;\n",
              "      fill: #1967D2;\n",
              "      height: 32px;\n",
              "      padding: 0 0 0 0;\n",
              "      width: 32px;\n",
              "    }\n",
              "\n",
              "    .colab-df-convert:hover {\n",
              "      background-color: #E2EBFA;\n",
              "      box-shadow: 0px 1px 2px rgba(60, 64, 67, 0.3), 0px 1px 3px 1px rgba(60, 64, 67, 0.15);\n",
              "      fill: #174EA6;\n",
              "    }\n",
              "\n",
              "    [theme=dark] .colab-df-convert {\n",
              "      background-color: #3B4455;\n",
              "      fill: #D2E3FC;\n",
              "    }\n",
              "\n",
              "    [theme=dark] .colab-df-convert:hover {\n",
              "      background-color: #434B5C;\n",
              "      box-shadow: 0px 1px 3px 1px rgba(0, 0, 0, 0.15);\n",
              "      filter: drop-shadow(0px 1px 2px rgba(0, 0, 0, 0.3));\n",
              "      fill: #FFFFFF;\n",
              "    }\n",
              "  </style>\n",
              "\n",
              "      <script>\n",
              "        const buttonEl =\n",
              "          document.querySelector('#df-7068abc4-a53c-4cf3-9e58-a1c34d6600fc button.colab-df-convert');\n",
              "        buttonEl.style.display =\n",
              "          google.colab.kernel.accessAllowed ? 'block' : 'none';\n",
              "\n",
              "        async function convertToInteractive(key) {\n",
              "          const element = document.querySelector('#df-7068abc4-a53c-4cf3-9e58-a1c34d6600fc');\n",
              "          const dataTable =\n",
              "            await google.colab.kernel.invokeFunction('convertToInteractive',\n",
              "                                                     [key], {});\n",
              "          if (!dataTable) return;\n",
              "\n",
              "          const docLinkHtml = 'Like what you see? Visit the ' +\n",
              "            '<a target=\"_blank\" href=https://colab.research.google.com/notebooks/data_table.ipynb>data table notebook</a>'\n",
              "            + ' to learn more about interactive tables.';\n",
              "          element.innerHTML = '';\n",
              "          dataTable['output_type'] = 'display_data';\n",
              "          await google.colab.output.renderOutput(dataTable, element);\n",
              "          const docLink = document.createElement('div');\n",
              "          docLink.innerHTML = docLinkHtml;\n",
              "          element.appendChild(docLink);\n",
              "        }\n",
              "      </script>\n",
              "    </div>\n",
              "  </div>\n",
              "  "
            ]
          },
          "metadata": {},
          "execution_count": 29
        }
      ]
    },
    {
      "cell_type": "code",
      "source": [
        "X = Features.iloc[: ,:-1].values\n",
        "Y = Features['labels'].values"
      ],
      "metadata": {
        "id": "VTvuJ4hlAY-S"
      },
      "execution_count": 30,
      "outputs": []
    },
    {
      "cell_type": "code",
      "source": [
        "# 다중 클래스 분류하기위해 Y설정\n",
        "encoder = OneHotEncoder()\n",
        "Y = encoder.fit_transform(np.array(Y).reshape(-1,1)).toarray()"
      ],
      "metadata": {
        "id": "H9xTGz88AbfX"
      },
      "execution_count": 31,
      "outputs": []
    },
    {
      "cell_type": "code",
      "source": [
        "# 훈련데이터, 테스트데이터 분리\n",
        "x_train, x_test, y_train, y_test = train_test_split(X, Y, random_state=0, stratify= Y, shuffle=True)\n",
        "x_train.shape, y_train.shape, x_test.shape, y_test.shape"
      ],
      "metadata": {
        "id": "1AHU1TRjAdCK",
        "colab": {
          "base_uri": "https://localhost:8080/"
        },
        "outputId": "904cbd59-3aab-4bbf-c4af-3476773f5193"
      },
      "execution_count": 32,
      "outputs": [
        {
          "output_type": "execute_result",
          "data": {
            "text/plain": [
              "((8100, 148), (8100, 5), (2700, 148), (2700, 5))"
            ]
          },
          "metadata": {},
          "execution_count": 32
        }
      ]
    },
    {
      "cell_type": "code",
      "source": [
        "# 훈련 및 테스트데이터 갯수 확인\n",
        "scaler = StandardScaler()\n",
        "x_train = scaler.fit_transform(x_train)\n",
        "x_test = scaler.transform(x_test)\n",
        "x_train.shape, y_train.shape, x_test.shape, y_test.shape"
      ],
      "metadata": {
        "id": "tjhdmkrWAeh-",
        "colab": {
          "base_uri": "https://localhost:8080/"
        },
        "outputId": "71487dc8-4e72-4ea5-bd47-2c1dca91eee2"
      },
      "execution_count": 33,
      "outputs": [
        {
          "output_type": "execute_result",
          "data": {
            "text/plain": [
              "((8100, 148), (8100, 5), (2700, 148), (2700, 5))"
            ]
          },
          "metadata": {},
          "execution_count": 33
        }
      ]
    },
    {
      "cell_type": "code",
      "source": [
        "# 데이터의 차원 모델에 맞게 통일 \n",
        "x_train = np.expand_dims(x_train, axis=2)\n",
        "x_test = np.expand_dims(x_test, axis=2)\n",
        "x_train.shape, y_train.shape, x_test.shape, y_test.shape"
      ],
      "metadata": {
        "id": "eWxnQC3hAgXH",
        "colab": {
          "base_uri": "https://localhost:8080/"
        },
        "outputId": "c0f96f2a-0da1-4abe-aec2-ce0198694437"
      },
      "execution_count": 34,
      "outputs": [
        {
          "output_type": "execute_result",
          "data": {
            "text/plain": [
              "((8100, 148, 1), (8100, 5), (2700, 148, 1), (2700, 5))"
            ]
          },
          "metadata": {},
          "execution_count": 34
        }
      ]
    },
    {
      "cell_type": "markdown",
      "source": [
        "**모델2 다운샘플링 + stratify =y + dropout = 0.3**"
      ],
      "metadata": {
        "id": "jEj4u_qXaZmk"
      }
    },
    {
      "cell_type": "code",
      "source": [
        "model2=Sequential()\n",
        "model2.add(Conv1D(256, kernel_size=5, strides=1, padding='same', activation='relu', input_shape=(x_train.shape[1], 1)))\n",
        "model2.add(MaxPooling1D(pool_size=5, strides = 2, padding = 'same'))\n",
        "\n",
        "model2.add(Conv1D(256, kernel_size=5, strides=1, padding='same', activation='relu'))\n",
        "model2.add(MaxPooling1D(pool_size=5, strides = 2, padding = 'same'))\n",
        "\n",
        "model2.add(Conv1D(128, kernel_size=5, strides=1, padding='same', activation='relu'))\n",
        "model2.add(MaxPooling1D(pool_size=5, strides = 2, padding = 'same'))\n",
        "model2.add(Dropout(0.2))\n",
        "\n",
        "model2.add(Conv1D(64, kernel_size=5, strides=1, padding='same', activation='relu'))\n",
        "model2.add(MaxPooling1D(pool_size=5, strides = 2, padding = 'same'))\n",
        "\n",
        "model2.add(Flatten())\n",
        "model2.add(Dense(units=32, activation='relu'))\n",
        "model2.add(Dropout(0.3))\n",
        "\n",
        "model2.add(Dense(units=5, activation='softmax'))\n",
        "###6_______________\n",
        "model2.compile(optimizer = 'adam' , loss = 'categorical_crossentropy' , metrics = ['accuracy'])\n",
        "\n",
        "model2.summary()"
      ],
      "metadata": {
        "colab": {
          "base_uri": "https://localhost:8080/"
        },
        "id": "72trmHKg5E0Q",
        "outputId": "906fc3de-97fc-411a-c9f3-0e9489c85c02"
      },
      "execution_count": 41,
      "outputs": [
        {
          "output_type": "stream",
          "name": "stdout",
          "text": [
            "Model: \"sequential_1\"\n",
            "_________________________________________________________________\n",
            " Layer (type)                Output Shape              Param #   \n",
            "=================================================================\n",
            " conv1d_4 (Conv1D)           (None, 148, 256)          1536      \n",
            "                                                                 \n",
            " max_pooling1d_4 (MaxPooling  (None, 74, 256)          0         \n",
            " 1D)                                                             \n",
            "                                                                 \n",
            " conv1d_5 (Conv1D)           (None, 74, 256)           327936    \n",
            "                                                                 \n",
            " max_pooling1d_5 (MaxPooling  (None, 37, 256)          0         \n",
            " 1D)                                                             \n",
            "                                                                 \n",
            " conv1d_6 (Conv1D)           (None, 37, 128)           163968    \n",
            "                                                                 \n",
            " max_pooling1d_6 (MaxPooling  (None, 19, 128)          0         \n",
            " 1D)                                                             \n",
            "                                                                 \n",
            " dropout_2 (Dropout)         (None, 19, 128)           0         \n",
            "                                                                 \n",
            " conv1d_7 (Conv1D)           (None, 19, 64)            41024     \n",
            "                                                                 \n",
            " max_pooling1d_7 (MaxPooling  (None, 10, 64)           0         \n",
            " 1D)                                                             \n",
            "                                                                 \n",
            " flatten_1 (Flatten)         (None, 640)               0         \n",
            "                                                                 \n",
            " dense_2 (Dense)             (None, 32)                20512     \n",
            "                                                                 \n",
            " dropout_3 (Dropout)         (None, 32)                0         \n",
            "                                                                 \n",
            " dense_3 (Dense)             (None, 5)                 165       \n",
            "                                                                 \n",
            "=================================================================\n",
            "Total params: 555,141\n",
            "Trainable params: 555,141\n",
            "Non-trainable params: 0\n",
            "_________________________________________________________________\n"
          ]
        }
      ]
    },
    {
      "cell_type": "code",
      "source": [
        "#모델2 훈련\n",
        "rlrp = ReduceLROnPlateau(monitor='loss', factor=0.5, verbose=0, patience=3, min_lr=0.000005)\n",
        "#monitor : 기준으로 삼을 값, factor : learning rate를 얼마나 감소시킬지 정하는 인자값, patience : 모니터되는 값의 개선이 없을 경우 얼마나 더 작동시키고 learning rate를 감소 적용할지, verbose : 화면 표기 없이 걍 종료\n",
        "history2 = model2.fit(x_train, y_train, batch_size=64, epochs=100, validation_data=(x_test, y_test), callbacks=[rlrp]) #배치 사이즈가 작다\n",
        "#65번째 learning rate가 조절된 이후 test 입장에서 학습 결과가 더 안 좋아진다\n",
        "from keras.models import load_model\n",
        "model2.save('ser_model.h5')"
      ],
      "metadata": {
        "colab": {
          "base_uri": "https://localhost:8080/"
        },
        "id": "FiwcBlX95Uro",
        "outputId": "02fe9f32-6fd7-4aa1-dd3c-ddd0d13892da"
      },
      "execution_count": 42,
      "outputs": [
        {
          "output_type": "stream",
          "name": "stdout",
          "text": [
            "Epoch 1/100\n",
            "127/127 [==============================] - 3s 13ms/step - loss: 1.5304 - accuracy: 0.2938 - val_loss: 1.4454 - val_accuracy: 0.3696 - lr: 0.0010\n",
            "Epoch 2/100\n",
            "127/127 [==============================] - 1s 9ms/step - loss: 1.4044 - accuracy: 0.3701 - val_loss: 1.3170 - val_accuracy: 0.4137 - lr: 0.0010\n",
            "Epoch 3/100\n",
            "127/127 [==============================] - 1s 9ms/step - loss: 1.3073 - accuracy: 0.4114 - val_loss: 1.2369 - val_accuracy: 0.4381 - lr: 0.0010\n",
            "Epoch 4/100\n",
            "127/127 [==============================] - 1s 11ms/step - loss: 1.2569 - accuracy: 0.4372 - val_loss: 1.2052 - val_accuracy: 0.4411 - lr: 0.0010\n",
            "Epoch 5/100\n",
            "127/127 [==============================] - 1s 9ms/step - loss: 1.2258 - accuracy: 0.4530 - val_loss: 1.1803 - val_accuracy: 0.4678 - lr: 0.0010\n",
            "Epoch 6/100\n",
            "127/127 [==============================] - 1s 11ms/step - loss: 1.1917 - accuracy: 0.4716 - val_loss: 1.1845 - val_accuracy: 0.4693 - lr: 0.0010\n",
            "Epoch 7/100\n",
            "127/127 [==============================] - 1s 10ms/step - loss: 1.1685 - accuracy: 0.4868 - val_loss: 1.1557 - val_accuracy: 0.4878 - lr: 0.0010\n",
            "Epoch 8/100\n",
            "127/127 [==============================] - 1s 11ms/step - loss: 1.1442 - accuracy: 0.4948 - val_loss: 1.1581 - val_accuracy: 0.4893 - lr: 0.0010\n",
            "Epoch 9/100\n",
            "127/127 [==============================] - 1s 9ms/step - loss: 1.1330 - accuracy: 0.5017 - val_loss: 1.1450 - val_accuracy: 0.5074 - lr: 0.0010\n",
            "Epoch 10/100\n",
            "127/127 [==============================] - 1s 9ms/step - loss: 1.1041 - accuracy: 0.5195 - val_loss: 1.1110 - val_accuracy: 0.5100 - lr: 0.0010\n",
            "Epoch 11/100\n",
            "127/127 [==============================] - 1s 11ms/step - loss: 1.0926 - accuracy: 0.5312 - val_loss: 1.1091 - val_accuracy: 0.5133 - lr: 0.0010\n",
            "Epoch 12/100\n",
            "127/127 [==============================] - 1s 9ms/step - loss: 1.0658 - accuracy: 0.5454 - val_loss: 1.0617 - val_accuracy: 0.5467 - lr: 0.0010\n",
            "Epoch 13/100\n",
            "127/127 [==============================] - 1s 9ms/step - loss: 1.0440 - accuracy: 0.5519 - val_loss: 1.1045 - val_accuracy: 0.5252 - lr: 0.0010\n",
            "Epoch 14/100\n",
            "127/127 [==============================] - 1s 9ms/step - loss: 1.0156 - accuracy: 0.5720 - val_loss: 1.0750 - val_accuracy: 0.5519 - lr: 0.0010\n",
            "Epoch 15/100\n",
            "127/127 [==============================] - 1s 9ms/step - loss: 1.0075 - accuracy: 0.5769 - val_loss: 1.0459 - val_accuracy: 0.5544 - lr: 0.0010\n",
            "Epoch 16/100\n",
            "127/127 [==============================] - 1s 9ms/step - loss: 0.9742 - accuracy: 0.5901 - val_loss: 1.0365 - val_accuracy: 0.5626 - lr: 0.0010\n",
            "Epoch 17/100\n",
            "127/127 [==============================] - 1s 11ms/step - loss: 0.9402 - accuracy: 0.6074 - val_loss: 1.0058 - val_accuracy: 0.5767 - lr: 0.0010\n",
            "Epoch 18/100\n",
            "127/127 [==============================] - 1s 9ms/step - loss: 0.9275 - accuracy: 0.6160 - val_loss: 0.9810 - val_accuracy: 0.5878 - lr: 0.0010\n",
            "Epoch 19/100\n",
            "127/127 [==============================] - 1s 11ms/step - loss: 0.9020 - accuracy: 0.6272 - val_loss: 1.0114 - val_accuracy: 0.5789 - lr: 0.0010\n",
            "Epoch 20/100\n",
            "127/127 [==============================] - 1s 9ms/step - loss: 0.8992 - accuracy: 0.6315 - val_loss: 0.9660 - val_accuracy: 0.5956 - lr: 0.0010\n",
            "Epoch 21/100\n",
            "127/127 [==============================] - 1s 9ms/step - loss: 0.8764 - accuracy: 0.6391 - val_loss: 0.9821 - val_accuracy: 0.6037 - lr: 0.0010\n",
            "Epoch 22/100\n",
            "127/127 [==============================] - 1s 9ms/step - loss: 0.8444 - accuracy: 0.6543 - val_loss: 0.9576 - val_accuracy: 0.6004 - lr: 0.0010\n",
            "Epoch 23/100\n",
            "127/127 [==============================] - 1s 11ms/step - loss: 0.8238 - accuracy: 0.6723 - val_loss: 0.9641 - val_accuracy: 0.5937 - lr: 0.0010\n",
            "Epoch 24/100\n",
            "127/127 [==============================] - 1s 9ms/step - loss: 0.8152 - accuracy: 0.6701 - val_loss: 0.9341 - val_accuracy: 0.6211 - lr: 0.0010\n",
            "Epoch 25/100\n",
            "127/127 [==============================] - 1s 9ms/step - loss: 0.7948 - accuracy: 0.6743 - val_loss: 0.9544 - val_accuracy: 0.6037 - lr: 0.0010\n",
            "Epoch 26/100\n",
            "127/127 [==============================] - 1s 9ms/step - loss: 0.7688 - accuracy: 0.6922 - val_loss: 0.9401 - val_accuracy: 0.6137 - lr: 0.0010\n",
            "Epoch 27/100\n",
            "127/127 [==============================] - 1s 10ms/step - loss: 0.7627 - accuracy: 0.6906 - val_loss: 0.9762 - val_accuracy: 0.5937 - lr: 0.0010\n",
            "Epoch 28/100\n",
            "127/127 [==============================] - 1s 11ms/step - loss: 0.7405 - accuracy: 0.7033 - val_loss: 0.9071 - val_accuracy: 0.6356 - lr: 0.0010\n",
            "Epoch 29/100\n",
            "127/127 [==============================] - 1s 9ms/step - loss: 0.7030 - accuracy: 0.7220 - val_loss: 0.9294 - val_accuracy: 0.6241 - lr: 0.0010\n",
            "Epoch 30/100\n",
            "127/127 [==============================] - 1s 11ms/step - loss: 0.6883 - accuracy: 0.7249 - val_loss: 0.9311 - val_accuracy: 0.6307 - lr: 0.0010\n",
            "Epoch 31/100\n",
            "127/127 [==============================] - 1s 9ms/step - loss: 0.6854 - accuracy: 0.7289 - val_loss: 0.9256 - val_accuracy: 0.6348 - lr: 0.0010\n",
            "Epoch 32/100\n",
            "127/127 [==============================] - 1s 9ms/step - loss: 0.6560 - accuracy: 0.7440 - val_loss: 1.0025 - val_accuracy: 0.6333 - lr: 0.0010\n",
            "Epoch 33/100\n",
            "127/127 [==============================] - 1s 10ms/step - loss: 0.6326 - accuracy: 0.7485 - val_loss: 0.9579 - val_accuracy: 0.6370 - lr: 0.0010\n",
            "Epoch 34/100\n",
            "127/127 [==============================] - 1s 9ms/step - loss: 0.6116 - accuracy: 0.7623 - val_loss: 0.9969 - val_accuracy: 0.6252 - lr: 0.0010\n",
            "Epoch 35/100\n",
            "127/127 [==============================] - 1s 11ms/step - loss: 0.6328 - accuracy: 0.7590 - val_loss: 0.9628 - val_accuracy: 0.6378 - lr: 0.0010\n",
            "Epoch 36/100\n",
            "127/127 [==============================] - 1s 11ms/step - loss: 0.5972 - accuracy: 0.7636 - val_loss: 0.9088 - val_accuracy: 0.6467 - lr: 0.0010\n",
            "Epoch 37/100\n",
            "127/127 [==============================] - 1s 9ms/step - loss: 0.5909 - accuracy: 0.7720 - val_loss: 0.9665 - val_accuracy: 0.6570 - lr: 0.0010\n",
            "Epoch 38/100\n",
            "127/127 [==============================] - 1s 11ms/step - loss: 0.5582 - accuracy: 0.7846 - val_loss: 0.9554 - val_accuracy: 0.6515 - lr: 0.0010\n",
            "Epoch 39/100\n",
            "127/127 [==============================] - 1s 9ms/step - loss: 0.5319 - accuracy: 0.7946 - val_loss: 0.9111 - val_accuracy: 0.6567 - lr: 0.0010\n",
            "Epoch 40/100\n",
            "127/127 [==============================] - 1s 9ms/step - loss: 0.5369 - accuracy: 0.7938 - val_loss: 0.9954 - val_accuracy: 0.6519 - lr: 0.0010\n",
            "Epoch 41/100\n",
            "127/127 [==============================] - 1s 9ms/step - loss: 0.5299 - accuracy: 0.7944 - val_loss: 0.9516 - val_accuracy: 0.6467 - lr: 0.0010\n",
            "Epoch 42/100\n",
            "127/127 [==============================] - 1s 11ms/step - loss: 0.5046 - accuracy: 0.7998 - val_loss: 0.9675 - val_accuracy: 0.6596 - lr: 0.0010\n",
            "Epoch 43/100\n",
            "127/127 [==============================] - 1s 11ms/step - loss: 0.4900 - accuracy: 0.8136 - val_loss: 0.9364 - val_accuracy: 0.6774 - lr: 0.0010\n",
            "Epoch 44/100\n",
            "127/127 [==============================] - 1s 11ms/step - loss: 0.4525 - accuracy: 0.8267 - val_loss: 0.9973 - val_accuracy: 0.6626 - lr: 0.0010\n",
            "Epoch 45/100\n",
            "127/127 [==============================] - 1s 10ms/step - loss: 0.4644 - accuracy: 0.8227 - val_loss: 0.9560 - val_accuracy: 0.6711 - lr: 0.0010\n",
            "Epoch 46/100\n",
            "127/127 [==============================] - 1s 11ms/step - loss: 0.4616 - accuracy: 0.8289 - val_loss: 0.9839 - val_accuracy: 0.6659 - lr: 0.0010\n",
            "Epoch 47/100\n",
            "127/127 [==============================] - 1s 10ms/step - loss: 0.4303 - accuracy: 0.8353 - val_loss: 1.1023 - val_accuracy: 0.6496 - lr: 0.0010\n",
            "Epoch 48/100\n",
            "127/127 [==============================] - 1s 11ms/step - loss: 0.4418 - accuracy: 0.8314 - val_loss: 1.0673 - val_accuracy: 0.6807 - lr: 0.0010\n",
            "Epoch 49/100\n",
            "127/127 [==============================] - 1s 11ms/step - loss: 0.4267 - accuracy: 0.8404 - val_loss: 0.9893 - val_accuracy: 0.6756 - lr: 0.0010\n",
            "Epoch 50/100\n",
            "127/127 [==============================] - 1s 11ms/step - loss: 0.4326 - accuracy: 0.8385 - val_loss: 1.0103 - val_accuracy: 0.6874 - lr: 0.0010\n",
            "Epoch 51/100\n",
            "127/127 [==============================] - 1s 10ms/step - loss: 0.4165 - accuracy: 0.8422 - val_loss: 0.9642 - val_accuracy: 0.6841 - lr: 0.0010\n",
            "Epoch 52/100\n",
            "127/127 [==============================] - 1s 9ms/step - loss: 0.4080 - accuracy: 0.8500 - val_loss: 1.0560 - val_accuracy: 0.6756 - lr: 0.0010\n",
            "Epoch 53/100\n",
            "127/127 [==============================] - 1s 11ms/step - loss: 0.3936 - accuracy: 0.8573 - val_loss: 1.0454 - val_accuracy: 0.6719 - lr: 0.0010\n",
            "Epoch 54/100\n",
            "127/127 [==============================] - 1s 11ms/step - loss: 0.3546 - accuracy: 0.8670 - val_loss: 1.0579 - val_accuracy: 0.6733 - lr: 0.0010\n",
            "Epoch 55/100\n",
            "127/127 [==============================] - 1s 11ms/step - loss: 0.3623 - accuracy: 0.8657 - val_loss: 1.1110 - val_accuracy: 0.6737 - lr: 0.0010\n",
            "Epoch 56/100\n",
            "127/127 [==============================] - 1s 11ms/step - loss: 0.3576 - accuracy: 0.8669 - val_loss: 1.0857 - val_accuracy: 0.6863 - lr: 0.0010\n",
            "Epoch 57/100\n",
            "127/127 [==============================] - 1s 10ms/step - loss: 0.3621 - accuracy: 0.8690 - val_loss: 1.0287 - val_accuracy: 0.6726 - lr: 0.0010\n",
            "Epoch 58/100\n",
            "127/127 [==============================] - 1s 11ms/step - loss: 0.2699 - accuracy: 0.9022 - val_loss: 1.1430 - val_accuracy: 0.6926 - lr: 5.0000e-04\n",
            "Epoch 59/100\n",
            "127/127 [==============================] - 1s 11ms/step - loss: 0.2408 - accuracy: 0.9143 - val_loss: 1.1752 - val_accuracy: 0.6985 - lr: 5.0000e-04\n",
            "Epoch 60/100\n",
            "127/127 [==============================] - 1s 9ms/step - loss: 0.2352 - accuracy: 0.9149 - val_loss: 1.1186 - val_accuracy: 0.7019 - lr: 5.0000e-04\n",
            "Epoch 61/100\n",
            "127/127 [==============================] - 1s 9ms/step - loss: 0.2193 - accuracy: 0.9199 - val_loss: 1.2008 - val_accuracy: 0.6944 - lr: 5.0000e-04\n",
            "Epoch 62/100\n",
            "127/127 [==============================] - 1s 9ms/step - loss: 0.2192 - accuracy: 0.9210 - val_loss: 1.2260 - val_accuracy: 0.7015 - lr: 5.0000e-04\n",
            "Epoch 63/100\n",
            "127/127 [==============================] - 1s 9ms/step - loss: 0.2106 - accuracy: 0.9223 - val_loss: 1.3001 - val_accuracy: 0.7022 - lr: 5.0000e-04\n",
            "Epoch 64/100\n",
            "127/127 [==============================] - 1s 9ms/step - loss: 0.2046 - accuracy: 0.9270 - val_loss: 1.2408 - val_accuracy: 0.6970 - lr: 5.0000e-04\n",
            "Epoch 65/100\n",
            "127/127 [==============================] - 1s 11ms/step - loss: 0.2107 - accuracy: 0.9194 - val_loss: 1.3463 - val_accuracy: 0.6981 - lr: 5.0000e-04\n",
            "Epoch 66/100\n",
            "127/127 [==============================] - 1s 10ms/step - loss: 0.1889 - accuracy: 0.9309 - val_loss: 1.2778 - val_accuracy: 0.7011 - lr: 5.0000e-04\n",
            "Epoch 67/100\n",
            "127/127 [==============================] - 1s 11ms/step - loss: 0.1933 - accuracy: 0.9290 - val_loss: 1.2934 - val_accuracy: 0.6922 - lr: 5.0000e-04\n",
            "Epoch 68/100\n",
            "127/127 [==============================] - 1s 11ms/step - loss: 0.1843 - accuracy: 0.9342 - val_loss: 1.2915 - val_accuracy: 0.7019 - lr: 5.0000e-04\n",
            "Epoch 69/100\n",
            "127/127 [==============================] - 1s 11ms/step - loss: 0.1778 - accuracy: 0.9377 - val_loss: 1.3642 - val_accuracy: 0.7022 - lr: 5.0000e-04\n",
            "Epoch 70/100\n",
            "127/127 [==============================] - 1s 9ms/step - loss: 0.1895 - accuracy: 0.9311 - val_loss: 1.2784 - val_accuracy: 0.7126 - lr: 5.0000e-04\n",
            "Epoch 71/100\n",
            "127/127 [==============================] - 1s 11ms/step - loss: 0.1722 - accuracy: 0.9359 - val_loss: 1.4055 - val_accuracy: 0.7026 - lr: 5.0000e-04\n",
            "Epoch 72/100\n",
            "127/127 [==============================] - 1s 11ms/step - loss: 0.1865 - accuracy: 0.9349 - val_loss: 1.3051 - val_accuracy: 0.7041 - lr: 5.0000e-04\n",
            "Epoch 73/100\n",
            "127/127 [==============================] - 1s 11ms/step - loss: 0.1659 - accuracy: 0.9428 - val_loss: 1.3813 - val_accuracy: 0.6970 - lr: 5.0000e-04\n",
            "Epoch 74/100\n",
            "127/127 [==============================] - 1s 9ms/step - loss: 0.1721 - accuracy: 0.9374 - val_loss: 1.3491 - val_accuracy: 0.7156 - lr: 5.0000e-04\n",
            "Epoch 75/100\n",
            "127/127 [==============================] - 1s 11ms/step - loss: 0.1676 - accuracy: 0.9417 - val_loss: 1.3526 - val_accuracy: 0.7156 - lr: 5.0000e-04\n",
            "Epoch 76/100\n",
            "127/127 [==============================] - 1s 11ms/step - loss: 0.1625 - accuracy: 0.9441 - val_loss: 1.4137 - val_accuracy: 0.6933 - lr: 5.0000e-04\n",
            "Epoch 77/100\n",
            "127/127 [==============================] - 1s 9ms/step - loss: 0.1698 - accuracy: 0.9409 - val_loss: 1.3445 - val_accuracy: 0.6926 - lr: 5.0000e-04\n",
            "Epoch 78/100\n",
            "127/127 [==============================] - 1s 11ms/step - loss: 0.1598 - accuracy: 0.9420 - val_loss: 1.3875 - val_accuracy: 0.7052 - lr: 5.0000e-04\n",
            "Epoch 79/100\n",
            "127/127 [==============================] - 1s 11ms/step - loss: 0.1476 - accuracy: 0.9484 - val_loss: 1.4207 - val_accuracy: 0.7056 - lr: 5.0000e-04\n",
            "Epoch 80/100\n",
            "127/127 [==============================] - 1s 9ms/step - loss: 0.1464 - accuracy: 0.9511 - val_loss: 1.3829 - val_accuracy: 0.7037 - lr: 5.0000e-04\n",
            "Epoch 81/100\n",
            "127/127 [==============================] - 1s 11ms/step - loss: 0.1554 - accuracy: 0.9474 - val_loss: 1.4378 - val_accuracy: 0.7093 - lr: 5.0000e-04\n",
            "Epoch 82/100\n",
            "127/127 [==============================] - 1s 11ms/step - loss: 0.1305 - accuracy: 0.9538 - val_loss: 1.3922 - val_accuracy: 0.7159 - lr: 5.0000e-04\n",
            "Epoch 83/100\n",
            "127/127 [==============================] - 1s 11ms/step - loss: 0.1363 - accuracy: 0.9543 - val_loss: 1.4673 - val_accuracy: 0.7156 - lr: 5.0000e-04\n",
            "Epoch 84/100\n",
            "127/127 [==============================] - 1s 11ms/step - loss: 0.1378 - accuracy: 0.9527 - val_loss: 1.5825 - val_accuracy: 0.6959 - lr: 5.0000e-04\n",
            "Epoch 85/100\n",
            "127/127 [==============================] - 1s 9ms/step - loss: 0.1469 - accuracy: 0.9477 - val_loss: 1.5722 - val_accuracy: 0.6941 - lr: 5.0000e-04\n",
            "Epoch 86/100\n",
            "127/127 [==============================] - 1s 10ms/step - loss: 0.1145 - accuracy: 0.9573 - val_loss: 1.5304 - val_accuracy: 0.7174 - lr: 2.5000e-04\n",
            "Epoch 87/100\n",
            "127/127 [==============================] - 1s 11ms/step - loss: 0.0979 - accuracy: 0.9688 - val_loss: 1.5980 - val_accuracy: 0.7174 - lr: 2.5000e-04\n",
            "Epoch 88/100\n",
            "127/127 [==============================] - 1s 11ms/step - loss: 0.0838 - accuracy: 0.9709 - val_loss: 1.5768 - val_accuracy: 0.7196 - lr: 2.5000e-04\n",
            "Epoch 89/100\n",
            "127/127 [==============================] - 1s 10ms/step - loss: 0.0909 - accuracy: 0.9660 - val_loss: 1.6374 - val_accuracy: 0.7200 - lr: 2.5000e-04\n",
            "Epoch 90/100\n",
            "127/127 [==============================] - 1s 11ms/step - loss: 0.0968 - accuracy: 0.9688 - val_loss: 1.5659 - val_accuracy: 0.7207 - lr: 2.5000e-04\n",
            "Epoch 91/100\n",
            "127/127 [==============================] - 1s 10ms/step - loss: 0.0812 - accuracy: 0.9731 - val_loss: 1.6283 - val_accuracy: 0.7252 - lr: 2.5000e-04\n",
            "Epoch 92/100\n",
            "127/127 [==============================] - 1s 11ms/step - loss: 0.0839 - accuracy: 0.9704 - val_loss: 1.6031 - val_accuracy: 0.7204 - lr: 2.5000e-04\n",
            "Epoch 93/100\n",
            "127/127 [==============================] - 1s 9ms/step - loss: 0.0790 - accuracy: 0.9737 - val_loss: 1.6133 - val_accuracy: 0.7119 - lr: 2.5000e-04\n",
            "Epoch 94/100\n",
            "127/127 [==============================] - 1s 10ms/step - loss: 0.0922 - accuracy: 0.9680 - val_loss: 1.5715 - val_accuracy: 0.7207 - lr: 2.5000e-04\n",
            "Epoch 95/100\n",
            "127/127 [==============================] - 1s 11ms/step - loss: 0.0782 - accuracy: 0.9738 - val_loss: 1.6883 - val_accuracy: 0.7096 - lr: 2.5000e-04\n",
            "Epoch 96/100\n",
            "127/127 [==============================] - 1s 11ms/step - loss: 0.0769 - accuracy: 0.9726 - val_loss: 1.6572 - val_accuracy: 0.7163 - lr: 2.5000e-04\n",
            "Epoch 97/100\n",
            "127/127 [==============================] - 1s 10ms/step - loss: 0.0790 - accuracy: 0.9732 - val_loss: 1.6830 - val_accuracy: 0.7159 - lr: 2.5000e-04\n",
            "Epoch 98/100\n",
            "127/127 [==============================] - 1s 11ms/step - loss: 0.0742 - accuracy: 0.9767 - val_loss: 1.7416 - val_accuracy: 0.7141 - lr: 2.5000e-04\n",
            "Epoch 99/100\n",
            "127/127 [==============================] - 1s 10ms/step - loss: 0.0780 - accuracy: 0.9732 - val_loss: 1.6842 - val_accuracy: 0.7122 - lr: 2.5000e-04\n",
            "Epoch 100/100\n",
            "127/127 [==============================] - 1s 11ms/step - loss: 0.0728 - accuracy: 0.9760 - val_loss: 1.6532 - val_accuracy: 0.7259 - lr: 2.5000e-04\n"
          ]
        }
      ]
    },
    {
      "cell_type": "code",
      "source": [
        "from IPython.display import SVG\n",
        "from keras.utils.vis_utils import model_to_dot\n",
        " \n",
        "%matplotlib inline\n",
        " \n",
        "SVG(model_to_dot(model2, show_shapes=True).create(prog='dot', format='svg'))"
      ],
      "metadata": {
        "colab": {
          "base_uri": "https://localhost:8080/",
          "height": 1000
        },
        "id": "tyrgGO_HyX93",
        "outputId": "de945b94-ab36-4700-9066-a0117b99592d"
      },
      "execution_count": 43,
      "outputs": [
        {
          "output_type": "execute_result",
          "data": {
            "text/plain": [
              "<IPython.core.display.SVG object>"
            ],
            "image/svg+xml": "<svg height=\"1512pt\" viewBox=\"0.00 0.00 417.00 1134.00\" width=\"556pt\" xmlns=\"http://www.w3.org/2000/svg\" xmlns:xlink=\"http://www.w3.org/1999/xlink\">\n<g class=\"graph\" id=\"graph0\" transform=\"scale(1.3333 1.3333) rotate(0) translate(4 1130)\">\n<title>G</title>\n<polygon fill=\"#ffffff\" points=\"-4,4 -4,-1130 413,-1130 413,4 -4,4\" stroke=\"transparent\"/>\n<!-- 140575167000912 -->\n<g class=\"node\" id=\"node1\">\n<title>140575167000912</title>\n<polygon fill=\"none\" points=\"8,-1079.5 8,-1125.5 401,-1125.5 401,-1079.5 8,-1079.5\" stroke=\"#000000\"/>\n<text fill=\"#000000\" font-family=\"Times,serif\" font-size=\"14.00\" text-anchor=\"middle\" x=\"64.5\" y=\"-1110.3\">conv1d_4_input</text>\n<polyline fill=\"none\" points=\"8,-1102.5 121,-1102.5 \" stroke=\"#000000\"/>\n<text fill=\"#000000\" font-family=\"Times,serif\" font-size=\"14.00\" text-anchor=\"middle\" x=\"64.5\" y=\"-1087.3\">InputLayer</text>\n<polyline fill=\"none\" points=\"121,-1079.5 121,-1125.5 \" stroke=\"#000000\"/>\n<text fill=\"#000000\" font-family=\"Times,serif\" font-size=\"14.00\" text-anchor=\"middle\" x=\"150\" y=\"-1110.3\">input:</text>\n<polyline fill=\"none\" points=\"121,-1102.5 179,-1102.5 \" stroke=\"#000000\"/>\n<text fill=\"#000000\" font-family=\"Times,serif\" font-size=\"14.00\" text-anchor=\"middle\" x=\"150\" y=\"-1087.3\">output:</text>\n<polyline fill=\"none\" points=\"179,-1079.5 179,-1125.5 \" stroke=\"#000000\"/>\n<text fill=\"#000000\" font-family=\"Times,serif\" font-size=\"14.00\" text-anchor=\"middle\" x=\"234.5\" y=\"-1098.8\">[(None, 148, 1)]</text>\n<polyline fill=\"none\" points=\"290,-1079.5 290,-1125.5 \" stroke=\"#000000\"/>\n<text fill=\"#000000\" font-family=\"Times,serif\" font-size=\"14.00\" text-anchor=\"middle\" x=\"345.5\" y=\"-1098.8\">[(None, 148, 1)]</text>\n</g>\n<!-- 140575240084496 -->\n<g class=\"node\" id=\"node2\">\n<title>140575240084496</title>\n<polygon fill=\"none\" points=\"28.5,-996.5 28.5,-1042.5 380.5,-1042.5 380.5,-996.5 28.5,-996.5\" stroke=\"#000000\"/>\n<text fill=\"#000000\" font-family=\"Times,serif\" font-size=\"14.00\" text-anchor=\"middle\" x=\"66\" y=\"-1027.3\">conv1d_4</text>\n<polyline fill=\"none\" points=\"28.5,-1019.5 103.5,-1019.5 \" stroke=\"#000000\"/>\n<text fill=\"#000000\" font-family=\"Times,serif\" font-size=\"14.00\" text-anchor=\"middle\" x=\"66\" y=\"-1004.3\">Conv1D</text>\n<polyline fill=\"none\" points=\"103.5,-996.5 103.5,-1042.5 \" stroke=\"#000000\"/>\n<text fill=\"#000000\" font-family=\"Times,serif\" font-size=\"14.00\" text-anchor=\"middle\" x=\"132.5\" y=\"-1027.3\">input:</text>\n<polyline fill=\"none\" points=\"103.5,-1019.5 161.5,-1019.5 \" stroke=\"#000000\"/>\n<text fill=\"#000000\" font-family=\"Times,serif\" font-size=\"14.00\" text-anchor=\"middle\" x=\"132.5\" y=\"-1004.3\">output:</text>\n<polyline fill=\"none\" points=\"161.5,-996.5 161.5,-1042.5 \" stroke=\"#000000\"/>\n<text fill=\"#000000\" font-family=\"Times,serif\" font-size=\"14.00\" text-anchor=\"middle\" x=\"212.5\" y=\"-1015.8\">(None, 148, 1)</text>\n<polyline fill=\"none\" points=\"263.5,-996.5 263.5,-1042.5 \" stroke=\"#000000\"/>\n<text fill=\"#000000\" font-family=\"Times,serif\" font-size=\"14.00\" text-anchor=\"middle\" x=\"322\" y=\"-1015.8\">(None, 148, 256)</text>\n</g>\n<!-- 140575167000912&#45;&gt;140575240084496 -->\n<g class=\"edge\" id=\"edge1\">\n<title>140575167000912-&gt;140575240084496</title>\n<path d=\"M204.5,-1079.3799C204.5,-1071.1745 204.5,-1061.7679 204.5,-1052.8786\" fill=\"none\" stroke=\"#000000\"/>\n<polygon fill=\"#000000\" points=\"208.0001,-1052.784 204.5,-1042.784 201.0001,-1052.784 208.0001,-1052.784\" stroke=\"#000000\"/>\n</g>\n<!-- 140575239897360 -->\n<g class=\"node\" id=\"node3\">\n<title>140575239897360</title>\n<polygon fill=\"none\" points=\"0,-913.5 0,-959.5 409,-959.5 409,-913.5 0,-913.5\" stroke=\"#000000\"/>\n<text fill=\"#000000\" font-family=\"Times,serif\" font-size=\"14.00\" text-anchor=\"middle\" x=\"62\" y=\"-944.3\">max_pooling1d_4</text>\n<polyline fill=\"none\" points=\"0,-936.5 124,-936.5 \" stroke=\"#000000\"/>\n<text fill=\"#000000\" font-family=\"Times,serif\" font-size=\"14.00\" text-anchor=\"middle\" x=\"62\" y=\"-921.3\">MaxPooling1D</text>\n<polyline fill=\"none\" points=\"124,-913.5 124,-959.5 \" stroke=\"#000000\"/>\n<text fill=\"#000000\" font-family=\"Times,serif\" font-size=\"14.00\" text-anchor=\"middle\" x=\"153\" y=\"-944.3\">input:</text>\n<polyline fill=\"none\" points=\"124,-936.5 182,-936.5 \" stroke=\"#000000\"/>\n<text fill=\"#000000\" font-family=\"Times,serif\" font-size=\"14.00\" text-anchor=\"middle\" x=\"153\" y=\"-921.3\">output:</text>\n<polyline fill=\"none\" points=\"182,-913.5 182,-959.5 \" stroke=\"#000000\"/>\n<text fill=\"#000000\" font-family=\"Times,serif\" font-size=\"14.00\" text-anchor=\"middle\" x=\"240.5\" y=\"-932.8\">(None, 148, 256)</text>\n<polyline fill=\"none\" points=\"299,-913.5 299,-959.5 \" stroke=\"#000000\"/>\n<text fill=\"#000000\" font-family=\"Times,serif\" font-size=\"14.00\" text-anchor=\"middle\" x=\"354\" y=\"-932.8\">(None, 74, 256)</text>\n</g>\n<!-- 140575240084496&#45;&gt;140575239897360 -->\n<g class=\"edge\" id=\"edge2\">\n<title>140575240084496-&gt;140575239897360</title>\n<path d=\"M204.5,-996.3799C204.5,-988.1745 204.5,-978.7679 204.5,-969.8786\" fill=\"none\" stroke=\"#000000\"/>\n<polygon fill=\"#000000\" points=\"208.0001,-969.784 204.5,-959.784 201.0001,-969.784 208.0001,-969.784\" stroke=\"#000000\"/>\n</g>\n<!-- 140575165463120 -->\n<g class=\"node\" id=\"node4\">\n<title>140575165463120</title>\n<polygon fill=\"none\" points=\"28,-830.5 28,-876.5 381,-876.5 381,-830.5 28,-830.5\" stroke=\"#000000\"/>\n<text fill=\"#000000\" font-family=\"Times,serif\" font-size=\"14.00\" text-anchor=\"middle\" x=\"65.5\" y=\"-861.3\">conv1d_5</text>\n<polyline fill=\"none\" points=\"28,-853.5 103,-853.5 \" stroke=\"#000000\"/>\n<text fill=\"#000000\" font-family=\"Times,serif\" font-size=\"14.00\" text-anchor=\"middle\" x=\"65.5\" y=\"-838.3\">Conv1D</text>\n<polyline fill=\"none\" points=\"103,-830.5 103,-876.5 \" stroke=\"#000000\"/>\n<text fill=\"#000000\" font-family=\"Times,serif\" font-size=\"14.00\" text-anchor=\"middle\" x=\"132\" y=\"-861.3\">input:</text>\n<polyline fill=\"none\" points=\"103,-853.5 161,-853.5 \" stroke=\"#000000\"/>\n<text fill=\"#000000\" font-family=\"Times,serif\" font-size=\"14.00\" text-anchor=\"middle\" x=\"132\" y=\"-838.3\">output:</text>\n<polyline fill=\"none\" points=\"161,-830.5 161,-876.5 \" stroke=\"#000000\"/>\n<text fill=\"#000000\" font-family=\"Times,serif\" font-size=\"14.00\" text-anchor=\"middle\" x=\"216\" y=\"-849.8\">(None, 74, 256)</text>\n<polyline fill=\"none\" points=\"271,-830.5 271,-876.5 \" stroke=\"#000000\"/>\n<text fill=\"#000000\" font-family=\"Times,serif\" font-size=\"14.00\" text-anchor=\"middle\" x=\"326\" y=\"-849.8\">(None, 74, 256)</text>\n</g>\n<!-- 140575239897360&#45;&gt;140575165463120 -->\n<g class=\"edge\" id=\"edge3\">\n<title>140575239897360-&gt;140575165463120</title>\n<path d=\"M204.5,-913.3799C204.5,-905.1745 204.5,-895.7679 204.5,-886.8786\" fill=\"none\" stroke=\"#000000\"/>\n<polygon fill=\"#000000\" points=\"208.0001,-886.784 204.5,-876.784 201.0001,-886.784 208.0001,-886.784\" stroke=\"#000000\"/>\n</g>\n<!-- 140575166909264 -->\n<g class=\"node\" id=\"node5\">\n<title>140575166909264</title>\n<polygon fill=\"none\" points=\"3.5,-747.5 3.5,-793.5 405.5,-793.5 405.5,-747.5 3.5,-747.5\" stroke=\"#000000\"/>\n<text fill=\"#000000\" font-family=\"Times,serif\" font-size=\"14.00\" text-anchor=\"middle\" x=\"65.5\" y=\"-778.3\">max_pooling1d_5</text>\n<polyline fill=\"none\" points=\"3.5,-770.5 127.5,-770.5 \" stroke=\"#000000\"/>\n<text fill=\"#000000\" font-family=\"Times,serif\" font-size=\"14.00\" text-anchor=\"middle\" x=\"65.5\" y=\"-755.3\">MaxPooling1D</text>\n<polyline fill=\"none\" points=\"127.5,-747.5 127.5,-793.5 \" stroke=\"#000000\"/>\n<text fill=\"#000000\" font-family=\"Times,serif\" font-size=\"14.00\" text-anchor=\"middle\" x=\"156.5\" y=\"-778.3\">input:</text>\n<polyline fill=\"none\" points=\"127.5,-770.5 185.5,-770.5 \" stroke=\"#000000\"/>\n<text fill=\"#000000\" font-family=\"Times,serif\" font-size=\"14.00\" text-anchor=\"middle\" x=\"156.5\" y=\"-755.3\">output:</text>\n<polyline fill=\"none\" points=\"185.5,-747.5 185.5,-793.5 \" stroke=\"#000000\"/>\n<text fill=\"#000000\" font-family=\"Times,serif\" font-size=\"14.00\" text-anchor=\"middle\" x=\"240.5\" y=\"-766.8\">(None, 74, 256)</text>\n<polyline fill=\"none\" points=\"295.5,-747.5 295.5,-793.5 \" stroke=\"#000000\"/>\n<text fill=\"#000000\" font-family=\"Times,serif\" font-size=\"14.00\" text-anchor=\"middle\" x=\"350.5\" y=\"-766.8\">(None, 37, 256)</text>\n</g>\n<!-- 140575165463120&#45;&gt;140575166909264 -->\n<g class=\"edge\" id=\"edge4\">\n<title>140575165463120-&gt;140575166909264</title>\n<path d=\"M204.5,-830.3799C204.5,-822.1745 204.5,-812.7679 204.5,-803.8786\" fill=\"none\" stroke=\"#000000\"/>\n<polygon fill=\"#000000\" points=\"208.0001,-803.784 204.5,-793.784 201.0001,-803.784 208.0001,-803.784\" stroke=\"#000000\"/>\n</g>\n<!-- 140575239615632 -->\n<g class=\"node\" id=\"node6\">\n<title>140575239615632</title>\n<polygon fill=\"none\" points=\"28,-664.5 28,-710.5 381,-710.5 381,-664.5 28,-664.5\" stroke=\"#000000\"/>\n<text fill=\"#000000\" font-family=\"Times,serif\" font-size=\"14.00\" text-anchor=\"middle\" x=\"65.5\" y=\"-695.3\">conv1d_6</text>\n<polyline fill=\"none\" points=\"28,-687.5 103,-687.5 \" stroke=\"#000000\"/>\n<text fill=\"#000000\" font-family=\"Times,serif\" font-size=\"14.00\" text-anchor=\"middle\" x=\"65.5\" y=\"-672.3\">Conv1D</text>\n<polyline fill=\"none\" points=\"103,-664.5 103,-710.5 \" stroke=\"#000000\"/>\n<text fill=\"#000000\" font-family=\"Times,serif\" font-size=\"14.00\" text-anchor=\"middle\" x=\"132\" y=\"-695.3\">input:</text>\n<polyline fill=\"none\" points=\"103,-687.5 161,-687.5 \" stroke=\"#000000\"/>\n<text fill=\"#000000\" font-family=\"Times,serif\" font-size=\"14.00\" text-anchor=\"middle\" x=\"132\" y=\"-672.3\">output:</text>\n<polyline fill=\"none\" points=\"161,-664.5 161,-710.5 \" stroke=\"#000000\"/>\n<text fill=\"#000000\" font-family=\"Times,serif\" font-size=\"14.00\" text-anchor=\"middle\" x=\"216\" y=\"-683.8\">(None, 37, 256)</text>\n<polyline fill=\"none\" points=\"271,-664.5 271,-710.5 \" stroke=\"#000000\"/>\n<text fill=\"#000000\" font-family=\"Times,serif\" font-size=\"14.00\" text-anchor=\"middle\" x=\"326\" y=\"-683.8\">(None, 37, 128)</text>\n</g>\n<!-- 140575166909264&#45;&gt;140575239615632 -->\n<g class=\"edge\" id=\"edge5\">\n<title>140575166909264-&gt;140575239615632</title>\n<path d=\"M204.5,-747.3799C204.5,-739.1745 204.5,-729.7679 204.5,-720.8786\" fill=\"none\" stroke=\"#000000\"/>\n<polygon fill=\"#000000\" points=\"208.0001,-720.784 204.5,-710.784 201.0001,-720.784 208.0001,-720.784\" stroke=\"#000000\"/>\n</g>\n<!-- 140575260654288 -->\n<g class=\"node\" id=\"node7\">\n<title>140575260654288</title>\n<polygon fill=\"none\" points=\"3.5,-581.5 3.5,-627.5 405.5,-627.5 405.5,-581.5 3.5,-581.5\" stroke=\"#000000\"/>\n<text fill=\"#000000\" font-family=\"Times,serif\" font-size=\"14.00\" text-anchor=\"middle\" x=\"65.5\" y=\"-612.3\">max_pooling1d_6</text>\n<polyline fill=\"none\" points=\"3.5,-604.5 127.5,-604.5 \" stroke=\"#000000\"/>\n<text fill=\"#000000\" font-family=\"Times,serif\" font-size=\"14.00\" text-anchor=\"middle\" x=\"65.5\" y=\"-589.3\">MaxPooling1D</text>\n<polyline fill=\"none\" points=\"127.5,-581.5 127.5,-627.5 \" stroke=\"#000000\"/>\n<text fill=\"#000000\" font-family=\"Times,serif\" font-size=\"14.00\" text-anchor=\"middle\" x=\"156.5\" y=\"-612.3\">input:</text>\n<polyline fill=\"none\" points=\"127.5,-604.5 185.5,-604.5 \" stroke=\"#000000\"/>\n<text fill=\"#000000\" font-family=\"Times,serif\" font-size=\"14.00\" text-anchor=\"middle\" x=\"156.5\" y=\"-589.3\">output:</text>\n<polyline fill=\"none\" points=\"185.5,-581.5 185.5,-627.5 \" stroke=\"#000000\"/>\n<text fill=\"#000000\" font-family=\"Times,serif\" font-size=\"14.00\" text-anchor=\"middle\" x=\"240.5\" y=\"-600.8\">(None, 37, 128)</text>\n<polyline fill=\"none\" points=\"295.5,-581.5 295.5,-627.5 \" stroke=\"#000000\"/>\n<text fill=\"#000000\" font-family=\"Times,serif\" font-size=\"14.00\" text-anchor=\"middle\" x=\"350.5\" y=\"-600.8\">(None, 19, 128)</text>\n</g>\n<!-- 140575239615632&#45;&gt;140575260654288 -->\n<g class=\"edge\" id=\"edge6\">\n<title>140575239615632-&gt;140575260654288</title>\n<path d=\"M204.5,-664.3799C204.5,-656.1745 204.5,-646.7679 204.5,-637.8786\" fill=\"none\" stroke=\"#000000\"/>\n<polygon fill=\"#000000\" points=\"208.0001,-637.784 204.5,-627.784 201.0001,-637.784 208.0001,-637.784\" stroke=\"#000000\"/>\n</g>\n<!-- 140575166972880 -->\n<g class=\"node\" id=\"node8\">\n<title>140575166972880</title>\n<polygon fill=\"none\" points=\"27,-498.5 27,-544.5 382,-544.5 382,-498.5 27,-498.5\" stroke=\"#000000\"/>\n<text fill=\"#000000\" font-family=\"Times,serif\" font-size=\"14.00\" text-anchor=\"middle\" x=\"65.5\" y=\"-529.3\">dropout_2</text>\n<polyline fill=\"none\" points=\"27,-521.5 104,-521.5 \" stroke=\"#000000\"/>\n<text fill=\"#000000\" font-family=\"Times,serif\" font-size=\"14.00\" text-anchor=\"middle\" x=\"65.5\" y=\"-506.3\">Dropout</text>\n<polyline fill=\"none\" points=\"104,-498.5 104,-544.5 \" stroke=\"#000000\"/>\n<text fill=\"#000000\" font-family=\"Times,serif\" font-size=\"14.00\" text-anchor=\"middle\" x=\"133\" y=\"-529.3\">input:</text>\n<polyline fill=\"none\" points=\"104,-521.5 162,-521.5 \" stroke=\"#000000\"/>\n<text fill=\"#000000\" font-family=\"Times,serif\" font-size=\"14.00\" text-anchor=\"middle\" x=\"133\" y=\"-506.3\">output:</text>\n<polyline fill=\"none\" points=\"162,-498.5 162,-544.5 \" stroke=\"#000000\"/>\n<text fill=\"#000000\" font-family=\"Times,serif\" font-size=\"14.00\" text-anchor=\"middle\" x=\"217\" y=\"-517.8\">(None, 19, 128)</text>\n<polyline fill=\"none\" points=\"272,-498.5 272,-544.5 \" stroke=\"#000000\"/>\n<text fill=\"#000000\" font-family=\"Times,serif\" font-size=\"14.00\" text-anchor=\"middle\" x=\"327\" y=\"-517.8\">(None, 19, 128)</text>\n</g>\n<!-- 140575260654288&#45;&gt;140575166972880 -->\n<g class=\"edge\" id=\"edge7\">\n<title>140575260654288-&gt;140575166972880</title>\n<path d=\"M204.5,-581.3799C204.5,-573.1745 204.5,-563.7679 204.5,-554.8786\" fill=\"none\" stroke=\"#000000\"/>\n<polygon fill=\"#000000\" points=\"208.0001,-554.784 204.5,-544.784 201.0001,-554.784 208.0001,-554.784\" stroke=\"#000000\"/>\n</g>\n<!-- 140575166908560 -->\n<g class=\"node\" id=\"node9\">\n<title>140575166908560</title>\n<polygon fill=\"none\" points=\"32,-415.5 32,-461.5 377,-461.5 377,-415.5 32,-415.5\" stroke=\"#000000\"/>\n<text fill=\"#000000\" font-family=\"Times,serif\" font-size=\"14.00\" text-anchor=\"middle\" x=\"69.5\" y=\"-446.3\">conv1d_7</text>\n<polyline fill=\"none\" points=\"32,-438.5 107,-438.5 \" stroke=\"#000000\"/>\n<text fill=\"#000000\" font-family=\"Times,serif\" font-size=\"14.00\" text-anchor=\"middle\" x=\"69.5\" y=\"-423.3\">Conv1D</text>\n<polyline fill=\"none\" points=\"107,-415.5 107,-461.5 \" stroke=\"#000000\"/>\n<text fill=\"#000000\" font-family=\"Times,serif\" font-size=\"14.00\" text-anchor=\"middle\" x=\"136\" y=\"-446.3\">input:</text>\n<polyline fill=\"none\" points=\"107,-438.5 165,-438.5 \" stroke=\"#000000\"/>\n<text fill=\"#000000\" font-family=\"Times,serif\" font-size=\"14.00\" text-anchor=\"middle\" x=\"136\" y=\"-423.3\">output:</text>\n<polyline fill=\"none\" points=\"165,-415.5 165,-461.5 \" stroke=\"#000000\"/>\n<text fill=\"#000000\" font-family=\"Times,serif\" font-size=\"14.00\" text-anchor=\"middle\" x=\"220\" y=\"-434.8\">(None, 19, 128)</text>\n<polyline fill=\"none\" points=\"275,-415.5 275,-461.5 \" stroke=\"#000000\"/>\n<text fill=\"#000000\" font-family=\"Times,serif\" font-size=\"14.00\" text-anchor=\"middle\" x=\"326\" y=\"-434.8\">(None, 19, 64)</text>\n</g>\n<!-- 140575166972880&#45;&gt;140575166908560 -->\n<g class=\"edge\" id=\"edge8\">\n<title>140575166972880-&gt;140575166908560</title>\n<path d=\"M204.5,-498.3799C204.5,-490.1745 204.5,-480.7679 204.5,-471.8786\" fill=\"none\" stroke=\"#000000\"/>\n<polygon fill=\"#000000\" points=\"208.0001,-471.784 204.5,-461.784 201.0001,-471.784 208.0001,-471.784\" stroke=\"#000000\"/>\n</g>\n<!-- 140575166050640 -->\n<g class=\"node\" id=\"node10\">\n<title>140575166050640</title>\n<polygon fill=\"none\" points=\"11.5,-332.5 11.5,-378.5 397.5,-378.5 397.5,-332.5 11.5,-332.5\" stroke=\"#000000\"/>\n<text fill=\"#000000\" font-family=\"Times,serif\" font-size=\"14.00\" text-anchor=\"middle\" x=\"73.5\" y=\"-363.3\">max_pooling1d_7</text>\n<polyline fill=\"none\" points=\"11.5,-355.5 135.5,-355.5 \" stroke=\"#000000\"/>\n<text fill=\"#000000\" font-family=\"Times,serif\" font-size=\"14.00\" text-anchor=\"middle\" x=\"73.5\" y=\"-340.3\">MaxPooling1D</text>\n<polyline fill=\"none\" points=\"135.5,-332.5 135.5,-378.5 \" stroke=\"#000000\"/>\n<text fill=\"#000000\" font-family=\"Times,serif\" font-size=\"14.00\" text-anchor=\"middle\" x=\"164.5\" y=\"-363.3\">input:</text>\n<polyline fill=\"none\" points=\"135.5,-355.5 193.5,-355.5 \" stroke=\"#000000\"/>\n<text fill=\"#000000\" font-family=\"Times,serif\" font-size=\"14.00\" text-anchor=\"middle\" x=\"164.5\" y=\"-340.3\">output:</text>\n<polyline fill=\"none\" points=\"193.5,-332.5 193.5,-378.5 \" stroke=\"#000000\"/>\n<text fill=\"#000000\" font-family=\"Times,serif\" font-size=\"14.00\" text-anchor=\"middle\" x=\"244.5\" y=\"-351.8\">(None, 19, 64)</text>\n<polyline fill=\"none\" points=\"295.5,-332.5 295.5,-378.5 \" stroke=\"#000000\"/>\n<text fill=\"#000000\" font-family=\"Times,serif\" font-size=\"14.00\" text-anchor=\"middle\" x=\"346.5\" y=\"-351.8\">(None, 10, 64)</text>\n</g>\n<!-- 140575166908560&#45;&gt;140575166050640 -->\n<g class=\"edge\" id=\"edge9\">\n<title>140575166908560-&gt;140575166050640</title>\n<path d=\"M204.5,-415.3799C204.5,-407.1745 204.5,-397.7679 204.5,-388.8786\" fill=\"none\" stroke=\"#000000\"/>\n<polygon fill=\"#000000\" points=\"208.0001,-388.784 204.5,-378.784 201.0001,-388.784 208.0001,-388.784\" stroke=\"#000000\"/>\n</g>\n<!-- 140575240083408 -->\n<g class=\"node\" id=\"node11\">\n<title>140575240083408</title>\n<polygon fill=\"none\" points=\"47.5,-249.5 47.5,-295.5 361.5,-295.5 361.5,-249.5 47.5,-249.5\" stroke=\"#000000\"/>\n<text fill=\"#000000\" font-family=\"Times,serif\" font-size=\"14.00\" text-anchor=\"middle\" x=\"81\" y=\"-280.3\">flatten_1</text>\n<polyline fill=\"none\" points=\"47.5,-272.5 114.5,-272.5 \" stroke=\"#000000\"/>\n<text fill=\"#000000\" font-family=\"Times,serif\" font-size=\"14.00\" text-anchor=\"middle\" x=\"81\" y=\"-257.3\">Flatten</text>\n<polyline fill=\"none\" points=\"114.5,-249.5 114.5,-295.5 \" stroke=\"#000000\"/>\n<text fill=\"#000000\" font-family=\"Times,serif\" font-size=\"14.00\" text-anchor=\"middle\" x=\"143.5\" y=\"-280.3\">input:</text>\n<polyline fill=\"none\" points=\"114.5,-272.5 172.5,-272.5 \" stroke=\"#000000\"/>\n<text fill=\"#000000\" font-family=\"Times,serif\" font-size=\"14.00\" text-anchor=\"middle\" x=\"143.5\" y=\"-257.3\">output:</text>\n<polyline fill=\"none\" points=\"172.5,-249.5 172.5,-295.5 \" stroke=\"#000000\"/>\n<text fill=\"#000000\" font-family=\"Times,serif\" font-size=\"14.00\" text-anchor=\"middle\" x=\"223.5\" y=\"-268.8\">(None, 10, 64)</text>\n<polyline fill=\"none\" points=\"274.5,-249.5 274.5,-295.5 \" stroke=\"#000000\"/>\n<text fill=\"#000000\" font-family=\"Times,serif\" font-size=\"14.00\" text-anchor=\"middle\" x=\"318\" y=\"-268.8\">(None, 640)</text>\n</g>\n<!-- 140575166050640&#45;&gt;140575240083408 -->\n<g class=\"edge\" id=\"edge10\">\n<title>140575166050640-&gt;140575240083408</title>\n<path d=\"M204.5,-332.3799C204.5,-324.1745 204.5,-314.7679 204.5,-305.8786\" fill=\"none\" stroke=\"#000000\"/>\n<polygon fill=\"#000000\" points=\"208.0001,-305.784 204.5,-295.784 201.0001,-305.784 208.0001,-305.784\" stroke=\"#000000\"/>\n</g>\n<!-- 140575166963600 -->\n<g class=\"node\" id=\"node12\">\n<title>140575166963600</title>\n<polygon fill=\"none\" points=\"60,-166.5 60,-212.5 349,-212.5 349,-166.5 60,-166.5\" stroke=\"#000000\"/>\n<text fill=\"#000000\" font-family=\"Times,serif\" font-size=\"14.00\" text-anchor=\"middle\" x=\"92\" y=\"-197.3\">dense_2</text>\n<polyline fill=\"none\" points=\"60,-189.5 124,-189.5 \" stroke=\"#000000\"/>\n<text fill=\"#000000\" font-family=\"Times,serif\" font-size=\"14.00\" text-anchor=\"middle\" x=\"92\" y=\"-174.3\">Dense</text>\n<polyline fill=\"none\" points=\"124,-166.5 124,-212.5 \" stroke=\"#000000\"/>\n<text fill=\"#000000\" font-family=\"Times,serif\" font-size=\"14.00\" text-anchor=\"middle\" x=\"153\" y=\"-197.3\">input:</text>\n<polyline fill=\"none\" points=\"124,-189.5 182,-189.5 \" stroke=\"#000000\"/>\n<text fill=\"#000000\" font-family=\"Times,serif\" font-size=\"14.00\" text-anchor=\"middle\" x=\"153\" y=\"-174.3\">output:</text>\n<polyline fill=\"none\" points=\"182,-166.5 182,-212.5 \" stroke=\"#000000\"/>\n<text fill=\"#000000\" font-family=\"Times,serif\" font-size=\"14.00\" text-anchor=\"middle\" x=\"225.5\" y=\"-185.8\">(None, 640)</text>\n<polyline fill=\"none\" points=\"269,-166.5 269,-212.5 \" stroke=\"#000000\"/>\n<text fill=\"#000000\" font-family=\"Times,serif\" font-size=\"14.00\" text-anchor=\"middle\" x=\"309\" y=\"-185.8\">(None, 32)</text>\n</g>\n<!-- 140575240083408&#45;&gt;140575166963600 -->\n<g class=\"edge\" id=\"edge11\">\n<title>140575240083408-&gt;140575166963600</title>\n<path d=\"M204.5,-249.3799C204.5,-241.1745 204.5,-231.7679 204.5,-222.8786\" fill=\"none\" stroke=\"#000000\"/>\n<polygon fill=\"#000000\" points=\"208.0001,-222.784 204.5,-212.784 201.0001,-222.784 208.0001,-222.784\" stroke=\"#000000\"/>\n</g>\n<!-- 140575166950160 -->\n<g class=\"node\" id=\"node13\">\n<title>140575166950160</title>\n<polygon fill=\"none\" points=\"57,-83.5 57,-129.5 352,-129.5 352,-83.5 57,-83.5\" stroke=\"#000000\"/>\n<text fill=\"#000000\" font-family=\"Times,serif\" font-size=\"14.00\" text-anchor=\"middle\" x=\"95.5\" y=\"-114.3\">dropout_3</text>\n<polyline fill=\"none\" points=\"57,-106.5 134,-106.5 \" stroke=\"#000000\"/>\n<text fill=\"#000000\" font-family=\"Times,serif\" font-size=\"14.00\" text-anchor=\"middle\" x=\"95.5\" y=\"-91.3\">Dropout</text>\n<polyline fill=\"none\" points=\"134,-83.5 134,-129.5 \" stroke=\"#000000\"/>\n<text fill=\"#000000\" font-family=\"Times,serif\" font-size=\"14.00\" text-anchor=\"middle\" x=\"163\" y=\"-114.3\">input:</text>\n<polyline fill=\"none\" points=\"134,-106.5 192,-106.5 \" stroke=\"#000000\"/>\n<text fill=\"#000000\" font-family=\"Times,serif\" font-size=\"14.00\" text-anchor=\"middle\" x=\"163\" y=\"-91.3\">output:</text>\n<polyline fill=\"none\" points=\"192,-83.5 192,-129.5 \" stroke=\"#000000\"/>\n<text fill=\"#000000\" font-family=\"Times,serif\" font-size=\"14.00\" text-anchor=\"middle\" x=\"232\" y=\"-102.8\">(None, 32)</text>\n<polyline fill=\"none\" points=\"272,-83.5 272,-129.5 \" stroke=\"#000000\"/>\n<text fill=\"#000000\" font-family=\"Times,serif\" font-size=\"14.00\" text-anchor=\"middle\" x=\"312\" y=\"-102.8\">(None, 32)</text>\n</g>\n<!-- 140575166963600&#45;&gt;140575166950160 -->\n<g class=\"edge\" id=\"edge12\">\n<title>140575166963600-&gt;140575166950160</title>\n<path d=\"M204.5,-166.3799C204.5,-158.1745 204.5,-148.7679 204.5,-139.8786\" fill=\"none\" stroke=\"#000000\"/>\n<polygon fill=\"#000000\" points=\"208.0001,-139.784 204.5,-129.784 201.0001,-139.784 208.0001,-139.784\" stroke=\"#000000\"/>\n</g>\n<!-- 140575162331024 -->\n<g class=\"node\" id=\"node14\">\n<title>140575162331024</title>\n<polygon fill=\"none\" points=\"67.5,-.5 67.5,-46.5 341.5,-46.5 341.5,-.5 67.5,-.5\" stroke=\"#000000\"/>\n<text fill=\"#000000\" font-family=\"Times,serif\" font-size=\"14.00\" text-anchor=\"middle\" x=\"99.5\" y=\"-31.3\">dense_3</text>\n<polyline fill=\"none\" points=\"67.5,-23.5 131.5,-23.5 \" stroke=\"#000000\"/>\n<text fill=\"#000000\" font-family=\"Times,serif\" font-size=\"14.00\" text-anchor=\"middle\" x=\"99.5\" y=\"-8.3\">Dense</text>\n<polyline fill=\"none\" points=\"131.5,-.5 131.5,-46.5 \" stroke=\"#000000\"/>\n<text fill=\"#000000\" font-family=\"Times,serif\" font-size=\"14.00\" text-anchor=\"middle\" x=\"160.5\" y=\"-31.3\">input:</text>\n<polyline fill=\"none\" points=\"131.5,-23.5 189.5,-23.5 \" stroke=\"#000000\"/>\n<text fill=\"#000000\" font-family=\"Times,serif\" font-size=\"14.00\" text-anchor=\"middle\" x=\"160.5\" y=\"-8.3\">output:</text>\n<polyline fill=\"none\" points=\"189.5,-.5 189.5,-46.5 \" stroke=\"#000000\"/>\n<text fill=\"#000000\" font-family=\"Times,serif\" font-size=\"14.00\" text-anchor=\"middle\" x=\"229.5\" y=\"-19.8\">(None, 32)</text>\n<polyline fill=\"none\" points=\"269.5,-.5 269.5,-46.5 \" stroke=\"#000000\"/>\n<text fill=\"#000000\" font-family=\"Times,serif\" font-size=\"14.00\" text-anchor=\"middle\" x=\"305.5\" y=\"-19.8\">(None, 5)</text>\n</g>\n<!-- 140575166950160&#45;&gt;140575162331024 -->\n<g class=\"edge\" id=\"edge13\">\n<title>140575166950160-&gt;140575162331024</title>\n<path d=\"M204.5,-83.3799C204.5,-75.1745 204.5,-65.7679 204.5,-56.8786\" fill=\"none\" stroke=\"#000000\"/>\n<polygon fill=\"#000000\" points=\"208.0001,-56.784 204.5,-46.784 201.0001,-56.784 208.0001,-56.784\" stroke=\"#000000\"/>\n</g>\n</g>\n</svg>"
          },
          "metadata": {},
          "execution_count": 43
        }
      ]
    },
    {
      "cell_type": "markdown",
      "source": [
        "콜백함수가 필요한 이유: 모델이 학습을 시작하면 학습이 완료될 때까지 사람이 할 수 있는게 없습니다. 따라서 이를 해결하고자 존재하는 것이 콜백함수입니다. 예를 들어, 학습되는 과정 사이에 학습률을 변화시키거나 val_loss가 개선되지 않으면 학습을 멈추게 하는 등의 작업을 할 수 있습니다.\n",
        "\n",
        "출처: https://deep-deep-deep.tistory.com/1 [딥딥딥]"
      ],
      "metadata": {
        "id": "Sl1eTLtq1mGP"
      }
    },
    {
      "cell_type": "code",
      "source": [
        "#모델2 그래프\n",
        "print(\"Accuracy of our model on test data : \" , model2.evaluate(x_test,y_test)[1]*100 , \"%\")\n",
        "\n",
        "epochs = [i for i in range(100)]\n",
        "fig2 , ax2 = plt.subplots(1,2)\n",
        "train_acc2 = history2.history['accuracy']\n",
        "train_loss2 = history2.history['loss']\n",
        "test_acc2 = history2.history['val_accuracy']\n",
        "test_loss2 = history2.history['val_loss']\n",
        "\n",
        "fig2.set_size_inches(20,6)\n",
        "ax2[0].plot(epochs , train_loss2 , label = 'Training Loss')\n",
        "ax2[0].plot(epochs , test_loss2 , label = 'Testing Loss')\n",
        "ax2[0].set_title('Training & Testing Loss')\n",
        "ax2[0].legend()\n",
        "ax2[0].set_xlabel(\"Epochs\")\n",
        "\n",
        "ax2[1].plot(epochs , train_acc2 , label = 'Training Accuracy')\n",
        "ax2[1].plot(epochs , test_acc2 , label = 'Testing Accuracy')\n",
        "ax2[1].set_title('Training & Testing Accuracy')\n",
        "ax2[1].legend()\n",
        "ax2[1].set_xlabel(\"Epochs\")\n",
        "plt.show()"
      ],
      "metadata": {
        "colab": {
          "base_uri": "https://localhost:8080/",
          "height": 423
        },
        "id": "5t0hiMCk5Y8a",
        "outputId": "ee8154b7-1244-4099-f9c5-140c0e956cbb"
      },
      "execution_count": 44,
      "outputs": [
        {
          "output_type": "stream",
          "name": "stdout",
          "text": [
            "85/85 [==============================] - 0s 4ms/step - loss: 1.6532 - accuracy: 0.7259\n",
            "Accuracy of our model on test data :  72.59259223937988 %\n"
          ]
        },
        {
          "output_type": "display_data",
          "data": {
            "text/plain": [
              "<Figure size 1440x432 with 2 Axes>"
            ],
            "image/png": "[encoded data removed]"
          },
          "metadata": {
            "needs_background": "light"
          }
        }
      ]
    },
    {
      "cell_type": "markdown",
      "source": [
        "아직 loss는 계속 떨어지는 추세 입니다. 이럴 경우 모델이 아직 saturation이 안되었다고 말합니다. 모델이 잘 만들어졌고, 데이터도 적절하다면 훈련을 지속했을때 train set loss와 validation set loss가 같이 떨어지다가, 어느 순간 validation set loss가 상승하는 경우를 볼 수 있습니다. 일반적으로 그 지점에서 훈련을 중단합니다. 그 전에 훈련을 멈추면, 언더피팅인 상태고, 훈련을 더 계속하면 오버피팅 상태로 보는 것이죠. 이런 방식으로 훈련의 시간을 정하는 방식을 Early Stopping이라고도 부릅니다."
      ],
      "metadata": {
        "id": "4zToffNp_t9g"
      }
    },
    {
      "cell_type": "markdown",
      "source": [
        "- precision : 정밀도\n",
        "- Recall : 재현율, 실제 양성 클래스에 속한 샘플 중 양성 클래스라고 예측한 샘플 수의 비율\n",
        "- Accuracy : 정확도\n",
        "- F1-score : 가중 조화평균??\n",
        "- support : 각 라벨의 실제 샘플 개수\n",
        "- macro avg : 단순 평균\n",
        "- weighted avg : 가중 평균(샘플 개수의 불균형 고려)"
      ],
      "metadata": {
        "id": "RrETY3JXmm5r"
      }
    },
    {
      "cell_type": "markdown",
      "source": [
        "#와우.... 일단 해보십시다"
      ],
      "metadata": {
        "id": "R6QLcAKV0l1Y"
      }
    },
    {
      "cell_type": "code",
      "source": [
        "!pip install moviepy\n",
        "!pip install pydub"
      ],
      "metadata": {
        "colab": {
          "base_uri": "https://localhost:8080/"
        },
        "id": "FeCYhHca0quu",
        "outputId": "5093cffc-cc7b-481f-c2a4-82c3d1f4c7de"
      },
      "execution_count": 45,
      "outputs": [
        {
          "output_type": "stream",
          "name": "stdout",
          "text": [
            "Requirement already satisfied: moviepy in /usr/local/lib/python3.7/dist-packages (0.2.3.5)\n",
            "Requirement already satisfied: decorator<5.0,>=4.0.2 in /usr/local/lib/python3.7/dist-packages (from moviepy) (4.4.2)\n",
            "Requirement already satisfied: numpy in /usr/local/lib/python3.7/dist-packages (from moviepy) (1.21.5)\n",
            "Requirement already satisfied: tqdm<5.0,>=4.11.2 in /usr/local/lib/python3.7/dist-packages (from moviepy) (4.63.0)\n",
            "Requirement already satisfied: imageio<3.0,>=2.1.2 in /usr/local/lib/python3.7/dist-packages (from moviepy) (2.4.1)\n",
            "Requirement already satisfied: pillow in /usr/local/lib/python3.7/dist-packages (from imageio<3.0,>=2.1.2->moviepy) (7.1.2)\n",
            "Collecting pydub\n",
            "  Downloading pydub-0.25.1-py2.py3-none-any.whl (32 kB)\n",
            "Installing collected packages: pydub\n",
            "Successfully installed pydub-0.25.1\n"
          ]
        }
      ]
    },
    {
      "cell_type": "code",
      "source": [
        "import os\n",
        "import librosa\n",
        "import numpy as np\n",
        "import librosa\n",
        "import librosa.display\n",
        "import IPython.display\n",
        "import numpy as np\n",
        "import matplotlib.pyplot as plt\n",
        "import matplotlib as mpl\n",
        "import matplotlib.font_manager as fm\n",
        "from pydub import AudioSegment\n",
        "import wave\n",
        "import soundfile as sf\n",
        "import moviepy.editor as mp"
      ],
      "metadata": {
        "colab": {
          "base_uri": "https://localhost:8080/"
        },
        "id": "8C8gt-zh03gB",
        "outputId": "d3212158-a3ac-4bf1-d22a-bc2bf4e628ee"
      },
      "execution_count": 46,
      "outputs": [
        {
          "output_type": "stream",
          "name": "stdout",
          "text": [
            "Imageio: 'ffmpeg-linux64-v3.3.1' was not found on your computer; downloading it now.\n",
            "Try 1. Download from https://github.com/imageio/imageio-binaries/raw/master/ffmpeg/ffmpeg-linux64-v3.3.1 (43.8 MB)\n",
            "Downloading: 8192/45929032 bytes (0.0%)\b\b\b\b\b\b\b\b\b\b\b\b\b\b\b\b\b\b\b\b\b\b\b\b\b\b2400256/45929032 bytes (5.2%)\b\b\b\b\b\b\b\b\b\b\b\b\b\b\b\b\b\b\b\b\b\b\b\b\b\b\b\b\b5799936/45929032 bytes (12.6%)\b\b\b\b\b\b\b\b\b\b\b\b\b\b\b\b\b\b\b\b\b\b\b\b\b\b\b\b\b\b9084928/45929032 bytes (19.8%)\b\b\b\b\b\b\b\b\b\b\b\b\b\b\b\b\b\b\b\b\b\b\b\b\b\b\b\b\b\b11714560/45929032 bytes (25.5%)\b\b\b\b\b\b\b\b\b\b\b\b\b\b\b\b\b\b\b\b\b\b\b\b\b\b\b\b\b\b\b14508032/45929032 bytes (31.6%)\b\b\b\b\b\b\b\b\b\b\b\b\b\b\b\b\b\b\b\b\b\b\b\b\b\b\b\b\b\b\b17113088/45929032 bytes (37.3%)\b\b\b\b\b\b\b\b\b\b\b\b\b\b\b\b\b\b\b\b\b\b\b\b\b\b\b\b\b\b\b20209664/45929032 bytes (44.0%)\b\b\b\b\b\b\b\b\b\b\b\b\b\b\b\b\b\b\b\b\b\b\b\b\b\b\b\b\b\b\b23781376/45929032 bytes (51.8%)\b\b\b\b\b\b\b\b\b\b\b\b\b\b\b\b\b\b\b\b\b\b\b\b\b\b\b\b\b\b\b27426816/45929032 bytes (59.7%)\b\b\b\b\b\b\b\b\b\b\b\b\b\b\b\b\b\b\b\b\b\b\b\b\b\b\b\b\b\b\b31039488/45929032 bytes (67.6%)\b\b\b\b\b\b\b\b\b\b\b\b\b\b\b\b\b\b\b\b\b\b\b\b\b\b\b\b\b\b\b34480128/45929032 bytes (75.1%)\b\b\b\b\b\b\b\b\b\b\b\b\b\b\b\b\b\b\b\b\b\b\b\b\b\b\b\b\b\b\b37838848/45929032 bytes (82.4%)\b\b\b\b\b\b\b\b\b\b\b\b\b\b\b\b\b\b\b\b\b\b\b\b\b\b\b\b\b\b\b40230912/45929032 bytes (87.6%)\b\b\b\b\b\b\b\b\b\b\b\b\b\b\b\b\b\b\b\b\b\b\b\b\b\b\b\b\b\b\b42917888/45929032 bytes (93.4%)\b\b\b\b\b\b\b\b\b\b\b\b\b\b\b\b\b\b\b\b\b\b\b\b\b\b\b\b\b\b\b45842432/45929032 bytes (99.8%)\b\b\b\b\b\b\b\b\b\b\b\b\b\b\b\b\b\b\b\b\b\b\b\b\b\b\b\b\b\b\b45929032/45929032 bytes (100.0%)\n",
            "  Done\n",
            "File saved as /root/.imageio/ffmpeg/ffmpeg-linux64-v3.3.1.\n"
          ]
        }
      ]
    },
    {
      "cell_type": "code",
      "source": [
        "mp4_save = \"/content/drive/MyDrive/Colab Notebooks/감성대화/videos/\"\n",
        "mp4_list = os.listdir(mp4_save)\n",
        "print(mp4_list)\n",
        "for mp4_name in mp4_list:\n",
        "  if mp4_name.find('mp4') is not -1:\n",
        "    name = mp4_name[:-4]\n",
        "    print(name)"
      ],
      "metadata": {
        "colab": {
          "base_uri": "https://localhost:8080/"
        },
        "id": "Q07mTXM3Dqxz",
        "outputId": "7e0fe549-5f23-41b4-f6e1-31742846bed0"
      },
      "execution_count": 175,
      "outputs": [
        {
          "output_type": "stream",
          "name": "stdout",
          "text": [
            "['Bus_in_Rock_Tunnel.webm', 'Eiffel Tower.mp4', 'Statue of Liberty.mp4', 'Bike Polo.mp4', 'Excavators river crossing.mp4', 'playing_ball.mp4', 'Uncut_Evening_Flight.mp4', 'Kids_playing_in_leaves.mp4', 'Bearpark_climbing.mp4', 'Cooking.mp4', 'Fire Domino.mp4', 'Valparaiso_Downhill.mp4', 'Saving dolphines.mp4', 'Jumps.mp4', 'Cockpit_Landing.mp4', 'paluma_jump.mp4', 'Base jumping.mp4', 'Car_railcrossing.mp4', 'Air_Force_One.mp4', 'Playing_on_water_slide.mp4', 'car_over_camera.mp4', 'Notre_Dame.mp4', 'Paintball.mp4']\n",
            "Eiffel Tower\n",
            "Statue of Liberty\n",
            "Bike Polo\n",
            "Excavators river crossing\n",
            "playing_ball\n",
            "Uncut_Evening_Flight\n",
            "Kids_playing_in_leaves\n",
            "Bearpark_climbing\n",
            "Cooking\n",
            "Fire Domino\n",
            "Valparaiso_Downhill\n",
            "Saving dolphines\n",
            "Jumps\n",
            "Cockpit_Landing\n",
            "paluma_jump\n",
            "Base jumping\n",
            "Car_railcrossing\n",
            "Air_Force_One\n",
            "Playing_on_water_slide\n",
            "car_over_camera\n",
            "Notre_Dame\n",
            "Paintball\n"
          ]
        }
      ]
    },
    {
      "cell_type": "code",
      "source": [
        "mp4_save = \"/content/drive/MyDrive/Colab Notebooks/감성대화/videos/\"\n",
        "mp4_list = os.listdir(mp4_save)\n",
        "\n",
        "for mp4_name in mp4_list:\n",
        "  if mp4_name.find('mp4') is not -1:\n",
        "    name = mp4_name[:-4]\n",
        "    a = \"/content/drive/MyDrive/Colab Notebooks/감성대화/videos/\" + name + \".mp4\"\n",
        "    clip = mp.VideoFileClip(a)\n",
        "    clip.audio.write_audiofile(\"audio.mp3\")\n",
        "\n",
        "    src = \"audio.mp3\"\n",
        "    dst = \"test.wav\"\n",
        "    sound = AudioSegment.from_mp3(src) # load file as extention 'mp3' \n",
        "    sound.export(dst, format=\"wav\") # convert file to wav\n",
        "\n",
        "    import math\n",
        "\n",
        "    sound2 = AudioSegment.from_mp3(\"test.wav\")\n",
        "\n",
        "    two_seconds = 1*1000\n",
        "\n",
        "    for i in range(int(math.floor(len(sound2)/1000))):\n",
        "      slice = sound2[i*two_seconds:two_seconds*(i+1)]\n",
        "      slice.export(name+'_{}.wav'.format(i), format = \"wav\")\n",
        "\n",
        "    import glob\n",
        "    sound_path = glob.glob('/content/'+name+'*.wav')\n",
        "\n",
        "    def gfs(path):\n",
        "      # duration과 offset은 각 오디오 파일의 시작과 끝에서 오디오가 없는 것을 처리 (duration : 로드할 오디오 길이, offset : 앞뒤 이정도 자르기)\n",
        "      data, sample_rate = librosa.load(path, duration=2.5, offset=0.6)\n",
        "    \n",
        "      # 원래데이터\n",
        "      res1 = extract_features(data)\n",
        "      result = np.array(res1)\n",
        "\n",
        "      return result \n",
        "\n",
        "    Z = []\n",
        "    for path in sound_path:\n",
        "        feature = gfs(path)\n",
        "        for ele in feature:\n",
        "            Z.append(ele)\n",
        "            # 2개의 augmentation이 존재하므로 총 한개의 음성데이터가 3개의 음성데이터가 됨 (stretch한거랑 noise 더한 것)\n",
        "\n",
        "    Z = np.array(Z)\n",
        "    a = str(Z.shape)\n",
        "    a = a[1:-2]\n",
        "\n",
        "    b = int(a) / 148\n",
        "    W=Z.reshape(int(b),148)\n",
        "\n",
        "    ExperimentFeatures = pd.DataFrame(W)\n",
        "    ExperimentFeatures.to_csv(name+'.csv', index=False)\n",
        "    ExperimentFeatures.shape\n",
        "\n",
        "    EF = ExperimentFeatures.iloc[: ,:].values\n",
        "    EF = scaler.transform(EF)\n",
        "\n",
        "    EF = np.expand_dims(EF, axis=2)\n",
        "\n",
        "    from keras.models import load_model\n",
        "    model = load_model('ser_model.h5')\n",
        "\n",
        "    pred_test = model.predict(EF)\n",
        "\n",
        "    EF_pred = encoder.inverse_transform(pred_test)\n",
        "    df = pd.DataFrame(columns=['Predicted Labels'])\n",
        "    df['Predicted Labels'] = EF_pred.flatten()\n",
        "\n",
        "    df.to_csv('/content/drive/MyDrive/Colab Notebooks/감성대화/'+name+'.csv', index=False)"
      ],
      "metadata": {
        "colab": {
          "base_uri": "https://localhost:8080/"
        },
        "id": "2kEe5A2QBYQl",
        "outputId": "345bc4f3-02ed-4f68-e2f9-0c986d6d3531"
      },
      "execution_count": 177,
      "outputs": [
        {
          "output_type": "stream",
          "name": "stdout",
          "text": [
            "[MoviePy] Writing audio in audio.mp3\n"
          ]
        },
        {
          "output_type": "stream",
          "name": "stderr",
          "text": [
            "100%|██████████| 4385/4385 [00:08<00:00, 538.01it/s]"
          ]
        },
        {
          "output_type": "stream",
          "name": "stdout",
          "text": [
            "[MoviePy] Done.\n"
          ]
        },
        {
          "output_type": "stream",
          "name": "stderr",
          "text": [
            "\n"
          ]
        },
        {
          "output_type": "stream",
          "name": "stdout",
          "text": [
            "[MoviePy] Writing audio in audio.mp3\n"
          ]
        },
        {
          "output_type": "stream",
          "name": "stderr",
          "text": [
            "100%|██████████| 3408/3408 [00:04<00:00, 773.21it/s]"
          ]
        },
        {
          "output_type": "stream",
          "name": "stdout",
          "text": [
            "[MoviePy] Done.\n"
          ]
        },
        {
          "output_type": "stream",
          "name": "stderr",
          "text": [
            "\n"
          ]
        },
        {
          "output_type": "stream",
          "name": "stdout",
          "text": [
            "[MoviePy] Writing audio in audio.mp3\n"
          ]
        },
        {
          "output_type": "stream",
          "name": "stderr",
          "text": [
            "100%|██████████| 2252/2252 [00:02<00:00, 999.45it/s] "
          ]
        },
        {
          "output_type": "stream",
          "name": "stdout",
          "text": [
            "[MoviePy] Done.\n"
          ]
        },
        {
          "output_type": "stream",
          "name": "stderr",
          "text": [
            "\n"
          ]
        },
        {
          "output_type": "stream",
          "name": "stdout",
          "text": [
            "[MoviePy] Writing audio in audio.mp3\n"
          ]
        },
        {
          "output_type": "stream",
          "name": "stderr",
          "text": [
            "100%|██████████| 8574/8574 [00:09<00:00, 878.94it/s] "
          ]
        },
        {
          "output_type": "stream",
          "name": "stdout",
          "text": [
            "[MoviePy] Done.\n"
          ]
        },
        {
          "output_type": "stream",
          "name": "stderr",
          "text": [
            "\n"
          ]
        },
        {
          "output_type": "stream",
          "name": "stdout",
          "text": [
            "[MoviePy] Writing audio in audio.mp3\n"
          ]
        },
        {
          "output_type": "stream",
          "name": "stderr",
          "text": [
            "100%|██████████| 2293/2293 [00:01<00:00, 1151.20it/s]"
          ]
        },
        {
          "output_type": "stream",
          "name": "stdout",
          "text": [
            "[MoviePy] Done.\n"
          ]
        },
        {
          "output_type": "stream",
          "name": "stderr",
          "text": [
            "\n"
          ]
        },
        {
          "output_type": "stream",
          "name": "stdout",
          "text": [
            "[MoviePy] Writing audio in audio.mp3\n"
          ]
        },
        {
          "output_type": "stream",
          "name": "stderr",
          "text": [
            "100%|██████████| 7116/7116 [00:08<00:00, 818.97it/s]"
          ]
        },
        {
          "output_type": "stream",
          "name": "stdout",
          "text": [
            "[MoviePy] Done.\n"
          ]
        },
        {
          "output_type": "stream",
          "name": "stderr",
          "text": [
            "\n"
          ]
        },
        {
          "output_type": "stream",
          "name": "stdout",
          "text": [
            "[MoviePy] Writing audio in audio.mp3\n"
          ]
        },
        {
          "output_type": "stream",
          "name": "stderr",
          "text": [
            "100%|██████████| 2345/2345 [00:03<00:00, 712.77it/s]"
          ]
        },
        {
          "output_type": "stream",
          "name": "stdout",
          "text": [
            "[MoviePy] Done.\n"
          ]
        },
        {
          "output_type": "stream",
          "name": "stderr",
          "text": [
            "\n"
          ]
        },
        {
          "output_type": "stream",
          "name": "stdout",
          "text": [
            "[MoviePy] Writing audio in audio.mp3\n"
          ]
        },
        {
          "output_type": "stream",
          "name": "stderr",
          "text": [
            "100%|██████████| 2947/2947 [00:04<00:00, 684.46it/s]"
          ]
        },
        {
          "output_type": "stream",
          "name": "stdout",
          "text": [
            "[MoviePy] Done.\n"
          ]
        },
        {
          "output_type": "stream",
          "name": "stderr",
          "text": [
            "\n"
          ]
        },
        {
          "output_type": "stream",
          "name": "stdout",
          "text": [
            "[MoviePy] Writing audio in audio.mp3\n"
          ]
        },
        {
          "output_type": "stream",
          "name": "stderr",
          "text": [
            "100%|██████████| 1892/1892 [00:02<00:00, 926.27it/s]\n"
          ]
        },
        {
          "output_type": "stream",
          "name": "stdout",
          "text": [
            "[MoviePy] Done.\n",
            "[MoviePy] Writing audio in audio.mp3\n"
          ]
        },
        {
          "output_type": "stream",
          "name": "stderr",
          "text": [
            "100%|██████████| 1185/1185 [00:01<00:00, 737.49it/s]"
          ]
        },
        {
          "output_type": "stream",
          "name": "stdout",
          "text": [
            "[MoviePy] Done.\n"
          ]
        },
        {
          "output_type": "stream",
          "name": "stderr",
          "text": [
            "\n"
          ]
        },
        {
          "output_type": "stream",
          "name": "stdout",
          "text": [
            "[MoviePy] Writing audio in audio.mp3\n"
          ]
        },
        {
          "output_type": "stream",
          "name": "stderr",
          "text": [
            "100%|██████████| 3810/3810 [00:05<00:00, 759.90it/s] "
          ]
        },
        {
          "output_type": "stream",
          "name": "stdout",
          "text": [
            "[MoviePy] Done.\n"
          ]
        },
        {
          "output_type": "stream",
          "name": "stderr",
          "text": [
            "\n"
          ]
        },
        {
          "output_type": "stream",
          "name": "stdout",
          "text": [
            "[MoviePy] Writing audio in audio.mp3\n"
          ]
        },
        {
          "output_type": "stream",
          "name": "stderr",
          "text": [
            "100%|██████████| 4917/4917 [00:06<00:00, 726.30it/s]"
          ]
        },
        {
          "output_type": "stream",
          "name": "stdout",
          "text": [
            "[MoviePy] Done.\n"
          ]
        },
        {
          "output_type": "stream",
          "name": "stderr",
          "text": [
            "\n"
          ]
        },
        {
          "output_type": "stream",
          "name": "stdout",
          "text": [
            "[MoviePy] Writing audio in audio.mp3\n"
          ]
        },
        {
          "output_type": "stream",
          "name": "stderr",
          "text": [
            "100%|██████████| 838/838 [00:00<00:00, 845.32it/s]"
          ]
        },
        {
          "output_type": "stream",
          "name": "stdout",
          "text": [
            "[MoviePy] Done.\n"
          ]
        },
        {
          "output_type": "stream",
          "name": "stderr",
          "text": [
            "\n"
          ]
        },
        {
          "output_type": "stream",
          "name": "stdout",
          "text": [
            "[MoviePy] Writing audio in audio.mp3\n"
          ]
        },
        {
          "output_type": "stream",
          "name": "stderr",
          "text": [
            "100%|██████████| 6656/6656 [00:06<00:00, 1016.74it/s]"
          ]
        },
        {
          "output_type": "stream",
          "name": "stdout",
          "text": [
            "[MoviePy] Done.\n"
          ]
        },
        {
          "output_type": "stream",
          "name": "stderr",
          "text": [
            "\n"
          ]
        },
        {
          "output_type": "stream",
          "name": "stdout",
          "text": [
            "[MoviePy] Writing audio in audio.mp3\n"
          ]
        },
        {
          "output_type": "stream",
          "name": "stderr",
          "text": [
            "100%|██████████| 1894/1894 [00:01<00:00, 1120.96it/s]"
          ]
        },
        {
          "output_type": "stream",
          "name": "stdout",
          "text": [
            "[MoviePy] Done.\n"
          ]
        },
        {
          "output_type": "stream",
          "name": "stderr",
          "text": [
            "\n"
          ]
        },
        {
          "output_type": "stream",
          "name": "stdout",
          "text": [
            "[MoviePy] Writing audio in audio.mp3\n"
          ]
        },
        {
          "output_type": "stream",
          "name": "stderr",
          "text": [
            "100%|██████████| 3480/3480 [00:05<00:00, 672.80it/s]"
          ]
        },
        {
          "output_type": "stream",
          "name": "stdout",
          "text": [
            "[MoviePy] Done.\n"
          ]
        },
        {
          "output_type": "stream",
          "name": "stderr",
          "text": [
            "\n"
          ]
        },
        {
          "output_type": "stream",
          "name": "stdout",
          "text": [
            "[MoviePy] Writing audio in audio.mp3\n"
          ]
        },
        {
          "output_type": "stream",
          "name": "stderr",
          "text": [
            "100%|██████████| 3734/3734 [00:03<00:00, 1053.04it/s]"
          ]
        },
        {
          "output_type": "stream",
          "name": "stdout",
          "text": [
            "[MoviePy] Done.\n"
          ]
        },
        {
          "output_type": "stream",
          "name": "stderr",
          "text": [
            "\n"
          ]
        },
        {
          "output_type": "stream",
          "name": "stdout",
          "text": [
            "[MoviePy] Writing audio in audio.mp3\n"
          ]
        },
        {
          "output_type": "stream",
          "name": "stderr",
          "text": [
            "100%|██████████| 3964/3964 [00:04<00:00, 984.24it/s] "
          ]
        },
        {
          "output_type": "stream",
          "name": "stdout",
          "text": [
            "[MoviePy] Done.\n"
          ]
        },
        {
          "output_type": "stream",
          "name": "stderr",
          "text": [
            "\n"
          ]
        },
        {
          "output_type": "stream",
          "name": "stdout",
          "text": [
            "[MoviePy] Writing audio in audio.mp3\n"
          ]
        },
        {
          "output_type": "stream",
          "name": "stderr",
          "text": [
            "100%|██████████| 2256/2256 [00:01<00:00, 1158.56it/s]"
          ]
        },
        {
          "output_type": "stream",
          "name": "stdout",
          "text": [
            "[MoviePy] Done.\n"
          ]
        },
        {
          "output_type": "stream",
          "name": "stderr",
          "text": [
            "\n"
          ]
        },
        {
          "output_type": "stream",
          "name": "stdout",
          "text": [
            "[MoviePy] Writing audio in audio.mp3\n"
          ]
        },
        {
          "output_type": "stream",
          "name": "stderr",
          "text": [
            "100%|██████████| 3224/3224 [00:02<00:00, 1085.08it/s]"
          ]
        },
        {
          "output_type": "stream",
          "name": "stdout",
          "text": [
            "[MoviePy] Done.\n"
          ]
        },
        {
          "output_type": "stream",
          "name": "stderr",
          "text": [
            "\n"
          ]
        },
        {
          "output_type": "stream",
          "name": "stdout",
          "text": [
            "[MoviePy] Writing audio in audio.mp3\n"
          ]
        },
        {
          "output_type": "stream",
          "name": "stderr",
          "text": [
            "100%|██████████| 4234/4234 [00:06<00:00, 638.02it/s]"
          ]
        },
        {
          "output_type": "stream",
          "name": "stdout",
          "text": [
            "[MoviePy] Done.\n"
          ]
        },
        {
          "output_type": "stream",
          "name": "stderr",
          "text": [
            "\n"
          ]
        },
        {
          "output_type": "stream",
          "name": "stdout",
          "text": [
            "[MoviePy] Writing audio in audio.mp3\n"
          ]
        },
        {
          "output_type": "stream",
          "name": "stderr",
          "text": [
            "100%|██████████| 5607/5607 [00:08<00:00, 633.72it/s]"
          ]
        },
        {
          "output_type": "stream",
          "name": "stdout",
          "text": [
            "[MoviePy] Done.\n"
          ]
        },
        {
          "output_type": "stream",
          "name": "stderr",
          "text": [
            "\n"
          ]
        }
      ]
    }
  ]
}
