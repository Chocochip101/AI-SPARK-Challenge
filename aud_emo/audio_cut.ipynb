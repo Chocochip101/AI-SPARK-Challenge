{
  "nbformat": 4,
  "nbformat_minor": 0,
  "metadata": {
    "colab": {
      "name": "audio_cut.ipynb",
      "provenance": [],
      "collapsed_sections": []
    },
    "kernelspec": {
      "name": "python3",
      "display_name": "Python 3"
    },
    "language_info": {
      "name": "python"
    }
  },
  "cells": [
    {
      "cell_type": "code",
      "execution_count": 3,
      "metadata": {
        "colab": {
          "base_uri": "https://localhost:8080/"
        },
        "id": "OCqX3FZBiN9E",
        "outputId": "e342e1b0-a204-454b-c05a-4cda5a96b998"
      },
      "outputs": [
        {
          "output_type": "stream",
          "name": "stdout",
          "text": [
            "Requirement already satisfied: moviepy in /usr/local/lib/python3.7/dist-packages (0.2.3.5)\n",
            "Requirement already satisfied: numpy in /usr/local/lib/python3.7/dist-packages (from moviepy) (1.21.5)\n",
            "Requirement already satisfied: decorator<5.0,>=4.0.2 in /usr/local/lib/python3.7/dist-packages (from moviepy) (4.4.2)\n",
            "Requirement already satisfied: tqdm<5.0,>=4.11.2 in /usr/local/lib/python3.7/dist-packages (from moviepy) (4.63.0)\n",
            "Requirement already satisfied: imageio<3.0,>=2.1.2 in /usr/local/lib/python3.7/dist-packages (from moviepy) (2.4.1)\n",
            "Requirement already satisfied: pillow in /usr/local/lib/python3.7/dist-packages (from imageio<3.0,>=2.1.2->moviepy) (7.1.2)\n",
            "Requirement already satisfied: pydub in /usr/local/lib/python3.7/dist-packages (0.25.1)\n"
          ]
        }
      ],
      "source": [
        "!pip install moviepy\n",
        "!pip install pydub"
      ]
    },
    {
      "cell_type": "code",
      "source": [
        "import os\n",
        "import librosa\n",
        "import numpy as np\n",
        "import librosa\n",
        "import librosa.display\n",
        "import IPython.display\n",
        "import numpy as np\n",
        "import matplotlib.pyplot as plt\n",
        "import matplotlib as mpl\n",
        "import matplotlib.font_manager as fm\n",
        "from pydub import AudioSegment\n",
        "import wave\n",
        "import soundfile as sf\n",
        "import moviepy.editor as mp"
      ],
      "metadata": {
        "id": "Wg9fxcePmuuO"
      },
      "execution_count": 4,
      "outputs": []
    },
    {
      "cell_type": "code",
      "source": [
        "#영상파일 오디오 변환\n",
        "clip = mp.VideoFileClip(\"/content/drive/MyDrive/Colab Notebooks/감성대화/KakaoTalk_20220312_175016216.mp4\")\n",
        "clip.audio.write_audiofile(\"audio.mp3\")"
      ],
      "metadata": {
        "colab": {
          "base_uri": "https://localhost:8080/"
        },
        "id": "bYyNsGlwkUPZ",
        "outputId": "8981a185-a55e-4ff7-9a43-0417dd7599f4"
      },
      "execution_count": 5,
      "outputs": [
        {
          "output_type": "stream",
          "name": "stdout",
          "text": [
            "[MoviePy] Writing audio in audio.mp3\n"
          ]
        },
        {
          "output_type": "stream",
          "name": "stderr",
          "text": [
            "100%|██████████| 7164/7164 [00:07<00:00, 980.07it/s] "
          ]
        },
        {
          "output_type": "stream",
          "name": "stdout",
          "text": [
            "[MoviePy] Done.\n"
          ]
        },
        {
          "output_type": "stream",
          "name": "stderr",
          "text": [
            "\n"
          ]
        }
      ]
    },
    {
      "cell_type": "code",
      "source": [
        "y, sr = librosa.load(\"/content/audio.mp3\")\n",
        "print(sr)"
      ],
      "metadata": {
        "colab": {
          "base_uri": "https://localhost:8080/"
        },
        "id": "yJanIOJpKCXG",
        "outputId": "c36918fa-7ca5-4d84-bf57-c5c0c1e76022"
      },
      "execution_count": 6,
      "outputs": [
        {
          "output_type": "stream",
          "name": "stdout",
          "text": [
            "22050\n"
          ]
        }
      ]
    },
    {
      "cell_type": "code",
      "source": [
        "src = \"/content/audio.mp3\"\n",
        "dst = \"test.wav\"\n",
        "sound = AudioSegment.from_mp3(src) # load file as extention 'mp3' \n",
        "sound.export(dst, format=\"wav\") # convert file to wav"
      ],
      "metadata": {
        "colab": {
          "base_uri": "https://localhost:8080/"
        },
        "id": "JZOLKcBhl75q",
        "outputId": "95d8cab2-18ff-4078-c9ed-931f316b1378"
      },
      "execution_count": 7,
      "outputs": [
        {
          "output_type": "execute_result",
          "data": {
            "text/plain": [
              "<_io.BufferedRandom name='test.wav'>"
            ]
          },
          "metadata": {},
          "execution_count": 7
        }
      ]
    },
    {
      "cell_type": "code",
      "source": [
        "def trim_audio_data(audio_file, save_file):\n",
        "  sr = 96000\n",
        "  sec = 30\n",
        "\n",
        "  y, sr = librosa.load(audio_file, sr=sr)\n",
        "\n",
        "  ny = y[:sr*sec]\n",
        "\n",
        "  sf.write(save_file+\".wav\", y, sr, format='WAV', endian='LITTLE', subtype='PCM_16')\n",
        "\n",
        "#base_path = 'dataset/'\n",
        "\n",
        "#audio_path = base_path + '/audio'\n",
        "audio_path = \"/content\"\n",
        "save_path = audio_path + '/save'\n",
        "\n",
        "audio_list = os.listdir(audio_path)\n",
        "\n",
        "for audio_name in audio_list:\n",
        "  if audio_name.find('wav') is not -1:\n",
        "      audio_file = audio_path + '/' + audio_name\n",
        "      save_file = save_path + '/' + audio_name[:-4]\n",
        "\n",
        "      trim_audio_data(audio_file, save_file)"
      ],
      "metadata": {
        "id": "WyURvp-PZEC_"
      },
      "execution_count": 8,
      "outputs": []
    }
  ]
}